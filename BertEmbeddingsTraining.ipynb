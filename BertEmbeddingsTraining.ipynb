{
 "cells": [
  {
   "cell_type": "code",
   "execution_count": 1,
   "id": "61f80474",
   "metadata": {},
   "outputs": [
    {
     "name": "stderr",
     "output_type": "stream",
     "text": [
      "D:\\Anaconda_Installation\\Lib\\site-packages\\pandas\\core\\arrays\\masked.py:60: UserWarning: Pandas requires version '1.3.6' or newer of 'bottleneck' (version '1.3.5' currently installed).\n",
      "  from pandas.core import (\n"
     ]
    },
    {
     "name": "stdout",
     "output_type": "stream",
     "text": [
      "WARNING:tensorflow:From D:\\Anaconda_Installation\\Lib\\site-packages\\keras\\src\\losses.py:2976: The name tf.losses.sparse_softmax_cross_entropy is deprecated. Please use tf.compat.v1.losses.sparse_softmax_cross_entropy instead.\n",
      "\n"
     ]
    }
   ],
   "source": [
    "import pandas as pd\n",
    "import numpy as np\n",
    "import matplotlib.pyplot as plt \n",
    "import seaborn as sns \n",
    "from transformers import BertTokenizer, BertModel\n",
    "import torch\n",
    "from transformers import DistilBertTokenizer, DistilBertModel"
   ]
  },
  {
   "cell_type": "code",
   "execution_count": 2,
   "id": "2eb1f9dd",
   "metadata": {},
   "outputs": [],
   "source": [
    "data = pd.read_excel(\"C:\\\\Users\\\\PAVAN\\\\Downloads\\\\processed_data.xlsx\")"
   ]
  },
  {
   "cell_type": "code",
   "execution_count": 3,
   "id": "69a0e3db",
   "metadata": {},
   "outputs": [
    {
     "data": {
      "text/plain": [
       "Index(['Unnamed: 0.1', 'Unnamed: 0', 'ID', 'Name', 'Role', 'Transcript',\n",
       "       'Resume', 'decision', 'Reason for decision', 'Job Description',\n",
       "       'Transcript_processed', 'Resume_processed', 'Job_Description_processed',\n",
       "       'Transcript_sentiment', 'Resume_sentiment', 'JobDescription_sentiment',\n",
       "       'Transcript_words', 'Resume_words', 'Years_Experience',\n",
       "       'resume_jd_similarity', 'Transcript_jd_similarity',\n",
       "       'resume_transcript_similarity', 'resume_sentence_count',\n",
       "       'resume_avg_word_length', 'skill_match_count',\n",
       "       'university_education_count', 'transcript_vocab_diversity',\n",
       "       'transcript_avg_sentence_length', 'resume_jd_similarity_transformers',\n",
       "       'transcript_jd_similarity_transformers',\n",
       "       'transcript_resume_similarity_transformers'],\n",
       "      dtype='object')"
      ]
     },
     "execution_count": 3,
     "metadata": {},
     "output_type": "execute_result"
    }
   ],
   "source": [
    "data.columns "
   ]
  },
  {
   "cell_type": "code",
   "execution_count": 4,
   "id": "2d4f98f2",
   "metadata": {},
   "outputs": [
    {
     "data": {
      "text/plain": [
       "Index(['ID', 'Name', 'Role', 'Transcript', 'Resume', 'decision',\n",
       "       'Reason for decision', 'Job Description', 'Transcript_processed',\n",
       "       'Resume_processed', 'Job_Description_processed', 'Transcript_sentiment',\n",
       "       'Resume_sentiment', 'JobDescription_sentiment', 'Transcript_words',\n",
       "       'Resume_words', 'Years_Experience', 'resume_jd_similarity',\n",
       "       'Transcript_jd_similarity', 'resume_transcript_similarity',\n",
       "       'resume_sentence_count', 'resume_avg_word_length', 'skill_match_count',\n",
       "       'university_education_count', 'transcript_vocab_diversity',\n",
       "       'transcript_avg_sentence_length', 'resume_jd_similarity_transformers',\n",
       "       'transcript_jd_similarity_transformers',\n",
       "       'transcript_resume_similarity_transformers'],\n",
       "      dtype='object')"
      ]
     },
     "execution_count": 4,
     "metadata": {},
     "output_type": "execute_result"
    }
   ],
   "source": [
    "data.drop(columns=['Unnamed: 0','Unnamed: 0.1'], inplace=True) \n",
    "data.columns"
   ]
  },
  {
   "cell_type": "code",
   "execution_count": 5,
   "id": "c4402a48",
   "metadata": {},
   "outputs": [],
   "source": [
    "transcripts = data['Transcript'].tolist()\n",
    "resumes = data['Resume'].tolist()\n",
    "job_desc = data['Job Description'].tolist()"
   ]
  },
  {
   "cell_type": "code",
   "execution_count": 6,
   "id": "3f68a195",
   "metadata": {},
   "outputs": [],
   "source": [
    "tokenizer = DistilBertTokenizer.from_pretrained(\"distilbert-base-uncased\")\n",
    "model = DistilBertModel.from_pretrained(\"distilbert-base-uncased\") "
   ]
  },
  {
   "cell_type": "code",
   "execution_count": 7,
   "id": "f8e4c471",
   "metadata": {},
   "outputs": [],
   "source": [
    "def get_bert_embeddings_batch(texts, tokenizer, model, batch_size=32):\n",
    "    embeddings = []\n",
    "    total_batches = (len(texts) + batch_size - 1) // batch_size  # Total number of batches\n",
    "    print(f\"Total Batches: {total_batches}\")\n",
    "    for i in range(total_batches):\n",
    "        # Print progress\\n\"\n",
    "        print(f\"Processing batch {i + 1}/{total_batches}...\")\n",
    "        # Get the current batch\\n\",\n",
    "        batch = texts[i * batch_size:(i + 1) * batch_size]\n",
    "        inputs = tokenizer(batch, return_tensors='pt', truncation=True, padding=True, max_length=512)\n",
    "        with torch.no_grad():\n",
    "            outputs = model(**inputs)\n",
    "        # Use the [CLS] token representation for each text in the batch\\n\",\n",
    "        batch_embeddings = outputs.last_hidden_state[:, 0, :].cpu().numpy(),\n",
    "        embeddings.extend(batch_embeddings)\n",
    "    return embeddings"
   ]
  },
  {
   "cell_type": "code",
   "execution_count": 8,
   "id": "12eb188c",
   "metadata": {
    "scrolled": true
   },
   "outputs": [
    {
     "name": "stdout",
     "output_type": "stream",
     "text": [
      "Total Batches: 93\n",
      "Processing batch 1/93...\n",
      "Processing batch 2/93...\n",
      "Processing batch 3/93...\n",
      "Processing batch 4/93...\n",
      "Processing batch 5/93...\n",
      "Processing batch 6/93...\n",
      "Processing batch 7/93...\n",
      "Processing batch 8/93...\n",
      "Processing batch 9/93...\n",
      "Processing batch 10/93...\n",
      "Processing batch 11/93...\n",
      "Processing batch 12/93...\n",
      "Processing batch 13/93...\n",
      "Processing batch 14/93...\n",
      "Processing batch 15/93...\n",
      "Processing batch 16/93...\n",
      "Processing batch 17/93...\n",
      "Processing batch 18/93...\n",
      "Processing batch 19/93...\n",
      "Processing batch 20/93...\n",
      "Processing batch 21/93...\n",
      "Processing batch 22/93...\n",
      "Processing batch 23/93...\n",
      "Processing batch 24/93...\n",
      "Processing batch 25/93...\n",
      "Processing batch 26/93...\n",
      "Processing batch 27/93...\n",
      "Processing batch 28/93...\n",
      "Processing batch 29/93...\n",
      "Processing batch 30/93...\n",
      "Processing batch 31/93...\n",
      "Processing batch 32/93...\n",
      "Processing batch 33/93...\n",
      "Processing batch 34/93...\n",
      "Processing batch 35/93...\n",
      "Processing batch 36/93...\n",
      "Processing batch 37/93...\n",
      "Processing batch 38/93...\n",
      "Processing batch 39/93...\n",
      "Processing batch 40/93...\n",
      "Processing batch 41/93...\n",
      "Processing batch 42/93...\n",
      "Processing batch 43/93...\n",
      "Processing batch 44/93...\n",
      "Processing batch 45/93...\n",
      "Processing batch 46/93...\n",
      "Processing batch 47/93...\n",
      "Processing batch 48/93...\n",
      "Processing batch 49/93...\n",
      "Processing batch 50/93...\n",
      "Processing batch 51/93...\n",
      "Processing batch 52/93...\n",
      "Processing batch 53/93...\n",
      "Processing batch 54/93...\n",
      "Processing batch 55/93...\n",
      "Processing batch 56/93...\n",
      "Processing batch 57/93...\n",
      "Processing batch 58/93...\n",
      "Processing batch 59/93...\n",
      "Processing batch 60/93...\n",
      "Processing batch 61/93...\n",
      "Processing batch 62/93...\n",
      "Processing batch 63/93...\n",
      "Processing batch 64/93...\n",
      "Processing batch 65/93...\n",
      "Processing batch 66/93...\n",
      "Processing batch 67/93...\n",
      "Processing batch 68/93...\n",
      "Processing batch 69/93...\n",
      "Processing batch 70/93...\n",
      "Processing batch 71/93...\n",
      "Processing batch 72/93...\n",
      "Processing batch 73/93...\n",
      "Processing batch 74/93...\n",
      "Processing batch 75/93...\n",
      "Processing batch 76/93...\n",
      "Processing batch 77/93...\n",
      "Processing batch 78/93...\n",
      "Processing batch 79/93...\n",
      "Processing batch 80/93...\n",
      "Processing batch 81/93...\n",
      "Processing batch 82/93...\n",
      "Processing batch 83/93...\n",
      "Processing batch 84/93...\n",
      "Processing batch 85/93...\n",
      "Processing batch 86/93...\n",
      "Processing batch 87/93...\n",
      "Processing batch 88/93...\n",
      "Processing batch 89/93...\n",
      "Processing batch 90/93...\n",
      "Processing batch 91/93...\n",
      "Processing batch 92/93...\n",
      "Processing batch 93/93...\n"
     ]
    }
   ],
   "source": [
    "batch_embeddings = get_bert_embeddings_batch(transcripts, tokenizer, model, batch_size=32)"
   ]
  },
  {
   "cell_type": "code",
   "execution_count": 10,
   "id": "6f96931c",
   "metadata": {},
   "outputs": [],
   "source": [
    "# Flatten the nested batch_embeddings\n",
    "flat_embeddings = [embedding for batch in batch_embeddings for embedding in batch]\n",
    "data['bert_embeddings_trans'] = flat_embeddings"
   ]
  },
  {
   "cell_type": "code",
   "execution_count": 12,
   "id": "4683654d",
   "metadata": {
    "scrolled": true
   },
   "outputs": [
    {
     "name": "stdout",
     "output_type": "stream",
     "text": [
      "Total Batches: 93\n",
      "Processing batch 1/93...\n",
      "Processing batch 2/93...\n",
      "Processing batch 3/93...\n",
      "Processing batch 4/93...\n",
      "Processing batch 5/93...\n",
      "Processing batch 6/93...\n",
      "Processing batch 7/93...\n",
      "Processing batch 8/93...\n",
      "Processing batch 9/93...\n",
      "Processing batch 10/93...\n",
      "Processing batch 11/93...\n",
      "Processing batch 12/93...\n",
      "Processing batch 13/93...\n",
      "Processing batch 14/93...\n",
      "Processing batch 15/93...\n",
      "Processing batch 16/93...\n",
      "Processing batch 17/93...\n",
      "Processing batch 18/93...\n",
      "Processing batch 19/93...\n",
      "Processing batch 20/93...\n",
      "Processing batch 21/93...\n",
      "Processing batch 22/93...\n",
      "Processing batch 23/93...\n",
      "Processing batch 24/93...\n",
      "Processing batch 25/93...\n",
      "Processing batch 26/93...\n",
      "Processing batch 27/93...\n",
      "Processing batch 28/93...\n",
      "Processing batch 29/93...\n",
      "Processing batch 30/93...\n",
      "Processing batch 31/93...\n",
      "Processing batch 32/93...\n",
      "Processing batch 33/93...\n",
      "Processing batch 34/93...\n",
      "Processing batch 35/93...\n",
      "Processing batch 36/93...\n",
      "Processing batch 37/93...\n",
      "Processing batch 38/93...\n",
      "Processing batch 39/93...\n",
      "Processing batch 40/93...\n",
      "Processing batch 41/93...\n",
      "Processing batch 42/93...\n",
      "Processing batch 43/93...\n",
      "Processing batch 44/93...\n",
      "Processing batch 45/93...\n",
      "Processing batch 46/93...\n",
      "Processing batch 47/93...\n",
      "Processing batch 48/93...\n",
      "Processing batch 49/93...\n",
      "Processing batch 50/93...\n",
      "Processing batch 51/93...\n",
      "Processing batch 52/93...\n",
      "Processing batch 53/93...\n",
      "Processing batch 54/93...\n",
      "Processing batch 55/93...\n",
      "Processing batch 56/93...\n",
      "Processing batch 57/93...\n",
      "Processing batch 58/93...\n",
      "Processing batch 59/93...\n",
      "Processing batch 60/93...\n",
      "Processing batch 61/93...\n",
      "Processing batch 62/93...\n",
      "Processing batch 63/93...\n",
      "Processing batch 64/93...\n",
      "Processing batch 65/93...\n",
      "Processing batch 66/93...\n",
      "Processing batch 67/93...\n",
      "Processing batch 68/93...\n",
      "Processing batch 69/93...\n",
      "Processing batch 70/93...\n",
      "Processing batch 71/93...\n",
      "Processing batch 72/93...\n",
      "Processing batch 73/93...\n",
      "Processing batch 74/93...\n",
      "Processing batch 75/93...\n",
      "Processing batch 76/93...\n",
      "Processing batch 77/93...\n",
      "Processing batch 78/93...\n",
      "Processing batch 79/93...\n",
      "Processing batch 80/93...\n",
      "Processing batch 81/93...\n",
      "Processing batch 82/93...\n",
      "Processing batch 83/93...\n",
      "Processing batch 84/93...\n",
      "Processing batch 85/93...\n",
      "Processing batch 86/93...\n",
      "Processing batch 87/93...\n",
      "Processing batch 88/93...\n",
      "Processing batch 89/93...\n",
      "Processing batch 90/93...\n",
      "Processing batch 91/93...\n",
      "Processing batch 92/93...\n",
      "Processing batch 93/93...\n"
     ]
    }
   ],
   "source": [
    "batch_embeddings_resume = get_bert_embeddings_batch(resumes, tokenizer, model, batch_size=32)"
   ]
  },
  {
   "cell_type": "code",
   "execution_count": 13,
   "id": "721ca040",
   "metadata": {},
   "outputs": [],
   "source": [
    "flat_embeddings_res = [embedding for batch in batch_embeddings_resume for embedding in batch]\n",
    "data['bert_embeddings_resume'] = flat_embeddings_res"
   ]
  },
  {
   "cell_type": "code",
   "execution_count": 16,
   "id": "31672385",
   "metadata": {
    "scrolled": true
   },
   "outputs": [
    {
     "name": "stdout",
     "output_type": "stream",
     "text": [
      "Total Batches: 93\n",
      "Processing batch 1/93...\n",
      "Processing batch 2/93...\n",
      "Processing batch 3/93...\n",
      "Processing batch 4/93...\n",
      "Processing batch 5/93...\n",
      "Processing batch 6/93...\n",
      "Processing batch 7/93...\n",
      "Processing batch 8/93...\n",
      "Processing batch 9/93...\n",
      "Processing batch 10/93...\n",
      "Processing batch 11/93...\n",
      "Processing batch 12/93...\n",
      "Processing batch 13/93...\n",
      "Processing batch 14/93...\n",
      "Processing batch 15/93...\n",
      "Processing batch 16/93...\n",
      "Processing batch 17/93...\n",
      "Processing batch 18/93...\n",
      "Processing batch 19/93...\n",
      "Processing batch 20/93...\n",
      "Processing batch 21/93...\n",
      "Processing batch 22/93...\n",
      "Processing batch 23/93...\n",
      "Processing batch 24/93...\n",
      "Processing batch 25/93...\n",
      "Processing batch 26/93...\n",
      "Processing batch 27/93...\n",
      "Processing batch 28/93...\n",
      "Processing batch 29/93...\n",
      "Processing batch 30/93...\n",
      "Processing batch 31/93...\n",
      "Processing batch 32/93...\n",
      "Processing batch 33/93...\n",
      "Processing batch 34/93...\n",
      "Processing batch 35/93...\n",
      "Processing batch 36/93...\n",
      "Processing batch 37/93...\n",
      "Processing batch 38/93...\n",
      "Processing batch 39/93...\n",
      "Processing batch 40/93...\n",
      "Processing batch 41/93...\n",
      "Processing batch 42/93...\n",
      "Processing batch 43/93...\n",
      "Processing batch 44/93...\n",
      "Processing batch 45/93...\n",
      "Processing batch 46/93...\n",
      "Processing batch 47/93...\n",
      "Processing batch 48/93...\n",
      "Processing batch 49/93...\n",
      "Processing batch 50/93...\n",
      "Processing batch 51/93...\n",
      "Processing batch 52/93...\n",
      "Processing batch 53/93...\n",
      "Processing batch 54/93...\n",
      "Processing batch 55/93...\n",
      "Processing batch 56/93...\n",
      "Processing batch 57/93...\n",
      "Processing batch 58/93...\n",
      "Processing batch 59/93...\n",
      "Processing batch 60/93...\n",
      "Processing batch 61/93...\n",
      "Processing batch 62/93...\n",
      "Processing batch 63/93...\n",
      "Processing batch 64/93...\n",
      "Processing batch 65/93...\n",
      "Processing batch 66/93...\n",
      "Processing batch 67/93...\n",
      "Processing batch 68/93...\n",
      "Processing batch 69/93...\n",
      "Processing batch 70/93...\n",
      "Processing batch 71/93...\n",
      "Processing batch 72/93...\n",
      "Processing batch 73/93...\n",
      "Processing batch 74/93...\n",
      "Processing batch 75/93...\n",
      "Processing batch 76/93...\n",
      "Processing batch 77/93...\n",
      "Processing batch 78/93...\n",
      "Processing batch 79/93...\n",
      "Processing batch 80/93...\n",
      "Processing batch 81/93...\n",
      "Processing batch 82/93...\n",
      "Processing batch 83/93...\n",
      "Processing batch 84/93...\n",
      "Processing batch 85/93...\n",
      "Processing batch 86/93...\n",
      "Processing batch 87/93...\n",
      "Processing batch 88/93...\n",
      "Processing batch 89/93...\n",
      "Processing batch 90/93...\n",
      "Processing batch 91/93...\n",
      "Processing batch 92/93...\n",
      "Processing batch 93/93...\n"
     ]
    }
   ],
   "source": [
    "batch_embeddings_job_desc = get_bert_embeddings_batch(job_desc, tokenizer, model, batch_size=32)"
   ]
  },
  {
   "cell_type": "code",
   "execution_count": 17,
   "id": "c870c59a",
   "metadata": {},
   "outputs": [],
   "source": [
    "flat_embeddings_jd = [embedding for batch in batch_embeddings_job_desc for embedding in batch]\n",
    "data['bert_embeddings_jobDesc'] = flat_embeddings_jd"
   ]
  },
  {
   "cell_type": "code",
   "execution_count": 20,
   "id": "57782c2b",
   "metadata": {},
   "outputs": [],
   "source": [
    "trans_expanded = pd.DataFrame(data['bert_embeddings_trans'].tolist(), index=data.index)\n",
    "trans_expanded.columns = [f'trans_emb_{i}' for i in range(trans_expanded.shape[1])]"
   ]
  },
  {
   "cell_type": "code",
   "execution_count": 21,
   "id": "71474cf5",
   "metadata": {},
   "outputs": [],
   "source": [
    "resume_expanded = pd.DataFrame(data['bert_embeddings_resume'].tolist(), index=data.index)\n",
    "resume_expanded.columns = [f'resume_emb_{i}' for i in range(resume_expanded.shape[1])]"
   ]
  },
  {
   "cell_type": "code",
   "execution_count": 22,
   "id": "7f110893",
   "metadata": {},
   "outputs": [],
   "source": [
    "jd_expanded = pd.DataFrame(data['bert_embeddings_jobDesc'].tolist(), index=data.index)\n",
    "jd_expanded.columns = [f'jd_emb_{i}' for i in range(jd_expanded.shape[1])]"
   ]
  },
  {
   "cell_type": "code",
   "execution_count": 23,
   "id": "e2f04da1",
   "metadata": {},
   "outputs": [],
   "source": [
    "df_expanded = pd.concat([data, trans_expanded, resume_expanded , jd_expanded], axis=1)"
   ]
  },
  {
   "cell_type": "code",
   "execution_count": null,
   "id": "d33080af",
   "metadata": {},
   "outputs": [],
   "source": []
  },
  {
   "cell_type": "code",
   "execution_count": 25,
   "id": "ae4a08f1",
   "metadata": {},
   "outputs": [],
   "source": [
    "df_expanded = df_expanded.drop(columns=['bert_embeddings_trans', 'bert_embeddings_resume','bert_embeddings_jobDesc'])"
   ]
  },
  {
   "cell_type": "code",
   "execution_count": 26,
   "id": "167659d2",
   "metadata": {},
   "outputs": [],
   "source": [
    "df_expanded.to_excel(\"C:\\\\Users\\\\PAVAN\\\\Downloads\\\\bert_embeddings.xlsx\")"
   ]
  },
  {
   "cell_type": "code",
   "execution_count": 27,
   "id": "b56e598d",
   "metadata": {},
   "outputs": [],
   "source": [
    "## After Bert Embeddings "
   ]
  },
  {
   "cell_type": "code",
   "execution_count": 31,
   "id": "6d1a7a72",
   "metadata": {},
   "outputs": [],
   "source": [
    "from sklearn.model_selection import train_test_split\n",
    "from sklearn.preprocessing import LabelEncoder\n",
    "from xgboost import XGBClassifier\n",
    "from sklearn.metrics import classification_report, accuracy_score, roc_auc_score"
   ]
  },
  {
   "cell_type": "code",
   "execution_count": 30,
   "id": "802f0e36",
   "metadata": {},
   "outputs": [],
   "source": [
    "# pip install xgboost"
   ]
  },
  {
   "cell_type": "code",
   "execution_count": 32,
   "id": "86aed6e6",
   "metadata": {},
   "outputs": [],
   "source": [
    "label_encoder = LabelEncoder()\n",
    "df_expanded['decision_encoded'] = label_encoder.fit_transform(df_expanded['decision'])\n",
    "# Step 2: Split features and target\n",
    "# Assuming embeddings columns are named like 'trans_emb_0', 'resume_emb_0', etc.\\n\",\n",
    "embedding_columns = [col for col in df_expanded.columns if col.startswith('trans_emb_') or col.startswith('resume_emb_') or col.startswith('jd_emb_')]\n",
    "X = df_expanded[embedding_columns]\n",
    "y = df_expanded['decision_encoded']"
   ]
  },
  {
   "cell_type": "code",
   "execution_count": 39,
   "id": "1ef6198e",
   "metadata": {},
   "outputs": [],
   "source": [
    "X_train, X_test, y_train, y_test = train_test_split(X, y, test_size=0.2, random_state=42, stratify=y)"
   ]
  },
  {
   "cell_type": "code",
   "execution_count": 40,
   "id": "185f7694",
   "metadata": {},
   "outputs": [
    {
     "name": "stderr",
     "output_type": "stream",
     "text": [
      "D:\\Anaconda_Installation\\Lib\\site-packages\\xgboost\\core.py:158: UserWarning: [08:16:28] WARNING: C:\\buildkite-agent\\builds\\buildkite-windows-cpu-autoscaling-group-i-0c55ff5f71b100e98-1\\xgboost\\xgboost-ci-windows\\src\\learner.cc:740: \n",
      "Parameters: { \"use_label_encoder\" } are not used.\n",
      "\n",
      "  warnings.warn(smsg, UserWarning)\n"
     ]
    },
    {
     "data": {
      "text/html": [
       "<style>#sk-container-id-1 {color: black;}#sk-container-id-1 pre{padding: 0;}#sk-container-id-1 div.sk-toggleable {background-color: white;}#sk-container-id-1 label.sk-toggleable__label {cursor: pointer;display: block;width: 100%;margin-bottom: 0;padding: 0.3em;box-sizing: border-box;text-align: center;}#sk-container-id-1 label.sk-toggleable__label-arrow:before {content: \"▸\";float: left;margin-right: 0.25em;color: #696969;}#sk-container-id-1 label.sk-toggleable__label-arrow:hover:before {color: black;}#sk-container-id-1 div.sk-estimator:hover label.sk-toggleable__label-arrow:before {color: black;}#sk-container-id-1 div.sk-toggleable__content {max-height: 0;max-width: 0;overflow: hidden;text-align: left;background-color: #f0f8ff;}#sk-container-id-1 div.sk-toggleable__content pre {margin: 0.2em;color: black;border-radius: 0.25em;background-color: #f0f8ff;}#sk-container-id-1 input.sk-toggleable__control:checked~div.sk-toggleable__content {max-height: 200px;max-width: 100%;overflow: auto;}#sk-container-id-1 input.sk-toggleable__control:checked~label.sk-toggleable__label-arrow:before {content: \"▾\";}#sk-container-id-1 div.sk-estimator input.sk-toggleable__control:checked~label.sk-toggleable__label {background-color: #d4ebff;}#sk-container-id-1 div.sk-label input.sk-toggleable__control:checked~label.sk-toggleable__label {background-color: #d4ebff;}#sk-container-id-1 input.sk-hidden--visually {border: 0;clip: rect(1px 1px 1px 1px);clip: rect(1px, 1px, 1px, 1px);height: 1px;margin: -1px;overflow: hidden;padding: 0;position: absolute;width: 1px;}#sk-container-id-1 div.sk-estimator {font-family: monospace;background-color: #f0f8ff;border: 1px dotted black;border-radius: 0.25em;box-sizing: border-box;margin-bottom: 0.5em;}#sk-container-id-1 div.sk-estimator:hover {background-color: #d4ebff;}#sk-container-id-1 div.sk-parallel-item::after {content: \"\";width: 100%;border-bottom: 1px solid gray;flex-grow: 1;}#sk-container-id-1 div.sk-label:hover label.sk-toggleable__label {background-color: #d4ebff;}#sk-container-id-1 div.sk-serial::before {content: \"\";position: absolute;border-left: 1px solid gray;box-sizing: border-box;top: 0;bottom: 0;left: 50%;z-index: 0;}#sk-container-id-1 div.sk-serial {display: flex;flex-direction: column;align-items: center;background-color: white;padding-right: 0.2em;padding-left: 0.2em;position: relative;}#sk-container-id-1 div.sk-item {position: relative;z-index: 1;}#sk-container-id-1 div.sk-parallel {display: flex;align-items: stretch;justify-content: center;background-color: white;position: relative;}#sk-container-id-1 div.sk-item::before, #sk-container-id-1 div.sk-parallel-item::before {content: \"\";position: absolute;border-left: 1px solid gray;box-sizing: border-box;top: 0;bottom: 0;left: 50%;z-index: -1;}#sk-container-id-1 div.sk-parallel-item {display: flex;flex-direction: column;z-index: 1;position: relative;background-color: white;}#sk-container-id-1 div.sk-parallel-item:first-child::after {align-self: flex-end;width: 50%;}#sk-container-id-1 div.sk-parallel-item:last-child::after {align-self: flex-start;width: 50%;}#sk-container-id-1 div.sk-parallel-item:only-child::after {width: 0;}#sk-container-id-1 div.sk-dashed-wrapped {border: 1px dashed gray;margin: 0 0.4em 0.5em 0.4em;box-sizing: border-box;padding-bottom: 0.4em;background-color: white;}#sk-container-id-1 div.sk-label label {font-family: monospace;font-weight: bold;display: inline-block;line-height: 1.2em;}#sk-container-id-1 div.sk-label-container {text-align: center;}#sk-container-id-1 div.sk-container {/* jupyter's `normalize.less` sets `[hidden] { display: none; }` but bootstrap.min.css set `[hidden] { display: none !important; }` so we also need the `!important` here to be able to override the default hidden behavior on the sphinx rendered scikit-learn.org. See: https://github.com/scikit-learn/scikit-learn/issues/21755 */display: inline-block !important;position: relative;}#sk-container-id-1 div.sk-text-repr-fallback {display: none;}</style><div id=\"sk-container-id-1\" class=\"sk-top-container\"><div class=\"sk-text-repr-fallback\"><pre>XGBClassifier(base_score=None, booster=None, callbacks=None,\n",
       "              colsample_bylevel=None, colsample_bynode=None,\n",
       "              colsample_bytree=None, device=None, early_stopping_rounds=None,\n",
       "              enable_categorical=False, eval_metric=&#x27;logloss&#x27;,\n",
       "              feature_types=None, gamma=None, grow_policy=None,\n",
       "              importance_type=None, interaction_constraints=None,\n",
       "              learning_rate=0.1, max_bin=None, max_cat_threshold=None,\n",
       "              max_cat_to_onehot=None, max_delta_step=None, max_depth=5,\n",
       "              max_leaves=None, min_child_weight=None, missing=nan,\n",
       "              monotone_constraints=None, multi_strategy=None, n_estimators=200,\n",
       "              n_jobs=None, num_parallel_tree=None, random_state=None, ...)</pre><b>In a Jupyter environment, please rerun this cell to show the HTML representation or trust the notebook. <br />On GitHub, the HTML representation is unable to render, please try loading this page with nbviewer.org.</b></div><div class=\"sk-container\" hidden><div class=\"sk-item\"><div class=\"sk-estimator sk-toggleable\"><input class=\"sk-toggleable__control sk-hidden--visually\" id=\"sk-estimator-id-1\" type=\"checkbox\" checked><label for=\"sk-estimator-id-1\" class=\"sk-toggleable__label sk-toggleable__label-arrow\">XGBClassifier</label><div class=\"sk-toggleable__content\"><pre>XGBClassifier(base_score=None, booster=None, callbacks=None,\n",
       "              colsample_bylevel=None, colsample_bynode=None,\n",
       "              colsample_bytree=None, device=None, early_stopping_rounds=None,\n",
       "              enable_categorical=False, eval_metric=&#x27;logloss&#x27;,\n",
       "              feature_types=None, gamma=None, grow_policy=None,\n",
       "              importance_type=None, interaction_constraints=None,\n",
       "              learning_rate=0.1, max_bin=None, max_cat_threshold=None,\n",
       "              max_cat_to_onehot=None, max_delta_step=None, max_depth=5,\n",
       "              max_leaves=None, min_child_weight=None, missing=nan,\n",
       "              monotone_constraints=None, multi_strategy=None, n_estimators=200,\n",
       "              n_jobs=None, num_parallel_tree=None, random_state=None, ...)</pre></div></div></div></div></div>"
      ],
      "text/plain": [
       "XGBClassifier(base_score=None, booster=None, callbacks=None,\n",
       "              colsample_bylevel=None, colsample_bynode=None,\n",
       "              colsample_bytree=None, device=None, early_stopping_rounds=None,\n",
       "              enable_categorical=False, eval_metric='logloss',\n",
       "              feature_types=None, gamma=None, grow_policy=None,\n",
       "              importance_type=None, interaction_constraints=None,\n",
       "              learning_rate=0.1, max_bin=None, max_cat_threshold=None,\n",
       "              max_cat_to_onehot=None, max_delta_step=None, max_depth=5,\n",
       "              max_leaves=None, min_child_weight=None, missing=nan,\n",
       "              monotone_constraints=None, multi_strategy=None, n_estimators=200,\n",
       "              n_jobs=None, num_parallel_tree=None, random_state=None, ...)"
      ]
     },
     "execution_count": 40,
     "metadata": {},
     "output_type": "execute_result"
    }
   ],
   "source": [
    "model = XGBClassifier(use_label_encoder=False,max_depth=5,n_estimators=200,learning_rate=0.1, eval_metric='logloss')\n",
    "model.fit(X_train, y_train)"
   ]
  },
  {
   "cell_type": "code",
   "execution_count": 41,
   "id": "7060ed7b",
   "metadata": {},
   "outputs": [],
   "source": [
    "y_pred = model.predict(X_test)"
   ]
  },
  {
   "cell_type": "code",
   "execution_count": 43,
   "id": "ca193a10",
   "metadata": {},
   "outputs": [
    {
     "name": "stdout",
     "output_type": "stream",
     "text": [
      "Accuracy:  0.8192567567567568\n"
     ]
    }
   ],
   "source": [
    "print(\"Accuracy: \", accuracy_score(y_test, y_pred))"
   ]
  },
  {
   "cell_type": "code",
   "execution_count": 44,
   "id": "393584f5",
   "metadata": {},
   "outputs": [
    {
     "name": "stdout",
     "output_type": "stream",
     "text": [
      "roc_auc: 0.8190380990460957\n"
     ]
    }
   ],
   "source": [
    "print(\"roc_auc:\", roc_auc_score(y_test, y_pred))"
   ]
  },
  {
   "cell_type": "markdown",
   "id": "3d49752a",
   "metadata": {},
   "source": [
    "## Combining derived features with the BERT embeddings"
   ]
  },
  {
   "cell_type": "code",
   "execution_count": 45,
   "id": "b6f27f35",
   "metadata": {},
   "outputs": [
    {
     "data": {
      "text/plain": [
       "Index(['ID', 'Name', 'Role', 'Transcript', 'Resume', 'decision',\n",
       "       'Reason for decision', 'Job Description', 'Transcript_processed',\n",
       "       'Resume_processed', 'Job_Description_processed', 'Transcript_sentiment',\n",
       "       'Resume_sentiment', 'JobDescription_sentiment', 'Transcript_words',\n",
       "       'Resume_words', 'Years_Experience', 'resume_jd_similarity',\n",
       "       'Transcript_jd_similarity', 'resume_transcript_similarity',\n",
       "       'resume_sentence_count', 'resume_avg_word_length', 'skill_match_count',\n",
       "       'university_education_count', 'transcript_vocab_diversity',\n",
       "       'transcript_avg_sentence_length', 'resume_jd_similarity_transformers',\n",
       "       'transcript_jd_similarity_transformers',\n",
       "       'transcript_resume_similarity_transformers', 'bert_embeddings_trans',\n",
       "       'bert_embeddings_resume', 'bert_embeddings_jobDesc'],\n",
       "      dtype='object')"
      ]
     },
     "execution_count": 45,
     "metadata": {},
     "output_type": "execute_result"
    }
   ],
   "source": [
    "data.columns"
   ]
  },
  {
   "cell_type": "code",
   "execution_count": 47,
   "id": "8bef16cb",
   "metadata": {},
   "outputs": [
    {
     "data": {
      "text/html": [
       "<div>\n",
       "<style scoped>\n",
       "    .dataframe tbody tr th:only-of-type {\n",
       "        vertical-align: middle;\n",
       "    }\n",
       "\n",
       "    .dataframe tbody tr th {\n",
       "        vertical-align: top;\n",
       "    }\n",
       "\n",
       "    .dataframe thead th {\n",
       "        text-align: right;\n",
       "    }\n",
       "</style>\n",
       "<table border=\"1\" class=\"dataframe\">\n",
       "  <thead>\n",
       "    <tr style=\"text-align: right;\">\n",
       "      <th></th>\n",
       "      <th>Transcript_sentiment</th>\n",
       "      <th>Resume_sentiment</th>\n",
       "      <th>JobDescription_sentiment</th>\n",
       "      <th>Transcript_words</th>\n",
       "      <th>Resume_words</th>\n",
       "      <th>Years_Experience</th>\n",
       "      <th>resume_sentence_count</th>\n",
       "      <th>resume_avg_word_length</th>\n",
       "      <th>skill_match_count</th>\n",
       "      <th>university_education_count</th>\n",
       "      <th>transcript_vocab_diversity</th>\n",
       "      <th>transcript_avg_sentence_length</th>\n",
       "    </tr>\n",
       "  </thead>\n",
       "  <tbody>\n",
       "    <tr>\n",
       "      <th>0</th>\n",
       "      <td>0.270412</td>\n",
       "      <td>0.307407</td>\n",
       "      <td>0.50</td>\n",
       "      <td>348</td>\n",
       "      <td>221</td>\n",
       "      <td>14</td>\n",
       "      <td>1</td>\n",
       "      <td>7.737557</td>\n",
       "      <td>8</td>\n",
       "      <td>2</td>\n",
       "      <td>0.548851</td>\n",
       "      <td>348</td>\n",
       "    </tr>\n",
       "    <tr>\n",
       "      <th>1</th>\n",
       "      <td>0.296350</td>\n",
       "      <td>0.130833</td>\n",
       "      <td>0.50</td>\n",
       "      <td>387</td>\n",
       "      <td>241</td>\n",
       "      <td>11</td>\n",
       "      <td>1</td>\n",
       "      <td>7.676349</td>\n",
       "      <td>7</td>\n",
       "      <td>2</td>\n",
       "      <td>0.591731</td>\n",
       "      <td>387</td>\n",
       "    </tr>\n",
       "    <tr>\n",
       "      <th>2</th>\n",
       "      <td>0.173791</td>\n",
       "      <td>0.202970</td>\n",
       "      <td>0.50</td>\n",
       "      <td>282</td>\n",
       "      <td>255</td>\n",
       "      <td>14</td>\n",
       "      <td>1</td>\n",
       "      <td>7.117647</td>\n",
       "      <td>9</td>\n",
       "      <td>1</td>\n",
       "      <td>0.475177</td>\n",
       "      <td>282</td>\n",
       "    </tr>\n",
       "    <tr>\n",
       "      <th>3</th>\n",
       "      <td>0.198376</td>\n",
       "      <td>0.131515</td>\n",
       "      <td>0.50</td>\n",
       "      <td>402</td>\n",
       "      <td>237</td>\n",
       "      <td>7</td>\n",
       "      <td>1</td>\n",
       "      <td>7.130802</td>\n",
       "      <td>7</td>\n",
       "      <td>1</td>\n",
       "      <td>0.519900</td>\n",
       "      <td>402</td>\n",
       "    </tr>\n",
       "    <tr>\n",
       "      <th>4</th>\n",
       "      <td>0.324771</td>\n",
       "      <td>0.111750</td>\n",
       "      <td>0.25</td>\n",
       "      <td>306</td>\n",
       "      <td>299</td>\n",
       "      <td>0</td>\n",
       "      <td>1</td>\n",
       "      <td>7.394649</td>\n",
       "      <td>9</td>\n",
       "      <td>2</td>\n",
       "      <td>0.522876</td>\n",
       "      <td>306</td>\n",
       "    </tr>\n",
       "    <tr>\n",
       "      <th>...</th>\n",
       "      <td>...</td>\n",
       "      <td>...</td>\n",
       "      <td>...</td>\n",
       "      <td>...</td>\n",
       "      <td>...</td>\n",
       "      <td>...</td>\n",
       "      <td>...</td>\n",
       "      <td>...</td>\n",
       "      <td>...</td>\n",
       "      <td>...</td>\n",
       "      <td>...</td>\n",
       "      <td>...</td>\n",
       "    </tr>\n",
       "    <tr>\n",
       "      <th>2953</th>\n",
       "      <td>0.265649</td>\n",
       "      <td>0.107810</td>\n",
       "      <td>0.00</td>\n",
       "      <td>366</td>\n",
       "      <td>326</td>\n",
       "      <td>6</td>\n",
       "      <td>1</td>\n",
       "      <td>7.263804</td>\n",
       "      <td>4</td>\n",
       "      <td>2</td>\n",
       "      <td>0.609290</td>\n",
       "      <td>366</td>\n",
       "    </tr>\n",
       "    <tr>\n",
       "      <th>2954</th>\n",
       "      <td>0.223822</td>\n",
       "      <td>0.130000</td>\n",
       "      <td>0.00</td>\n",
       "      <td>437</td>\n",
       "      <td>309</td>\n",
       "      <td>0</td>\n",
       "      <td>1</td>\n",
       "      <td>7.482201</td>\n",
       "      <td>4</td>\n",
       "      <td>2</td>\n",
       "      <td>0.494279</td>\n",
       "      <td>437</td>\n",
       "    </tr>\n",
       "    <tr>\n",
       "      <th>2955</th>\n",
       "      <td>0.091538</td>\n",
       "      <td>0.146667</td>\n",
       "      <td>0.00</td>\n",
       "      <td>441</td>\n",
       "      <td>290</td>\n",
       "      <td>1</td>\n",
       "      <td>1</td>\n",
       "      <td>7.665517</td>\n",
       "      <td>6</td>\n",
       "      <td>2</td>\n",
       "      <td>0.428571</td>\n",
       "      <td>441</td>\n",
       "    </tr>\n",
       "    <tr>\n",
       "      <th>2956</th>\n",
       "      <td>0.220782</td>\n",
       "      <td>0.093155</td>\n",
       "      <td>0.00</td>\n",
       "      <td>444</td>\n",
       "      <td>373</td>\n",
       "      <td>8</td>\n",
       "      <td>1</td>\n",
       "      <td>7.624665</td>\n",
       "      <td>4</td>\n",
       "      <td>2</td>\n",
       "      <td>0.495495</td>\n",
       "      <td>444</td>\n",
       "    </tr>\n",
       "    <tr>\n",
       "      <th>2957</th>\n",
       "      <td>0.147404</td>\n",
       "      <td>0.134783</td>\n",
       "      <td>0.00</td>\n",
       "      <td>378</td>\n",
       "      <td>289</td>\n",
       "      <td>6</td>\n",
       "      <td>1</td>\n",
       "      <td>7.460208</td>\n",
       "      <td>4</td>\n",
       "      <td>2</td>\n",
       "      <td>0.497354</td>\n",
       "      <td>378</td>\n",
       "    </tr>\n",
       "  </tbody>\n",
       "</table>\n",
       "<p>2958 rows × 12 columns</p>\n",
       "</div>"
      ],
      "text/plain": [
       "      Transcript_sentiment  Resume_sentiment  JobDescription_sentiment  \\\n",
       "0                 0.270412          0.307407                      0.50   \n",
       "1                 0.296350          0.130833                      0.50   \n",
       "2                 0.173791          0.202970                      0.50   \n",
       "3                 0.198376          0.131515                      0.50   \n",
       "4                 0.324771          0.111750                      0.25   \n",
       "...                    ...               ...                       ...   \n",
       "2953              0.265649          0.107810                      0.00   \n",
       "2954              0.223822          0.130000                      0.00   \n",
       "2955              0.091538          0.146667                      0.00   \n",
       "2956              0.220782          0.093155                      0.00   \n",
       "2957              0.147404          0.134783                      0.00   \n",
       "\n",
       "      Transcript_words  Resume_words  Years_Experience  resume_sentence_count  \\\n",
       "0                  348           221                14                      1   \n",
       "1                  387           241                11                      1   \n",
       "2                  282           255                14                      1   \n",
       "3                  402           237                 7                      1   \n",
       "4                  306           299                 0                      1   \n",
       "...                ...           ...               ...                    ...   \n",
       "2953               366           326                 6                      1   \n",
       "2954               437           309                 0                      1   \n",
       "2955               441           290                 1                      1   \n",
       "2956               444           373                 8                      1   \n",
       "2957               378           289                 6                      1   \n",
       "\n",
       "      resume_avg_word_length  skill_match_count  university_education_count  \\\n",
       "0                   7.737557                  8                           2   \n",
       "1                   7.676349                  7                           2   \n",
       "2                   7.117647                  9                           1   \n",
       "3                   7.130802                  7                           1   \n",
       "4                   7.394649                  9                           2   \n",
       "...                      ...                ...                         ...   \n",
       "2953                7.263804                  4                           2   \n",
       "2954                7.482201                  4                           2   \n",
       "2955                7.665517                  6                           2   \n",
       "2956                7.624665                  4                           2   \n",
       "2957                7.460208                  4                           2   \n",
       "\n",
       "      transcript_vocab_diversity  transcript_avg_sentence_length  \n",
       "0                       0.548851                             348  \n",
       "1                       0.591731                             387  \n",
       "2                       0.475177                             282  \n",
       "3                       0.519900                             402  \n",
       "4                       0.522876                             306  \n",
       "...                          ...                             ...  \n",
       "2953                    0.609290                             366  \n",
       "2954                    0.494279                             437  \n",
       "2955                    0.428571                             441  \n",
       "2956                    0.495495                             444  \n",
       "2957                    0.497354                             378  \n",
       "\n",
       "[2958 rows x 12 columns]"
      ]
     },
     "execution_count": 47,
     "metadata": {},
     "output_type": "execute_result"
    }
   ],
   "source": [
    "df_expanded[['Transcript_sentiment','Resume_sentiment', 'JobDescription_sentiment', 'Transcript_words',\n",
    "       'Resume_words', 'Years_Experience',\n",
    "       'resume_sentence_count', 'resume_avg_word_length', 'skill_match_count',\n",
    "       'university_education_count', 'transcript_vocab_diversity',\n",
    "       'transcript_avg_sentence_length']]"
   ]
  },
  {
   "cell_type": "markdown",
   "id": "9a65002d",
   "metadata": {},
   "source": [
    "### Calculating the similarity between transcript , resume , job description using the BERT embeddings"
   ]
  },
  {
   "cell_type": "code",
   "execution_count": 55,
   "id": "769c05d7",
   "metadata": {},
   "outputs": [],
   "source": [
    "# Resume and Transcript similarity using Bert embeddings \n",
    "from sklearn.metrics.pairwise import cosine_similarity\n",
    "tra_res_simi = []\n",
    "for tra , res in zip(flat_embeddings , flat_embeddings_res):\n",
    "    tra_res_simi.append(cosine_similarity([tra],[res])[0][0])"
   ]
  },
  {
   "cell_type": "code",
   "execution_count": 57,
   "id": "dee27be6",
   "metadata": {},
   "outputs": [],
   "source": [
    "tra_jd_simi = []\n",
    "for tra , jd in zip(flat_embeddings , flat_embeddings_jd):\n",
    "    tra_jd_simi.append(cosine_similarity([tra],[jd])[0][0])"
   ]
  },
  {
   "cell_type": "code",
   "execution_count": 58,
   "id": "114b39a9",
   "metadata": {},
   "outputs": [],
   "source": [
    "jd_res_simi = []\n",
    "for jd , res in zip(flat_embeddings_jd , flat_embeddings_res):\n",
    "    jd_res_simi.append(cosine_similarity([jd],[res])[0][0])"
   ]
  },
  {
   "cell_type": "code",
   "execution_count": 59,
   "id": "695ed935",
   "metadata": {},
   "outputs": [],
   "source": [
    "df_expanded['Bert_TransRes_Similarity'] = tra_res_simi\n",
    "df_expanded['Bert_TransJobDesc_Similarity'] = tra_jd_simi\n",
    "df_expanded['Bert_ResJobDesc_Similarity'] = jd_res_simi "
   ]
  },
  {
   "cell_type": "code",
   "execution_count": 62,
   "id": "ed260ef2",
   "metadata": {},
   "outputs": [],
   "source": [
    "derived_features = df_expanded[['Transcript_sentiment','Resume_sentiment', 'JobDescription_sentiment', 'Transcript_words',\n",
    "       'Resume_words', 'Years_Experience', 'resume_avg_word_length', 'skill_match_count','university_education_count', 'transcript_vocab_diversity',\n",
    "       'transcript_avg_sentence_length' , 'Bert_TransRes_Similarity', 'Bert_TransJobDesc_Similarity' , 'Bert_ResJobDesc_Similarity']]"
   ]
  },
  {
   "cell_type": "code",
   "execution_count": 174,
   "id": "781fb10f",
   "metadata": {},
   "outputs": [],
   "source": [
    "## Merging the entire data "
   ]
  },
  {
   "cell_type": "code",
   "execution_count": 64,
   "id": "ab29bb4a",
   "metadata": {},
   "outputs": [],
   "source": [
    "new_data = pd.concat([X,derived_features],axis=1)"
   ]
  },
  {
   "cell_type": "code",
   "execution_count": 87,
   "id": "ddebd38d",
   "metadata": {},
   "outputs": [],
   "source": [
    "X_train, X_test, y_train, y_test = train_test_split(new_data, y, test_size=0.2, random_state=42, stratify=y)"
   ]
  },
  {
   "cell_type": "code",
   "execution_count": 66,
   "id": "160c29f2",
   "metadata": {},
   "outputs": [
    {
     "name": "stderr",
     "output_type": "stream",
     "text": [
      "D:\\Anaconda_Installation\\Lib\\site-packages\\xgboost\\core.py:158: UserWarning: [08:34:01] WARNING: C:\\buildkite-agent\\builds\\buildkite-windows-cpu-autoscaling-group-i-0c55ff5f71b100e98-1\\xgboost\\xgboost-ci-windows\\src\\learner.cc:740: \n",
      "Parameters: { \"use_label_encoder\" } are not used.\n",
      "\n",
      "  warnings.warn(smsg, UserWarning)\n"
     ]
    },
    {
     "data": {
      "text/html": [
       "<style>#sk-container-id-2 {color: black;}#sk-container-id-2 pre{padding: 0;}#sk-container-id-2 div.sk-toggleable {background-color: white;}#sk-container-id-2 label.sk-toggleable__label {cursor: pointer;display: block;width: 100%;margin-bottom: 0;padding: 0.3em;box-sizing: border-box;text-align: center;}#sk-container-id-2 label.sk-toggleable__label-arrow:before {content: \"▸\";float: left;margin-right: 0.25em;color: #696969;}#sk-container-id-2 label.sk-toggleable__label-arrow:hover:before {color: black;}#sk-container-id-2 div.sk-estimator:hover label.sk-toggleable__label-arrow:before {color: black;}#sk-container-id-2 div.sk-toggleable__content {max-height: 0;max-width: 0;overflow: hidden;text-align: left;background-color: #f0f8ff;}#sk-container-id-2 div.sk-toggleable__content pre {margin: 0.2em;color: black;border-radius: 0.25em;background-color: #f0f8ff;}#sk-container-id-2 input.sk-toggleable__control:checked~div.sk-toggleable__content {max-height: 200px;max-width: 100%;overflow: auto;}#sk-container-id-2 input.sk-toggleable__control:checked~label.sk-toggleable__label-arrow:before {content: \"▾\";}#sk-container-id-2 div.sk-estimator input.sk-toggleable__control:checked~label.sk-toggleable__label {background-color: #d4ebff;}#sk-container-id-2 div.sk-label input.sk-toggleable__control:checked~label.sk-toggleable__label {background-color: #d4ebff;}#sk-container-id-2 input.sk-hidden--visually {border: 0;clip: rect(1px 1px 1px 1px);clip: rect(1px, 1px, 1px, 1px);height: 1px;margin: -1px;overflow: hidden;padding: 0;position: absolute;width: 1px;}#sk-container-id-2 div.sk-estimator {font-family: monospace;background-color: #f0f8ff;border: 1px dotted black;border-radius: 0.25em;box-sizing: border-box;margin-bottom: 0.5em;}#sk-container-id-2 div.sk-estimator:hover {background-color: #d4ebff;}#sk-container-id-2 div.sk-parallel-item::after {content: \"\";width: 100%;border-bottom: 1px solid gray;flex-grow: 1;}#sk-container-id-2 div.sk-label:hover label.sk-toggleable__label {background-color: #d4ebff;}#sk-container-id-2 div.sk-serial::before {content: \"\";position: absolute;border-left: 1px solid gray;box-sizing: border-box;top: 0;bottom: 0;left: 50%;z-index: 0;}#sk-container-id-2 div.sk-serial {display: flex;flex-direction: column;align-items: center;background-color: white;padding-right: 0.2em;padding-left: 0.2em;position: relative;}#sk-container-id-2 div.sk-item {position: relative;z-index: 1;}#sk-container-id-2 div.sk-parallel {display: flex;align-items: stretch;justify-content: center;background-color: white;position: relative;}#sk-container-id-2 div.sk-item::before, #sk-container-id-2 div.sk-parallel-item::before {content: \"\";position: absolute;border-left: 1px solid gray;box-sizing: border-box;top: 0;bottom: 0;left: 50%;z-index: -1;}#sk-container-id-2 div.sk-parallel-item {display: flex;flex-direction: column;z-index: 1;position: relative;background-color: white;}#sk-container-id-2 div.sk-parallel-item:first-child::after {align-self: flex-end;width: 50%;}#sk-container-id-2 div.sk-parallel-item:last-child::after {align-self: flex-start;width: 50%;}#sk-container-id-2 div.sk-parallel-item:only-child::after {width: 0;}#sk-container-id-2 div.sk-dashed-wrapped {border: 1px dashed gray;margin: 0 0.4em 0.5em 0.4em;box-sizing: border-box;padding-bottom: 0.4em;background-color: white;}#sk-container-id-2 div.sk-label label {font-family: monospace;font-weight: bold;display: inline-block;line-height: 1.2em;}#sk-container-id-2 div.sk-label-container {text-align: center;}#sk-container-id-2 div.sk-container {/* jupyter's `normalize.less` sets `[hidden] { display: none; }` but bootstrap.min.css set `[hidden] { display: none !important; }` so we also need the `!important` here to be able to override the default hidden behavior on the sphinx rendered scikit-learn.org. See: https://github.com/scikit-learn/scikit-learn/issues/21755 */display: inline-block !important;position: relative;}#sk-container-id-2 div.sk-text-repr-fallback {display: none;}</style><div id=\"sk-container-id-2\" class=\"sk-top-container\"><div class=\"sk-text-repr-fallback\"><pre>XGBClassifier(base_score=None, booster=None, callbacks=None,\n",
       "              colsample_bylevel=None, colsample_bynode=None,\n",
       "              colsample_bytree=None, device=None, early_stopping_rounds=None,\n",
       "              enable_categorical=False, eval_metric=&#x27;logloss&#x27;,\n",
       "              feature_types=None, gamma=None, grow_policy=None,\n",
       "              importance_type=None, interaction_constraints=None,\n",
       "              learning_rate=0.1, max_bin=None, max_cat_threshold=None,\n",
       "              max_cat_to_onehot=None, max_delta_step=None, max_depth=5,\n",
       "              max_leaves=None, min_child_weight=None, missing=nan,\n",
       "              monotone_constraints=None, multi_strategy=None, n_estimators=200,\n",
       "              n_jobs=None, num_parallel_tree=None, random_state=None, ...)</pre><b>In a Jupyter environment, please rerun this cell to show the HTML representation or trust the notebook. <br />On GitHub, the HTML representation is unable to render, please try loading this page with nbviewer.org.</b></div><div class=\"sk-container\" hidden><div class=\"sk-item\"><div class=\"sk-estimator sk-toggleable\"><input class=\"sk-toggleable__control sk-hidden--visually\" id=\"sk-estimator-id-2\" type=\"checkbox\" checked><label for=\"sk-estimator-id-2\" class=\"sk-toggleable__label sk-toggleable__label-arrow\">XGBClassifier</label><div class=\"sk-toggleable__content\"><pre>XGBClassifier(base_score=None, booster=None, callbacks=None,\n",
       "              colsample_bylevel=None, colsample_bynode=None,\n",
       "              colsample_bytree=None, device=None, early_stopping_rounds=None,\n",
       "              enable_categorical=False, eval_metric=&#x27;logloss&#x27;,\n",
       "              feature_types=None, gamma=None, grow_policy=None,\n",
       "              importance_type=None, interaction_constraints=None,\n",
       "              learning_rate=0.1, max_bin=None, max_cat_threshold=None,\n",
       "              max_cat_to_onehot=None, max_delta_step=None, max_depth=5,\n",
       "              max_leaves=None, min_child_weight=None, missing=nan,\n",
       "              monotone_constraints=None, multi_strategy=None, n_estimators=200,\n",
       "              n_jobs=None, num_parallel_tree=None, random_state=None, ...)</pre></div></div></div></div></div>"
      ],
      "text/plain": [
       "XGBClassifier(base_score=None, booster=None, callbacks=None,\n",
       "              colsample_bylevel=None, colsample_bynode=None,\n",
       "              colsample_bytree=None, device=None, early_stopping_rounds=None,\n",
       "              enable_categorical=False, eval_metric='logloss',\n",
       "              feature_types=None, gamma=None, grow_policy=None,\n",
       "              importance_type=None, interaction_constraints=None,\n",
       "              learning_rate=0.1, max_bin=None, max_cat_threshold=None,\n",
       "              max_cat_to_onehot=None, max_delta_step=None, max_depth=5,\n",
       "              max_leaves=None, min_child_weight=None, missing=nan,\n",
       "              monotone_constraints=None, multi_strategy=None, n_estimators=200,\n",
       "              n_jobs=None, num_parallel_tree=None, random_state=None, ...)"
      ]
     },
     "execution_count": 66,
     "metadata": {},
     "output_type": "execute_result"
    }
   ],
   "source": [
    "model1 = XGBClassifier(use_label_encoder=False,max_depth=5,n_estimators=200,learning_rate=0.1, eval_metric='logloss')\n",
    "model1.fit(X_train, y_train)"
   ]
  },
  {
   "cell_type": "code",
   "execution_count": 67,
   "id": "c78ca8b2",
   "metadata": {},
   "outputs": [],
   "source": [
    "y_pred = model1.predict(X_test)"
   ]
  },
  {
   "cell_type": "code",
   "execution_count": 68,
   "id": "626336a5",
   "metadata": {},
   "outputs": [
    {
     "name": "stdout",
     "output_type": "stream",
     "text": [
      "Accuracy:  0.8074324324324325\n",
      "roc_auc: 0.8070486091277775\n"
     ]
    }
   ],
   "source": [
    "print(\"Accuracy: \", accuracy_score(y_test, y_pred))\n",
    "print(\"roc_auc:\", roc_auc_score(y_test, y_pred))"
   ]
  },
  {
   "cell_type": "code",
   "execution_count": 175,
   "id": "aa91e9dc",
   "metadata": {},
   "outputs": [],
   "source": [
    "## Creating another model using other parameters "
   ]
  },
  {
   "cell_type": "code",
   "execution_count": 88,
   "id": "783a5f05",
   "metadata": {},
   "outputs": [
    {
     "name": "stderr",
     "output_type": "stream",
     "text": [
      "D:\\Anaconda_Installation\\Lib\\site-packages\\xgboost\\core.py:158: UserWarning: [09:13:25] WARNING: C:\\buildkite-agent\\builds\\buildkite-windows-cpu-autoscaling-group-i-0c55ff5f71b100e98-1\\xgboost\\xgboost-ci-windows\\src\\learner.cc:740: \n",
      "Parameters: { \"use_label_encoder\" } are not used.\n",
      "\n",
      "  warnings.warn(smsg, UserWarning)\n"
     ]
    },
    {
     "data": {
      "text/html": [
       "<style>#sk-container-id-5 {color: black;}#sk-container-id-5 pre{padding: 0;}#sk-container-id-5 div.sk-toggleable {background-color: white;}#sk-container-id-5 label.sk-toggleable__label {cursor: pointer;display: block;width: 100%;margin-bottom: 0;padding: 0.3em;box-sizing: border-box;text-align: center;}#sk-container-id-5 label.sk-toggleable__label-arrow:before {content: \"▸\";float: left;margin-right: 0.25em;color: #696969;}#sk-container-id-5 label.sk-toggleable__label-arrow:hover:before {color: black;}#sk-container-id-5 div.sk-estimator:hover label.sk-toggleable__label-arrow:before {color: black;}#sk-container-id-5 div.sk-toggleable__content {max-height: 0;max-width: 0;overflow: hidden;text-align: left;background-color: #f0f8ff;}#sk-container-id-5 div.sk-toggleable__content pre {margin: 0.2em;color: black;border-radius: 0.25em;background-color: #f0f8ff;}#sk-container-id-5 input.sk-toggleable__control:checked~div.sk-toggleable__content {max-height: 200px;max-width: 100%;overflow: auto;}#sk-container-id-5 input.sk-toggleable__control:checked~label.sk-toggleable__label-arrow:before {content: \"▾\";}#sk-container-id-5 div.sk-estimator input.sk-toggleable__control:checked~label.sk-toggleable__label {background-color: #d4ebff;}#sk-container-id-5 div.sk-label input.sk-toggleable__control:checked~label.sk-toggleable__label {background-color: #d4ebff;}#sk-container-id-5 input.sk-hidden--visually {border: 0;clip: rect(1px 1px 1px 1px);clip: rect(1px, 1px, 1px, 1px);height: 1px;margin: -1px;overflow: hidden;padding: 0;position: absolute;width: 1px;}#sk-container-id-5 div.sk-estimator {font-family: monospace;background-color: #f0f8ff;border: 1px dotted black;border-radius: 0.25em;box-sizing: border-box;margin-bottom: 0.5em;}#sk-container-id-5 div.sk-estimator:hover {background-color: #d4ebff;}#sk-container-id-5 div.sk-parallel-item::after {content: \"\";width: 100%;border-bottom: 1px solid gray;flex-grow: 1;}#sk-container-id-5 div.sk-label:hover label.sk-toggleable__label {background-color: #d4ebff;}#sk-container-id-5 div.sk-serial::before {content: \"\";position: absolute;border-left: 1px solid gray;box-sizing: border-box;top: 0;bottom: 0;left: 50%;z-index: 0;}#sk-container-id-5 div.sk-serial {display: flex;flex-direction: column;align-items: center;background-color: white;padding-right: 0.2em;padding-left: 0.2em;position: relative;}#sk-container-id-5 div.sk-item {position: relative;z-index: 1;}#sk-container-id-5 div.sk-parallel {display: flex;align-items: stretch;justify-content: center;background-color: white;position: relative;}#sk-container-id-5 div.sk-item::before, #sk-container-id-5 div.sk-parallel-item::before {content: \"\";position: absolute;border-left: 1px solid gray;box-sizing: border-box;top: 0;bottom: 0;left: 50%;z-index: -1;}#sk-container-id-5 div.sk-parallel-item {display: flex;flex-direction: column;z-index: 1;position: relative;background-color: white;}#sk-container-id-5 div.sk-parallel-item:first-child::after {align-self: flex-end;width: 50%;}#sk-container-id-5 div.sk-parallel-item:last-child::after {align-self: flex-start;width: 50%;}#sk-container-id-5 div.sk-parallel-item:only-child::after {width: 0;}#sk-container-id-5 div.sk-dashed-wrapped {border: 1px dashed gray;margin: 0 0.4em 0.5em 0.4em;box-sizing: border-box;padding-bottom: 0.4em;background-color: white;}#sk-container-id-5 div.sk-label label {font-family: monospace;font-weight: bold;display: inline-block;line-height: 1.2em;}#sk-container-id-5 div.sk-label-container {text-align: center;}#sk-container-id-5 div.sk-container {/* jupyter's `normalize.less` sets `[hidden] { display: none; }` but bootstrap.min.css set `[hidden] { display: none !important; }` so we also need the `!important` here to be able to override the default hidden behavior on the sphinx rendered scikit-learn.org. See: https://github.com/scikit-learn/scikit-learn/issues/21755 */display: inline-block !important;position: relative;}#sk-container-id-5 div.sk-text-repr-fallback {display: none;}</style><div id=\"sk-container-id-5\" class=\"sk-top-container\"><div class=\"sk-text-repr-fallback\"><pre>XGBClassifier(base_score=None, booster=None, callbacks=None,\n",
       "              colsample_bylevel=None, colsample_bynode=None,\n",
       "              colsample_bytree=None, device=None, early_stopping_rounds=None,\n",
       "              enable_categorical=False, eval_metric=&#x27;logloss&#x27;,\n",
       "              feature_types=None, gamma=None, grow_policy=None,\n",
       "              importance_type=None, interaction_constraints=None,\n",
       "              learning_rate=0.1, max_bin=None, max_cat_threshold=None,\n",
       "              max_cat_to_onehot=None, max_delta_step=None, max_depth=10,\n",
       "              max_leaves=None, min_child_weight=None, missing=nan,\n",
       "              monotone_constraints=None, multi_strategy=None, n_estimators=500,\n",
       "              n_jobs=None, num_parallel_tree=None, random_state=None, ...)</pre><b>In a Jupyter environment, please rerun this cell to show the HTML representation or trust the notebook. <br />On GitHub, the HTML representation is unable to render, please try loading this page with nbviewer.org.</b></div><div class=\"sk-container\" hidden><div class=\"sk-item\"><div class=\"sk-estimator sk-toggleable\"><input class=\"sk-toggleable__control sk-hidden--visually\" id=\"sk-estimator-id-5\" type=\"checkbox\" checked><label for=\"sk-estimator-id-5\" class=\"sk-toggleable__label sk-toggleable__label-arrow\">XGBClassifier</label><div class=\"sk-toggleable__content\"><pre>XGBClassifier(base_score=None, booster=None, callbacks=None,\n",
       "              colsample_bylevel=None, colsample_bynode=None,\n",
       "              colsample_bytree=None, device=None, early_stopping_rounds=None,\n",
       "              enable_categorical=False, eval_metric=&#x27;logloss&#x27;,\n",
       "              feature_types=None, gamma=None, grow_policy=None,\n",
       "              importance_type=None, interaction_constraints=None,\n",
       "              learning_rate=0.1, max_bin=None, max_cat_threshold=None,\n",
       "              max_cat_to_onehot=None, max_delta_step=None, max_depth=10,\n",
       "              max_leaves=None, min_child_weight=None, missing=nan,\n",
       "              monotone_constraints=None, multi_strategy=None, n_estimators=500,\n",
       "              n_jobs=None, num_parallel_tree=None, random_state=None, ...)</pre></div></div></div></div></div>"
      ],
      "text/plain": [
       "XGBClassifier(base_score=None, booster=None, callbacks=None,\n",
       "              colsample_bylevel=None, colsample_bynode=None,\n",
       "              colsample_bytree=None, device=None, early_stopping_rounds=None,\n",
       "              enable_categorical=False, eval_metric='logloss',\n",
       "              feature_types=None, gamma=None, grow_policy=None,\n",
       "              importance_type=None, interaction_constraints=None,\n",
       "              learning_rate=0.1, max_bin=None, max_cat_threshold=None,\n",
       "              max_cat_to_onehot=None, max_delta_step=None, max_depth=10,\n",
       "              max_leaves=None, min_child_weight=None, missing=nan,\n",
       "              monotone_constraints=None, multi_strategy=None, n_estimators=500,\n",
       "              n_jobs=None, num_parallel_tree=None, random_state=None, ...)"
      ]
     },
     "execution_count": 88,
     "metadata": {},
     "output_type": "execute_result"
    }
   ],
   "source": [
    "model2 = XGBClassifier(use_label_encoder=False,max_depth=10,n_estimators=500,learning_rate=0.1, eval_metric='logloss')\n",
    "model2.fit(X_train, y_train)"
   ]
  },
  {
   "cell_type": "code",
   "execution_count": 89,
   "id": "bd53ceb8",
   "metadata": {},
   "outputs": [
    {
     "name": "stdout",
     "output_type": "stream",
     "text": [
      "Accuracy:  0.8108108108108109\n",
      "roc_auc: 0.8108413777346204\n"
     ]
    }
   ],
   "source": [
    "y_pred = model2.predict(X_test)\n",
    "print(\"Accuracy: \", accuracy_score(y_test, y_pred))\n",
    "print(\"roc_auc:\", roc_auc_score(y_test, y_pred))"
   ]
  },
  {
   "cell_type": "code",
   "execution_count": 90,
   "id": "c39247d6",
   "metadata": {},
   "outputs": [],
   "source": [
    "## Using Optuna for parameter Tuning \n",
    "# Split the data\n",
    "X_train_full, X_test, y_train_full, y_test = train_test_split(new_data, y, test_size=0.2, random_state=42)\n",
    "X_train, X_val, y_train, y_val = train_test_split(X_train_full, y_train_full, test_size=0.2, random_state=42)"
   ]
  },
  {
   "cell_type": "markdown",
   "id": "5dd459c2",
   "metadata": {},
   "source": [
    "### Hyper parameter tuning in Xgboost model using Optuna "
   ]
  },
  {
   "cell_type": "code",
   "execution_count": 82,
   "id": "5eb437a2",
   "metadata": {},
   "outputs": [],
   "source": [
    "import optuna\n",
    "from sklearn.model_selection import cross_val_score\n",
    "from xgboost import XGBClassifier"
   ]
  },
  {
   "cell_type": "code",
   "execution_count": 91,
   "id": "7f82ebeb",
   "metadata": {},
   "outputs": [],
   "source": [
    "def objective(trial):\n",
    "    # Define the hyperparameters to tune\n",
    "    param_grid = {\n",
    "        'max_depth': trial.suggest_int('max_depth', 3, 15),\n",
    "        'n_estimators': trial.suggest_int('n_estimators', 100, 1000, step=50),\n",
    "        'learning_rate': trial.suggest_float('learning_rate', 0.01, 0.3, log=True),\n",
    "        'subsample': trial.suggest_float('subsample', 0.5, 1.0),\n",
    "        'colsample_bytree': trial.suggest_float('colsample_bytree', 0.5, 1.0),\n",
    "        'gamma': trial.suggest_float('gamma', 0, 10),\n",
    "    }\n",
    "\n",
    "    # Create the model\n",
    "    model3 = XGBClassifier(use_label_encoder=False, eval_metric='logloss', **param_grid)\n",
    "\n",
    "    # Train on the training set\n",
    "    model3.fit(X_train, y_train)\n",
    "\n",
    "    # Evaluate on the validation set\n",
    "    val_accuracy = model3.score(X_val, y_val)\n",
    "    return val_accuracy"
   ]
  },
  {
   "cell_type": "code",
   "execution_count": 92,
   "id": "1dd78626",
   "metadata": {
    "scrolled": true
   },
   "outputs": [
    {
     "name": "stderr",
     "output_type": "stream",
     "text": [
      "[I 2025-01-20 09:15:33,196] A new study created in memory with name: no-name-0a029e1f-2692-4e55-a456-39e0b2dabbe7\n",
      "D:\\Anaconda_Installation\\Lib\\site-packages\\xgboost\\core.py:158: UserWarning: [09:15:35] WARNING: C:\\buildkite-agent\\builds\\buildkite-windows-cpu-autoscaling-group-i-0c55ff5f71b100e98-1\\xgboost\\xgboost-ci-windows\\src\\learner.cc:740: \n",
      "Parameters: { \"use_label_encoder\" } are not used.\n",
      "\n",
      "  warnings.warn(smsg, UserWarning)\n",
      "[I 2025-01-20 09:16:41,138] Trial 0 finished with value: 0.79957805907173 and parameters: {'max_depth': 6, 'n_estimators': 950, 'learning_rate': 0.06284871597977612, 'subsample': 0.8617020311729658, 'colsample_bytree': 0.8735892562046127, 'gamma': 9.121298316286419}. Best is trial 0 with value: 0.79957805907173.\n",
      "D:\\Anaconda_Installation\\Lib\\site-packages\\xgboost\\core.py:158: UserWarning: [09:16:43] WARNING: C:\\buildkite-agent\\builds\\buildkite-windows-cpu-autoscaling-group-i-0c55ff5f71b100e98-1\\xgboost\\xgboost-ci-windows\\src\\learner.cc:740: \n",
      "Parameters: { \"use_label_encoder\" } are not used.\n",
      "\n",
      "  warnings.warn(smsg, UserWarning)\n",
      "[I 2025-01-20 09:17:48,881] Trial 1 finished with value: 0.7953586497890295 and parameters: {'max_depth': 13, 'n_estimators': 100, 'learning_rate': 0.01338877111979515, 'subsample': 0.830366539738711, 'colsample_bytree': 0.8844472150312868, 'gamma': 4.108015291686135}. Best is trial 0 with value: 0.79957805907173.\n",
      "D:\\Anaconda_Installation\\Lib\\site-packages\\xgboost\\core.py:158: UserWarning: [09:17:51] WARNING: C:\\buildkite-agent\\builds\\buildkite-windows-cpu-autoscaling-group-i-0c55ff5f71b100e98-1\\xgboost\\xgboost-ci-windows\\src\\learner.cc:740: \n",
      "Parameters: { \"use_label_encoder\" } are not used.\n",
      "\n",
      "  warnings.warn(smsg, UserWarning)\n",
      "[I 2025-01-20 09:18:52,193] Trial 2 finished with value: 0.7974683544303798 and parameters: {'max_depth': 3, 'n_estimators': 1000, 'learning_rate': 0.0671009229886437, 'subsample': 0.7589935485529973, 'colsample_bytree': 0.9995963281084981, 'gamma': 2.2972636556513635}. Best is trial 0 with value: 0.79957805907173.\n",
      "D:\\Anaconda_Installation\\Lib\\site-packages\\xgboost\\core.py:158: UserWarning: [09:18:53] WARNING: C:\\buildkite-agent\\builds\\buildkite-windows-cpu-autoscaling-group-i-0c55ff5f71b100e98-1\\xgboost\\xgboost-ci-windows\\src\\learner.cc:740: \n",
      "Parameters: { \"use_label_encoder\" } are not used.\n",
      "\n",
      "  warnings.warn(smsg, UserWarning)\n",
      "[I 2025-01-20 09:19:11,970] Trial 3 finished with value: 0.7890295358649789 and parameters: {'max_depth': 8, 'n_estimators': 200, 'learning_rate': 0.04532758947714148, 'subsample': 0.8887743301231291, 'colsample_bytree': 0.5559806001810212, 'gamma': 6.748148482385327}. Best is trial 0 with value: 0.79957805907173.\n",
      "D:\\Anaconda_Installation\\Lib\\site-packages\\xgboost\\core.py:158: UserWarning: [09:19:13] WARNING: C:\\buildkite-agent\\builds\\buildkite-windows-cpu-autoscaling-group-i-0c55ff5f71b100e98-1\\xgboost\\xgboost-ci-windows\\src\\learner.cc:740: \n",
      "Parameters: { \"use_label_encoder\" } are not used.\n",
      "\n",
      "  warnings.warn(smsg, UserWarning)\n",
      "[I 2025-01-20 09:19:42,410] Trial 4 finished with value: 0.79957805907173 and parameters: {'max_depth': 8, 'n_estimators': 300, 'learning_rate': 0.03812450567308013, 'subsample': 0.7728465305148091, 'colsample_bytree': 0.7307941267301281, 'gamma': 8.074130635868814}. Best is trial 0 with value: 0.79957805907173.\n"
     ]
    },
    {
     "name": "stdout",
     "output_type": "stream",
     "text": [
      "Best Hyperparameters: {'max_depth': 6, 'n_estimators': 950, 'learning_rate': 0.06284871597977612, 'subsample': 0.8617020311729658, 'colsample_bytree': 0.8735892562046127, 'gamma': 9.121298316286419}\n"
     ]
    }
   ],
   "source": [
    "# Create a study\n",
    "study = optuna.create_study(direction='maximize')\n",
    "\n",
    "# Run the optimization\n",
    "study.optimize(objective, n_trials=5, timeout=3600)  # 5 trials or 1 hour\n",
    "\n",
    "# Print the best hyperparameters\n",
    "print(\"Best Hyperparameters:\", study.best_params)"
   ]
  },
  {
   "cell_type": "code",
   "execution_count": 93,
   "id": "f0590900",
   "metadata": {},
   "outputs": [
    {
     "name": "stderr",
     "output_type": "stream",
     "text": [
      "D:\\Anaconda_Installation\\Lib\\site-packages\\xgboost\\core.py:158: UserWarning: [09:19:43] WARNING: C:\\buildkite-agent\\builds\\buildkite-windows-cpu-autoscaling-group-i-0c55ff5f71b100e98-1\\xgboost\\xgboost-ci-windows\\src\\learner.cc:740: \n",
      "Parameters: { \"use_label_encoder\" } are not used.\n",
      "\n",
      "  warnings.warn(smsg, UserWarning)\n"
     ]
    },
    {
     "name": "stdout",
     "output_type": "stream",
     "text": [
      "Test Accuracy: 0.8175675675675675\n",
      "roc_auc: 0.8175123217491738\n"
     ]
    }
   ],
   "source": [
    "best_params = study.best_params\n",
    "model3 = XGBClassifier(use_label_encoder=False, eval_metric='logloss', **best_params)\n",
    "model3.fit(X_train, y_train)\n",
    "\n",
    "# Evaluate the model\n",
    "accuracy = model3.score(X_test, y_test)\n",
    "y_pred = model3.predict(X_test)\n",
    "print(f\"Test Accuracy: {accuracy}\")\n",
    "print(\"roc_auc:\", roc_auc_score(y_test, y_pred))"
   ]
  },
  {
   "cell_type": "markdown",
   "id": "e37003a0",
   "metadata": {},
   "source": [
    "## Building Artificial Neural Network (ANN)"
   ]
  },
  {
   "cell_type": "code",
   "execution_count": 94,
   "id": "b9d7df51",
   "metadata": {},
   "outputs": [],
   "source": [
    "## Using the ANN for predictions "
   ]
  },
  {
   "cell_type": "code",
   "execution_count": 95,
   "id": "d42fb503",
   "metadata": {},
   "outputs": [],
   "source": [
    "import tensorflow as tf\n",
    "from tensorflow.keras.models import Sequential\n",
    "from tensorflow.keras.layers import Dense, Dropout, BatchNormalization\n",
    "from tensorflow.keras.callbacks import EarlyStopping"
   ]
  },
  {
   "cell_type": "code",
   "execution_count": 96,
   "id": "376e000b",
   "metadata": {},
   "outputs": [
    {
     "name": "stdout",
     "output_type": "stream",
     "text": [
      "WARNING:tensorflow:From D:\\Anaconda_Installation\\Lib\\site-packages\\keras\\src\\backend.py:873: The name tf.get_default_graph is deprecated. Please use tf.compat.v1.get_default_graph instead.\n",
      "\n"
     ]
    }
   ],
   "source": [
    "model = Sequential([\n",
    "    # Input layer\n",
    "    Dense(256, activation='relu', input_shape=(X_train.shape[1],)),\n",
    "    BatchNormalization(),  # Normalize inputs for faster convergence\n",
    "    Dropout(0.1),  # Dropout to prevent overfitting\n",
    "\n",
    "    # Hidden layers\n",
    "    Dense(128, activation='relu'),\n",
    "    BatchNormalization(),\n",
    "    Dropout(0.1),\n",
    "\n",
    "    Dense(64, activation='relu'),\n",
    "    BatchNormalization(),\n",
    "    Dropout(0.1),\n",
    "\n",
    "    Dense(32, activation='relu'),\n",
    "    BatchNormalization(),\n",
    "    Dropout(0.1),\n",
    "\n",
    "    # Output layer\n",
    "    Dense(1, activation='sigmoid')  # For binary classification\n",
    "])\n"
   ]
  },
  {
   "cell_type": "code",
   "execution_count": 97,
   "id": "239fcfce",
   "metadata": {},
   "outputs": [
    {
     "name": "stdout",
     "output_type": "stream",
     "text": [
      "WARNING:tensorflow:From D:\\Anaconda_Installation\\Lib\\site-packages\\keras\\src\\optimizers\\__init__.py:309: The name tf.train.Optimizer is deprecated. Please use tf.compat.v1.train.Optimizer instead.\n",
      "\n"
     ]
    }
   ],
   "source": [
    "model.compile(\n",
    "    optimizer='adam',\n",
    "    loss='binary_crossentropy',  # For binary classification\n",
    "    metrics=['accuracy']\n",
    ")\n"
   ]
  },
  {
   "cell_type": "code",
   "execution_count": 98,
   "id": "356572a9",
   "metadata": {
    "scrolled": true
   },
   "outputs": [
    {
     "name": "stdout",
     "output_type": "stream",
     "text": [
      "Epoch 1/50\n",
      "WARNING:tensorflow:From D:\\Anaconda_Installation\\Lib\\site-packages\\keras\\src\\utils\\tf_utils.py:492: The name tf.ragged.RaggedTensorValue is deprecated. Please use tf.compat.v1.ragged.RaggedTensorValue instead.\n",
      "\n",
      "WARNING:tensorflow:From D:\\Anaconda_Installation\\Lib\\site-packages\\keras\\src\\engine\\base_layer_utils.py:384: The name tf.executing_eagerly_outside_functions is deprecated. Please use tf.compat.v1.executing_eagerly_outside_functions instead.\n",
      "\n",
      "190/190 [==============================] - 12s 20ms/step - loss: 0.5613 - accuracy: 0.7264 - val_loss: 0.6098 - val_accuracy: 0.7282\n",
      "Epoch 2/50\n",
      "190/190 [==============================] - 3s 15ms/step - loss: 0.4626 - accuracy: 0.7601 - val_loss: 0.3603 - val_accuracy: 0.8100\n",
      "Epoch 3/50\n",
      "190/190 [==============================] - 3s 14ms/step - loss: 0.4431 - accuracy: 0.7746 - val_loss: 0.3361 - val_accuracy: 0.8074\n",
      "Epoch 4/50\n",
      "190/190 [==============================] - 3s 15ms/step - loss: 0.4272 - accuracy: 0.7786 - val_loss: 0.4890 - val_accuracy: 0.7335\n",
      "Epoch 5/50\n",
      "190/190 [==============================] - 3s 14ms/step - loss: 0.4050 - accuracy: 0.7964 - val_loss: 0.7448 - val_accuracy: 0.6121\n",
      "Epoch 6/50\n",
      "190/190 [==============================] - 3s 14ms/step - loss: 0.4059 - accuracy: 0.8017 - val_loss: 0.3402 - val_accuracy: 0.8285\n",
      "Epoch 7/50\n",
      "190/190 [==============================] - 3s 15ms/step - loss: 0.3702 - accuracy: 0.8116 - val_loss: 0.6804 - val_accuracy: 0.7018\n",
      "Epoch 8/50\n",
      "190/190 [==============================] - 3s 14ms/step - loss: 0.3845 - accuracy: 0.8110 - val_loss: 0.4160 - val_accuracy: 0.8153\n",
      "Epoch 9/50\n",
      "190/190 [==============================] - 3s 14ms/step - loss: 0.3725 - accuracy: 0.8096 - val_loss: 0.3470 - val_accuracy: 0.7942\n",
      "Epoch 10/50\n",
      "190/190 [==============================] - 3s 14ms/step - loss: 0.3358 - accuracy: 0.8328 - val_loss: 1.1578 - val_accuracy: 0.5145\n",
      "Epoch 11/50\n",
      "190/190 [==============================] - 3s 15ms/step - loss: 0.3954 - accuracy: 0.7944 - val_loss: 0.3933 - val_accuracy: 0.7757\n",
      "Epoch 12/50\n",
      "190/190 [==============================] - 3s 15ms/step - loss: 0.3727 - accuracy: 0.8149 - val_loss: 0.3269 - val_accuracy: 0.8232\n",
      "Epoch 13/50\n",
      "190/190 [==============================] - 3s 14ms/step - loss: 0.3618 - accuracy: 0.8163 - val_loss: 0.4084 - val_accuracy: 0.8127\n",
      "Epoch 14/50\n",
      "190/190 [==============================] - 3s 14ms/step - loss: 0.3671 - accuracy: 0.8044 - val_loss: 0.5892 - val_accuracy: 0.7309\n",
      "Epoch 15/50\n",
      "190/190 [==============================] - 3s 15ms/step - loss: 0.3500 - accuracy: 0.8275 - val_loss: 0.4270 - val_accuracy: 0.8074\n",
      "Epoch 16/50\n",
      "190/190 [==============================] - 3s 14ms/step - loss: 0.3438 - accuracy: 0.8341 - val_loss: 0.3810 - val_accuracy: 0.8232\n",
      "Epoch 17/50\n",
      "190/190 [==============================] - 3s 14ms/step - loss: 0.3565 - accuracy: 0.8222 - val_loss: 0.3106 - val_accuracy: 0.8021\n",
      "Epoch 18/50\n",
      "190/190 [==============================] - 3s 15ms/step - loss: 0.3432 - accuracy: 0.8295 - val_loss: 0.4908 - val_accuracy: 0.8127\n",
      "Epoch 19/50\n",
      "190/190 [==============================] - 3s 15ms/step - loss: 0.3588 - accuracy: 0.8196 - val_loss: 0.4997 - val_accuracy: 0.7098\n",
      "Epoch 20/50\n",
      "190/190 [==============================] - 3s 15ms/step - loss: 0.3393 - accuracy: 0.8321 - val_loss: 0.3706 - val_accuracy: 0.8127\n",
      "Epoch 21/50\n",
      "190/190 [==============================] - 3s 15ms/step - loss: 0.3234 - accuracy: 0.8381 - val_loss: 0.4880 - val_accuracy: 0.7942\n",
      "Epoch 22/50\n",
      "190/190 [==============================] - 3s 15ms/step - loss: 0.3437 - accuracy: 0.8275 - val_loss: 0.7735 - val_accuracy: 0.5435\n",
      "Epoch 23/50\n",
      "190/190 [==============================] - 3s 15ms/step - loss: 0.3708 - accuracy: 0.8044 - val_loss: 0.3664 - val_accuracy: 0.8021\n",
      "Epoch 24/50\n",
      "190/190 [==============================] - 3s 15ms/step - loss: 0.3492 - accuracy: 0.8255 - val_loss: 0.5594 - val_accuracy: 0.7335\n",
      "Epoch 25/50\n",
      "190/190 [==============================] - 3s 15ms/step - loss: 0.3209 - accuracy: 0.8315 - val_loss: 0.3853 - val_accuracy: 0.7889\n",
      "Epoch 26/50\n",
      "190/190 [==============================] - 3s 15ms/step - loss: 0.3405 - accuracy: 0.8374 - val_loss: 0.6326 - val_accuracy: 0.6649\n",
      "Epoch 27/50\n",
      "190/190 [==============================] - 3s 15ms/step - loss: 0.3371 - accuracy: 0.8308 - val_loss: 0.4575 - val_accuracy: 0.7361\n",
      "Epoch 28/50\n",
      "190/190 [==============================] - 3s 15ms/step - loss: 0.3480 - accuracy: 0.8156 - val_loss: 0.3584 - val_accuracy: 0.8259\n",
      "Epoch 29/50\n",
      "190/190 [==============================] - 3s 15ms/step - loss: 0.3305 - accuracy: 0.8249 - val_loss: 0.4013 - val_accuracy: 0.7995\n",
      "Epoch 30/50\n",
      "190/190 [==============================] - 3s 15ms/step - loss: 0.3484 - accuracy: 0.8209 - val_loss: 0.3374 - val_accuracy: 0.8232\n",
      "Epoch 31/50\n",
      "190/190 [==============================] - 3s 14ms/step - loss: 0.3382 - accuracy: 0.8407 - val_loss: 0.5203 - val_accuracy: 0.6939\n",
      "Epoch 32/50\n",
      "190/190 [==============================] - 3s 15ms/step - loss: 0.3242 - accuracy: 0.8394 - val_loss: 0.2711 - val_accuracy: 0.8417\n",
      "Epoch 33/50\n",
      "190/190 [==============================] - 3s 16ms/step - loss: 0.3012 - accuracy: 0.8420 - val_loss: 0.4075 - val_accuracy: 0.8311\n",
      "Epoch 34/50\n",
      "190/190 [==============================] - 3s 15ms/step - loss: 0.3325 - accuracy: 0.8268 - val_loss: 0.3531 - val_accuracy: 0.7995\n",
      "Epoch 35/50\n",
      "190/190 [==============================] - 3s 15ms/step - loss: 0.2926 - accuracy: 0.8572 - val_loss: 0.5280 - val_accuracy: 0.6253\n",
      "Epoch 36/50\n",
      "190/190 [==============================] - 3s 15ms/step - loss: 0.3201 - accuracy: 0.8401 - val_loss: 0.3226 - val_accuracy: 0.7863\n",
      "Epoch 37/50\n",
      "190/190 [==============================] - 3s 15ms/step - loss: 0.3375 - accuracy: 0.8315 - val_loss: 0.3618 - val_accuracy: 0.7968\n",
      "Epoch 38/50\n",
      "190/190 [==============================] - 3s 15ms/step - loss: 0.3057 - accuracy: 0.8506 - val_loss: 0.3712 - val_accuracy: 0.7757\n",
      "Epoch 39/50\n",
      "190/190 [==============================] - 3s 15ms/step - loss: 0.3383 - accuracy: 0.8262 - val_loss: 0.5651 - val_accuracy: 0.7493\n",
      "Epoch 40/50\n",
      "190/190 [==============================] - 3s 15ms/step - loss: 0.3023 - accuracy: 0.8533 - val_loss: 0.3360 - val_accuracy: 0.8206\n",
      "Epoch 41/50\n",
      "190/190 [==============================] - 3s 15ms/step - loss: 0.3187 - accuracy: 0.8519 - val_loss: 0.3059 - val_accuracy: 0.8047\n",
      "Epoch 42/50\n",
      "190/190 [==============================] - 3s 15ms/step - loss: 0.3247 - accuracy: 0.8486 - val_loss: 0.4097 - val_accuracy: 0.7916\n",
      "Epoch 43/50\n",
      "190/190 [==============================] - 3s 15ms/step - loss: 0.3091 - accuracy: 0.8387 - val_loss: 0.2859 - val_accuracy: 0.8206\n",
      "Epoch 44/50\n",
      "190/190 [==============================] - 3s 14ms/step - loss: 0.3174 - accuracy: 0.8321 - val_loss: 0.5592 - val_accuracy: 0.7520\n",
      "Epoch 45/50\n",
      "190/190 [==============================] - 3s 14ms/step - loss: 0.2911 - accuracy: 0.8533 - val_loss: 0.4414 - val_accuracy: 0.8206\n",
      "Epoch 46/50\n",
      "190/190 [==============================] - 3s 14ms/step - loss: 0.2968 - accuracy: 0.8553 - val_loss: 0.3596 - val_accuracy: 0.8391\n",
      "Epoch 47/50\n",
      "190/190 [==============================] - 3s 14ms/step - loss: 0.3009 - accuracy: 0.8632 - val_loss: 0.8953 - val_accuracy: 0.6939\n",
      "Epoch 48/50\n",
      "190/190 [==============================] - 3s 14ms/step - loss: 0.3125 - accuracy: 0.8559 - val_loss: 0.3163 - val_accuracy: 0.8338\n",
      "Epoch 49/50\n",
      "190/190 [==============================] - 3s 15ms/step - loss: 0.2821 - accuracy: 0.8658 - val_loss: 0.3677 - val_accuracy: 0.8206\n",
      "Epoch 50/50\n",
      "190/190 [==============================] - 3s 15ms/step - loss: 0.2727 - accuracy: 0.8718 - val_loss: 0.8954 - val_accuracy: 0.7652\n"
     ]
    }
   ],
   "source": [
    "history = model.fit(\n",
    "    X_train,\n",
    "    y_train,\n",
    "    epochs=50,  # Increase max epochs for deeper models\n",
    "    batch_size=8,\n",
    "    validation_split=0.2,\n",
    "    verbose=1\n",
    ")\n"
   ]
  },
  {
   "cell_type": "code",
   "execution_count": 101,
   "id": "27de4a7b",
   "metadata": {},
   "outputs": [
    {
     "name": "stdout",
     "output_type": "stream",
     "text": [
      "19/19 [==============================] - 0s 6ms/step\n"
     ]
    }
   ],
   "source": [
    "y_test_pred_nn = model.predict(X_test)"
   ]
  },
  {
   "cell_type": "code",
   "execution_count": 103,
   "id": "c1725c53",
   "metadata": {},
   "outputs": [],
   "source": [
    "y_test_pred_nn = [i[0] for i in y_test_pred_nn]"
   ]
  },
  {
   "cell_type": "markdown",
   "id": "8aa1a8b1",
   "metadata": {},
   "source": [
    "## Building Ensemble using the xgboost predictions , ANN predictions"
   ]
  },
  {
   "cell_type": "code",
   "execution_count": 107,
   "id": "aacdc06b",
   "metadata": {},
   "outputs": [],
   "source": [
    "y_test_pred_proba_xgb = model2.predict_proba(X_test)[:, 1]"
   ]
  },
  {
   "cell_type": "code",
   "execution_count": 109,
   "id": "3822dd1f",
   "metadata": {},
   "outputs": [],
   "source": [
    "test_df = pd.DataFrame()\n",
    "test_df['actuals'] = y_test\n",
    "test_df['xgb_pred'] = y_test_pred_proba_xgb\n",
    "test_df['nn_pred'] = y_test_pred_nn"
   ]
  },
  {
   "cell_type": "code",
   "execution_count": 110,
   "id": "9f245ec9",
   "metadata": {},
   "outputs": [
    {
     "data": {
      "text/html": [
       "<div>\n",
       "<style scoped>\n",
       "    .dataframe tbody tr th:only-of-type {\n",
       "        vertical-align: middle;\n",
       "    }\n",
       "\n",
       "    .dataframe tbody tr th {\n",
       "        vertical-align: top;\n",
       "    }\n",
       "\n",
       "    .dataframe thead th {\n",
       "        text-align: right;\n",
       "    }\n",
       "</style>\n",
       "<table border=\"1\" class=\"dataframe\">\n",
       "  <thead>\n",
       "    <tr style=\"text-align: right;\">\n",
       "      <th></th>\n",
       "      <th>actuals</th>\n",
       "      <th>xgb_pred</th>\n",
       "      <th>nn_pred</th>\n",
       "    </tr>\n",
       "  </thead>\n",
       "  <tbody>\n",
       "    <tr>\n",
       "      <th>2012</th>\n",
       "      <td>0</td>\n",
       "      <td>0.000174</td>\n",
       "      <td>0.284155</td>\n",
       "    </tr>\n",
       "    <tr>\n",
       "      <th>1688</th>\n",
       "      <td>0</td>\n",
       "      <td>0.006083</td>\n",
       "      <td>0.981084</td>\n",
       "    </tr>\n",
       "    <tr>\n",
       "      <th>764</th>\n",
       "      <td>0</td>\n",
       "      <td>0.000125</td>\n",
       "      <td>0.058240</td>\n",
       "    </tr>\n",
       "    <tr>\n",
       "      <th>2057</th>\n",
       "      <td>0</td>\n",
       "      <td>0.000195</td>\n",
       "      <td>0.577987</td>\n",
       "    </tr>\n",
       "    <tr>\n",
       "      <th>2025</th>\n",
       "      <td>0</td>\n",
       "      <td>0.000148</td>\n",
       "      <td>0.351028</td>\n",
       "    </tr>\n",
       "    <tr>\n",
       "      <th>...</th>\n",
       "      <td>...</td>\n",
       "      <td>...</td>\n",
       "      <td>...</td>\n",
       "    </tr>\n",
       "    <tr>\n",
       "      <th>809</th>\n",
       "      <td>0</td>\n",
       "      <td>0.000023</td>\n",
       "      <td>0.003124</td>\n",
       "    </tr>\n",
       "    <tr>\n",
       "      <th>691</th>\n",
       "      <td>0</td>\n",
       "      <td>0.000016</td>\n",
       "      <td>0.003167</td>\n",
       "    </tr>\n",
       "    <tr>\n",
       "      <th>1188</th>\n",
       "      <td>0</td>\n",
       "      <td>0.000408</td>\n",
       "      <td>0.867861</td>\n",
       "    </tr>\n",
       "    <tr>\n",
       "      <th>2798</th>\n",
       "      <td>1</td>\n",
       "      <td>0.986428</td>\n",
       "      <td>0.998818</td>\n",
       "    </tr>\n",
       "    <tr>\n",
       "      <th>518</th>\n",
       "      <td>0</td>\n",
       "      <td>0.000048</td>\n",
       "      <td>0.051463</td>\n",
       "    </tr>\n",
       "  </tbody>\n",
       "</table>\n",
       "<p>592 rows × 3 columns</p>\n",
       "</div>"
      ],
      "text/plain": [
       "      actuals  xgb_pred   nn_pred\n",
       "2012        0  0.000174  0.284155\n",
       "1688        0  0.006083  0.981084\n",
       "764         0  0.000125  0.058240\n",
       "2057        0  0.000195  0.577987\n",
       "2025        0  0.000148  0.351028\n",
       "...       ...       ...       ...\n",
       "809         0  0.000023  0.003124\n",
       "691         0  0.000016  0.003167\n",
       "1188        0  0.000408  0.867861\n",
       "2798        1  0.986428  0.998818\n",
       "518         0  0.000048  0.051463\n",
       "\n",
       "[592 rows x 3 columns]"
      ]
     },
     "execution_count": 110,
     "metadata": {},
     "output_type": "execute_result"
    }
   ],
   "source": [
    "test_df"
   ]
  },
  {
   "cell_type": "code",
   "execution_count": 111,
   "id": "22cc2713",
   "metadata": {},
   "outputs": [],
   "source": [
    "test_df['mean_prob'] = (test_df['xgb_pred'] + test_df['nn_pred']) / 2"
   ]
  },
  {
   "cell_type": "code",
   "execution_count": 114,
   "id": "7bd063e3",
   "metadata": {},
   "outputs": [],
   "source": [
    "test_df['ensemble'] = test_df['mean_prob'].round()"
   ]
  },
  {
   "cell_type": "code",
   "execution_count": 115,
   "id": "24a9d730",
   "metadata": {},
   "outputs": [
    {
     "data": {
      "text/plain": [
       "0.9408783783783784"
      ]
     },
     "execution_count": 115,
     "metadata": {},
     "output_type": "execute_result"
    }
   ],
   "source": [
    "accuracy_score(test_df['ensemble'] , test_df['actuals'])"
   ]
  },
  {
   "cell_type": "code",
   "execution_count": null,
   "id": "a82a6670",
   "metadata": {},
   "outputs": [],
   "source": []
  },
  {
   "cell_type": "markdown",
   "id": "40dfae91",
   "metadata": {},
   "source": [
    "## LSTM model  without using the derived features "
   ]
  },
  {
   "cell_type": "code",
   "execution_count": 126,
   "id": "e7209f51",
   "metadata": {},
   "outputs": [],
   "source": [
    "train_lstm = X_train.drop(columns = ['Transcript_sentiment','Resume_sentiment', 'JobDescription_sentiment', 'Transcript_words',\n",
    "       'Resume_words', 'Years_Experience', 'resume_avg_word_length', 'skill_match_count','university_education_count', 'transcript_vocab_diversity',\n",
    "       'transcript_avg_sentence_length' , 'Bert_TransRes_Similarity', 'Bert_TransJobDesc_Similarity' , 'Bert_ResJobDesc_Similarity'])\n",
    "\n",
    "val_lstm = X_val.drop(columns = ['Transcript_sentiment','Resume_sentiment', 'JobDescription_sentiment', 'Transcript_words',\n",
    "       'Resume_words', 'Years_Experience', 'resume_avg_word_length', 'skill_match_count','university_education_count', 'transcript_vocab_diversity',\n",
    "       'transcript_avg_sentence_length' , 'Bert_TransRes_Similarity', 'Bert_TransJobDesc_Similarity' , 'Bert_ResJobDesc_Similarity'])\n",
    "\n",
    "test_lstm = X_test.drop(columns = ['Transcript_sentiment','Resume_sentiment', 'JobDescription_sentiment', 'Transcript_words',\n",
    "       'Resume_words', 'Years_Experience', 'resume_avg_word_length', 'skill_match_count','university_education_count', 'transcript_vocab_diversity',\n",
    "       'transcript_avg_sentence_length' , 'Bert_TransRes_Similarity', 'Bert_TransJobDesc_Similarity' , 'Bert_ResJobDesc_Similarity'])"
   ]
  },
  {
   "cell_type": "code",
   "execution_count": 133,
   "id": "aeb535c9",
   "metadata": {
    "scrolled": true
   },
   "outputs": [
    {
     "name": "stdout",
     "output_type": "stream",
     "text": [
      "Epoch 1/50\n",
      "60/60 [==============================] - 16s 71ms/step - loss: 0.5217 - accuracy: 0.7289 - val_loss: 0.5909 - val_accuracy: 0.7173\n",
      "Epoch 2/50\n",
      "60/60 [==============================] - 1s 25ms/step - loss: 0.3986 - accuracy: 0.7844 - val_loss: 0.3327 - val_accuracy: 0.8038\n",
      "Epoch 3/50\n",
      "60/60 [==============================] - 1s 24ms/step - loss: 0.3087 - accuracy: 0.8113 - val_loss: 0.3279 - val_accuracy: 0.8038\n",
      "Epoch 4/50\n",
      "60/60 [==============================] - 2s 26ms/step - loss: 0.3105 - accuracy: 0.8203 - val_loss: 0.3402 - val_accuracy: 0.7975\n",
      "Epoch 5/50\n",
      "60/60 [==============================] - 2s 26ms/step - loss: 0.2871 - accuracy: 0.8288 - val_loss: 0.3074 - val_accuracy: 0.7911\n",
      "Epoch 6/50\n",
      "60/60 [==============================] - 2s 26ms/step - loss: 0.2705 - accuracy: 0.8388 - val_loss: 0.3334 - val_accuracy: 0.7827\n",
      "Epoch 7/50\n",
      "60/60 [==============================] - 1s 25ms/step - loss: 0.2729 - accuracy: 0.8245 - val_loss: 0.3059 - val_accuracy: 0.7806\n",
      "Epoch 8/50\n",
      "60/60 [==============================] - 2s 27ms/step - loss: 0.2678 - accuracy: 0.8298 - val_loss: 0.2969 - val_accuracy: 0.7911\n",
      "Epoch 9/50\n",
      "60/60 [==============================] - 1s 24ms/step - loss: 0.2670 - accuracy: 0.8314 - val_loss: 0.3211 - val_accuracy: 0.7785\n",
      "Epoch 10/50\n",
      "60/60 [==============================] - 2s 25ms/step - loss: 0.2820 - accuracy: 0.8261 - val_loss: 0.2952 - val_accuracy: 0.7764\n",
      "Epoch 11/50\n",
      "60/60 [==============================] - 2s 25ms/step - loss: 0.2597 - accuracy: 0.8430 - val_loss: 0.3399 - val_accuracy: 0.7806\n",
      "Epoch 12/50\n",
      "60/60 [==============================] - 1s 24ms/step - loss: 0.2825 - accuracy: 0.8251 - val_loss: 0.2946 - val_accuracy: 0.7954\n",
      "Epoch 13/50\n",
      "60/60 [==============================] - 1s 24ms/step - loss: 0.2624 - accuracy: 0.8303 - val_loss: 0.3382 - val_accuracy: 0.7553\n",
      "Epoch 14/50\n",
      "60/60 [==============================] - 1s 23ms/step - loss: 0.2608 - accuracy: 0.8388 - val_loss: 0.2909 - val_accuracy: 0.7806\n",
      "Epoch 15/50\n",
      "60/60 [==============================] - 1s 24ms/step - loss: 0.2534 - accuracy: 0.8335 - val_loss: 0.2866 - val_accuracy: 0.7932\n",
      "Epoch 16/50\n",
      "60/60 [==============================] - 2s 25ms/step - loss: 0.2515 - accuracy: 0.8372 - val_loss: 0.3157 - val_accuracy: 0.7827\n",
      "Epoch 17/50\n",
      "60/60 [==============================] - 1s 24ms/step - loss: 0.2528 - accuracy: 0.8414 - val_loss: 0.2920 - val_accuracy: 0.7911\n",
      "Epoch 18/50\n",
      "60/60 [==============================] - 2s 25ms/step - loss: 0.2614 - accuracy: 0.8372 - val_loss: 0.2912 - val_accuracy: 0.7785\n",
      "Epoch 19/50\n",
      "60/60 [==============================] - 2s 26ms/step - loss: 0.2519 - accuracy: 0.8436 - val_loss: 0.2832 - val_accuracy: 0.7869\n",
      "Epoch 20/50\n",
      "60/60 [==============================] - 2s 26ms/step - loss: 0.2425 - accuracy: 0.8483 - val_loss: 0.3606 - val_accuracy: 0.7700\n",
      "Epoch 21/50\n",
      "60/60 [==============================] - 1s 24ms/step - loss: 0.2521 - accuracy: 0.8436 - val_loss: 0.2976 - val_accuracy: 0.7869\n",
      "Epoch 22/50\n",
      "60/60 [==============================] - 2s 26ms/step - loss: 0.2442 - accuracy: 0.8383 - val_loss: 0.2914 - val_accuracy: 0.7869\n",
      "Epoch 23/50\n",
      "60/60 [==============================] - 2s 25ms/step - loss: 0.2556 - accuracy: 0.8399 - val_loss: 0.3518 - val_accuracy: 0.7869\n",
      "Epoch 24/50\n",
      "60/60 [==============================] - 2s 25ms/step - loss: 0.2466 - accuracy: 0.8488 - val_loss: 0.3197 - val_accuracy: 0.7911\n",
      "Epoch 25/50\n",
      "60/60 [==============================] - 2s 25ms/step - loss: 0.2387 - accuracy: 0.8441 - val_loss: 0.2919 - val_accuracy: 0.7911\n",
      "Epoch 26/50\n",
      "60/60 [==============================] - 2s 26ms/step - loss: 0.2414 - accuracy: 0.8414 - val_loss: 0.2902 - val_accuracy: 0.7806\n",
      "Epoch 27/50\n",
      "60/60 [==============================] - 2s 26ms/step - loss: 0.2687 - accuracy: 0.8414 - val_loss: 0.2881 - val_accuracy: 0.8143\n",
      "Epoch 28/50\n",
      "60/60 [==============================] - 1s 25ms/step - loss: 0.2409 - accuracy: 0.8425 - val_loss: 0.3670 - val_accuracy: 0.8059\n",
      "Epoch 29/50\n",
      "60/60 [==============================] - 1s 25ms/step - loss: 0.2622 - accuracy: 0.8399 - val_loss: 0.3320 - val_accuracy: 0.7806\n",
      "Epoch 30/50\n",
      "60/60 [==============================] - 1s 25ms/step - loss: 0.2439 - accuracy: 0.8446 - val_loss: 0.2788 - val_accuracy: 0.7911\n",
      "Epoch 31/50\n",
      "60/60 [==============================] - 1s 24ms/step - loss: 0.2460 - accuracy: 0.8478 - val_loss: 0.2792 - val_accuracy: 0.7932\n",
      "Epoch 32/50\n",
      "60/60 [==============================] - 2s 25ms/step - loss: 0.2421 - accuracy: 0.8504 - val_loss: 0.2781 - val_accuracy: 0.7954\n",
      "Epoch 33/50\n",
      "60/60 [==============================] - 2s 26ms/step - loss: 0.2351 - accuracy: 0.8483 - val_loss: 0.3158 - val_accuracy: 0.7890\n",
      "Epoch 34/50\n",
      "60/60 [==============================] - 1s 25ms/step - loss: 0.2403 - accuracy: 0.8483 - val_loss: 0.3317 - val_accuracy: 0.7743\n",
      "Epoch 35/50\n",
      "60/60 [==============================] - 1s 25ms/step - loss: 0.2682 - accuracy: 0.8340 - val_loss: 0.3053 - val_accuracy: 0.7827\n",
      "Epoch 36/50\n",
      "60/60 [==============================] - 1s 25ms/step - loss: 0.2511 - accuracy: 0.8441 - val_loss: 0.3180 - val_accuracy: 0.7700\n",
      "Epoch 37/50\n",
      "60/60 [==============================] - 1s 24ms/step - loss: 0.2474 - accuracy: 0.8504 - val_loss: 0.2840 - val_accuracy: 0.7911\n",
      "Epoch 38/50\n",
      "60/60 [==============================] - 1s 25ms/step - loss: 0.2422 - accuracy: 0.8441 - val_loss: 0.2908 - val_accuracy: 0.7932\n",
      "Epoch 39/50\n",
      "60/60 [==============================] - 1s 24ms/step - loss: 0.2408 - accuracy: 0.8531 - val_loss: 0.2863 - val_accuracy: 0.7722\n",
      "Epoch 40/50\n",
      "60/60 [==============================] - 1s 24ms/step - loss: 0.2369 - accuracy: 0.8467 - val_loss: 0.3069 - val_accuracy: 0.7700\n",
      "Epoch 41/50\n",
      "60/60 [==============================] - 2s 25ms/step - loss: 0.2409 - accuracy: 0.8525 - val_loss: 0.3792 - val_accuracy: 0.7911\n",
      "Epoch 42/50\n",
      "60/60 [==============================] - 1s 24ms/step - loss: 0.2368 - accuracy: 0.8494 - val_loss: 0.2808 - val_accuracy: 0.7827\n",
      "Epoch 43/50\n",
      "60/60 [==============================] - 1s 25ms/step - loss: 0.2433 - accuracy: 0.8425 - val_loss: 0.2831 - val_accuracy: 0.7827\n",
      "Epoch 44/50\n",
      "60/60 [==============================] - 1s 25ms/step - loss: 0.2346 - accuracy: 0.8610 - val_loss: 0.2918 - val_accuracy: 0.7848\n",
      "Epoch 45/50\n",
      "60/60 [==============================] - 2s 25ms/step - loss: 0.2357 - accuracy: 0.8541 - val_loss: 0.4690 - val_accuracy: 0.7700\n",
      "Epoch 46/50\n",
      "60/60 [==============================] - 2s 26ms/step - loss: 0.3092 - accuracy: 0.8155 - val_loss: 0.3130 - val_accuracy: 0.7954\n",
      "Epoch 47/50\n",
      "60/60 [==============================] - 1s 25ms/step - loss: 0.2668 - accuracy: 0.8340 - val_loss: 0.3212 - val_accuracy: 0.7806\n",
      "Epoch 48/50\n",
      "60/60 [==============================] - 1s 24ms/step - loss: 0.2401 - accuracy: 0.8404 - val_loss: 0.2910 - val_accuracy: 0.7911\n",
      "Epoch 49/50\n",
      "60/60 [==============================] - 1s 25ms/step - loss: 0.2396 - accuracy: 0.8425 - val_loss: 0.2938 - val_accuracy: 0.7869\n",
      "Epoch 50/50\n",
      "60/60 [==============================] - 2s 25ms/step - loss: 0.2398 - accuracy: 0.8525 - val_loss: 0.2867 - val_accuracy: 0.7890\n"
     ]
    }
   ],
   "source": [
    "# Reshape the input to add a \"timesteps\" dimension\n",
    "train_lstm_reshaped = train_lstm.values.reshape((train_lstm.shape[0], 1, train_lstm.shape[1]))\n",
    "val_lstm_reshaped = val_lstm.values.reshape((val_lstm.shape[0], 1, val_lstm.shape[1]))\n",
    "\n",
    "# Build the model\n",
    "model4 = Sequential()\n",
    "model4.add(LSTM(128, input_shape=(1, train_lstm.shape[1]), return_sequences=True))  # Input shape is now (1, input_size)\n",
    "model4.add(LSTM(64))\n",
    "model4.add(Dropout(0.3))\n",
    "model4.add(Dense(64, activation='relu'))\n",
    "model4.add(Dense(64, activation='relu'))\n",
    "model4.add(Dense(1, activation='sigmoid'))  # Output layer\n",
    "\n",
    "# Compile the model\n",
    "model4.compile(optimizer='adam', loss='binary_crossentropy', metrics=['accuracy'])\n",
    "\n",
    "# Train the model with reshaped data\n",
    "history = model4.fit(train_lstm_reshaped, y_train, epochs=50, batch_size=32, validation_data=(val_lstm_reshaped, y_val))"
   ]
  },
  {
   "cell_type": "code",
   "execution_count": 141,
   "id": "705474c8",
   "metadata": {},
   "outputs": [
    {
     "data": {
      "image/png": "[encoded data removed]",
      "text/plain": [
       "<Figure size 640x480 with 1 Axes>"
      ]
     },
     "metadata": {},
     "output_type": "display_data"
    }
   ],
   "source": [
    "plt.plot(history.history['val_accuracy'])\n",
    "plt.title(\"Validation Accuracy over the epochs using LSTM-Dense Architecture\")\n",
    "plt.show()"
   ]
  },
  {
   "cell_type": "code",
   "execution_count": 142,
   "id": "d3c3dedd",
   "metadata": {},
   "outputs": [
    {
     "data": {
      "image/png": "[encoded data removed]",
      "text/plain": [
       "<Figure size 640x480 with 1 Axes>"
      ]
     },
     "metadata": {},
     "output_type": "display_data"
    }
   ],
   "source": [
    "plt.plot(history.history['accuracy'])\n",
    "plt.title(\"Training Accuracy over the epochs using LSTM-Dense Architecture\")\n",
    "plt.show()"
   ]
  },
  {
   "cell_type": "code",
   "execution_count": 143,
   "id": "8e0496da",
   "metadata": {},
   "outputs": [],
   "source": [
    "## Reshaping the test data for giving to LSTM\n",
    "test_lstm_reshaped = test_lstm.values.reshape((test_lstm.shape[0], 1, test_lstm.shape[1])) "
   ]
  },
  {
   "cell_type": "code",
   "execution_count": 145,
   "id": "6cbcc2c3",
   "metadata": {},
   "outputs": [
    {
     "name": "stdout",
     "output_type": "stream",
     "text": [
      "19/19 [==============================] - 0s 9ms/step\n"
     ]
    }
   ],
   "source": [
    "lstm_preds = model4.predict(test_lstm_reshaped)"
   ]
  },
  {
   "cell_type": "code",
   "execution_count": 154,
   "id": "7af18d25",
   "metadata": {},
   "outputs": [],
   "source": [
    "## Ensemble for 3 models "
   ]
  },
  {
   "cell_type": "code",
   "execution_count": 155,
   "id": "5dbde49b",
   "metadata": {},
   "outputs": [],
   "source": [
    "preds_df = test_df.copy()"
   ]
  },
  {
   "cell_type": "code",
   "execution_count": 159,
   "id": "4283be80",
   "metadata": {},
   "outputs": [
    {
     "data": {
      "text/plain": [
       "Index(['actuals', 'xgb_pred', 'nn_pred', 'mean_prob', 'ensemble'], dtype='object')"
      ]
     },
     "execution_count": 159,
     "metadata": {},
     "output_type": "execute_result"
    }
   ],
   "source": [
    "preds_df.columns"
   ]
  },
  {
   "cell_type": "code",
   "execution_count": 161,
   "id": "537deba6",
   "metadata": {},
   "outputs": [],
   "source": [
    "## Creating the new frame with only xgb_preds , nn_preds , lstm_preds , actuals \n",
    "preds_df = preds_df[['actuals','xgb_pred','nn_pred']]\n",
    "preds_df['lstm_pred'] = lstm_preds"
   ]
  },
  {
   "cell_type": "code",
   "execution_count": 163,
   "id": "e0d26e6a",
   "metadata": {},
   "outputs": [
    {
     "data": {
      "text/html": [
       "<div>\n",
       "<style scoped>\n",
       "    .dataframe tbody tr th:only-of-type {\n",
       "        vertical-align: middle;\n",
       "    }\n",
       "\n",
       "    .dataframe tbody tr th {\n",
       "        vertical-align: top;\n",
       "    }\n",
       "\n",
       "    .dataframe thead th {\n",
       "        text-align: right;\n",
       "    }\n",
       "</style>\n",
       "<table border=\"1\" class=\"dataframe\">\n",
       "  <thead>\n",
       "    <tr style=\"text-align: right;\">\n",
       "      <th></th>\n",
       "      <th>actuals</th>\n",
       "      <th>xgb_pred</th>\n",
       "      <th>nn_pred</th>\n",
       "      <th>lstm_pred</th>\n",
       "    </tr>\n",
       "  </thead>\n",
       "  <tbody>\n",
       "    <tr>\n",
       "      <th>2012</th>\n",
       "      <td>0</td>\n",
       "      <td>0.000174</td>\n",
       "      <td>0.284155</td>\n",
       "      <td>0.000067</td>\n",
       "    </tr>\n",
       "    <tr>\n",
       "      <th>1688</th>\n",
       "      <td>0</td>\n",
       "      <td>0.006083</td>\n",
       "      <td>0.981084</td>\n",
       "      <td>0.500776</td>\n",
       "    </tr>\n",
       "    <tr>\n",
       "      <th>764</th>\n",
       "      <td>0</td>\n",
       "      <td>0.000125</td>\n",
       "      <td>0.058240</td>\n",
       "      <td>0.000015</td>\n",
       "    </tr>\n",
       "    <tr>\n",
       "      <th>2057</th>\n",
       "      <td>0</td>\n",
       "      <td>0.000195</td>\n",
       "      <td>0.577987</td>\n",
       "      <td>0.003137</td>\n",
       "    </tr>\n",
       "    <tr>\n",
       "      <th>2025</th>\n",
       "      <td>0</td>\n",
       "      <td>0.000148</td>\n",
       "      <td>0.351028</td>\n",
       "      <td>0.000969</td>\n",
       "    </tr>\n",
       "  </tbody>\n",
       "</table>\n",
       "</div>"
      ],
      "text/plain": [
       "      actuals  xgb_pred   nn_pred  lstm_pred\n",
       "2012        0  0.000174  0.284155   0.000067\n",
       "1688        0  0.006083  0.981084   0.500776\n",
       "764         0  0.000125  0.058240   0.000015\n",
       "2057        0  0.000195  0.577987   0.003137\n",
       "2025        0  0.000148  0.351028   0.000969"
      ]
     },
     "execution_count": 163,
     "metadata": {},
     "output_type": "execute_result"
    }
   ],
   "source": [
    "preds_df.head()"
   ]
  },
  {
   "cell_type": "code",
   "execution_count": 164,
   "id": "416e5f8e",
   "metadata": {},
   "outputs": [],
   "source": [
    "## Building 2 different types of ensembles \n",
    "#       1. Maximum Voting Classifier \n",
    "#       2. Average Prediction classifier "
   ]
  },
  {
   "cell_type": "code",
   "execution_count": 167,
   "id": "53a2a608",
   "metadata": {},
   "outputs": [],
   "source": [
    "preds_df['xgb_class'] = (preds_df['xgb_pred'] > 0.5).astype(int)\n",
    "preds_df['nn_class'] = (preds_df['nn_pred'] > 0.5).astype(int)\n",
    "preds_df['lstm_class'] = (preds_df['lstm_pred'] > 0.5).astype(int)"
   ]
  },
  {
   "cell_type": "code",
   "execution_count": 169,
   "id": "0880283a",
   "metadata": {},
   "outputs": [],
   "source": [
    "preds_df['max_vote_class'] = preds_df[['xgb_class', 'nn_class', 'lstm_class']].mode(axis=1)[0]"
   ]
  },
  {
   "cell_type": "code",
   "execution_count": 170,
   "id": "dcb59b6f",
   "metadata": {},
   "outputs": [
    {
     "name": "stdout",
     "output_type": "stream",
     "text": [
      "Final Accuracy: 0.856418918918919\n"
     ]
    }
   ],
   "source": [
    "accuracy = accuracy_score(preds_df['actuals'], preds_df['max_vote_class'])\n",
    "print(f\"Final Accuracy: {accuracy}\")"
   ]
  },
  {
   "cell_type": "code",
   "execution_count": 171,
   "id": "45538647",
   "metadata": {},
   "outputs": [],
   "source": [
    "# Average voting classifier \n",
    "preds_df['mean_prob'] = (preds_df['xgb_pred'] + preds_df['nn_pred'] + preds_df['lstm_pred'])/3"
   ]
  },
  {
   "cell_type": "code",
   "execution_count": 172,
   "id": "987bcc38",
   "metadata": {},
   "outputs": [],
   "source": [
    "preds_df['mean_class'] = preds_df['mean_prob'].round()"
   ]
  },
  {
   "cell_type": "code",
   "execution_count": 173,
   "id": "670ba9f7",
   "metadata": {},
   "outputs": [
    {
     "name": "stdout",
     "output_type": "stream",
     "text": [
      "Final Accuracy: 0.9155405405405406\n"
     ]
    }
   ],
   "source": [
    "accuracy = accuracy_score(preds_df['actuals'], preds_df['mean_class'])\n",
    "print(f\"Final Accuracy: {accuracy}\")"
   ]
  },
  {
   "cell_type": "code",
   "execution_count": null,
   "id": "81d7a41c",
   "metadata": {},
   "outputs": [],
   "source": []
  }
 ],
 "metadata": {
  "kernelspec": {
   "display_name": "Python 3 (ipykernel)",
   "language": "python",
   "name": "python3"
  },
  "language_info": {
   "codemirror_mode": {
    "name": "ipython",
    "version": 3
   },
   "file_extension": ".py",
   "mimetype": "text/x-python",
   "name": "python",
   "nbconvert_exporter": "python",
   "pygments_lexer": "ipython3",
   "version": "3.11.5"
  }
 },
 "nbformat": 4,
 "nbformat_minor": 5
}
