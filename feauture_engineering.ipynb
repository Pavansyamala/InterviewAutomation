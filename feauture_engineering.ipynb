{
 "cells": [
  {
   "cell_type": "code",
   "execution_count": 166,
   "metadata": {},
   "outputs": [],
   "source": [
    "import numpy as np\n",
    "import pandas as pd \n",
    "import matplotlib.pyplot as plt \n",
    "import string \n",
    "import seaborn as sns \n",
    "import nltk \n",
    "import spacy\n",
    "from nltk.corpus import stopwords\n",
    "from nltk.stem import WordNetLemmatizer\n",
    "from sklearn.feature_extraction.text import TfidfVectorizer\n",
    "from sklearn.metrics.pairwise import cosine_similarity\n",
    "import re\n",
    "import os \n",
    "import contractions "
   ]
  },
  {
   "cell_type": "code",
   "execution_count": 61,
   "metadata": {},
   "outputs": [],
   "source": [
    "path = \"D:/InterviewAutomation/data\""
   ]
  },
  {
   "cell_type": "code",
   "execution_count": 63,
   "metadata": {},
   "outputs": [],
   "source": [
    "excel_files = [file for file in os.listdir(path) if file.endswith(('.xls', '.xlsx'))]"
   ]
  },
  {
   "cell_type": "code",
   "execution_count": 64,
   "metadata": {},
   "outputs": [
    {
     "name": "stdout",
     "output_type": "stream",
     "text": [
      "Index(['ID', 'Name', 'Role', 'Transcript', 'Resume', 'decision',\n",
      "       'Reason for decision', 'Job Description'],\n",
      "      dtype='object')\n",
      "Index(['ID', 'Name', 'Role', 'Transcript', 'Resume', 'decision',\n",
      "       'Reason for decision', 'Job Description'],\n",
      "      dtype='object')\n",
      "Index(['ID', 'Name', 'Role', 'Transcript', 'Resume', 'decision',\n",
      "       'Reason for decision', 'Job Description'],\n",
      "      dtype='object')\n",
      "Index(['ID', 'Name', 'Role', 'Transcript', 'Resume', 'decision',\n",
      "       'Reason for decision', 'Job Description'],\n",
      "      dtype='object')\n",
      "Index(['ID', 'Name', 'Role', 'Transcript', 'Resume', 'decision',\n",
      "       'Reason for decision', 'Job Description'],\n",
      "      dtype='object')\n",
      "Index(['ID', 'Name', 'Role', 'Transcript', 'Resume', 'decision',\n",
      "       'Reason for decision', 'Job Description'],\n",
      "      dtype='object')\n",
      "Index(['ID', 'Name', 'Role', 'Transcript', 'Resume', 'decision',\n",
      "       'Reason for decision', 'Job Description'],\n",
      "      dtype='object')\n",
      "Index(['ID', 'Name', 'Role', 'Transcript', 'Resume', 'decision',\n",
      "       'Reason for decision', 'Job Description'],\n",
      "      dtype='object')\n",
      "Index(['ID', 'Name', 'Role', 'Transcript', 'Resume', 'decision',\n",
      "       'Reason for decision', 'Job Description'],\n",
      "      dtype='object')\n"
     ]
    }
   ],
   "source": [
    "for file in excel_files:\n",
    "    df = pd.read_excel(path+'/'+file)\n",
    "    print(df.columns)"
   ]
  },
  {
   "cell_type": "code",
   "execution_count": 5,
   "metadata": {},
   "outputs": [],
   "source": [
    "# # Changing the Columns of the 4th dataset as it does have the Wrong Columns\n",
    "# df = pd.read_excel(excel_files[3])\n",
    "# df.columns = ['ID', 'Name', 'Role', 'Transcript', 'Resume', 'decision',\n",
    "#        'Reason for decision', 'Job Description']\n",
    "# df.to_excel(path+'/'+'dataset4.xlsx',index=False)"
   ]
  },
  {
   "cell_type": "code",
   "execution_count": 6,
   "metadata": {},
   "outputs": [],
   "source": [
    "# for file in excel_files:\n",
    "#     df = pd.read_excel(path+'/'+file)\n",
    "#     print(df.columns)"
   ]
  },
  {
   "cell_type": "code",
   "execution_count": 65,
   "metadata": {},
   "outputs": [],
   "source": [
    "# Code for Merging all the datasets and creating the full dataset for traing and testing\n",
    "dataframes = []\n",
    "\n",
    "for file in excel_files:\n",
    "    file_path = os.path.join(path, file)\n",
    "    df = pd.read_excel(file_path)\n",
    "    dataframes.append(df)\n",
    "\n",
    "# Combine all dataframes into a single dataframe\n",
    "data = pd.concat(dataframes, ignore_index=True)"
   ]
  },
  {
   "cell_type": "code",
   "execution_count": 66,
   "metadata": {},
   "outputs": [
    {
     "data": {
      "text/plain": [
       "(3250, 8)"
      ]
     },
     "execution_count": 66,
     "metadata": {},
     "output_type": "execute_result"
    }
   ],
   "source": [
    "data.shape"
   ]
  },
  {
   "cell_type": "code",
   "execution_count": 67,
   "metadata": {},
   "outputs": [
    {
     "data": {
      "text/html": [
       "<div>\n",
       "<style scoped>\n",
       "    .dataframe tbody tr th:only-of-type {\n",
       "        vertical-align: middle;\n",
       "    }\n",
       "\n",
       "    .dataframe tbody tr th {\n",
       "        vertical-align: top;\n",
       "    }\n",
       "\n",
       "    .dataframe thead th {\n",
       "        text-align: right;\n",
       "    }\n",
       "</style>\n",
       "<table border=\"1\" class=\"dataframe\">\n",
       "  <thead>\n",
       "    <tr style=\"text-align: right;\">\n",
       "      <th></th>\n",
       "      <th>ID</th>\n",
       "      <th>Name</th>\n",
       "      <th>Role</th>\n",
       "      <th>Transcript</th>\n",
       "      <th>Resume</th>\n",
       "      <th>decision</th>\n",
       "      <th>Reason for decision</th>\n",
       "      <th>Job Description</th>\n",
       "    </tr>\n",
       "  </thead>\n",
       "  <tbody>\n",
       "    <tr>\n",
       "      <th>0</th>\n",
       "      <td>brenbr359</td>\n",
       "      <td>Brent Brown</td>\n",
       "      <td>Product Manager</td>\n",
       "      <td>Product Manager Interview Transcript\\n\\nInterv...</td>\n",
       "      <td>Here's a sample resume for Brent Brown applyin...</td>\n",
       "      <td>select</td>\n",
       "      <td>Experience</td>\n",
       "      <td>We are looking for a skilled Product Manager w...</td>\n",
       "    </tr>\n",
       "    <tr>\n",
       "      <th>1</th>\n",
       "      <td>jameay305</td>\n",
       "      <td>James Ayala</td>\n",
       "      <td>Software Engineer</td>\n",
       "      <td>Software Engineer Interview Transcript\\n\\nInte...</td>\n",
       "      <td>Here's a sample resume for James Ayala applyin...</td>\n",
       "      <td>select</td>\n",
       "      <td>Experience</td>\n",
       "      <td>We are looking for a skilled Software Engineer...</td>\n",
       "    </tr>\n",
       "    <tr>\n",
       "      <th>2</th>\n",
       "      <td>scotri565</td>\n",
       "      <td>Scott Rivera</td>\n",
       "      <td>Data Engineer</td>\n",
       "      <td>Here is a simulated interview for Scott Rivera...</td>\n",
       "      <td>Here's a sample resume for Scott Rivera applyi...</td>\n",
       "      <td>reject</td>\n",
       "      <td>Experience</td>\n",
       "      <td>We are looking for a skilled Data Engineer wit...</td>\n",
       "    </tr>\n",
       "    <tr>\n",
       "      <th>3</th>\n",
       "      <td>emilke232</td>\n",
       "      <td>Emily Kelly</td>\n",
       "      <td>UI Engineer</td>\n",
       "      <td>Interview Transcript: Emily Kelly for UI Engin...</td>\n",
       "      <td>Here's a sample resume for Emily Kelly:\\n\\nEmi...</td>\n",
       "      <td>select</td>\n",
       "      <td>Experience</td>\n",
       "      <td>We are looking for a skilled UI Engineer with ...</td>\n",
       "    </tr>\n",
       "    <tr>\n",
       "      <th>4</th>\n",
       "      <td>ashlra638</td>\n",
       "      <td>Ashley Ray</td>\n",
       "      <td>Data Scientist</td>\n",
       "      <td>Data Scientist Interview Transcript\\n\\nCompany...</td>\n",
       "      <td>Here's a sample resume for Ashley Ray applying...</td>\n",
       "      <td>reject</td>\n",
       "      <td>Cultural Fit</td>\n",
       "      <td>We are looking for a skilled Data Scientist wi...</td>\n",
       "    </tr>\n",
       "  </tbody>\n",
       "</table>\n",
       "</div>"
      ],
      "text/plain": [
       "          ID          Name               Role  \\\n",
       "0  brenbr359   Brent Brown    Product Manager   \n",
       "1  jameay305   James Ayala  Software Engineer   \n",
       "2  scotri565  Scott Rivera      Data Engineer   \n",
       "3  emilke232   Emily Kelly        UI Engineer   \n",
       "4  ashlra638    Ashley Ray     Data Scientist   \n",
       "\n",
       "                                          Transcript  \\\n",
       "0  Product Manager Interview Transcript\\n\\nInterv...   \n",
       "1  Software Engineer Interview Transcript\\n\\nInte...   \n",
       "2  Here is a simulated interview for Scott Rivera...   \n",
       "3  Interview Transcript: Emily Kelly for UI Engin...   \n",
       "4  Data Scientist Interview Transcript\\n\\nCompany...   \n",
       "\n",
       "                                              Resume decision  \\\n",
       "0  Here's a sample resume for Brent Brown applyin...   select   \n",
       "1  Here's a sample resume for James Ayala applyin...   select   \n",
       "2  Here's a sample resume for Scott Rivera applyi...   reject   \n",
       "3  Here's a sample resume for Emily Kelly:\\n\\nEmi...   select   \n",
       "4  Here's a sample resume for Ashley Ray applying...   reject   \n",
       "\n",
       "  Reason for decision                                    Job Description  \n",
       "0          Experience  We are looking for a skilled Product Manager w...  \n",
       "1          Experience  We are looking for a skilled Software Engineer...  \n",
       "2          Experience  We are looking for a skilled Data Engineer wit...  \n",
       "3          Experience  We are looking for a skilled UI Engineer with ...  \n",
       "4        Cultural Fit  We are looking for a skilled Data Scientist wi...  "
      ]
     },
     "execution_count": 67,
     "metadata": {},
     "output_type": "execute_result"
    }
   ],
   "source": [
    "data.head()"
   ]
  },
  {
   "cell_type": "code",
   "execution_count": 68,
   "metadata": {},
   "outputs": [
    {
     "name": "stdout",
     "output_type": "stream",
     "text": [
      "<class 'pandas.core.frame.DataFrame'>\n",
      "RangeIndex: 3250 entries, 0 to 3249\n",
      "Data columns (total 8 columns):\n",
      " #   Column               Non-Null Count  Dtype \n",
      "---  ------               --------------  ----- \n",
      " 0   ID                   3250 non-null   object\n",
      " 1   Name                 3250 non-null   object\n",
      " 2   Role                 3250 non-null   object\n",
      " 3   Transcript           3250 non-null   object\n",
      " 4   Resume               3250 non-null   object\n",
      " 5   decision             3250 non-null   object\n",
      " 6   Reason for decision  3250 non-null   object\n",
      " 7   Job Description      3250 non-null   object\n",
      "dtypes: object(8)\n",
      "memory usage: 203.2+ KB\n"
     ]
    }
   ],
   "source": [
    "data.info()"
   ]
  },
  {
   "cell_type": "code",
   "execution_count": 69,
   "metadata": {},
   "outputs": [],
   "source": [
    "for col in data.columns:\n",
    "    data[col] = data[col].apply(lambda x: x.lower())"
   ]
  },
  {
   "cell_type": "code",
   "execution_count": 70,
   "metadata": {},
   "outputs": [
    {
     "data": {
      "text/plain": [
       "array(['select', 'reject', 'rejected', 'selected'], dtype=object)"
      ]
     },
     "execution_count": 70,
     "metadata": {},
     "output_type": "execute_result"
    }
   ],
   "source": [
    "data['decision'].unique()"
   ]
  },
  {
   "cell_type": "code",
   "execution_count": 71,
   "metadata": {},
   "outputs": [],
   "source": [
    "def process_decision(text):\n",
    "    if text in ['select','selected']:\n",
    "        return 'select'\n",
    "    else :\n",
    "        return 'reject'"
   ]
  },
  {
   "cell_type": "code",
   "execution_count": 72,
   "metadata": {},
   "outputs": [],
   "source": [
    "data['decision'] = data['decision'].apply(process_decision )"
   ]
  },
  {
   "cell_type": "code",
   "execution_count": 73,
   "metadata": {},
   "outputs": [
    {
     "data": {
      "text/plain": [
       "array(['product manager', 'software engineer', 'data engineer',\n",
       "       'ui engineer', 'data scientist', 'data analyst', 'ui designer',\n",
       "       'digital marketing specialist', 'cybersecurity specialist',\n",
       "       'hr specialist', 'network engineer', 'graphic designer',\n",
       "       'game developer', 'mobile app developer', 'cloud architect',\n",
       "       'business analyst', 'database administrator', 'devops engineer',\n",
       "       'machine learning engineer', 'content writer',\n",
       "       'system administrator', 'ui/ux designer', 'ai engineer',\n",
       "       'project manager', 'software developer'], dtype=object)"
      ]
     },
     "execution_count": 73,
     "metadata": {},
     "output_type": "execute_result"
    }
   ],
   "source": [
    "data['Role'].unique()"
   ]
  },
  {
   "cell_type": "code",
   "execution_count": 74,
   "metadata": {},
   "outputs": [
    {
     "data": {
      "text/plain": [
       "Role\n",
       "ai engineer                      13\n",
       "business analyst                 11\n",
       "cloud architect                   8\n",
       "content writer                    5\n",
       "cybersecurity specialist          9\n",
       "data analyst                    267\n",
       "data engineer                   509\n",
       "data scientist                  592\n",
       "database administrator            9\n",
       "devops engineer                  16\n",
       "digital marketing specialist     14\n",
       "game developer                   10\n",
       "graphic designer                 15\n",
       "hr specialist                    12\n",
       "machine learning engineer        13\n",
       "mobile app developer              7\n",
       "network engineer                 16\n",
       "product manager                 514\n",
       "project manager                  56\n",
       "software developer               66\n",
       "software engineer               551\n",
       "system administrator              5\n",
       "ui designer                     234\n",
       "ui engineer                     291\n",
       "ui/ux designer                    7\n",
       "Name: ID, dtype: int64"
      ]
     },
     "execution_count": 74,
     "metadata": {},
     "output_type": "execute_result"
    }
   ],
   "source": [
    "unique_count = data.groupby('Role')['ID'].count()\n",
    "unique_count"
   ]
  },
  {
   "cell_type": "code",
   "execution_count": 75,
   "metadata": {},
   "outputs": [],
   "source": [
    "## Dropping Rows which have count < 100 \n",
    "for count , role in zip(unique_count.values, unique_count.index):\n",
    "    if count < 100 :\n",
    "        data = data[data['Role'] != role] "
   ]
  },
  {
   "cell_type": "code",
   "execution_count": 76,
   "metadata": {},
   "outputs": [
    {
     "data": {
      "text/plain": [
       "Role\n",
       "data analyst         267\n",
       "data engineer        509\n",
       "data scientist       592\n",
       "product manager      514\n",
       "software engineer    551\n",
       "ui designer          234\n",
       "ui engineer          291\n",
       "Name: ID, dtype: int64"
      ]
     },
     "execution_count": 76,
     "metadata": {},
     "output_type": "execute_result"
    }
   ],
   "source": [
    "unique_count = data.groupby('Role')['ID'].count()\n",
    "unique_count"
   ]
  },
  {
   "cell_type": "code",
   "execution_count": 77,
   "metadata": {},
   "outputs": [
    {
     "data": {
      "text/plain": [
       "(2958, 8)"
      ]
     },
     "execution_count": 77,
     "metadata": {},
     "output_type": "execute_result"
    }
   ],
   "source": [
    "data.shape"
   ]
  },
  {
   "cell_type": "code",
   "execution_count": 78,
   "metadata": {},
   "outputs": [
    {
     "data": {
      "text/plain": [
       "'!\"#$%&\\'()*+,-./:;<=>?@[\\\\]^_`{|}~'"
      ]
     },
     "execution_count": 78,
     "metadata": {},
     "output_type": "execute_result"
    }
   ],
   "source": [
    "## Performing Feature Engineering\n",
    "string.punctuation"
   ]
  },
  {
   "cell_type": "code",
   "execution_count": 81,
   "metadata": {},
   "outputs": [],
   "source": [
    "nlp = spacy.load(\"en_core_web_sm\") \n",
    "stopword_s = stopwords.words('english')\n",
    "lemmatizer = WordNetLemmatizer() \n",
    "\n",
    "def textpreprocessing(text):\n",
    "    text = contractions.fix(text) # expanding the contractions like , I'm with I am and it's with It is and so on...\n",
    "    text = re.sub(r'[!\"#$%&\\'()*+,-./:;<=>?@\\[\\]^_`{|}~]', '', text)  # Removing all these characters from the text \n",
    "    sentences = re.split(r'(?<=[.!?])\\s+', text)   # Splitting the text as sentences using the regular expressions     \n",
    "    for idx, sent in enumerate(sentences):\n",
    "        words = nlp(sent)  # converting the sentence into words\n",
    "        words = [word.text for word in words if word.text.lower() not in stopword_s] # Removing the stopwords from the text\n",
    "        words = [lemmatizer.lemmatize(word) for word in words]  # Using the Lemmatization techniques\n",
    "        sentences[idx] = ' '.join(words)  # Replacing the original sentence with the new sentence \n",
    "    return ' '.join(sentences)  # Join the sentences back together  "
   ]
  },
  {
   "cell_type": "code",
   "execution_count": 83,
   "metadata": {},
   "outputs": [],
   "source": [
    "data['Transcript_processed'] = data['Transcript'].apply(textpreprocessing)\n",
    "# Saving the processed Data to a temporary file\n",
    "data.to_excel(path+'/'+'final_data.xlsx')"
   ]
  },
  {
   "cell_type": "code",
   "execution_count": 84,
   "metadata": {},
   "outputs": [],
   "source": [
    "data['Resume_processed'] = data['Resume'].apply(textpreprocessing)\n",
    "# Saving the processed Data to a temporary file\n",
    "data.to_excel(path+'/'+'final_data.xlsx')"
   ]
  },
  {
   "cell_type": "code",
   "execution_count": 85,
   "metadata": {},
   "outputs": [],
   "source": [
    "data['Job_Description_processed'] = data['Job Description'].apply(textpreprocessing)\n",
    "# Saving the processed Data to a temporary file\n",
    "data.to_excel(path+'/'+'final_data.xlsx')"
   ]
  },
  {
   "cell_type": "code",
   "execution_count": 86,
   "metadata": {},
   "outputs": [],
   "source": [
    "path_final = \"D:/InterviewAutomation/data/final_data.xlsx\""
   ]
  },
  {
   "cell_type": "code",
   "execution_count": 87,
   "metadata": {},
   "outputs": [],
   "source": [
    "import pandas as pd"
   ]
  },
  {
   "cell_type": "code",
   "execution_count": 88,
   "metadata": {},
   "outputs": [],
   "source": [
    "df = pd.read_excel(path_final)"
   ]
  },
  {
   "cell_type": "code",
   "execution_count": 91,
   "metadata": {},
   "outputs": [
    {
     "data": {
      "text/html": [
       "<div>\n",
       "<style scoped>\n",
       "    .dataframe tbody tr th:only-of-type {\n",
       "        vertical-align: middle;\n",
       "    }\n",
       "\n",
       "    .dataframe tbody tr th {\n",
       "        vertical-align: top;\n",
       "    }\n",
       "\n",
       "    .dataframe thead th {\n",
       "        text-align: right;\n",
       "    }\n",
       "</style>\n",
       "<table border=\"1\" class=\"dataframe\">\n",
       "  <thead>\n",
       "    <tr style=\"text-align: right;\">\n",
       "      <th></th>\n",
       "      <th>Unnamed: 0</th>\n",
       "      <th>ID</th>\n",
       "      <th>Name</th>\n",
       "      <th>Role</th>\n",
       "      <th>Transcript</th>\n",
       "      <th>Resume</th>\n",
       "      <th>decision</th>\n",
       "      <th>Reason for decision</th>\n",
       "      <th>Job Description</th>\n",
       "      <th>Transcript_processed</th>\n",
       "      <th>Resume_processed</th>\n",
       "      <th>Job_Description_processed</th>\n",
       "    </tr>\n",
       "  </thead>\n",
       "  <tbody>\n",
       "    <tr>\n",
       "      <th>0</th>\n",
       "      <td>0</td>\n",
       "      <td>brenbr359</td>\n",
       "      <td>brent brown</td>\n",
       "      <td>product manager</td>\n",
       "      <td>product manager interview transcript\\n\\ninterv...</td>\n",
       "      <td>here's a sample resume for brent brown applyin...</td>\n",
       "      <td>select</td>\n",
       "      <td>experience</td>\n",
       "      <td>we are looking for a skilled product manager w...</td>\n",
       "      <td>product manager interview transcript \\n\\n inte...</td>\n",
       "      <td>sample resume brent brown applying role produc...</td>\n",
       "      <td>looking skilled product manager expertise data...</td>\n",
       "    </tr>\n",
       "    <tr>\n",
       "      <th>1</th>\n",
       "      <td>1</td>\n",
       "      <td>jameay305</td>\n",
       "      <td>james ayala</td>\n",
       "      <td>software engineer</td>\n",
       "      <td>software engineer interview transcript\\n\\ninte...</td>\n",
       "      <td>here's a sample resume for james ayala applyin...</td>\n",
       "      <td>select</td>\n",
       "      <td>experience</td>\n",
       "      <td>we are looking for a skilled software engineer...</td>\n",
       "      <td>software engineer interview transcript \\n\\n in...</td>\n",
       "      <td>sample resume james ayala applying software en...</td>\n",
       "      <td>looking skilled software engineer expertise py...</td>\n",
       "    </tr>\n",
       "    <tr>\n",
       "      <th>2</th>\n",
       "      <td>2</td>\n",
       "      <td>scotri565</td>\n",
       "      <td>scott rivera</td>\n",
       "      <td>data engineer</td>\n",
       "      <td>here is a simulated interview for scott rivera...</td>\n",
       "      <td>here's a sample resume for scott rivera applyi...</td>\n",
       "      <td>reject</td>\n",
       "      <td>experience</td>\n",
       "      <td>we are looking for a skilled data engineer wit...</td>\n",
       "      <td>simulated interview scott rivera applying role...</td>\n",
       "      <td>sample resume scott rivera applying role data ...</td>\n",
       "      <td>looking skilled data engineer expertise cloud ...</td>\n",
       "    </tr>\n",
       "    <tr>\n",
       "      <th>3</th>\n",
       "      <td>3</td>\n",
       "      <td>emilke232</td>\n",
       "      <td>emily kelly</td>\n",
       "      <td>ui engineer</td>\n",
       "      <td>interview transcript: emily kelly for ui engin...</td>\n",
       "      <td>here's a sample resume for emily kelly:\\n\\nemi...</td>\n",
       "      <td>select</td>\n",
       "      <td>experience</td>\n",
       "      <td>we are looking for a skilled ui engineer with ...</td>\n",
       "      <td>interview transcript emily kelly ui engineer p...</td>\n",
       "      <td>sample resume emily kelly \\n\\n emily kelly \\n ...</td>\n",
       "      <td>looking skilled ui engineer expertise uiux des...</td>\n",
       "    </tr>\n",
       "    <tr>\n",
       "      <th>4</th>\n",
       "      <td>4</td>\n",
       "      <td>ashlra638</td>\n",
       "      <td>ashley ray</td>\n",
       "      <td>data scientist</td>\n",
       "      <td>data scientist interview transcript\\n\\ncompany...</td>\n",
       "      <td>here's a sample resume for ashley ray applying...</td>\n",
       "      <td>reject</td>\n",
       "      <td>cultural fit</td>\n",
       "      <td>we are looking for a skilled data scientist wi...</td>\n",
       "      <td>data scientist interview transcript \\n\\n compa...</td>\n",
       "      <td>sample resume ashley ray applying data scienti...</td>\n",
       "      <td>looking skilled data scientist expertise sql m...</td>\n",
       "    </tr>\n",
       "  </tbody>\n",
       "</table>\n",
       "</div>"
      ],
      "text/plain": [
       "   Unnamed: 0         ID          Name               Role  \\\n",
       "0           0  brenbr359   brent brown    product manager   \n",
       "1           1  jameay305   james ayala  software engineer   \n",
       "2           2  scotri565  scott rivera      data engineer   \n",
       "3           3  emilke232   emily kelly        ui engineer   \n",
       "4           4  ashlra638    ashley ray     data scientist   \n",
       "\n",
       "                                          Transcript  \\\n",
       "0  product manager interview transcript\\n\\ninterv...   \n",
       "1  software engineer interview transcript\\n\\ninte...   \n",
       "2  here is a simulated interview for scott rivera...   \n",
       "3  interview transcript: emily kelly for ui engin...   \n",
       "4  data scientist interview transcript\\n\\ncompany...   \n",
       "\n",
       "                                              Resume decision  \\\n",
       "0  here's a sample resume for brent brown applyin...   select   \n",
       "1  here's a sample resume for james ayala applyin...   select   \n",
       "2  here's a sample resume for scott rivera applyi...   reject   \n",
       "3  here's a sample resume for emily kelly:\\n\\nemi...   select   \n",
       "4  here's a sample resume for ashley ray applying...   reject   \n",
       "\n",
       "  Reason for decision                                    Job Description  \\\n",
       "0          experience  we are looking for a skilled product manager w...   \n",
       "1          experience  we are looking for a skilled software engineer...   \n",
       "2          experience  we are looking for a skilled data engineer wit...   \n",
       "3          experience  we are looking for a skilled ui engineer with ...   \n",
       "4        cultural fit  we are looking for a skilled data scientist wi...   \n",
       "\n",
       "                                Transcript_processed  \\\n",
       "0  product manager interview transcript \\n\\n inte...   \n",
       "1  software engineer interview transcript \\n\\n in...   \n",
       "2  simulated interview scott rivera applying role...   \n",
       "3  interview transcript emily kelly ui engineer p...   \n",
       "4  data scientist interview transcript \\n\\n compa...   \n",
       "\n",
       "                                    Resume_processed  \\\n",
       "0  sample resume brent brown applying role produc...   \n",
       "1  sample resume james ayala applying software en...   \n",
       "2  sample resume scott rivera applying role data ...   \n",
       "3  sample resume emily kelly \\n\\n emily kelly \\n ...   \n",
       "4  sample resume ashley ray applying data scienti...   \n",
       "\n",
       "                           Job_Description_processed  \n",
       "0  looking skilled product manager expertise data...  \n",
       "1  looking skilled software engineer expertise py...  \n",
       "2  looking skilled data engineer expertise cloud ...  \n",
       "3  looking skilled ui engineer expertise uiux des...  \n",
       "4  looking skilled data scientist expertise sql m...  "
      ]
     },
     "execution_count": 91,
     "metadata": {},
     "output_type": "execute_result"
    }
   ],
   "source": [
    "df.head()"
   ]
  },
  {
   "cell_type": "code",
   "execution_count": 92,
   "metadata": {},
   "outputs": [],
   "source": [
    "new_df = df.drop(columns=['Unnamed: 0', 'Transcript' , 'Resume' , 'Job Description'])"
   ]
  },
  {
   "cell_type": "code",
   "execution_count": 93,
   "metadata": {},
   "outputs": [
    {
     "data": {
      "text/html": [
       "<div>\n",
       "<style scoped>\n",
       "    .dataframe tbody tr th:only-of-type {\n",
       "        vertical-align: middle;\n",
       "    }\n",
       "\n",
       "    .dataframe tbody tr th {\n",
       "        vertical-align: top;\n",
       "    }\n",
       "\n",
       "    .dataframe thead th {\n",
       "        text-align: right;\n",
       "    }\n",
       "</style>\n",
       "<table border=\"1\" class=\"dataframe\">\n",
       "  <thead>\n",
       "    <tr style=\"text-align: right;\">\n",
       "      <th></th>\n",
       "      <th>ID</th>\n",
       "      <th>Name</th>\n",
       "      <th>Role</th>\n",
       "      <th>decision</th>\n",
       "      <th>Reason for decision</th>\n",
       "      <th>Transcript_processed</th>\n",
       "      <th>Resume_processed</th>\n",
       "      <th>Job_Description_processed</th>\n",
       "    </tr>\n",
       "  </thead>\n",
       "  <tbody>\n",
       "    <tr>\n",
       "      <th>0</th>\n",
       "      <td>brenbr359</td>\n",
       "      <td>brent brown</td>\n",
       "      <td>product manager</td>\n",
       "      <td>select</td>\n",
       "      <td>experience</td>\n",
       "      <td>product manager interview transcript \\n\\n inte...</td>\n",
       "      <td>sample resume brent brown applying role produc...</td>\n",
       "      <td>looking skilled product manager expertise data...</td>\n",
       "    </tr>\n",
       "    <tr>\n",
       "      <th>1</th>\n",
       "      <td>jameay305</td>\n",
       "      <td>james ayala</td>\n",
       "      <td>software engineer</td>\n",
       "      <td>select</td>\n",
       "      <td>experience</td>\n",
       "      <td>software engineer interview transcript \\n\\n in...</td>\n",
       "      <td>sample resume james ayala applying software en...</td>\n",
       "      <td>looking skilled software engineer expertise py...</td>\n",
       "    </tr>\n",
       "    <tr>\n",
       "      <th>2</th>\n",
       "      <td>scotri565</td>\n",
       "      <td>scott rivera</td>\n",
       "      <td>data engineer</td>\n",
       "      <td>reject</td>\n",
       "      <td>experience</td>\n",
       "      <td>simulated interview scott rivera applying role...</td>\n",
       "      <td>sample resume scott rivera applying role data ...</td>\n",
       "      <td>looking skilled data engineer expertise cloud ...</td>\n",
       "    </tr>\n",
       "    <tr>\n",
       "      <th>3</th>\n",
       "      <td>emilke232</td>\n",
       "      <td>emily kelly</td>\n",
       "      <td>ui engineer</td>\n",
       "      <td>select</td>\n",
       "      <td>experience</td>\n",
       "      <td>interview transcript emily kelly ui engineer p...</td>\n",
       "      <td>sample resume emily kelly \\n\\n emily kelly \\n ...</td>\n",
       "      <td>looking skilled ui engineer expertise uiux des...</td>\n",
       "    </tr>\n",
       "    <tr>\n",
       "      <th>4</th>\n",
       "      <td>ashlra638</td>\n",
       "      <td>ashley ray</td>\n",
       "      <td>data scientist</td>\n",
       "      <td>reject</td>\n",
       "      <td>cultural fit</td>\n",
       "      <td>data scientist interview transcript \\n\\n compa...</td>\n",
       "      <td>sample resume ashley ray applying data scienti...</td>\n",
       "      <td>looking skilled data scientist expertise sql m...</td>\n",
       "    </tr>\n",
       "    <tr>\n",
       "      <th>...</th>\n",
       "      <td>...</td>\n",
       "      <td>...</td>\n",
       "      <td>...</td>\n",
       "      <td>...</td>\n",
       "      <td>...</td>\n",
       "      <td>...</td>\n",
       "      <td>...</td>\n",
       "      <td>...</td>\n",
       "    </tr>\n",
       "    <tr>\n",
       "      <th>2953</th>\n",
       "      <td>kotasai181</td>\n",
       "      <td>hyma garg</td>\n",
       "      <td>data scientist</td>\n",
       "      <td>select</td>\n",
       "      <td>excellent communication skills, strong technic...</td>\n",
       "      <td>interviewer dr rachel kim data science lead \\n...</td>\n",
       "      <td>detailed dummy resume hyma garg \\n\\n hyma garg...</td>\n",
       "      <td>expectedexperience   35 year domain data analy...</td>\n",
       "    </tr>\n",
       "    <tr>\n",
       "      <th>2954</th>\n",
       "      <td>kotasai183</td>\n",
       "      <td>eshani sharma</td>\n",
       "      <td>data scientist</td>\n",
       "      <td>reject</td>\n",
       "      <td>low problem-solving abilities, not enough tech...</td>\n",
       "      <td>interview transcript eshani sharma   data scie...</td>\n",
       "      <td>detailed dummy resume eshani sharma \\n\\n eshan...</td>\n",
       "      <td>expectedexperience   02 year domain data analy...</td>\n",
       "    </tr>\n",
       "    <tr>\n",
       "      <th>2955</th>\n",
       "      <td>kotasai184</td>\n",
       "      <td>palash kumar</td>\n",
       "      <td>data scientist</td>\n",
       "      <td>reject</td>\n",
       "      <td>low problem-solving abilities, inability to co...</td>\n",
       "      <td>transcript interview palash kumar data scienti...</td>\n",
       "      <td>palash kumar \\n contact information \\n\\n  emai...</td>\n",
       "      <td>expectedexperience   35 year domain data analy...</td>\n",
       "    </tr>\n",
       "    <tr>\n",
       "      <th>2956</th>\n",
       "      <td>kotasai186</td>\n",
       "      <td>kashvi das</td>\n",
       "      <td>data scientist</td>\n",
       "      <td>reject</td>\n",
       "      <td>unsuitable for the job role, not enough techni...</td>\n",
       "      <td>interview transcript kashvi da data scientist ...</td>\n",
       "      <td>detailed dummy resume kashvi da \\n\\n contact i...</td>\n",
       "      <td>expectedexperience   68 year domain data analy...</td>\n",
       "    </tr>\n",
       "    <tr>\n",
       "      <th>2957</th>\n",
       "      <td>kotasai190</td>\n",
       "      <td>forum bhardwaj</td>\n",
       "      <td>data scientist</td>\n",
       "      <td>reject</td>\n",
       "      <td>not enough technical expertise, lack of releva...</td>\n",
       "      <td>interview transcript forum bhardwaj   data sci...</td>\n",
       "      <td>detailed dummy resume candidate forum bhardwaj...</td>\n",
       "      <td>expectedexperience   02 year domain data analy...</td>\n",
       "    </tr>\n",
       "  </tbody>\n",
       "</table>\n",
       "<p>2958 rows × 8 columns</p>\n",
       "</div>"
      ],
      "text/plain": [
       "              ID            Name               Role decision  \\\n",
       "0      brenbr359     brent brown    product manager   select   \n",
       "1      jameay305     james ayala  software engineer   select   \n",
       "2      scotri565    scott rivera      data engineer   reject   \n",
       "3      emilke232     emily kelly        ui engineer   select   \n",
       "4      ashlra638      ashley ray     data scientist   reject   \n",
       "...          ...             ...                ...      ...   \n",
       "2953  kotasai181       hyma garg     data scientist   select   \n",
       "2954  kotasai183   eshani sharma     data scientist   reject   \n",
       "2955  kotasai184    palash kumar     data scientist   reject   \n",
       "2956  kotasai186      kashvi das     data scientist   reject   \n",
       "2957  kotasai190  forum bhardwaj     data scientist   reject   \n",
       "\n",
       "                                    Reason for decision  \\\n",
       "0                                            experience   \n",
       "1                                            experience   \n",
       "2                                            experience   \n",
       "3                                            experience   \n",
       "4                                          cultural fit   \n",
       "...                                                 ...   \n",
       "2953  excellent communication skills, strong technic...   \n",
       "2954  low problem-solving abilities, not enough tech...   \n",
       "2955  low problem-solving abilities, inability to co...   \n",
       "2956  unsuitable for the job role, not enough techni...   \n",
       "2957  not enough technical expertise, lack of releva...   \n",
       "\n",
       "                                   Transcript_processed  \\\n",
       "0     product manager interview transcript \\n\\n inte...   \n",
       "1     software engineer interview transcript \\n\\n in...   \n",
       "2     simulated interview scott rivera applying role...   \n",
       "3     interview transcript emily kelly ui engineer p...   \n",
       "4     data scientist interview transcript \\n\\n compa...   \n",
       "...                                                 ...   \n",
       "2953  interviewer dr rachel kim data science lead \\n...   \n",
       "2954  interview transcript eshani sharma   data scie...   \n",
       "2955  transcript interview palash kumar data scienti...   \n",
       "2956  interview transcript kashvi da data scientist ...   \n",
       "2957  interview transcript forum bhardwaj   data sci...   \n",
       "\n",
       "                                       Resume_processed  \\\n",
       "0     sample resume brent brown applying role produc...   \n",
       "1     sample resume james ayala applying software en...   \n",
       "2     sample resume scott rivera applying role data ...   \n",
       "3     sample resume emily kelly \\n\\n emily kelly \\n ...   \n",
       "4     sample resume ashley ray applying data scienti...   \n",
       "...                                                 ...   \n",
       "2953  detailed dummy resume hyma garg \\n\\n hyma garg...   \n",
       "2954  detailed dummy resume eshani sharma \\n\\n eshan...   \n",
       "2955  palash kumar \\n contact information \\n\\n  emai...   \n",
       "2956  detailed dummy resume kashvi da \\n\\n contact i...   \n",
       "2957  detailed dummy resume candidate forum bhardwaj...   \n",
       "\n",
       "                              Job_Description_processed  \n",
       "0     looking skilled product manager expertise data...  \n",
       "1     looking skilled software engineer expertise py...  \n",
       "2     looking skilled data engineer expertise cloud ...  \n",
       "3     looking skilled ui engineer expertise uiux des...  \n",
       "4     looking skilled data scientist expertise sql m...  \n",
       "...                                                 ...  \n",
       "2953  expectedexperience   35 year domain data analy...  \n",
       "2954  expectedexperience   02 year domain data analy...  \n",
       "2955  expectedexperience   35 year domain data analy...  \n",
       "2956  expectedexperience   68 year domain data analy...  \n",
       "2957  expectedexperience   02 year domain data analy...  \n",
       "\n",
       "[2958 rows x 8 columns]"
      ]
     },
     "execution_count": 93,
     "metadata": {},
     "output_type": "execute_result"
    }
   ],
   "source": [
    "new_df"
   ]
  },
  {
   "cell_type": "code",
   "execution_count": 95,
   "metadata": {},
   "outputs": [],
   "source": [
    "new_df['Transcript_words'] = new_df['Transcript_processed'].apply(lambda x: len(x.split())) \n",
    "new_df['Transcript_length'] = new_df['Transcript_processed'].apply(lambda x:len(x))\n",
    "\n",
    "new_df['Resume_words'] = new_df['Resume_processed'].apply(lambda x: len(x.split())) \n",
    "new_df['Resume_length'] = new_df['Resume_processed'].apply(lambda x:len(x))"
   ]
  },
  {
   "cell_type": "code",
   "execution_count": 96,
   "metadata": {},
   "outputs": [
    {
     "data": {
      "text/html": [
       "<div>\n",
       "<style scoped>\n",
       "    .dataframe tbody tr th:only-of-type {\n",
       "        vertical-align: middle;\n",
       "    }\n",
       "\n",
       "    .dataframe tbody tr th {\n",
       "        vertical-align: top;\n",
       "    }\n",
       "\n",
       "    .dataframe thead th {\n",
       "        text-align: right;\n",
       "    }\n",
       "</style>\n",
       "<table border=\"1\" class=\"dataframe\">\n",
       "  <thead>\n",
       "    <tr style=\"text-align: right;\">\n",
       "      <th></th>\n",
       "      <th>ID</th>\n",
       "      <th>Name</th>\n",
       "      <th>Role</th>\n",
       "      <th>decision</th>\n",
       "      <th>Reason for decision</th>\n",
       "      <th>Transcript_processed</th>\n",
       "      <th>Resume_processed</th>\n",
       "      <th>Job_Description_processed</th>\n",
       "      <th>Transcript_words</th>\n",
       "      <th>Transcript_length</th>\n",
       "      <th>Resume_words</th>\n",
       "      <th>Resume_length</th>\n",
       "    </tr>\n",
       "  </thead>\n",
       "  <tbody>\n",
       "    <tr>\n",
       "      <th>0</th>\n",
       "      <td>brenbr359</td>\n",
       "      <td>brent brown</td>\n",
       "      <td>product manager</td>\n",
       "      <td>select</td>\n",
       "      <td>experience</td>\n",
       "      <td>product manager interview transcript \\n\\n inte...</td>\n",
       "      <td>sample resume brent brown applying role produc...</td>\n",
       "      <td>looking skilled product manager expertise data...</td>\n",
       "      <td>348</td>\n",
       "      <td>2537</td>\n",
       "      <td>221</td>\n",
       "      <td>2040</td>\n",
       "    </tr>\n",
       "    <tr>\n",
       "      <th>1</th>\n",
       "      <td>jameay305</td>\n",
       "      <td>james ayala</td>\n",
       "      <td>software engineer</td>\n",
       "      <td>select</td>\n",
       "      <td>experience</td>\n",
       "      <td>software engineer interview transcript \\n\\n in...</td>\n",
       "      <td>sample resume james ayala applying software en...</td>\n",
       "      <td>looking skilled software engineer expertise py...</td>\n",
       "      <td>387</td>\n",
       "      <td>2974</td>\n",
       "      <td>241</td>\n",
       "      <td>2231</td>\n",
       "    </tr>\n",
       "    <tr>\n",
       "      <th>2</th>\n",
       "      <td>scotri565</td>\n",
       "      <td>scott rivera</td>\n",
       "      <td>data engineer</td>\n",
       "      <td>reject</td>\n",
       "      <td>experience</td>\n",
       "      <td>simulated interview scott rivera applying role...</td>\n",
       "      <td>sample resume scott rivera applying role data ...</td>\n",
       "      <td>looking skilled data engineer expertise cloud ...</td>\n",
       "      <td>282</td>\n",
       "      <td>1989</td>\n",
       "      <td>255</td>\n",
       "      <td>2183</td>\n",
       "    </tr>\n",
       "    <tr>\n",
       "      <th>3</th>\n",
       "      <td>emilke232</td>\n",
       "      <td>emily kelly</td>\n",
       "      <td>ui engineer</td>\n",
       "      <td>select</td>\n",
       "      <td>experience</td>\n",
       "      <td>interview transcript emily kelly ui engineer p...</td>\n",
       "      <td>sample resume emily kelly \\n\\n emily kelly \\n ...</td>\n",
       "      <td>looking skilled ui engineer expertise uiux des...</td>\n",
       "      <td>402</td>\n",
       "      <td>2836</td>\n",
       "      <td>237</td>\n",
       "      <td>2035</td>\n",
       "    </tr>\n",
       "    <tr>\n",
       "      <th>4</th>\n",
       "      <td>ashlra638</td>\n",
       "      <td>ashley ray</td>\n",
       "      <td>data scientist</td>\n",
       "      <td>reject</td>\n",
       "      <td>cultural fit</td>\n",
       "      <td>data scientist interview transcript \\n\\n compa...</td>\n",
       "      <td>sample resume ashley ray applying data scienti...</td>\n",
       "      <td>looking skilled data scientist expertise sql m...</td>\n",
       "      <td>306</td>\n",
       "      <td>2187</td>\n",
       "      <td>299</td>\n",
       "      <td>2632</td>\n",
       "    </tr>\n",
       "  </tbody>\n",
       "</table>\n",
       "</div>"
      ],
      "text/plain": [
       "          ID          Name               Role decision Reason for decision  \\\n",
       "0  brenbr359   brent brown    product manager   select          experience   \n",
       "1  jameay305   james ayala  software engineer   select          experience   \n",
       "2  scotri565  scott rivera      data engineer   reject          experience   \n",
       "3  emilke232   emily kelly        ui engineer   select          experience   \n",
       "4  ashlra638    ashley ray     data scientist   reject        cultural fit   \n",
       "\n",
       "                                Transcript_processed  \\\n",
       "0  product manager interview transcript \\n\\n inte...   \n",
       "1  software engineer interview transcript \\n\\n in...   \n",
       "2  simulated interview scott rivera applying role...   \n",
       "3  interview transcript emily kelly ui engineer p...   \n",
       "4  data scientist interview transcript \\n\\n compa...   \n",
       "\n",
       "                                    Resume_processed  \\\n",
       "0  sample resume brent brown applying role produc...   \n",
       "1  sample resume james ayala applying software en...   \n",
       "2  sample resume scott rivera applying role data ...   \n",
       "3  sample resume emily kelly \\n\\n emily kelly \\n ...   \n",
       "4  sample resume ashley ray applying data scienti...   \n",
       "\n",
       "                           Job_Description_processed  Transcript_words  \\\n",
       "0  looking skilled product manager expertise data...               348   \n",
       "1  looking skilled software engineer expertise py...               387   \n",
       "2  looking skilled data engineer expertise cloud ...               282   \n",
       "3  looking skilled ui engineer expertise uiux des...               402   \n",
       "4  looking skilled data scientist expertise sql m...               306   \n",
       "\n",
       "   Transcript_length  Resume_words  Resume_length  \n",
       "0               2537           221           2040  \n",
       "1               2974           241           2231  \n",
       "2               1989           255           2183  \n",
       "3               2836           237           2035  \n",
       "4               2187           299           2632  "
      ]
     },
     "execution_count": 96,
     "metadata": {},
     "output_type": "execute_result"
    }
   ],
   "source": [
    "new_df.head()"
   ]
  },
  {
   "cell_type": "code",
   "execution_count": 98,
   "metadata": {},
   "outputs": [],
   "source": [
    "avg_words_role = new_df.groupby(['Role','decision'])['Transcript_words'].mean()"
   ]
  },
  {
   "cell_type": "code",
   "execution_count": 99,
   "metadata": {},
   "outputs": [
    {
     "data": {
      "text/plain": [
       "Role               decision\n",
       "data analyst       reject      376.007194\n",
       "                   select      440.632812\n",
       "data engineer      reject      354.907407\n",
       "                   select      428.108787\n",
       "data scientist     reject      365.095395\n",
       "                   select      420.697917\n",
       "product manager    reject      341.482759\n",
       "                   select      418.569170\n",
       "software engineer  reject      346.182143\n",
       "                   select      400.767528\n",
       "ui designer        reject      383.600000\n",
       "                   select      432.403670\n",
       "ui engineer        reject      314.534722\n",
       "                   select      374.360544\n",
       "Name: Transcript_words, dtype: float64"
      ]
     },
     "execution_count": 99,
     "metadata": {},
     "output_type": "execute_result"
    }
   ],
   "source": [
    "avg_words_role"
   ]
  },
  {
   "cell_type": "code",
   "execution_count": 100,
   "metadata": {},
   "outputs": [],
   "source": [
    "## Statistical Analysis for checking wether there is a significant difference between the number of words in Transcript, for select and reject"
   ]
  },
  {
   "cell_type": "markdown",
   "metadata": {},
   "source": [
    "#### Null Hypothesis : The mean number of words in transcript for the decision of rejection and selection are equal \n",
    "#### Alternative hypothesis : The mean number of words in transcript for the decision of rejection and selection are not equal"
   ]
  },
  {
   "cell_type": "code",
   "execution_count": 103,
   "metadata": {},
   "outputs": [
    {
     "data": {
      "text/plain": [
       "decision\n",
       "reject    353.499672\n",
       "select    415.713589\n",
       "Name: Transcript_words, dtype: float64"
      ]
     },
     "execution_count": 103,
     "metadata": {},
     "output_type": "execute_result"
    }
   ],
   "source": [
    "new_df.groupby(['decision'])['Transcript_words'].mean()"
   ]
  },
  {
   "cell_type": "code",
   "execution_count": 104,
   "metadata": {},
   "outputs": [],
   "source": [
    "means = new_df.groupby(['decision'])['Transcript_words'].mean().values"
   ]
  },
  {
   "cell_type": "code",
   "execution_count": 106,
   "metadata": {},
   "outputs": [],
   "source": [
    "reject_sample = new_df[new_df['decision'] == 'reject'].sample(300)\n",
    "select_sample = new_df[new_df['decision'] == 'select'].sample(300)"
   ]
  },
  {
   "cell_type": "code",
   "execution_count": 109,
   "metadata": {},
   "outputs": [],
   "source": [
    "reject_var = (reject_sample['Transcript_words'].std())**2 \n",
    "select_var = (select_sample['Transcript_words'].std())**2"
   ]
  },
  {
   "cell_type": "code",
   "execution_count": 112,
   "metadata": {},
   "outputs": [
    {
     "data": {
      "text/plain": [
       "np.float64(0.9954571103021728)"
      ]
     },
     "execution_count": 112,
     "metadata": {},
     "output_type": "execute_result"
    }
   ],
   "source": [
    "reject_var/select_var  # This is in between 0.5 and 2, so we need to take the variances as almost equal "
   ]
  },
  {
   "cell_type": "code",
   "execution_count": 114,
   "metadata": {},
   "outputs": [
    {
     "name": "stdout",
     "output_type": "stream",
     "text": [
      "T-statistic: -7.424578911776266\n",
      "P-value: 3.9137253105255947e-13\n"
     ]
    }
   ],
   "source": [
    "# Using T-distribution for testing \n",
    "# Sampling the original distribution \n",
    "\n",
    "from scipy.stats import ttest_ind\n",
    "\n",
    "# Perform a two-sample t-test\n",
    "\n",
    "\n",
    "t_stat, p_value = ttest_ind(\n",
    "    reject_sample['Transcript_words'], \n",
    "    select_sample['Transcript_words'], \n",
    "    equal_var=True  # Use Welch's t-test if variances are unequal\n",
    ")\n",
    "\n",
    "print(\"T-statistic:\", t_stat)\n",
    "print(\"P-value:\", p_value)"
   ]
  },
  {
   "cell_type": "code",
   "execution_count": 115,
   "metadata": {},
   "outputs": [],
   "source": [
    "## From this we get to know that , there is a significant evidence to reject Null hypothesis that the average number of words for select is equal to the rejection"
   ]
  },
  {
   "cell_type": "code",
   "execution_count": 135,
   "metadata": {},
   "outputs": [],
   "source": [
    "\n",
    "def T_test(role , reject_sample,select_sample):\n",
    "    t_stat, p_value = ttest_ind(\n",
    "        reject_sample['Transcript_words'], \n",
    "        select_sample['Transcript_words'], \n",
    "        equal_var=False  # Use Welch's t-test if variances are unequal\n",
    "    )\n",
    "\n",
    "    if p_value < 0.05 :\n",
    "        print(\"Rejecting Null Hypothesis , Mean number of Transcript words for rejection and selection are significantly different for the role of {}\".format(role))\n",
    "    else : \n",
    "        print(\"Accepting Null Hypothesis , Mean number of Transcript words for rejection and selection are equal for the role of {}\".format(role))"
   ]
  },
  {
   "cell_type": "code",
   "execution_count": 132,
   "metadata": {},
   "outputs": [],
   "source": [
    "def role_wise_test(roles):\n",
    "    for role in roles:\n",
    "        curr_df = new_df[new_df['Role'] == role] \n",
    "        reject_sample = curr_df[curr_df['decision'] == 'reject'].sample(100)\n",
    "        select_sample = curr_df[curr_df['decision'] == 'select'].sample(100) \n",
    "        T_test(role , reject_sample , select_sample)"
   ]
  },
  {
   "cell_type": "code",
   "execution_count": 136,
   "metadata": {},
   "outputs": [
    {
     "name": "stdout",
     "output_type": "stream",
     "text": [
      "Rejecting Null Hypothesis , Mean number of Transcript words for rejection and selection are significantly different for the role of product manager\n",
      "Rejecting Null Hypothesis , Mean number of Transcript words for rejection and selection are significantly different for the role of software engineer\n",
      "Rejecting Null Hypothesis , Mean number of Transcript words for rejection and selection are significantly different for the role of data engineer\n",
      "Rejecting Null Hypothesis , Mean number of Transcript words for rejection and selection are significantly different for the role of ui engineer\n",
      "Rejecting Null Hypothesis , Mean number of Transcript words for rejection and selection are significantly different for the role of data scientist\n",
      "Rejecting Null Hypothesis , Mean number of Transcript words for rejection and selection are significantly different for the role of data analyst\n",
      "Rejecting Null Hypothesis , Mean number of Transcript words for rejection and selection are significantly different for the role of ui designer\n"
     ]
    }
   ],
   "source": [
    "role_wise_test(new_df['Role'].unique())"
   ]
  },
  {
   "cell_type": "code",
   "execution_count": 137,
   "metadata": {},
   "outputs": [],
   "source": [
    "## From this we know that, for every role there is a significant difference between the average number of words for selection and rejection for every role"
   ]
  },
  {
   "cell_type": "code",
   "execution_count": 141,
   "metadata": {},
   "outputs": [
    {
     "data": {
      "text/plain": [
       "Role\n",
       "data analyst         286.385768\n",
       "data engineer        295.504912\n",
       "data scientist       290.685811\n",
       "product manager      273.021401\n",
       "software engineer    264.444646\n",
       "ui designer          285.034188\n",
       "ui engineer          251.989691\n",
       "Name: Resume_words, dtype: float64"
      ]
     },
     "execution_count": 141,
     "metadata": {},
     "output_type": "execute_result"
    }
   ],
   "source": [
    "new_df.groupby(['Role'])['Resume_words'].mean() # From this the average number of words in resume for every role are almost equal"
   ]
  },
  {
   "cell_type": "code",
   "execution_count": 146,
   "metadata": {},
   "outputs": [],
   "source": [
    "\n",
    "def T_test1(role , reject_sample,select_sample):\n",
    "    t_stat, p_value = ttest_ind(\n",
    "        reject_sample['Transcript_length'], \n",
    "        select_sample['Transcript_length'], \n",
    "        equal_var=False  # Use Welch's t-test if variances are unequal\n",
    "    )\n",
    "\n",
    "    if p_value < 0.05 :\n",
    "        print(\"Rejecting Null Hypothesis , Mean length of Transcript for rejection and selection are significantly different for the role of {}\".format(role))\n",
    "    else : \n",
    "        print(\"Accepting Null Hypothesis , Mean length of Transcript for rejection and selection are equal for the role of {}\".format(role))"
   ]
  },
  {
   "cell_type": "code",
   "execution_count": 145,
   "metadata": {},
   "outputs": [
    {
     "data": {
      "text/plain": [
       "Role               decision\n",
       "data analyst       reject      2818.964029\n",
       "                   select      3456.015625\n",
       "data engineer      reject      2661.629630\n",
       "                   select      3280.334728\n",
       "data scientist     reject      2726.845395\n",
       "                   select      3253.274306\n",
       "product manager    reject      2627.183908\n",
       "                   select      3299.450593\n",
       "software engineer  reject      2602.950000\n",
       "                   select      3123.605166\n",
       "ui designer        reject      2877.280000\n",
       "                   select      3352.669725\n",
       "ui engineer        reject      2288.125000\n",
       "                   select      2807.748299\n",
       "Name: Transcript_length, dtype: float64"
      ]
     },
     "execution_count": 145,
     "metadata": {},
     "output_type": "execute_result"
    }
   ],
   "source": [
    "new_df.groupby(['Role','decision'])['Transcript_length'].mean()"
   ]
  },
  {
   "cell_type": "code",
   "execution_count": 148,
   "metadata": {},
   "outputs": [],
   "source": [
    "def role_wise_test1(roles):\n",
    "    for role in roles:\n",
    "        curr_df = new_df[new_df['Role'] == role] \n",
    "        reject_sample = curr_df[curr_df['decision'] == 'reject'].sample(100)\n",
    "        select_sample = curr_df[curr_df['decision'] == 'select'].sample(100) \n",
    "        T_test1(role , reject_sample , select_sample)"
   ]
  },
  {
   "cell_type": "code",
   "execution_count": 149,
   "metadata": {},
   "outputs": [
    {
     "name": "stdout",
     "output_type": "stream",
     "text": [
      "Rejecting Null Hypothesis , Mean length of Transcript for rejection and selection are significantly different for the role of product manager\n",
      "Rejecting Null Hypothesis , Mean length of Transcript for rejection and selection are significantly different for the role of software engineer\n",
      "Rejecting Null Hypothesis , Mean length of Transcript for rejection and selection are significantly different for the role of data engineer\n",
      "Rejecting Null Hypothesis , Mean length of Transcript for rejection and selection are significantly different for the role of ui engineer\n",
      "Rejecting Null Hypothesis , Mean length of Transcript for rejection and selection are significantly different for the role of data scientist\n",
      "Rejecting Null Hypothesis , Mean length of Transcript for rejection and selection are significantly different for the role of data analyst\n",
      "Rejecting Null Hypothesis , Mean length of Transcript for rejection and selection are significantly different for the role of ui designer\n"
     ]
    }
   ],
   "source": [
    "role_wise_test1(new_df['Role'].unique())"
   ]
  },
  {
   "cell_type": "code",
   "execution_count": 163,
   "metadata": {},
   "outputs": [],
   "source": [
    "## Finding wether there is a similarity between the two transcripts if so exists, we will drop one of them"
   ]
  },
  {
   "cell_type": "code",
   "execution_count": 171,
   "metadata": {},
   "outputs": [
    {
     "name": "stdout",
     "output_type": "stream",
     "text": [
      "Similar Transcripts Dictionary (≥ 90% similarity):\n",
      "{}\n"
     ]
    }
   ],
   "source": [
    "## Finding wether there is a similarity between the two transcripts if so exists and we will drop the other transcripts \n",
    "## For 90% similarity\n",
    "tfidf_vectorizer = TfidfVectorizer()\n",
    "tfidf_matrix = tfidf_vectorizer.fit_transform(new_df['Transcript_processed'])\n",
    "\n",
    "cosine_sim = cosine_similarity(tfidf_matrix)\n",
    "\n",
    "# Find transcript pairs with similarity >= 0.9\n",
    "threshold = 0.9\n",
    "similar_dict = {}\n",
    "\n",
    "for i in range(cosine_sim.shape[0]):\n",
    "    similar_indices = []\n",
    "    for j in range(i + 1, cosine_sim.shape[1]):  # Avoid redundant comparisons\n",
    "        if cosine_sim[i, j] >= threshold:\n",
    "            similar_indices.append(j)\n",
    "    if similar_indices:\n",
    "        similar_dict[i] = similar_indices\n",
    "\n",
    "# Print the dictionary\n",
    "print(\"Similar Transcripts Dictionary (≥ 90% similarity):\")\n",
    "print(similar_dict)\n"
   ]
  },
  {
   "cell_type": "code",
   "execution_count": 174,
   "metadata": {},
   "outputs": [
    {
     "name": "stdout",
     "output_type": "stream",
     "text": [
      "Similar Transcripts Dictionary (≥ 80% similarity):\n",
      "{600: [1478], 672: [932], 716: [1080], 745: [1017], 774: [992, 1494], 992: [1494], 1018: [1397], 1026: [2890], 1170: [1389, 1407], 1849: [1972], 1897: [1909], 1968: [1985], 2450: [2514, 2551], 2464: [2597, 2626], 2468: [2626], 2473: [2579], 2476: [2572], 2482: [2535], 2492: [2601], 2497: [2614], 2510: [2589], 2514: [2551], 2519: [2534], 2525: [2541, 2565], 2597: [2626], 2606: [2611], 2659: [2774], 2661: [2778], 2667: [2739], 2673: [2725], 2678: [2728, 2828], 2679: [2760, 2789], 2711: [2754], 2714: [2766, 2805], 2740: [2764, 2849], 2743: [2812], 2750: [2812], 2760: [2789], 2766: [2805], 2767: [2790]}\n"
     ]
    }
   ],
   "source": [
    "## Finding wether there is a similarity between the two transcripts if so exists and we will drop the other transcripts \n",
    "## For 80% similarity\n",
    "tfidf_vectorizer = TfidfVectorizer()\n",
    "tfidf_matrix = tfidf_vectorizer.fit_transform(new_df['Transcript_processed'])\n",
    "\n",
    "cosine_sim = cosine_similarity(tfidf_matrix)\n",
    "\n",
    "# Find transcript pairs with similarity >= 0.8\n",
    "threshold = 0.8\n",
    "similar_dict = {}\n",
    "\n",
    "for i in range(cosine_sim.shape[0]):\n",
    "    similar_indices = []\n",
    "    for j in range(i + 1, cosine_sim.shape[1]):  # Avoid redundant comparisons\n",
    "        if cosine_sim[i, j] >= threshold:\n",
    "            similar_indices.append(j)\n",
    "    if similar_indices:\n",
    "        similar_dict[i] = similar_indices\n",
    "\n",
    "# Print the dictionary\n",
    "print(\"Similar Transcripts Dictionary (≥ 80% similarity):\")\n",
    "print(similar_dict)\n"
   ]
  },
  {
   "cell_type": "code",
   "execution_count": 151,
   "metadata": {},
   "outputs": [],
   "source": []
  },
  {
   "cell_type": "code",
   "execution_count": 175,
   "metadata": {},
   "outputs": [],
   "source": [
    "tfidf_vectorizer1 = TfidfVectorizer()\n",
    "transcript_matrix = tfidf_vectorizer1.fit_transform(new_df['Transcript_processed'])\n",
    "\n",
    "tfidf_vectorizer2 = TfidfVectorizer()\n",
    "resume_matrix = tfidf_vectorizer2.fit_transform(new_df['Resume_processed'])\n",
    "\n",
    "tfidf_vectorizer3 = TfidfVectorizer()\n",
    "jobDescription_matrix = tfidf_vectorizer3.fit_transform(new_df['Job_Description_processed'])\n"
   ]
  },
  {
   "cell_type": "code",
   "execution_count": 185,
   "metadata": {},
   "outputs": [],
   "source": [
    "# Use a single TfidfVectorizer for both Resume and Job Description\n",
    "tfidf_vectorizer4 = TfidfVectorizer()\n",
    "combined_text = new_df['Resume_processed'] + \" \" + new_df['Job_Description_processed']\n",
    "tfidf_vectorizer4.fit(combined_text)\n",
    "\n",
    "# Split the combined TF-IDF matrix back into Resume and Job Description matrices\n",
    "resume_matrix = tfidf_vectorizer4.transform(new_df['Resume_processed'])\n",
    "jobDescription_matrix = tfidf_vectorizer4.transform(new_df['Job_Description_processed'])\n",
    "\n",
    "# Calculate row-wise cosine similarity\n",
    "cos_rjd = []\n",
    "for i in range(new_df.shape[0]):\n",
    "    cos_rjd.append(cosine_similarity(resume_matrix[i], jobDescription_matrix[i])[0][0])\n"
   ]
  },
  {
   "cell_type": "code",
   "execution_count": 187,
   "metadata": {},
   "outputs": [],
   "source": [
    "new_df['Resume_JD'] = cos_rjd"
   ]
  },
  {
   "cell_type": "code",
   "execution_count": 189,
   "metadata": {},
   "outputs": [],
   "source": [
    "# Use a single TfidfVectorizer for both Resume and Transcript\n",
    "tfidf_vectorizer5 = TfidfVectorizer()\n",
    "combined_text = new_df['Resume_processed'] + \" \" + new_df['Transcript_processed']\n",
    "tfidf_vectorizer5.fit(combined_text)\n",
    "\n",
    "# Split the combined TF-IDF matrix back into Resume and Job Description matrices\n",
    "resume_matrix = tfidf_vectorizer5.transform(new_df['Resume_processed'])\n",
    "Transcript_matrix = tfidf_vectorizer5.transform(new_df['Transcript_processed'])\n",
    "\n",
    "# Calculate row-wise cosine similarity\n",
    "cos_rt = []\n",
    "for i in range(new_df.shape[0]):\n",
    "    cos_rt.append(cosine_similarity(resume_matrix[i], Transcript_matrix[i])[0][0])"
   ]
  },
  {
   "cell_type": "code",
   "execution_count": 190,
   "metadata": {},
   "outputs": [],
   "source": [
    "new_df['Resume_Transcript'] = cos_rt"
   ]
  },
  {
   "cell_type": "code",
   "execution_count": 192,
   "metadata": {},
   "outputs": [],
   "source": [
    "# Use a single TfidfVectorizer for both Job description and Transcript\n",
    "tfidf_vectorizer6 = TfidfVectorizer()\n",
    "combined_text = new_df['Job_Description_processed'] + \" \" + new_df['Transcript_processed']\n",
    "tfidf_vectorizer6.fit(combined_text)\n",
    "\n",
    "# Split the combined TF-IDF matrix back into Resume and Job Description matrices\n",
    "JD_matrix = tfidf_vectorizer6.transform(new_df['Job_Description_processed'])\n",
    "Transcript_matrix = tfidf_vectorizer6.transform(new_df['Transcript_processed'])\n",
    "\n",
    "# Calculate row-wise cosine similarity\n",
    "cos_jdt = []\n",
    "for i in range(new_df.shape[0]):\n",
    "    cos_jdt.append(cosine_similarity(JD_matrix[i], Transcript_matrix[i])[0][0])"
   ]
  },
  {
   "cell_type": "code",
   "execution_count": 193,
   "metadata": {},
   "outputs": [],
   "source": [
    "new_df['JobDescription_Transcript'] = cos_jdt"
   ]
  },
  {
   "cell_type": "code",
   "execution_count": 194,
   "metadata": {},
   "outputs": [
    {
     "data": {
      "text/html": [
       "<div>\n",
       "<style scoped>\n",
       "    .dataframe tbody tr th:only-of-type {\n",
       "        vertical-align: middle;\n",
       "    }\n",
       "\n",
       "    .dataframe tbody tr th {\n",
       "        vertical-align: top;\n",
       "    }\n",
       "\n",
       "    .dataframe thead th {\n",
       "        text-align: right;\n",
       "    }\n",
       "</style>\n",
       "<table border=\"1\" class=\"dataframe\">\n",
       "  <thead>\n",
       "    <tr style=\"text-align: right;\">\n",
       "      <th></th>\n",
       "      <th>ID</th>\n",
       "      <th>Name</th>\n",
       "      <th>Role</th>\n",
       "      <th>decision</th>\n",
       "      <th>Reason for decision</th>\n",
       "      <th>Transcript_processed</th>\n",
       "      <th>Resume_processed</th>\n",
       "      <th>Job_Description_processed</th>\n",
       "      <th>Transcript_words</th>\n",
       "      <th>Transcript_length</th>\n",
       "      <th>Resume_words</th>\n",
       "      <th>Resume_length</th>\n",
       "      <th>Resume_JD</th>\n",
       "      <th>Resume_Transcript</th>\n",
       "      <th>JobDescription_Transcript</th>\n",
       "    </tr>\n",
       "  </thead>\n",
       "  <tbody>\n",
       "    <tr>\n",
       "      <th>0</th>\n",
       "      <td>brenbr359</td>\n",
       "      <td>brent brown</td>\n",
       "      <td>product manager</td>\n",
       "      <td>select</td>\n",
       "      <td>experience</td>\n",
       "      <td>product manager interview transcript \\n\\n inte...</td>\n",
       "      <td>sample resume brent brown applying role produc...</td>\n",
       "      <td>looking skilled product manager expertise data...</td>\n",
       "      <td>348</td>\n",
       "      <td>2537</td>\n",
       "      <td>221</td>\n",
       "      <td>2040</td>\n",
       "      <td>0.351376</td>\n",
       "      <td>0.389509</td>\n",
       "      <td>0.151835</td>\n",
       "    </tr>\n",
       "    <tr>\n",
       "      <th>1</th>\n",
       "      <td>jameay305</td>\n",
       "      <td>james ayala</td>\n",
       "      <td>software engineer</td>\n",
       "      <td>select</td>\n",
       "      <td>experience</td>\n",
       "      <td>software engineer interview transcript \\n\\n in...</td>\n",
       "      <td>sample resume james ayala applying software en...</td>\n",
       "      <td>looking skilled software engineer expertise py...</td>\n",
       "      <td>387</td>\n",
       "      <td>2974</td>\n",
       "      <td>241</td>\n",
       "      <td>2231</td>\n",
       "      <td>0.272022</td>\n",
       "      <td>0.380939</td>\n",
       "      <td>0.091687</td>\n",
       "    </tr>\n",
       "    <tr>\n",
       "      <th>2</th>\n",
       "      <td>scotri565</td>\n",
       "      <td>scott rivera</td>\n",
       "      <td>data engineer</td>\n",
       "      <td>reject</td>\n",
       "      <td>experience</td>\n",
       "      <td>simulated interview scott rivera applying role...</td>\n",
       "      <td>sample resume scott rivera applying role data ...</td>\n",
       "      <td>looking skilled data engineer expertise cloud ...</td>\n",
       "      <td>282</td>\n",
       "      <td>1989</td>\n",
       "      <td>255</td>\n",
       "      <td>2183</td>\n",
       "      <td>0.465514</td>\n",
       "      <td>0.384318</td>\n",
       "      <td>0.077372</td>\n",
       "    </tr>\n",
       "    <tr>\n",
       "      <th>3</th>\n",
       "      <td>emilke232</td>\n",
       "      <td>emily kelly</td>\n",
       "      <td>ui engineer</td>\n",
       "      <td>select</td>\n",
       "      <td>experience</td>\n",
       "      <td>interview transcript emily kelly ui engineer p...</td>\n",
       "      <td>sample resume emily kelly \\n\\n emily kelly \\n ...</td>\n",
       "      <td>looking skilled ui engineer expertise uiux des...</td>\n",
       "      <td>402</td>\n",
       "      <td>2836</td>\n",
       "      <td>237</td>\n",
       "      <td>2035</td>\n",
       "      <td>0.313523</td>\n",
       "      <td>0.381142</td>\n",
       "      <td>0.190069</td>\n",
       "    </tr>\n",
       "    <tr>\n",
       "      <th>4</th>\n",
       "      <td>ashlra638</td>\n",
       "      <td>ashley ray</td>\n",
       "      <td>data scientist</td>\n",
       "      <td>reject</td>\n",
       "      <td>cultural fit</td>\n",
       "      <td>data scientist interview transcript \\n\\n compa...</td>\n",
       "      <td>sample resume ashley ray applying data scienti...</td>\n",
       "      <td>looking skilled data scientist expertise sql m...</td>\n",
       "      <td>306</td>\n",
       "      <td>2187</td>\n",
       "      <td>299</td>\n",
       "      <td>2632</td>\n",
       "      <td>0.292945</td>\n",
       "      <td>0.334349</td>\n",
       "      <td>0.072062</td>\n",
       "    </tr>\n",
       "  </tbody>\n",
       "</table>\n",
       "</div>"
      ],
      "text/plain": [
       "          ID          Name               Role decision Reason for decision  \\\n",
       "0  brenbr359   brent brown    product manager   select          experience   \n",
       "1  jameay305   james ayala  software engineer   select          experience   \n",
       "2  scotri565  scott rivera      data engineer   reject          experience   \n",
       "3  emilke232   emily kelly        ui engineer   select          experience   \n",
       "4  ashlra638    ashley ray     data scientist   reject        cultural fit   \n",
       "\n",
       "                                Transcript_processed  \\\n",
       "0  product manager interview transcript \\n\\n inte...   \n",
       "1  software engineer interview transcript \\n\\n in...   \n",
       "2  simulated interview scott rivera applying role...   \n",
       "3  interview transcript emily kelly ui engineer p...   \n",
       "4  data scientist interview transcript \\n\\n compa...   \n",
       "\n",
       "                                    Resume_processed  \\\n",
       "0  sample resume brent brown applying role produc...   \n",
       "1  sample resume james ayala applying software en...   \n",
       "2  sample resume scott rivera applying role data ...   \n",
       "3  sample resume emily kelly \\n\\n emily kelly \\n ...   \n",
       "4  sample resume ashley ray applying data scienti...   \n",
       "\n",
       "                           Job_Description_processed  Transcript_words  \\\n",
       "0  looking skilled product manager expertise data...               348   \n",
       "1  looking skilled software engineer expertise py...               387   \n",
       "2  looking skilled data engineer expertise cloud ...               282   \n",
       "3  looking skilled ui engineer expertise uiux des...               402   \n",
       "4  looking skilled data scientist expertise sql m...               306   \n",
       "\n",
       "   Transcript_length  Resume_words  Resume_length  Resume_JD  \\\n",
       "0               2537           221           2040   0.351376   \n",
       "1               2974           241           2231   0.272022   \n",
       "2               1989           255           2183   0.465514   \n",
       "3               2836           237           2035   0.313523   \n",
       "4               2187           299           2632   0.292945   \n",
       "\n",
       "   Resume_Transcript  JobDescription_Transcript  \n",
       "0           0.389509                   0.151835  \n",
       "1           0.380939                   0.091687  \n",
       "2           0.384318                   0.077372  \n",
       "3           0.381142                   0.190069  \n",
       "4           0.334349                   0.072062  "
      ]
     },
     "execution_count": 194,
     "metadata": {},
     "output_type": "execute_result"
    }
   ],
   "source": [
    "new_df.head()"
   ]
  },
  {
   "cell_type": "code",
   "execution_count": null,
   "metadata": {},
   "outputs": [],
   "source": []
  },
  {
   "cell_type": "code",
   "execution_count": null,
   "metadata": {},
   "outputs": [],
   "source": []
  },
  {
   "cell_type": "code",
   "execution_count": null,
   "metadata": {},
   "outputs": [],
   "source": []
  },
  {
   "cell_type": "code",
   "execution_count": null,
   "metadata": {},
   "outputs": [],
   "source": []
  },
  {
   "cell_type": "code",
   "execution_count": null,
   "metadata": {},
   "outputs": [],
   "source": []
  },
  {
   "cell_type": "code",
   "execution_count": null,
   "metadata": {},
   "outputs": [],
   "source": []
  },
  {
   "cell_type": "code",
   "execution_count": null,
   "metadata": {},
   "outputs": [],
   "source": []
  },
  {
   "cell_type": "code",
   "execution_count": null,
   "metadata": {},
   "outputs": [],
   "source": []
  },
  {
   "cell_type": "code",
   "execution_count": null,
   "metadata": {},
   "outputs": [],
   "source": []
  },
  {
   "cell_type": "code",
   "execution_count": null,
   "metadata": {},
   "outputs": [],
   "source": []
  },
  {
   "cell_type": "code",
   "execution_count": null,
   "metadata": {},
   "outputs": [],
   "source": []
  },
  {
   "cell_type": "code",
   "execution_count": null,
   "metadata": {},
   "outputs": [],
   "source": []
  },
  {
   "cell_type": "code",
   "execution_count": null,
   "metadata": {},
   "outputs": [],
   "source": []
  },
  {
   "cell_type": "code",
   "execution_count": null,
   "metadata": {},
   "outputs": [],
   "source": []
  },
  {
   "cell_type": "code",
   "execution_count": null,
   "metadata": {},
   "outputs": [],
   "source": []
  },
  {
   "cell_type": "code",
   "execution_count": null,
   "metadata": {},
   "outputs": [],
   "source": []
  },
  {
   "cell_type": "code",
   "execution_count": null,
   "metadata": {},
   "outputs": [],
   "source": []
  },
  {
   "cell_type": "code",
   "execution_count": null,
   "metadata": {},
   "outputs": [],
   "source": []
  },
  {
   "cell_type": "code",
   "execution_count": null,
   "metadata": {},
   "outputs": [],
   "source": []
  }
 ],
 "metadata": {
  "kernelspec": {
   "display_name": "venv",
   "language": "python",
   "name": "python3"
  },
  "language_info": {
   "codemirror_mode": {
    "name": "ipython",
    "version": 3
   },
   "file_extension": ".py",
   "mimetype": "text/x-python",
   "name": "python",
   "nbconvert_exporter": "python",
   "pygments_lexer": "ipython3",
   "version": "3.9.0"
  }
 },
 "nbformat": 4,
 "nbformat_minor": 2
}
