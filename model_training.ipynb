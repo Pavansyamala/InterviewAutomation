{
  "cells": [
    {
      "cell_type": "code",
      "execution_count": 1,
      "metadata": {
        "colab": {
          "base_uri": "https://localhost:8080/"
        },
        "id": "k9B6k-TOrWy8",
        "outputId": "42ea2b55-35ed-499f-b60a-76073b231611"
      },
      "outputs": [
        {
          "name": "stdout",
          "output_type": "stream",
          "text": [
            "Mounted at /content/drive\n"
          ]
        }
      ],
      "source": [
        "from google.colab import drive\n",
        "drive.mount('/content/drive')"
      ]
    },
    {
      "cell_type": "code",
      "execution_count": 106,
      "metadata": {
        "id": "QQDMLNkvrZMi"
      },
      "outputs": [],
      "source": [
        "from sentence_transformers import SentenceTransformer\n",
        "import pandas as pd\n",
        "import numpy as np\n",
        "import matplotlib.pyplot as plt\n",
        "from sklearn.feature_extraction.text import TfidfVectorizer\n",
        "import seaborn as sns\n",
        "from sklearn.model_selection import train_test_split\n",
        "from sklearn.metrics import accuracy_score, precision_score, recall_score, f1_score , roc_auc_score\n",
        "from xgboost import XGBClassifier\n",
        "from xgboost import plot_importance\n",
        "import optuna\n",
        "import statsmodels.api as sm"
      ]
    },
    {
      "cell_type": "code",
      "execution_count": 3,
      "metadata": {
        "colab": {
          "base_uri": "https://localhost:8080/",
          "height": 493,
          "referenced_widgets": [
            "23c48aefc31f4133b35ecfa93013979b",
            "fbfbc18cb4d547e898ec04d2e8168c0c",
            "372bca6a796241c3823547f5a206b88e",
            "3aa1133c30b74bdfaf5d6bc971984106",
            "95a343394bb84e16a5c69f8d1214f39d",
            "af4ee25529ed44ecbb640bc6f54ecf39",
            "95ef6174114b4bceb9143344a670073a",
            "55e53212ecb34db0ae1cac9a890a28d2",
            "4c00e28a94ee41f6bf59ce92409f78ff",
            "50e18e38158d4331bff290f191f5845f",
            "27b3078f73f0471b926f43581c5a007f",
            "3cce5a5a90a44abc809af7d03d250788",
            "32c8ba08cc3c4056a283b8c97031b724",
            "6e68dc7a38c445efa4fa95de08861dda",
            "0c0b9c1d06134e28a93561c0defc06da",
            "eb610b2b66614dfca871c38dda92a282",
            "956a9abb0a7e478ab7bfab310348eee6",
            "2607bd15c77b414fb414931d49c9e74d",
            "9f7fb9a0d53a46449133d78f0b58bc5c",
            "235caba944b2423ba39aed142b13a70a",
            "16334d5e62b94968a58a9461a0056a69",
            "5055ad3327814d85baec64dc5203511c",
            "bd5bcff7e6c6491285ca0c5b12d26e34",
            "3842e0ec3a864efe80826e04259cbec6",
            "f73ca34579844e8bb20ab535628f0a9d",
            "44bc9c917bc14032ab6e2a0714e199bd",
            "8ef260bf96fc4ba7a4eeb506929fb46f",
            "bf0ad45081274e02b04ca91fa656bc9e",
            "565434d3487b4f718ca3ca2b78233c85",
            "9698eb49ee8d47bb8d8cb100a5d37e98",
            "93b1673de9ce4d2c88046ed76cd502ce",
            "e330f3ee1d8d4878b5d2152d798d341f",
            "8f3368080d824991b8006308862b60ea",
            "fb3ed0ff161748009d242b5b29b4be47",
            "214149e06146443d973104edb3618af6",
            "64780dc9f5bf47e3bba57f003fe430ba",
            "b12ea2923f5e486389fc82a09b189517",
            "866a91b647de464fbde4337ebe8c11a0",
            "c9c6054a370040ba984ada463557a2fa",
            "4aa401402a5b497995ce37db7bb37526",
            "3a24f46803f7435490f9f7d46b4d2d8e",
            "ee72da27b77d42e58a79dc054b8d2ce7",
            "168be153e8d74df9860afb9882c1dedd",
            "c97cd56619b742c3be45a5b027d4e16d",
            "d3a2c936ec9742a4b0b238def778ffa0",
            "3f5c7e47b26747348857ab0747714af0",
            "67e4b635c5bc4394a69ef1d2af608030",
            "5ee3557edc004808aa1b072b1398b8a8",
            "028a638eec4c41e58ea68de05d47db95",
            "178ee876a88f4c1d850950fbd28c4a5c",
            "d6e9c71f2c0f4c2caf431ec5182d57de",
            "fc8585cad0b246dabfda781251e2db3d",
            "c4d857ff51604916a5ad7bdcbe5d7b6e",
            "984bc6314c0e4542be1a45c69ef129b2",
            "54c6fec026984e2cb12024b6a3c03dc0",
            "02aaff7b7c7d4b478e9ea373e7bf8a7e",
            "efc0cd75d4854bc6a0888395c7a63119",
            "b9e50a1a5dcd4237823381ce8cdf332d",
            "fae5a0281333498590eebcc9de2d7b73",
            "10922726460f41b5b340601df5b5301d",
            "ee47ed14d92648f88f2c0ea17febe3be",
            "0624cf360485416b83a22e203f53af84",
            "58fcbbbd4a3d4f6bac20f6c9055ac2a0",
            "fafda490cc164e9ba77bb00051f439fb",
            "e01911e6bf7848cb93b53013b33c8c2b",
            "986bd65185f2473e8c7d8ba753d5ddc0",
            "716c46b519d34b36b88e0db757c976c3",
            "d01ac15fa6f7431fa53e5335a5c7e9e5",
            "c12ec67ef6e544e28af24bf86c2e1315",
            "a90555b49d704a9bb494c25147858f93",
            "06099b35a6bf445db7c0adbe8c09c9a1",
            "cf57224ae4214f23b538ead8bad2dda4",
            "b3b8e10355d94a5395c386f0715116c4",
            "000330ea207d459da0fed2cdaded04ba",
            "7abf33e4aa964b4e9feebfef39e229ae",
            "558526621fb1455886611f1cf2a80eab",
            "820280df7cc84029bba0f51a3a88d015",
            "d781b880fcb2476798c6f374735fe1a0",
            "6db921bc5f504364bf1414bfe76abeef",
            "295a7426d3104fbc968e734b8f43e258",
            "ac1c58a537344ceca6113ab80793fcfe",
            "0c37d1003bbd405396751fb984d272f4",
            "bc3f88a0b8284e6bb60331b2b3234eef",
            "b0e9331b25674c83b15c71179908eaa5",
            "bc007183680342e3ab7d17f034403a43",
            "25382c604ba24eb5a5ecaed9487da244",
            "83728ea4e6834641a8875c9927abd261",
            "3eef5e004dec4575bc529597b37f605f",
            "8b0406f40e7746bd935ca12986c07861",
            "5f8c42144d314a34b58501c4bfb3d511",
            "76747a53010a4a01ba9badb0c3492650",
            "a3d33799631f424f860714f4387ca0bc",
            "77bd3b81c8f342c58cdeb8025c828e84",
            "45364f080ef04b6fbd4eeb4e9e4fb0a8",
            "decffed45dd0440f9606891c2b5c1349",
            "3f754703364c4f83920bc2975f337dcb",
            "e399d7ae6c2948fd829366b9fb1bb35b",
            "e752534097ef4e7eac9af102d8e22372",
            "2ae4e44144924b62a3cd84fcf788ab18",
            "fc81966c11924b74ad971a36e66e44aa",
            "cd309dd0f9c341deb75b3ed9b780d1a3",
            "5cbcf41a5f804e7990d6a17a5f4e3dd7",
            "c50ea1eeff184ecd9e519cee69f0bf3f",
            "8434c480947e458dacdcc927c01b75e3",
            "2f72798bf008471290f37998b84276e1",
            "15621039964340a2a990ab07b7401696",
            "c25f8bfa96324df79c290d9a68cb2668",
            "bc66448af5fd4107a0825c349285aca4",
            "26c062cbdc074941bef80ef1d7222728",
            "97096d39a0f64125bdcd0be69d41b3fa",
            "23a29880754145e886954ed677084b87",
            "9332df974ade40639aad051af354aea2",
            "ee4fccabc8ad4da6873c52b1b4fd719a",
            "f1161afc0475495ba2b67fb0d0de0f73",
            "d588ceba0126416185ff096d6d3b0579",
            "b79476d756524e9487b6feb0de49ef73",
            "178c972f43cd416b98fc0cfa8d89ee59",
            "46b76538f18946db9d57cc3eaad56d1e",
            "af1916b34f7c4cd6a1b6a846b89c14dd",
            "858b1c106e6e4c5eb087d112fb1e32f5",
            "a4e122519c0b43158ca3e77bea30ab33"
          ]
        },
        "id": "YHp61flCrZGx",
        "outputId": "0f61bf07-b4ac-474e-f4d9-20beac9e5816"
      },
      "outputs": [
        {
          "name": "stderr",
          "output_type": "stream",
          "text": [
            "/usr/local/lib/python3.10/dist-packages/huggingface_hub/utils/_auth.py:94: UserWarning: \n",
            "The secret `HF_TOKEN` does not exist in your Colab secrets.\n",
            "To authenticate with the Hugging Face Hub, create a token in your settings tab (https://huggingface.co/settings/tokens), set it as secret in your Google Colab and restart your session.\n",
            "You will be able to reuse this secret in all of your notebooks.\n",
            "Please note that authentication is recommended but still optional to access public models or datasets.\n",
            "  warnings.warn(\n"
          ]
        },
        {
          "data": {
            "application/vnd.jupyter.widget-view+json": {
              "model_id": "23c48aefc31f4133b35ecfa93013979b",
              "version_major": 2,
              "version_minor": 0
            },
            "text/plain": [
              "modules.json:   0%|          | 0.00/349 [00:00<?, ?B/s]"
            ]
          },
          "metadata": {},
          "output_type": "display_data"
        },
        {
          "data": {
            "application/vnd.jupyter.widget-view+json": {
              "model_id": "3cce5a5a90a44abc809af7d03d250788",
              "version_major": 2,
              "version_minor": 0
            },
            "text/plain": [
              "config_sentence_transformers.json:   0%|          | 0.00/116 [00:00<?, ?B/s]"
            ]
          },
          "metadata": {},
          "output_type": "display_data"
        },
        {
          "data": {
            "application/vnd.jupyter.widget-view+json": {
              "model_id": "bd5bcff7e6c6491285ca0c5b12d26e34",
              "version_major": 2,
              "version_minor": 0
            },
            "text/plain": [
              "README.md:   0%|          | 0.00/10.7k [00:00<?, ?B/s]"
            ]
          },
          "metadata": {},
          "output_type": "display_data"
        },
        {
          "data": {
            "application/vnd.jupyter.widget-view+json": {
              "model_id": "fb3ed0ff161748009d242b5b29b4be47",
              "version_major": 2,
              "version_minor": 0
            },
            "text/plain": [
              "sentence_bert_config.json:   0%|          | 0.00/53.0 [00:00<?, ?B/s]"
            ]
          },
          "metadata": {},
          "output_type": "display_data"
        },
        {
          "data": {
            "application/vnd.jupyter.widget-view+json": {
              "model_id": "d3a2c936ec9742a4b0b238def778ffa0",
              "version_major": 2,
              "version_minor": 0
            },
            "text/plain": [
              "config.json:   0%|          | 0.00/612 [00:00<?, ?B/s]"
            ]
          },
          "metadata": {},
          "output_type": "display_data"
        },
        {
          "data": {
            "application/vnd.jupyter.widget-view+json": {
              "model_id": "02aaff7b7c7d4b478e9ea373e7bf8a7e",
              "version_major": 2,
              "version_minor": 0
            },
            "text/plain": [
              "model.safetensors:   0%|          | 0.00/90.9M [00:00<?, ?B/s]"
            ]
          },
          "metadata": {},
          "output_type": "display_data"
        },
        {
          "data": {
            "application/vnd.jupyter.widget-view+json": {
              "model_id": "716c46b519d34b36b88e0db757c976c3",
              "version_major": 2,
              "version_minor": 0
            },
            "text/plain": [
              "tokenizer_config.json:   0%|          | 0.00/350 [00:00<?, ?B/s]"
            ]
          },
          "metadata": {},
          "output_type": "display_data"
        },
        {
          "data": {
            "application/vnd.jupyter.widget-view+json": {
              "model_id": "d781b880fcb2476798c6f374735fe1a0",
              "version_major": 2,
              "version_minor": 0
            },
            "text/plain": [
              "vocab.txt:   0%|          | 0.00/232k [00:00<?, ?B/s]"
            ]
          },
          "metadata": {},
          "output_type": "display_data"
        },
        {
          "data": {
            "application/vnd.jupyter.widget-view+json": {
              "model_id": "8b0406f40e7746bd935ca12986c07861",
              "version_major": 2,
              "version_minor": 0
            },
            "text/plain": [
              "tokenizer.json:   0%|          | 0.00/466k [00:00<?, ?B/s]"
            ]
          },
          "metadata": {},
          "output_type": "display_data"
        },
        {
          "data": {
            "application/vnd.jupyter.widget-view+json": {
              "model_id": "fc81966c11924b74ad971a36e66e44aa",
              "version_major": 2,
              "version_minor": 0
            },
            "text/plain": [
              "special_tokens_map.json:   0%|          | 0.00/112 [00:00<?, ?B/s]"
            ]
          },
          "metadata": {},
          "output_type": "display_data"
        },
        {
          "data": {
            "application/vnd.jupyter.widget-view+json": {
              "model_id": "23a29880754145e886954ed677084b87",
              "version_major": 2,
              "version_minor": 0
            },
            "text/plain": [
              "1_Pooling/config.json:   0%|          | 0.00/190 [00:00<?, ?B/s]"
            ]
          },
          "metadata": {},
          "output_type": "display_data"
        }
      ],
      "source": [
        "from sentence_transformers import SentenceTransformer\n",
        "from sklearn.metrics.pairwise import cosine_similarity\n",
        "\n",
        "# Load pre-trained embedding model\n",
        "model = SentenceTransformer('all-MiniLM-L6-v2')\n",
        "\n",
        "def compute_alignment_features(resume_text, jd_text, transcript_text):\n",
        "    features = {}\n",
        "\n",
        "    # Embedding-based similarity\n",
        "    resume_embedding = model.encode([resume_text])[0]\n",
        "    jd_embedding = model.encode([jd_text])[0]\n",
        "    transcript_embedding = model.encode([transcript_text])[0]\n",
        "\n",
        "    features['resume_jd_similarity'] = cosine_similarity([resume_embedding], [jd_embedding])[0][0]\n",
        "    features['transcript_jd_similarity'] = cosine_similarity([transcript_embedding], [jd_embedding])[0][0]\n",
        "\n",
        "    return features\n"
      ]
    },
    {
      "cell_type": "code",
      "execution_count": 4,
      "metadata": {
        "id": "XzSrxOykrZD_"
      },
      "outputs": [],
      "source": [
        "data = pd.read_excel('/content/drive/MyDrive/final_data.xlsx')"
      ]
    },
    {
      "cell_type": "code",
      "execution_count": 99,
      "metadata": {
        "id": "uigVxkvnvkTH"
      },
      "outputs": [],
      "source": [
        "# Sentiment analysis using TestBlob library"
      ]
    },
    {
      "cell_type": "code",
      "execution_count": 5,
      "metadata": {
        "id": "-5AQqq2lrZA2"
      },
      "outputs": [],
      "source": [
        "from textblob import TextBlob\n",
        "\n",
        "def analyze_sentiment(text):\n",
        "    # Create a TextBlob object\n",
        "    blob = TextBlob(text)\n",
        "\n",
        "    # Get the sentiment polarity\n",
        "    polarity = blob.sentiment.polarity\n",
        "\n",
        "    return polarity"
      ]
    },
    {
      "cell_type": "code",
      "execution_count": 6,
      "metadata": {
        "id": "wtQZm3lvrY9_"
      },
      "outputs": [],
      "source": [
        "data['Transcript_sentiment'] = data['Transcript_processed'].apply(analyze_sentiment)\n",
        "data['Resume_sentiment'] = data['Resume_processed'].apply(analyze_sentiment)\n",
        "data['JobDescription_sentiment'] = data['Job_Description_processed'].apply(analyze_sentiment)"
      ]
    },
    {
      "cell_type": "code",
      "execution_count": 100,
      "metadata": {
        "id": "fcMcXQz5vpnN"
      },
      "outputs": [],
      "source": [
        "# Word count feature"
      ]
    },
    {
      "cell_type": "code",
      "execution_count": 7,
      "metadata": {
        "id": "cMcL7U3nrY68"
      },
      "outputs": [],
      "source": [
        "def word_counts(text):\n",
        "    return len(text.split())"
      ]
    },
    {
      "cell_type": "code",
      "execution_count": 8,
      "metadata": {
        "id": "yn3M7knxrY3_"
      },
      "outputs": [],
      "source": [
        "data['Transcript_words'] = data['Transcript_processed'].apply(word_counts)\n",
        "data['Resume_words'] = data['Resume_processed'].apply(word_counts)"
      ]
    },
    {
      "cell_type": "code",
      "execution_count": 101,
      "metadata": {
        "id": "250iJ4QBvs0b"
      },
      "outputs": [],
      "source": [
        "# Extracting years of experience"
      ]
    },
    {
      "cell_type": "code",
      "execution_count": 9,
      "metadata": {
        "id": "iRCwDvzarY1C"
      },
      "outputs": [],
      "source": [
        "import re\n",
        "from datetime import datetime\n",
        "\n",
        "def extract_years_of_experience(text):\n",
        "    # Regular expression to extract years and date ranges\n",
        "    date_ranges = re.findall(r\"(\\d{4})-(present|\\d{4})\", text.lower())\n",
        "\n",
        "    total_years = 0\n",
        "    current_year = datetime.now().year\n",
        "\n",
        "    for start, end in date_ranges:\n",
        "        start_year = int(start)\n",
        "        end_year = current_year if end == \"present\" else int(end)\n",
        "\n",
        "        total_years += (end_year - start_year)\n",
        "\n",
        "    return total_years\n",
        "data['Years_Experience']=data['Resume'].apply(extract_years_of_experience)"
      ]
    },
    {
      "cell_type": "code",
      "execution_count": 103,
      "metadata": {
        "id": "DeGKlFgLvwbm"
      },
      "outputs": [],
      "source": [
        "# Function for calculating Tf-Idf vectorizer embeddings and then similarity"
      ]
    },
    {
      "cell_type": "code",
      "execution_count": 10,
      "metadata": {
        "id": "u60XUTzmrYx-"
      },
      "outputs": [],
      "source": [
        "def compute_tfidf_cosine_similarity(data, col1, col2):\n",
        "    \"\"\"\n",
        "    Computes cosine similarity between resumes and job descriptions using TF-IDF.\n",
        "\n",
        "    Parameters:\n",
        "    - data (pd.DataFrame): Dataset containing resumes and job descriptions.\n",
        "    - resume_col (str): Column name for resumes.\n",
        "    - jd_col (str): Column name for job descriptions.\n",
        "\n",
        "    Returns:\n",
        "    - similarities (list): List of cosine similarity scores for each resume-JD pair.\n",
        "    \"\"\"\n",
        "    similarities = []\n",
        "    tfidf_vectorizer = TfidfVectorizer(stop_words='english')\n",
        "\n",
        "    for _, row in data.iterrows():\n",
        "        resume_text = row[col1]\n",
        "        jd_text = row[col2]\n",
        "\n",
        "        # Combine texts for consistent vectorization\n",
        "        texts = [resume_text, jd_text]\n",
        "        tfidf_matrix = tfidf_vectorizer.fit_transform(texts)\n",
        "\n",
        "        # Convert sparse matrix to dense\n",
        "        tfidf_dense = tfidf_matrix.toarray()\n",
        "\n",
        "        # Padding vectors (if needed for consistency)\n",
        "        max_length = max(len(vector) for vector in tfidf_dense)\n",
        "        padded_vectors = np.array([np.pad(vector, (0, max_length - len(vector))) for vector in tfidf_dense])\n",
        "\n",
        "        # Compute cosine similarity\n",
        "        similarity = cosine_similarity(padded_vectors[0].reshape(1, -1), padded_vectors[1].reshape(1, -1))\n",
        "        similarities.append(similarity[0][0])\n",
        "\n",
        "    return similarities"
      ]
    },
    {
      "cell_type": "code",
      "execution_count": 11,
      "metadata": {
        "id": "Kyabr5hBuMzA"
      },
      "outputs": [],
      "source": [
        "data['resume_jd_similarity'] = compute_tfidf_cosine_similarity(data , 'Resume_processed' , 'Job_Description_processed')"
      ]
    },
    {
      "cell_type": "code",
      "execution_count": 12,
      "metadata": {
        "id": "PXSSYKQLuMvm"
      },
      "outputs": [],
      "source": [
        "data['Transcript_jd_similarity'] = compute_tfidf_cosine_similarity(data , 'Transcript_processed' , 'Job_Description_processed')"
      ]
    },
    {
      "cell_type": "code",
      "execution_count": 13,
      "metadata": {
        "id": "199pCH0-uMtB"
      },
      "outputs": [],
      "source": [
        "data['resume_transcript_similarity'] = compute_tfidf_cosine_similarity(data , 'Resume_processed' , 'Transcript_processed')"
      ]
    },
    {
      "cell_type": "code",
      "execution_count": 14,
      "metadata": {
        "colab": {
          "base_uri": "https://localhost:8080/"
        },
        "id": "4wzKvOWdv5GG",
        "outputId": "6c8265f2-38eb-4cda-bc73-664eff937c69"
      },
      "outputs": [
        {
          "name": "stderr",
          "output_type": "stream",
          "text": [
            "[nltk_data] Downloading package punkt_tab to /root/nltk_data...\n",
            "[nltk_data]   Unzipping tokenizers/punkt_tab.zip.\n"
          ]
        },
        {
          "data": {
            "text/plain": [
              "True"
            ]
          },
          "execution_count": 14,
          "metadata": {},
          "output_type": "execute_result"
        }
      ],
      "source": [
        "import nltk\n",
        "nltk.download('punkt_tab')"
      ]
    },
    {
      "cell_type": "code",
      "execution_count": 15,
      "metadata": {
        "id": "4_vnZ_DOzH4i"
      },
      "outputs": [],
      "source": [
        "import re\n",
        "from nltk.tokenize import word_tokenize, sent_tokenize"
      ]
    },
    {
      "cell_type": "code",
      "execution_count": 104,
      "metadata": {
        "id": "lAVwPtClv6OM"
      },
      "outputs": [],
      "source": [
        "## Finding Resume and Job description based features like , skill match count and no.of education degrees from b.tech on wards , etc.."
      ]
    },
    {
      "cell_type": "code",
      "execution_count": 16,
      "metadata": {
        "id": "7woHUVgZuMqY"
      },
      "outputs": [],
      "source": [
        "def extract_resume_features(resume_text, jd_text):\n",
        "    features = {}\n",
        "\n",
        "    # Length-based features\n",
        "    features['resume_sentence_count'] = len(sent_tokenize(resume_text))\n",
        "    features['resume_avg_word_length'] = sum(len(word) for word in word_tokenize(resume_text)) / len(word_tokenize(resume_text))\n",
        "\n",
        "    # Skill match features\n",
        "    jd_skills = set(re.findall(r'\\b[A-Za-z]+\\b', jd_text.lower()))\n",
        "    resume_skills = set(re.findall(r'\\b[A-Za-z]+\\b', resume_text.lower()))\n",
        "    features['skill_match_count'] = len(jd_skills & resume_skills)\n",
        "\n",
        "    # Education features\n",
        "    degrees = ['b.tech', 'm.tech', 'mba', 'phd', 'bachelor', 'master']\n",
        "    features['university_education_count'] = sum(1 for degree in degrees if degree in resume_text.lower())\n",
        "\n",
        "    return features\n"
      ]
    },
    {
      "cell_type": "code",
      "execution_count": 62,
      "metadata": {
        "id": "tTsZyY4wuMnv"
      },
      "outputs": [],
      "source": [
        "def process_dataset(data, resume_col, jd_col):\n",
        "    \"\"\"\n",
        "    Process a dataset to extract features for each resume-JD pair.\n",
        "\n",
        "    Parameters:\n",
        "    - data (pd.DataFrame): Dataset containing resumes and job descriptions.\n",
        "    - resume_col (str): Column name for resumes.\n",
        "    - jd_col (str): Column name for job descriptions.\n",
        "\n",
        "    Returns:\n",
        "    - pd.DataFrame: Original dataset with extracted features appended.\n",
        "    \"\"\"\n",
        "    extracted_features = []\n",
        "\n",
        "    for _, row in data.iterrows():\n",
        "        resume_text = row[resume_col]\n",
        "        jd_text = row[jd_col]\n",
        "        features = extract_resume_features(resume_text, jd_text)\n",
        "        extracted_features.append(features)\n",
        "\n",
        "    # Combine features into a DataFrame\n",
        "    features_df = pd.DataFrame(extracted_features)\n",
        "    return pd.concat([data, features_df], axis=1)\n",
        "\n",
        "# Process the dataset\n",
        "processed_data = process_dataset(data, \"Resume_processed\", \"Job_Description_processed\")\n"
      ]
    },
    {
      "cell_type": "code",
      "execution_count": 18,
      "metadata": {
        "colab": {
          "base_uri": "https://localhost:8080/"
        },
        "id": "O_j9UwOuuMlF",
        "outputId": "dfa28634-67bf-4d0c-ac4e-8066124521ed"
      },
      "outputs": [
        {
          "data": {
            "text/plain": [
              "Index(['Unnamed: 0', 'ID', 'Name', 'Role', 'Transcript', 'Resume', 'decision',\n",
              "       'Reason for decision', 'Job Description', 'Transcript_processed',\n",
              "       'Resume_processed', 'Job_Description_processed', 'Transcript_sentiment',\n",
              "       'Resume_sentiment', 'JobDescription_sentiment', 'Transcript_words',\n",
              "       'Resume_words', 'Years_Experience', 'resume_jd_similarity',\n",
              "       'Transcript_jd_similarity', 'resume_transcript_similarity',\n",
              "       'resume_sentence_count', 'resume_avg_word_length', 'skill_match_count',\n",
              "       'university_education_count'],\n",
              "      dtype='object')"
            ]
          },
          "execution_count": 18,
          "metadata": {},
          "output_type": "execute_result"
        }
      ],
      "source": [
        "processed_data.columns"
      ]
    },
    {
      "cell_type": "code",
      "execution_count": 105,
      "metadata": {
        "id": "ZbToKDPnwK1a"
      },
      "outputs": [],
      "source": [
        "## Extracting the features from transcript like vocabulary diversity , avg_sentence_length"
      ]
    },
    {
      "cell_type": "code",
      "execution_count": 19,
      "metadata": {
        "id": "9YmLvs44rYuq"
      },
      "outputs": [],
      "source": [
        "def extract_transcript_features(transcript_text):\n",
        "    features = {}\n",
        "    # Language features\n",
        "    features['transcript_vocab_diversity'] = len(set(word_tokenize(transcript_text))) / len(word_tokenize(transcript_text))\n",
        "    features['transcript_avg_sentence_length'] = sum(len(sent.split()) for sent in sent_tokenize(transcript_text)) / len(sent_tokenize(transcript_text))\n",
        "    return features\n"
      ]
    },
    {
      "cell_type": "code",
      "execution_count": 63,
      "metadata": {
        "id": "qhFYOADArYrX"
      },
      "outputs": [],
      "source": [
        "def process_transcript(data, transcript_col = 'Transcript_processed'):\n",
        "    extracted_features = []\n",
        "\n",
        "    for _, row in data.iterrows():\n",
        "        transcript_text = row[transcript_col]\n",
        "        features = extract_transcript_features(transcript_text)\n",
        "        extracted_features.append(features)\n",
        "\n",
        "    # Combine features into a DataFrame\n",
        "    features_df = pd.DataFrame(extracted_features)\n",
        "    return pd.concat([data, features_df], axis=1)\n",
        "\n",
        "# Process the dataset\n",
        "processed_data = process_transcript(processed_data)\n"
      ]
    },
    {
      "cell_type": "code",
      "execution_count": 21,
      "metadata": {
        "colab": {
          "base_uri": "https://localhost:8080/"
        },
        "id": "iQ6UaKXdw482",
        "outputId": "a5094cf3-dfc8-4585-a110-99ed1832f67c"
      },
      "outputs": [
        {
          "data": {
            "text/plain": [
              "Index(['Unnamed: 0', 'ID', 'Name', 'Role', 'Transcript', 'Resume', 'decision',\n",
              "       'Reason for decision', 'Job Description', 'Transcript_processed',\n",
              "       'Resume_processed', 'Job_Description_processed', 'Transcript_sentiment',\n",
              "       'Resume_sentiment', 'JobDescription_sentiment', 'Transcript_words',\n",
              "       'Resume_words', 'Years_Experience', 'resume_jd_similarity',\n",
              "       'Transcript_jd_similarity', 'resume_transcript_similarity',\n",
              "       'resume_sentence_count', 'resume_avg_word_length', 'skill_match_count',\n",
              "       'university_education_count', 'transcript_vocab_diversity',\n",
              "       'transcript_avg_sentence_length'],\n",
              "      dtype='object')"
            ]
          },
          "execution_count": 21,
          "metadata": {},
          "output_type": "execute_result"
        }
      ],
      "source": [
        "processed_data.columns"
      ]
    },
    {
      "cell_type": "code",
      "execution_count": 22,
      "metadata": {
        "id": "3gMEJAJHw45g"
      },
      "outputs": [],
      "source": [
        "processed_data.to_excel('final_data_features.xlsx')"
      ]
    },
    {
      "cell_type": "markdown",
      "metadata": {
        "id": "EeeCvjIswpXt"
      },
      "source": [
        "# ***Building Complete models using Tf-Idf embeddings similarity:***"
      ]
    },
    {
      "cell_type": "code",
      "execution_count": 107,
      "metadata": {
        "id": "T5sgtnDiw71b"
      },
      "outputs": [],
      "source": [
        "import warnings\n",
        "\n",
        "# Ignore all warnings\n",
        "warnings.filterwarnings(\"ignore\")\n"
      ]
    },
    {
      "cell_type": "code",
      "execution_count": 108,
      "metadata": {
        "id": "T8XHXCs_w42a"
      },
      "outputs": [],
      "source": [
        "req_data = processed_data[['Transcript_sentiment',\n",
        "       'Resume_sentiment', 'JobDescription_sentiment', 'Transcript_words',\n",
        "       'Resume_words', 'Years_Experience', 'resume_jd_similarity',\n",
        "       'Transcript_jd_similarity', 'resume_transcript_similarity',\n",
        "       'resume_sentence_count', 'resume_avg_word_length', 'skill_match_count',\n",
        "       'university_education_count', 'transcript_vocab_diversity',\n",
        "       'transcript_avg_sentence_length' , 'decision']]"
      ]
    },
    {
      "cell_type": "code",
      "execution_count": 109,
      "metadata": {
        "id": "S1UqZ3Fhw4xK"
      },
      "outputs": [],
      "source": [
        "req_data['decision_processed'] = req_data['decision'].apply(lambda x : 1 if x == 'select' else 0)"
      ]
    },
    {
      "cell_type": "code",
      "execution_count": 110,
      "metadata": {
        "colab": {
          "base_uri": "https://localhost:8080/",
          "height": 226
        },
        "id": "J7ASI4llw4tq",
        "outputId": "f77de831-0df6-48c5-9afa-0e1de51187ca"
      },
      "outputs": [
        {
          "data": {
            "application/vnd.google.colaboratory.intrinsic+json": {
              "summary": "{\n  \"name\": \"req_data\",\n  \"rows\": 2958,\n  \"fields\": [\n    {\n      \"column\": \"Transcript_sentiment\",\n      \"properties\": {\n        \"dtype\": \"number\",\n        \"std\": 0.0531220858590305,\n        \"min\": 0.04273399014778325,\n        \"max\": 0.39711538461538465,\n        \"num_unique_values\": 2955,\n        \"samples\": [\n          0.285547599280476,\n          0.23088135822510822,\n          0.23756038647342997\n        ],\n        \"semantic_type\": \"\",\n        \"description\": \"\"\n      }\n    },\n    {\n      \"column\": \"Resume_sentiment\",\n      \"properties\": {\n        \"dtype\": \"number\",\n        \"std\": 0.08317834000146401,\n        \"min\": -0.3,\n        \"max\": 0.5076923076923078,\n        \"num_unique_values\": 2820,\n        \"samples\": [\n          0.1586080586080586,\n          0.21111111111111114,\n          0.09821428571428571\n        ],\n        \"semantic_type\": \"\",\n        \"description\": \"\"\n      }\n    },\n    {\n      \"column\": \"JobDescription_sentiment\",\n      \"properties\": {\n        \"dtype\": \"number\",\n        \"std\": 0.23956202490784237,\n        \"min\": -0.07142857142857142,\n        \"max\": 1.0,\n        \"num_unique_values\": 547,\n        \"samples\": [\n          0.19347041847041846,\n          0.3493722943722944,\n          0.29493207941483807\n        ],\n        \"semantic_type\": \"\",\n        \"description\": \"\"\n      }\n    },\n    {\n      \"column\": \"Transcript_words\",\n      \"properties\": {\n        \"dtype\": \"number\",\n        \"std\": 84,\n        \"min\": 36,\n        \"max\": 673,\n        \"num_unique_values\": 405,\n        \"samples\": [\n          283,\n          673,\n          48\n        ],\n        \"semantic_type\": \"\",\n        \"description\": \"\"\n      }\n    },\n    {\n      \"column\": \"Resume_words\",\n      \"properties\": {\n        \"dtype\": \"number\",\n        \"std\": 42,\n        \"min\": 59,\n        \"max\": 428,\n        \"num_unique_values\": 236,\n        \"samples\": [\n          214,\n          374,\n          361\n        ],\n        \"semantic_type\": \"\",\n        \"description\": \"\"\n      }\n    },\n    {\n      \"column\": \"Years_Experience\",\n      \"properties\": {\n        \"dtype\": \"number\",\n        \"std\": 6,\n        \"min\": 0,\n        \"max\": 155,\n        \"num_unique_values\": 31,\n        \"samples\": [\n          29,\n          19,\n          60\n        ],\n        \"semantic_type\": \"\",\n        \"description\": \"\"\n      }\n    },\n    {\n      \"column\": \"resume_jd_similarity\",\n      \"properties\": {\n        \"dtype\": \"number\",\n        \"std\": 0.17098125247806775,\n        \"min\": 0.0,\n        \"max\": 0.7837771865169355,\n        \"num_unique_values\": 2951,\n        \"samples\": [\n          0.11971830274696028,\n          0.36919756678467797,\n          0.18339456737448379\n        ],\n        \"semantic_type\": \"\",\n        \"description\": \"\"\n      }\n    },\n    {\n      \"column\": \"Transcript_jd_similarity\",\n      \"properties\": {\n        \"dtype\": \"number\",\n        \"std\": 0.12310468764860816,\n        \"min\": 0.0,\n        \"max\": 0.7482024751731873,\n        \"num_unique_values\": 2958,\n        \"samples\": [\n          0.19678697486353974,\n          0.25099715110579657,\n          0.11955806204100196\n        ],\n        \"semantic_type\": \"\",\n        \"description\": \"\"\n      }\n    },\n    {\n      \"column\": \"resume_transcript_similarity\",\n      \"properties\": {\n        \"dtype\": \"number\",\n        \"std\": 0.1258085405080538,\n        \"min\": 0.07580022070982705,\n        \"max\": 0.7506529197255367,\n        \"num_unique_values\": 2958,\n        \"samples\": [\n          0.21020339213324127,\n          0.48663954588458114,\n          0.4419637942883183\n        ],\n        \"semantic_type\": \"\",\n        \"description\": \"\"\n      }\n    },\n    {\n      \"column\": \"resume_sentence_count\",\n      \"properties\": {\n        \"dtype\": \"number\",\n        \"std\": 0,\n        \"min\": 1,\n        \"max\": 1,\n        \"num_unique_values\": 1,\n        \"samples\": [\n          1\n        ],\n        \"semantic_type\": \"\",\n        \"description\": \"\"\n      }\n    },\n    {\n      \"column\": \"resume_avg_word_length\",\n      \"properties\": {\n        \"dtype\": \"number\",\n        \"std\": 0.2859166711100166,\n        \"min\": 6.384920634920635,\n        \"max\": 8.368181818181819,\n        \"num_unique_values\": 2762,\n        \"samples\": [\n          7.192622950819672\n        ],\n        \"semantic_type\": \"\",\n        \"description\": \"\"\n      }\n    },\n    {\n      \"column\": \"skill_match_count\",\n      \"properties\": {\n        \"dtype\": \"number\",\n        \"std\": 22,\n        \"min\": 0,\n        \"max\": 92,\n        \"num_unique_values\": 71,\n        \"samples\": [\n          54\n        ],\n        \"semantic_type\": \"\",\n        \"description\": \"\"\n      }\n    },\n    {\n      \"column\": \"university_education_count\",\n      \"properties\": {\n        \"dtype\": \"number\",\n        \"std\": 0,\n        \"min\": 0,\n        \"max\": 3,\n        \"num_unique_values\": 4,\n        \"samples\": [\n          1\n        ],\n        \"semantic_type\": \"\",\n        \"description\": \"\"\n      }\n    },\n    {\n      \"column\": \"transcript_vocab_diversity\",\n      \"properties\": {\n        \"dtype\": \"number\",\n        \"std\": 0.052758061822257694,\n        \"min\": 0.34896810506566606,\n        \"max\": 0.8888888888888888,\n        \"num_unique_values\": 2519,\n        \"samples\": [\n          0.6232686980609419\n        ],\n        \"semantic_type\": \"\",\n        \"description\": \"\"\n      }\n    },\n    {\n      \"column\": \"transcript_avg_sentence_length\",\n      \"properties\": {\n        \"dtype\": \"number\",\n        \"std\": 84.85334455886623,\n        \"min\": 36.0,\n        \"max\": 673.0,\n        \"num_unique_values\": 405,\n        \"samples\": [\n          283.0\n        ],\n        \"semantic_type\": \"\",\n        \"description\": \"\"\n      }\n    },\n    {\n      \"column\": \"decision\",\n      \"properties\": {\n        \"dtype\": \"category\",\n        \"num_unique_values\": 2,\n        \"samples\": [\n          \"reject\"\n        ],\n        \"semantic_type\": \"\",\n        \"description\": \"\"\n      }\n    },\n    {\n      \"column\": \"decision_processed\",\n      \"properties\": {\n        \"dtype\": \"number\",\n        \"std\": 0,\n        \"min\": 0,\n        \"max\": 1,\n        \"num_unique_values\": 2,\n        \"samples\": [\n          0\n        ],\n        \"semantic_type\": \"\",\n        \"description\": \"\"\n      }\n    }\n  ]\n}",
              "type": "dataframe",
              "variable_name": "req_data"
            },
            "text/html": [
              "\n",
              "  <div id=\"df-a24ee283-e25c-49ef-b549-7ded0cd0fcaf\" class=\"colab-df-container\">\n",
              "    <div>\n",
              "<style scoped>\n",
              "    .dataframe tbody tr th:only-of-type {\n",
              "        vertical-align: middle;\n",
              "    }\n",
              "\n",
              "    .dataframe tbody tr th {\n",
              "        vertical-align: top;\n",
              "    }\n",
              "\n",
              "    .dataframe thead th {\n",
              "        text-align: right;\n",
              "    }\n",
              "</style>\n",
              "<table border=\"1\" class=\"dataframe\">\n",
              "  <thead>\n",
              "    <tr style=\"text-align: right;\">\n",
              "      <th></th>\n",
              "      <th>Transcript_sentiment</th>\n",
              "      <th>Resume_sentiment</th>\n",
              "      <th>JobDescription_sentiment</th>\n",
              "      <th>Transcript_words</th>\n",
              "      <th>Resume_words</th>\n",
              "      <th>Years_Experience</th>\n",
              "      <th>resume_jd_similarity</th>\n",
              "      <th>Transcript_jd_similarity</th>\n",
              "      <th>resume_transcript_similarity</th>\n",
              "      <th>resume_sentence_count</th>\n",
              "      <th>resume_avg_word_length</th>\n",
              "      <th>skill_match_count</th>\n",
              "      <th>university_education_count</th>\n",
              "      <th>transcript_vocab_diversity</th>\n",
              "      <th>transcript_avg_sentence_length</th>\n",
              "      <th>decision</th>\n",
              "      <th>decision_processed</th>\n",
              "    </tr>\n",
              "  </thead>\n",
              "  <tbody>\n",
              "    <tr>\n",
              "      <th>0</th>\n",
              "      <td>0.270412</td>\n",
              "      <td>0.307407</td>\n",
              "      <td>0.50</td>\n",
              "      <td>348</td>\n",
              "      <td>221</td>\n",
              "      <td>14</td>\n",
              "      <td>0.268642</td>\n",
              "      <td>0.203080</td>\n",
              "      <td>0.226753</td>\n",
              "      <td>1</td>\n",
              "      <td>7.737557</td>\n",
              "      <td>8</td>\n",
              "      <td>2</td>\n",
              "      <td>0.548851</td>\n",
              "      <td>348.0</td>\n",
              "      <td>select</td>\n",
              "      <td>1</td>\n",
              "    </tr>\n",
              "    <tr>\n",
              "      <th>1</th>\n",
              "      <td>0.296350</td>\n",
              "      <td>0.130833</td>\n",
              "      <td>0.50</td>\n",
              "      <td>387</td>\n",
              "      <td>241</td>\n",
              "      <td>11</td>\n",
              "      <td>0.238920</td>\n",
              "      <td>0.098115</td>\n",
              "      <td>0.169317</td>\n",
              "      <td>1</td>\n",
              "      <td>7.676349</td>\n",
              "      <td>7</td>\n",
              "      <td>2</td>\n",
              "      <td>0.591731</td>\n",
              "      <td>387.0</td>\n",
              "      <td>select</td>\n",
              "      <td>1</td>\n",
              "    </tr>\n",
              "    <tr>\n",
              "      <th>2</th>\n",
              "      <td>0.173791</td>\n",
              "      <td>0.202970</td>\n",
              "      <td>0.50</td>\n",
              "      <td>282</td>\n",
              "      <td>255</td>\n",
              "      <td>14</td>\n",
              "      <td>0.375988</td>\n",
              "      <td>0.155779</td>\n",
              "      <td>0.346429</td>\n",
              "      <td>1</td>\n",
              "      <td>7.117647</td>\n",
              "      <td>9</td>\n",
              "      <td>1</td>\n",
              "      <td>0.475177</td>\n",
              "      <td>282.0</td>\n",
              "      <td>reject</td>\n",
              "      <td>0</td>\n",
              "    </tr>\n",
              "    <tr>\n",
              "      <th>3</th>\n",
              "      <td>0.198376</td>\n",
              "      <td>0.131515</td>\n",
              "      <td>0.50</td>\n",
              "      <td>402</td>\n",
              "      <td>237</td>\n",
              "      <td>7</td>\n",
              "      <td>0.248950</td>\n",
              "      <td>0.175580</td>\n",
              "      <td>0.235884</td>\n",
              "      <td>1</td>\n",
              "      <td>7.130802</td>\n",
              "      <td>7</td>\n",
              "      <td>1</td>\n",
              "      <td>0.519900</td>\n",
              "      <td>402.0</td>\n",
              "      <td>select</td>\n",
              "      <td>1</td>\n",
              "    </tr>\n",
              "    <tr>\n",
              "      <th>4</th>\n",
              "      <td>0.324771</td>\n",
              "      <td>0.111750</td>\n",
              "      <td>0.25</td>\n",
              "      <td>306</td>\n",
              "      <td>299</td>\n",
              "      <td>0</td>\n",
              "      <td>0.307717</td>\n",
              "      <td>0.113163</td>\n",
              "      <td>0.180783</td>\n",
              "      <td>1</td>\n",
              "      <td>7.394649</td>\n",
              "      <td>9</td>\n",
              "      <td>2</td>\n",
              "      <td>0.522876</td>\n",
              "      <td>306.0</td>\n",
              "      <td>reject</td>\n",
              "      <td>0</td>\n",
              "    </tr>\n",
              "  </tbody>\n",
              "</table>\n",
              "</div>\n",
              "    <div class=\"colab-df-buttons\">\n",
              "\n",
              "  <div class=\"colab-df-container\">\n",
              "    <button class=\"colab-df-convert\" onclick=\"convertToInteractive('df-a24ee283-e25c-49ef-b549-7ded0cd0fcaf')\"\n",
              "            title=\"Convert this dataframe to an interactive table.\"\n",
              "            style=\"display:none;\">\n",
              "\n",
              "  <svg xmlns=\"http://www.w3.org/2000/svg\" height=\"24px\" viewBox=\"0 -960 960 960\">\n",
              "    <path d=\"M120-120v-720h720v720H120Zm60-500h600v-160H180v160Zm220 220h160v-160H400v160Zm0 220h160v-160H400v160ZM180-400h160v-160H180v160Zm440 0h160v-160H620v160ZM180-180h160v-160H180v160Zm440 0h160v-160H620v160Z\"/>\n",
              "  </svg>\n",
              "    </button>\n",
              "\n",
              "  <style>\n",
              "    .colab-df-container {\n",
              "      display:flex;\n",
              "      gap: 12px;\n",
              "    }\n",
              "\n",
              "    .colab-df-convert {\n",
              "      background-color: #E8F0FE;\n",
              "      border: none;\n",
              "      border-radius: 50%;\n",
              "      cursor: pointer;\n",
              "      display: none;\n",
              "      fill: #1967D2;\n",
              "      height: 32px;\n",
              "      padding: 0 0 0 0;\n",
              "      width: 32px;\n",
              "    }\n",
              "\n",
              "    .colab-df-convert:hover {\n",
              "      background-color: #E2EBFA;\n",
              "      box-shadow: 0px 1px 2px rgba(60, 64, 67, 0.3), 0px 1px 3px 1px rgba(60, 64, 67, 0.15);\n",
              "      fill: #174EA6;\n",
              "    }\n",
              "\n",
              "    .colab-df-buttons div {\n",
              "      margin-bottom: 4px;\n",
              "    }\n",
              "\n",
              "    [theme=dark] .colab-df-convert {\n",
              "      background-color: #3B4455;\n",
              "      fill: #D2E3FC;\n",
              "    }\n",
              "\n",
              "    [theme=dark] .colab-df-convert:hover {\n",
              "      background-color: #434B5C;\n",
              "      box-shadow: 0px 1px 3px 1px rgba(0, 0, 0, 0.15);\n",
              "      filter: drop-shadow(0px 1px 2px rgba(0, 0, 0, 0.3));\n",
              "      fill: #FFFFFF;\n",
              "    }\n",
              "  </style>\n",
              "\n",
              "    <script>\n",
              "      const buttonEl =\n",
              "        document.querySelector('#df-a24ee283-e25c-49ef-b549-7ded0cd0fcaf button.colab-df-convert');\n",
              "      buttonEl.style.display =\n",
              "        google.colab.kernel.accessAllowed ? 'block' : 'none';\n",
              "\n",
              "      async function convertToInteractive(key) {\n",
              "        const element = document.querySelector('#df-a24ee283-e25c-49ef-b549-7ded0cd0fcaf');\n",
              "        const dataTable =\n",
              "          await google.colab.kernel.invokeFunction('convertToInteractive',\n",
              "                                                    [key], {});\n",
              "        if (!dataTable) return;\n",
              "\n",
              "        const docLinkHtml = 'Like what you see? Visit the ' +\n",
              "          '<a target=\"_blank\" href=https://colab.research.google.com/notebooks/data_table.ipynb>data table notebook</a>'\n",
              "          + ' to learn more about interactive tables.';\n",
              "        element.innerHTML = '';\n",
              "        dataTable['output_type'] = 'display_data';\n",
              "        await google.colab.output.renderOutput(dataTable, element);\n",
              "        const docLink = document.createElement('div');\n",
              "        docLink.innerHTML = docLinkHtml;\n",
              "        element.appendChild(docLink);\n",
              "      }\n",
              "    </script>\n",
              "  </div>\n",
              "\n",
              "\n",
              "<div id=\"df-07e04483-5f21-4221-850b-3e229a5dbc83\">\n",
              "  <button class=\"colab-df-quickchart\" onclick=\"quickchart('df-07e04483-5f21-4221-850b-3e229a5dbc83')\"\n",
              "            title=\"Suggest charts\"\n",
              "            style=\"display:none;\">\n",
              "\n",
              "<svg xmlns=\"http://www.w3.org/2000/svg\" height=\"24px\"viewBox=\"0 0 24 24\"\n",
              "     width=\"24px\">\n",
              "    <g>\n",
              "        <path d=\"M19 3H5c-1.1 0-2 .9-2 2v14c0 1.1.9 2 2 2h14c1.1 0 2-.9 2-2V5c0-1.1-.9-2-2-2zM9 17H7v-7h2v7zm4 0h-2V7h2v10zm4 0h-2v-4h2v4z\"/>\n",
              "    </g>\n",
              "</svg>\n",
              "  </button>\n",
              "\n",
              "<style>\n",
              "  .colab-df-quickchart {\n",
              "      --bg-color: #E8F0FE;\n",
              "      --fill-color: #1967D2;\n",
              "      --hover-bg-color: #E2EBFA;\n",
              "      --hover-fill-color: #174EA6;\n",
              "      --disabled-fill-color: #AAA;\n",
              "      --disabled-bg-color: #DDD;\n",
              "  }\n",
              "\n",
              "  [theme=dark] .colab-df-quickchart {\n",
              "      --bg-color: #3B4455;\n",
              "      --fill-color: #D2E3FC;\n",
              "      --hover-bg-color: #434B5C;\n",
              "      --hover-fill-color: #FFFFFF;\n",
              "      --disabled-bg-color: #3B4455;\n",
              "      --disabled-fill-color: #666;\n",
              "  }\n",
              "\n",
              "  .colab-df-quickchart {\n",
              "    background-color: var(--bg-color);\n",
              "    border: none;\n",
              "    border-radius: 50%;\n",
              "    cursor: pointer;\n",
              "    display: none;\n",
              "    fill: var(--fill-color);\n",
              "    height: 32px;\n",
              "    padding: 0;\n",
              "    width: 32px;\n",
              "  }\n",
              "\n",
              "  .colab-df-quickchart:hover {\n",
              "    background-color: var(--hover-bg-color);\n",
              "    box-shadow: 0 1px 2px rgba(60, 64, 67, 0.3), 0 1px 3px 1px rgba(60, 64, 67, 0.15);\n",
              "    fill: var(--button-hover-fill-color);\n",
              "  }\n",
              "\n",
              "  .colab-df-quickchart-complete:disabled,\n",
              "  .colab-df-quickchart-complete:disabled:hover {\n",
              "    background-color: var(--disabled-bg-color);\n",
              "    fill: var(--disabled-fill-color);\n",
              "    box-shadow: none;\n",
              "  }\n",
              "\n",
              "  .colab-df-spinner {\n",
              "    border: 2px solid var(--fill-color);\n",
              "    border-color: transparent;\n",
              "    border-bottom-color: var(--fill-color);\n",
              "    animation:\n",
              "      spin 1s steps(1) infinite;\n",
              "  }\n",
              "\n",
              "  @keyframes spin {\n",
              "    0% {\n",
              "      border-color: transparent;\n",
              "      border-bottom-color: var(--fill-color);\n",
              "      border-left-color: var(--fill-color);\n",
              "    }\n",
              "    20% {\n",
              "      border-color: transparent;\n",
              "      border-left-color: var(--fill-color);\n",
              "      border-top-color: var(--fill-color);\n",
              "    }\n",
              "    30% {\n",
              "      border-color: transparent;\n",
              "      border-left-color: var(--fill-color);\n",
              "      border-top-color: var(--fill-color);\n",
              "      border-right-color: var(--fill-color);\n",
              "    }\n",
              "    40% {\n",
              "      border-color: transparent;\n",
              "      border-right-color: var(--fill-color);\n",
              "      border-top-color: var(--fill-color);\n",
              "    }\n",
              "    60% {\n",
              "      border-color: transparent;\n",
              "      border-right-color: var(--fill-color);\n",
              "    }\n",
              "    80% {\n",
              "      border-color: transparent;\n",
              "      border-right-color: var(--fill-color);\n",
              "      border-bottom-color: var(--fill-color);\n",
              "    }\n",
              "    90% {\n",
              "      border-color: transparent;\n",
              "      border-bottom-color: var(--fill-color);\n",
              "    }\n",
              "  }\n",
              "</style>\n",
              "\n",
              "  <script>\n",
              "    async function quickchart(key) {\n",
              "      const quickchartButtonEl =\n",
              "        document.querySelector('#' + key + ' button');\n",
              "      quickchartButtonEl.disabled = true;  // To prevent multiple clicks.\n",
              "      quickchartButtonEl.classList.add('colab-df-spinner');\n",
              "      try {\n",
              "        const charts = await google.colab.kernel.invokeFunction(\n",
              "            'suggestCharts', [key], {});\n",
              "      } catch (error) {\n",
              "        console.error('Error during call to suggestCharts:', error);\n",
              "      }\n",
              "      quickchartButtonEl.classList.remove('colab-df-spinner');\n",
              "      quickchartButtonEl.classList.add('colab-df-quickchart-complete');\n",
              "    }\n",
              "    (() => {\n",
              "      let quickchartButtonEl =\n",
              "        document.querySelector('#df-07e04483-5f21-4221-850b-3e229a5dbc83 button');\n",
              "      quickchartButtonEl.style.display =\n",
              "        google.colab.kernel.accessAllowed ? 'block' : 'none';\n",
              "    })();\n",
              "  </script>\n",
              "</div>\n",
              "\n",
              "    </div>\n",
              "  </div>\n"
            ],
            "text/plain": [
              "   Transcript_sentiment  Resume_sentiment  JobDescription_sentiment  \\\n",
              "0              0.270412          0.307407                      0.50   \n",
              "1              0.296350          0.130833                      0.50   \n",
              "2              0.173791          0.202970                      0.50   \n",
              "3              0.198376          0.131515                      0.50   \n",
              "4              0.324771          0.111750                      0.25   \n",
              "\n",
              "   Transcript_words  Resume_words  Years_Experience  resume_jd_similarity  \\\n",
              "0               348           221                14              0.268642   \n",
              "1               387           241                11              0.238920   \n",
              "2               282           255                14              0.375988   \n",
              "3               402           237                 7              0.248950   \n",
              "4               306           299                 0              0.307717   \n",
              "\n",
              "   Transcript_jd_similarity  resume_transcript_similarity  \\\n",
              "0                  0.203080                      0.226753   \n",
              "1                  0.098115                      0.169317   \n",
              "2                  0.155779                      0.346429   \n",
              "3                  0.175580                      0.235884   \n",
              "4                  0.113163                      0.180783   \n",
              "\n",
              "   resume_sentence_count  resume_avg_word_length  skill_match_count  \\\n",
              "0                      1                7.737557                  8   \n",
              "1                      1                7.676349                  7   \n",
              "2                      1                7.117647                  9   \n",
              "3                      1                7.130802                  7   \n",
              "4                      1                7.394649                  9   \n",
              "\n",
              "   university_education_count  transcript_vocab_diversity  \\\n",
              "0                           2                    0.548851   \n",
              "1                           2                    0.591731   \n",
              "2                           1                    0.475177   \n",
              "3                           1                    0.519900   \n",
              "4                           2                    0.522876   \n",
              "\n",
              "   transcript_avg_sentence_length decision  decision_processed  \n",
              "0                           348.0   select                   1  \n",
              "1                           387.0   select                   1  \n",
              "2                           282.0   reject                   0  \n",
              "3                           402.0   select                   1  \n",
              "4                           306.0   reject                   0  "
            ]
          },
          "execution_count": 110,
          "metadata": {},
          "output_type": "execute_result"
        }
      ],
      "source": [
        "req_data.head()"
      ]
    },
    {
      "cell_type": "markdown",
      "metadata": {
        "id": "sD6nJsmO104E"
      },
      "source": [
        "1. Splitting the data for training and testing  "
      ]
    },
    {
      "cell_type": "code",
      "execution_count": 111,
      "metadata": {
        "id": "SFiql1LN1xc5"
      },
      "outputs": [],
      "source": [
        "x , y = req_data.drop(columns = ['decision' , 'decision_processed']) , req_data['decision_processed']"
      ]
    },
    {
      "cell_type": "code",
      "execution_count": 112,
      "metadata": {
        "id": "h_fxvkdew4rD"
      },
      "outputs": [],
      "source": [
        "train_x , test_x , train_y , test_y = train_test_split(x,y,train_size = 0.8 , random_state = 42)"
      ]
    },
    {
      "cell_type": "code",
      "execution_count": 113,
      "metadata": {
        "colab": {
          "base_uri": "https://localhost:8080/"
        },
        "id": "mNdsgarw3EJt",
        "outputId": "94af2b22-73de-44f8-9ea3-c6123c11c47f"
      },
      "outputs": [
        {
          "name": "stdout",
          "output_type": "stream",
          "text": [
            "<class 'pandas.core.frame.DataFrame'>\n",
            "Index: 2366 entries, 2915 to 860\n",
            "Data columns (total 15 columns):\n",
            " #   Column                          Non-Null Count  Dtype  \n",
            "---  ------                          --------------  -----  \n",
            " 0   Transcript_sentiment            2366 non-null   float64\n",
            " 1   Resume_sentiment                2366 non-null   float64\n",
            " 2   JobDescription_sentiment        2366 non-null   float64\n",
            " 3   Transcript_words                2366 non-null   int64  \n",
            " 4   Resume_words                    2366 non-null   int64  \n",
            " 5   Years_Experience                2366 non-null   int64  \n",
            " 6   resume_jd_similarity            2366 non-null   float64\n",
            " 7   Transcript_jd_similarity        2366 non-null   float64\n",
            " 8   resume_transcript_similarity    2366 non-null   float64\n",
            " 9   resume_sentence_count           2366 non-null   int64  \n",
            " 10  resume_avg_word_length          2366 non-null   float64\n",
            " 11  skill_match_count               2366 non-null   int64  \n",
            " 12  university_education_count      2366 non-null   int64  \n",
            " 13  transcript_vocab_diversity      2366 non-null   float64\n",
            " 14  transcript_avg_sentence_length  2366 non-null   float64\n",
            "dtypes: float64(9), int64(6)\n",
            "memory usage: 295.8 KB\n"
          ]
        }
      ],
      "source": [
        "train_x.info()"
      ]
    },
    {
      "cell_type": "code",
      "execution_count": 114,
      "metadata": {
        "colab": {
          "base_uri": "https://localhost:8080/",
          "height": 241
        },
        "id": "T5R70S-O3EGn",
        "outputId": "045b3b4d-33f0-4a67-9e4f-f94e355d1b75"
      },
      "outputs": [
        {
          "data": {
            "text/html": [
              "<div>\n",
              "<style scoped>\n",
              "    .dataframe tbody tr th:only-of-type {\n",
              "        vertical-align: middle;\n",
              "    }\n",
              "\n",
              "    .dataframe tbody tr th {\n",
              "        vertical-align: top;\n",
              "    }\n",
              "\n",
              "    .dataframe thead th {\n",
              "        text-align: right;\n",
              "    }\n",
              "</style>\n",
              "<table border=\"1\" class=\"dataframe\">\n",
              "  <thead>\n",
              "    <tr style=\"text-align: right;\">\n",
              "      <th></th>\n",
              "      <th>decision_processed</th>\n",
              "    </tr>\n",
              "  </thead>\n",
              "  <tbody>\n",
              "    <tr>\n",
              "      <th>2915</th>\n",
              "      <td>1</td>\n",
              "    </tr>\n",
              "    <tr>\n",
              "      <th>573</th>\n",
              "      <td>0</td>\n",
              "    </tr>\n",
              "    <tr>\n",
              "      <th>1553</th>\n",
              "      <td>0</td>\n",
              "    </tr>\n",
              "    <tr>\n",
              "      <th>1877</th>\n",
              "      <td>0</td>\n",
              "    </tr>\n",
              "    <tr>\n",
              "      <th>2954</th>\n",
              "      <td>0</td>\n",
              "    </tr>\n",
              "  </tbody>\n",
              "</table>\n",
              "</div><br><label><b>dtype:</b> int64</label>"
            ],
            "text/plain": [
              "2915    1\n",
              "573     0\n",
              "1553    0\n",
              "1877    0\n",
              "2954    0\n",
              "Name: decision_processed, dtype: int64"
            ]
          },
          "execution_count": 114,
          "metadata": {},
          "output_type": "execute_result"
        }
      ],
      "source": [
        "train_y.head()"
      ]
    },
    {
      "cell_type": "code",
      "execution_count": 33,
      "metadata": {
        "id": "h38TktpX5X4v"
      },
      "outputs": [],
      "source": [
        "# pip install optuna"
      ]
    },
    {
      "cell_type": "code",
      "execution_count": 115,
      "metadata": {
        "id": "BUFMnY0wxLCB"
      },
      "outputs": [],
      "source": [
        "## Optuna is used for hyper parameter tuning"
      ]
    },
    {
      "cell_type": "code",
      "execution_count": 116,
      "metadata": {
        "id": "KWIUQ_IS6ZJE"
      },
      "outputs": [],
      "source": [
        "## Addding the minor noise in order to eliminate perfect correlation for logistic regression implementation in statsmodels library\n",
        "train_x += np.random.normal(0, 1e-4, train_x.shape)\n",
        "test_x += np.random.normal(0, 1e-4, test_x.shape)"
      ]
    },
    {
      "cell_type": "markdown",
      "metadata": {
        "id": "WdyP9nMbYEL7"
      },
      "source": [
        "Logistic regression model building and analysis"
      ]
    },
    {
      "cell_type": "code",
      "execution_count": 117,
      "metadata": {
        "colab": {
          "base_uri": "https://localhost:8080/"
        },
        "id": "5iH_5nG33ED1",
        "outputId": "3b352302-be9e-458c-e8eb-ccb4d46e7955"
      },
      "outputs": [
        {
          "name": "stdout",
          "output_type": "stream",
          "text": [
            "Warning: Maximum number of iterations has been exceeded.\n",
            "         Current function value: 0.470977\n",
            "         Iterations: 35\n",
            "                           Logit Regression Results                           \n",
            "==============================================================================\n",
            "Dep. Variable:     decision_processed   No. Observations:                 2366\n",
            "Model:                          Logit   Df Residuals:                     2350\n",
            "Method:                           MLE   Df Model:                           15\n",
            "Date:                Mon, 06 Jan 2025   Pseudo R-squ.:                  0.3202\n",
            "Time:                        04:01:26   Log-Likelihood:                -1114.3\n",
            "converged:                      False   LL-Null:                       -1639.2\n",
            "Covariance Type:            nonrobust   LLR p-value:                3.002e-214\n",
            "==================================================================================================\n",
            "                                     coef    std err          z      P>|z|      [0.025      0.975]\n",
            "--------------------------------------------------------------------------------------------------\n",
            "const                           -146.8939    513.908     -0.286      0.775   -1154.135     860.347\n",
            "Transcript_sentiment               5.2699      1.048      5.031      0.000       3.217       7.323\n",
            "Resume_sentiment                   3.8547      0.714      5.398      0.000       2.455       5.254\n",
            "JobDescription_sentiment           2.1665      0.267      8.125      0.000       1.644       2.689\n",
            "Transcript_words                 202.7082    368.836      0.550      0.583    -520.198     925.614\n",
            "Resume_words                      -0.0043      0.002     -2.763      0.006      -0.007      -0.001\n",
            "Years_Experience                   0.0249      0.009      2.673      0.008       0.007       0.043\n",
            "resume_jd_similarity               0.6248      0.762      0.820      0.412      -0.868       2.118\n",
            "Transcript_jd_similarity           3.7082      0.974      3.807      0.000       1.799       5.617\n",
            "resume_transcript_similarity       0.2073      0.623      0.333      0.739      -1.014       1.428\n",
            "resume_sentence_count            124.6052    513.823      0.243      0.808    -882.470    1131.680\n",
            "resume_avg_word_length             0.2846      0.206      1.382      0.167      -0.119       0.688\n",
            "skill_match_count                 -0.0134      0.004     -3.205      0.001      -0.022      -0.005\n",
            "university_education_count         0.0036      0.080      0.045      0.964      -0.153       0.160\n",
            "transcript_vocab_diversity        18.9398      1.405     13.478      0.000      16.186      21.694\n",
            "transcript_avg_sentence_length  -202.6886    368.836     -0.550      0.583    -925.594     520.217\n",
            "==================================================================================================\n",
            "Logistic Regression Metrics:\n",
            "Accuracy: 0.777027027027027\n",
            "Precision: 0.7706093189964157\n",
            "Recall: 0.7597173144876325\n",
            "F1 Score: 0.7651245551601423\n",
            "roc_auc Score: 0.7762987866936546\n"
          ]
        }
      ],
      "source": [
        "\n",
        "# Logistic Regression using statsmodels\n",
        "def logistic_regression_statsmodels(train_x, train_y):\n",
        "    X_train_const = sm.add_constant(train_x)  # Add intercept\n",
        "    model = sm.Logit(train_y, X_train_const)\n",
        "    result = model.fit()\n",
        "    print(result.summary())\n",
        "    return result\n",
        "\n",
        "# Logistic Regression Model\n",
        "logistic_model = logistic_regression_statsmodels(train_x, train_y)\n",
        "X_test_const = sm.add_constant(test_x)\n",
        "y_pred_logistic = (logistic_model.predict(X_test_const) > 0.5).astype(int)\n",
        "\n",
        "# Logistic Regression Evaluation\n",
        "print(\"Logistic Regression Metrics:\")\n",
        "print(\"Accuracy:\", accuracy_score(test_y, y_pred_logistic))\n",
        "print(\"Precision:\", precision_score(test_y, y_pred_logistic))\n",
        "print(\"Recall:\", recall_score(test_y, y_pred_logistic))\n",
        "print(\"F1 Score:\", f1_score(test_y, y_pred_logistic))\n",
        "print(\"roc_auc Score:\", roc_auc_score(test_y, y_pred_logistic))\n"
      ]
    },
    {
      "cell_type": "markdown",
      "metadata": {
        "id": "rG7m0DoUYf1F"
      },
      "source": [
        "1. from this model it came to know that Transcript words , resume_job desc similarity are not much useful\n",
        "2. resume transcript similarity , transcript avg sentence length , resume sent count , university count , resume avg words are also not uyseful\n",
        "\n",
        "This might be due to Tf-idf transformer\n"
      ]
    },
    {
      "cell_type": "code",
      "execution_count": 118,
      "metadata": {
        "id": "v0AOY_RcYCAK"
      },
      "outputs": [],
      "source": [
        "# model without those cols ,\n",
        "x1 , y1 = req_data.drop(columns = ['decision' , 'decision_processed' , 'Transcript_words' , 'resume_jd_similarity' , 'resume_transcript_similarity' , 'resume_sentence_count' , 'university_education_count' , 'resume_avg_word_length' , 'transcript_avg_sentence_length' , 'Resume_words' , 'Years_Experience']) , req_data['decision_processed']"
      ]
    },
    {
      "cell_type": "code",
      "execution_count": 119,
      "metadata": {
        "id": "Ih5m6TWUYB8d"
      },
      "outputs": [],
      "source": [
        "train_x1 , test_x1 , train_y1 , test_y1 = train_test_split(x1,y1,train_size = 0.8 , random_state = 42)"
      ]
    },
    {
      "cell_type": "code",
      "execution_count": 120,
      "metadata": {
        "colab": {
          "base_uri": "https://localhost:8080/"
        },
        "id": "7eSyaxvDYB4m",
        "outputId": "69a2f62d-f7a4-4c24-c901-7759e1fc56a7"
      },
      "outputs": [
        {
          "name": "stdout",
          "output_type": "stream",
          "text": [
            "Optimization terminated successfully.\n",
            "         Current function value: 0.591976\n",
            "         Iterations 6\n",
            "                           Logit Regression Results                           \n",
            "==============================================================================\n",
            "Dep. Variable:     decision_processed   No. Observations:                 2366\n",
            "Model:                          Logit   Df Residuals:                     2359\n",
            "Method:                           MLE   Df Model:                            6\n",
            "Date:                Mon, 06 Jan 2025   Pseudo R-squ.:                  0.1455\n",
            "Time:                        04:03:12   Log-Likelihood:                -1400.6\n",
            "converged:                       True   LL-Null:                       -1639.2\n",
            "Covariance Type:            nonrobust   LLR p-value:                7.126e-100\n",
            "==============================================================================================\n",
            "                                 coef    std err          z      P>|z|      [0.025      0.975]\n",
            "----------------------------------------------------------------------------------------------\n",
            "const                         -4.3295      0.532     -8.139      0.000      -5.372      -3.287\n",
            "Transcript_sentiment           4.4832      0.910      4.924      0.000       2.699       6.268\n",
            "Resume_sentiment               4.7660      0.613      7.780      0.000       3.565       5.967\n",
            "JobDescription_sentiment       2.8076      0.232     12.101      0.000       2.353       3.262\n",
            "Transcript_jd_similarity       4.0716      0.545      7.465      0.000       3.003       5.141\n",
            "skill_match_count             -0.0093      0.003     -3.192      0.001      -0.015      -0.004\n",
            "transcript_vocab_diversity     1.4656      0.907      1.616      0.106      -0.312       3.243\n",
            "==============================================================================================\n",
            "Logistic Regression Metrics:\n",
            "Accuracy: 0.6638513513513513\n",
            "Precision: 0.6337579617834395\n",
            "Recall: 0.7031802120141343\n",
            "F1 Score: 0.6666666666666666\n",
            "roc_auc Score: 0.6655059636122452\n"
          ]
        }
      ],
      "source": [
        "\n",
        "# Logistic Regression using statsmodels\n",
        "def logistic_regression_statsmodels(train_x, train_y):\n",
        "    X_train_const = sm.add_constant(train_x)  # Add intercept\n",
        "    model = sm.Logit(train_y, X_train_const)\n",
        "    result = model.fit()\n",
        "    print(result.summary())\n",
        "    return result\n",
        "\n",
        "# Logistic Regression Model\n",
        "logistic_model = logistic_regression_statsmodels(train_x1, train_y1)\n",
        "X_test_const = sm.add_constant(test_x1)\n",
        "y_pred_logistic = (logistic_model.predict(X_test_const) > 0.5).astype(int)\n",
        "\n",
        "# Logistic Regression Evaluation\n",
        "print(\"Logistic Regression Metrics:\")\n",
        "print(\"Accuracy:\", accuracy_score(test_y1, y_pred_logistic))\n",
        "print(\"Precision:\", precision_score(test_y1, y_pred_logistic))\n",
        "print(\"Recall:\", recall_score(test_y1, y_pred_logistic))\n",
        "print(\"F1 Score:\", f1_score(test_y1, y_pred_logistic))\n",
        "print(\"roc_auc Score:\", roc_auc_score(test_y1, y_pred_logistic))\n"
      ]
    },
    {
      "cell_type": "code",
      "execution_count": 77,
      "metadata": {
        "colab": {
          "base_uri": "https://localhost:8080/"
        },
        "id": "LztPN2yp3EBM",
        "outputId": "02a75e77-1ca5-49dd-e621-844afc569406"
      },
      "outputs": [
        {
          "name": "stderr",
          "output_type": "stream",
          "text": [
            "[I 2025-01-06 03:28:49,859] A new study created in memory with name: no-name-deeb84f4-0af9-45a0-a56b-ae4cf04d0709\n",
            "[I 2025-01-06 03:28:50,142] Trial 0 finished with value: 0.7837837837837838 and parameters: {'n_estimators': 647, 'max_depth': 8, 'learning_rate': 0.23329824929145643, 'subsample': 0.7151370437862158, 'colsample_bytree': 0.7830152210923087, 'gamma': 3.5064627773961474, 'min_child_weight': 10}. Best is trial 0 with value: 0.7837837837837838.\n",
            "[I 2025-01-06 03:28:50,597] Trial 1 finished with value: 0.7888513513513513 and parameters: {'n_estimators': 652, 'max_depth': 7, 'learning_rate': 0.02061370106030519, 'subsample': 0.6426814850652633, 'colsample_bytree': 0.6243675399418034, 'gamma': 3.743039339878388, 'min_child_weight': 7}. Best is trial 1 with value: 0.7888513513513513.\n",
            "[I 2025-01-06 03:28:50,756] Trial 2 finished with value: 0.7888513513513513 and parameters: {'n_estimators': 118, 'max_depth': 6, 'learning_rate': 0.1268640564807549, 'subsample': 0.5899162641691343, 'colsample_bytree': 0.6977134484737284, 'gamma': 1.3707427214065198, 'min_child_weight': 6}. Best is trial 1 with value: 0.7888513513513513.\n",
            "[I 2025-01-06 03:28:50,954] Trial 3 finished with value: 0.7888513513513513 and parameters: {'n_estimators': 269, 'max_depth': 8, 'learning_rate': 0.15581852382777248, 'subsample': 0.6035336877298267, 'colsample_bytree': 0.9105722297831407, 'gamma': 2.3958456507781127, 'min_child_weight': 10}. Best is trial 1 with value: 0.7888513513513513.\n",
            "[I 2025-01-06 03:28:51,313] Trial 4 finished with value: 0.7804054054054054 and parameters: {'n_estimators': 766, 'max_depth': 5, 'learning_rate': 0.2980015983060006, 'subsample': 0.8350189488179114, 'colsample_bytree': 0.7710199768060968, 'gamma': 0.9568207240442556, 'min_child_weight': 4}. Best is trial 1 with value: 0.7888513513513513.\n",
            "[I 2025-01-06 03:28:51,452] Trial 5 finished with value: 0.8023648648648649 and parameters: {'n_estimators': 194, 'max_depth': 8, 'learning_rate': 0.1495623640097895, 'subsample': 0.5664848010688759, 'colsample_bytree': 0.6819277031136115, 'gamma': 3.516684119852231, 'min_child_weight': 5}. Best is trial 5 with value: 0.8023648648648649.\n",
            "[I 2025-01-06 03:28:51,771] Trial 6 finished with value: 0.793918918918919 and parameters: {'n_estimators': 664, 'max_depth': 6, 'learning_rate': 0.21846368908411942, 'subsample': 0.8266308247311046, 'colsample_bytree': 0.9046723360375974, 'gamma': 1.5424995143164817, 'min_child_weight': 7}. Best is trial 5 with value: 0.8023648648648649.\n",
            "[I 2025-01-06 03:28:52,469] Trial 7 finished with value: 0.7956081081081081 and parameters: {'n_estimators': 881, 'max_depth': 4, 'learning_rate': 0.06447718376080881, 'subsample': 0.7676971221296449, 'colsample_bytree': 0.7327816355398098, 'gamma': 0.29825460706639995, 'min_child_weight': 5}. Best is trial 5 with value: 0.8023648648648649.\n",
            "[I 2025-01-06 03:28:52,725] Trial 8 finished with value: 0.7871621621621622 and parameters: {'n_estimators': 607, 'max_depth': 8, 'learning_rate': 0.09889002355584442, 'subsample': 0.7922390469701719, 'colsample_bytree': 0.5127900479938607, 'gamma': 3.1616843446967873, 'min_child_weight': 9}. Best is trial 5 with value: 0.8023648648648649.\n",
            "[I 2025-01-06 03:28:52,951] Trial 9 finished with value: 0.7922297297297297 and parameters: {'n_estimators': 152, 'max_depth': 7, 'learning_rate': 0.14304291585885892, 'subsample': 0.9423618832851453, 'colsample_bytree': 0.8015575836694169, 'gamma': 0.7040163996369037, 'min_child_weight': 1}. Best is trial 5 with value: 0.8023648648648649.\n",
            "[I 2025-01-06 03:28:53,164] Trial 10 finished with value: 0.793918918918919 and parameters: {'n_estimators': 394, 'max_depth': 10, 'learning_rate': 0.20875677049992686, 'subsample': 0.5197647989193943, 'colsample_bytree': 0.5693591141801855, 'gamma': 4.850798137210474, 'min_child_weight': 2}. Best is trial 5 with value: 0.8023648648648649.\n",
            "[I 2025-01-06 03:28:53,833] Trial 11 finished with value: 0.8074324324324325 and parameters: {'n_estimators': 989, 'max_depth': 3, 'learning_rate': 0.05708961411552704, 'subsample': 0.6963889127948919, 'colsample_bytree': 0.685005894145313, 'gamma': 0.059567048278760915, 'min_child_weight': 4}. Best is trial 11 with value: 0.8074324324324325.\n",
            "[I 2025-01-06 03:28:54,160] Trial 12 finished with value: 0.7837837837837838 and parameters: {'n_estimators': 449, 'max_depth': 3, 'learning_rate': 0.016237494406149633, 'subsample': 0.5016849261029281, 'colsample_bytree': 0.65120879569176, 'gamma': 4.556318068138235, 'min_child_weight': 3}. Best is trial 11 with value: 0.8074324324324325.\n",
            "[I 2025-01-06 03:28:54,896] Trial 13 finished with value: 0.8040540540540541 and parameters: {'n_estimators': 972, 'max_depth': 10, 'learning_rate': 0.07522884529485305, 'subsample': 0.678457871447955, 'colsample_bytree': 0.6419866011072947, 'gamma': 2.5130837015582372, 'min_child_weight': 4}. Best is trial 11 with value: 0.8074324324324325.\n",
            "[I 2025-01-06 03:28:55,735] Trial 14 finished with value: 0.7989864864864865 and parameters: {'n_estimators': 977, 'max_depth': 10, 'learning_rate': 0.06918884936681251, 'subsample': 0.6890092595608226, 'colsample_bytree': 0.5994399631542497, 'gamma': 2.333356657098317, 'min_child_weight': 3}. Best is trial 11 with value: 0.8074324324324325.\n",
            "[I 2025-01-06 03:28:56,819] Trial 15 finished with value: 0.7888513513513513 and parameters: {'n_estimators': 954, 'max_depth': 4, 'learning_rate': 0.05735335400171698, 'subsample': 0.6680315334297923, 'colsample_bytree': 0.994995394165739, 'gamma': 1.8151986426653797, 'min_child_weight': 4}. Best is trial 11 with value: 0.8074324324324325.\n",
            "[I 2025-01-06 03:28:57,675] Trial 16 finished with value: 0.8023648648648649 and parameters: {'n_estimators': 839, 'max_depth': 3, 'learning_rate': 0.09934948188331487, 'subsample': 0.9788282704006508, 'colsample_bytree': 0.5279810221491874, 'gamma': 0.02327022888895458, 'min_child_weight': 1}. Best is trial 11 with value: 0.8074324324324325.\n",
            "[I 2025-01-06 03:28:58,469] Trial 17 finished with value: 0.8040540540540541 and parameters: {'n_estimators': 788, 'max_depth': 9, 'learning_rate': 0.053982975471776724, 'subsample': 0.7340617668569211, 'colsample_bytree': 0.70688450126604, 'gamma': 2.78119543205001, 'min_child_weight': 3}. Best is trial 11 with value: 0.8074324324324325.\n",
            "[I 2025-01-06 03:28:59,290] Trial 18 finished with value: 0.8040540540540541 and parameters: {'n_estimators': 991, 'max_depth': 5, 'learning_rate': 0.09976812829896277, 'subsample': 0.8861454556463093, 'colsample_bytree': 0.8304391080286793, 'gamma': 1.9507689492531122, 'min_child_weight': 6}. Best is trial 11 with value: 0.8074324324324325.\n",
            "[I 2025-01-06 03:28:59,760] Trial 19 finished with value: 0.7922297297297297 and parameters: {'n_estimators': 880, 'max_depth': 9, 'learning_rate': 0.03757184050692011, 'subsample': 0.6276353528782147, 'colsample_bytree': 0.6478176414303702, 'gamma': 4.196442146645239, 'min_child_weight': 8}. Best is trial 11 with value: 0.8074324324324325.\n",
            "[I 2025-01-06 03:29:00,107] Trial 20 finished with value: 0.7972972972972973 and parameters: {'n_estimators': 754, 'max_depth': 5, 'learning_rate': 0.18676595230948465, 'subsample': 0.6853807358746666, 'colsample_bytree': 0.5847687607199149, 'gamma': 2.879002722389454, 'min_child_weight': 4}. Best is trial 11 with value: 0.8074324324324325.\n",
            "[I 2025-01-06 03:29:00,591] Trial 21 finished with value: 0.8074324324324325 and parameters: {'n_estimators': 800, 'max_depth': 9, 'learning_rate': 0.047054795995497785, 'subsample': 0.7411003598786898, 'colsample_bytree': 0.7199143140626949, 'gamma': 2.9020818565104287, 'min_child_weight': 3}. Best is trial 11 with value: 0.8074324324324325.\n",
            "[I 2025-01-06 03:29:01,081] Trial 22 finished with value: 0.785472972972973 and parameters: {'n_estimators': 907, 'max_depth': 10, 'learning_rate': 0.08395506338823966, 'subsample': 0.7661914733987021, 'colsample_bytree': 0.7442674547559112, 'gamma': 2.260693035799067, 'min_child_weight': 2}. Best is trial 11 with value: 0.8074324324324325.\n",
            "[I 2025-01-06 03:29:01,730] Trial 23 finished with value: 0.8006756756756757 and parameters: {'n_estimators': 999, 'max_depth': 9, 'learning_rate': 0.030289724535735536, 'subsample': 0.7326150218933843, 'colsample_bytree': 0.6717310867903646, 'gamma': 2.991031620399236, 'min_child_weight': 2}. Best is trial 11 with value: 0.8074324324324325.\n",
            "[I 2025-01-06 03:29:02,213] Trial 24 finished with value: 0.793918918918919 and parameters: {'n_estimators': 827, 'max_depth': 9, 'learning_rate': 0.11477554549503616, 'subsample': 0.829099758451859, 'colsample_bytree': 0.7181952394612402, 'gamma': 0.9035824536307835, 'min_child_weight': 4}. Best is trial 11 with value: 0.8074324324324325.\n",
            "[I 2025-01-06 03:29:02,740] Trial 25 finished with value: 0.7837837837837838 and parameters: {'n_estimators': 910, 'max_depth': 10, 'learning_rate': 0.04423825162065646, 'subsample': 0.6666790765826168, 'colsample_bytree': 0.8194493934128222, 'gamma': 3.918130375884647, 'min_child_weight': 5}. Best is trial 11 with value: 0.8074324324324325.\n",
            "[I 2025-01-06 03:29:03,215] Trial 26 finished with value: 0.7972972972972973 and parameters: {'n_estimators': 726, 'max_depth': 7, 'learning_rate': 0.08286373411854447, 'subsample': 0.5548886244135742, 'colsample_bytree': 0.6252005843838973, 'gamma': 1.9369725861469969, 'min_child_weight': 3}. Best is trial 11 with value: 0.8074324324324325.\n",
            "[I 2025-01-06 03:29:03,813] Trial 27 finished with value: 0.7956081081081081 and parameters: {'n_estimators': 494, 'max_depth': 9, 'learning_rate': 0.012383641460025407, 'subsample': 0.704152160620236, 'colsample_bytree': 0.5523877291501318, 'gamma': 3.303948841985825, 'min_child_weight': 4}. Best is trial 11 with value: 0.8074324324324325.\n",
            "[I 2025-01-06 03:29:04,254] Trial 28 finished with value: 0.8006756756756757 and parameters: {'n_estimators': 928, 'max_depth': 4, 'learning_rate': 0.079089038591511, 'subsample': 0.7995290316783394, 'colsample_bytree': 0.8581492181934512, 'gamma': 2.5758983190748506, 'min_child_weight': 6}. Best is trial 11 with value: 0.8074324324324325.\n",
            "[I 2025-01-06 03:29:04,610] Trial 29 finished with value: 0.8158783783783784 and parameters: {'n_estimators': 703, 'max_depth': 10, 'learning_rate': 0.26086365325727257, 'subsample': 0.8827063638221199, 'colsample_bytree': 0.7548035241955746, 'gamma': 1.3322188519901066, 'min_child_weight': 2}. Best is trial 29 with value: 0.8158783783783784.\n",
            "[I 2025-01-06 03:29:04,970] Trial 30 finished with value: 0.785472972972973 and parameters: {'n_estimators': 568, 'max_depth': 6, 'learning_rate': 0.2648268056706787, 'subsample': 0.8831683179366109, 'colsample_bytree': 0.7702566378975885, 'gamma': 0.5205764307070981, 'min_child_weight': 1}. Best is trial 29 with value: 0.8158783783783784.\n",
            "[I 2025-01-06 03:29:05,349] Trial 31 finished with value: 0.8023648648648649 and parameters: {'n_estimators': 682, 'max_depth': 10, 'learning_rate': 0.24996456100365305, 'subsample': 0.7133702956204503, 'colsample_bytree': 0.7329672420303172, 'gamma': 1.3160604868708774, 'min_child_weight': 2}. Best is trial 29 with value: 0.8158783783783784.\n",
            "[I 2025-01-06 03:29:05,801] Trial 32 finished with value: 0.7719594594594594 and parameters: {'n_estimators': 840, 'max_depth': 10, 'learning_rate': 0.29496095906659225, 'subsample': 0.6467501447957704, 'colsample_bytree': 0.6693172537216724, 'gamma': 1.1030823287656928, 'min_child_weight': 3}. Best is trial 29 with value: 0.8158783783783784.\n",
            "[I 2025-01-06 03:29:06,384] Trial 33 finished with value: 0.8023648648648649 and parameters: {'n_estimators': 694, 'max_depth': 9, 'learning_rate': 0.18254572812312403, 'subsample': 0.8609731807301279, 'colsample_bytree': 0.618166484110464, 'gamma': 0.08762972995875717, 'min_child_weight': 2}. Best is trial 29 with value: 0.8158783783783784.\n",
            "[I 2025-01-06 03:29:06,765] Trial 34 finished with value: 0.8006756756756757 and parameters: {'n_estimators': 806, 'max_depth': 8, 'learning_rate': 0.1330216889566875, 'subsample': 0.9233814142682898, 'colsample_bytree': 0.7640942209327306, 'gamma': 2.1623019517765285, 'min_child_weight': 5}. Best is trial 29 with value: 0.8158783783783784.\n",
            "[I 2025-01-06 03:29:07,103] Trial 35 finished with value: 0.7871621621621622 and parameters: {'n_estimators': 591, 'max_depth': 10, 'learning_rate': 0.1681279565658287, 'subsample': 0.618483262381718, 'colsample_bytree': 0.6369175240894582, 'gamma': 2.644499998973818, 'min_child_weight': 4}. Best is trial 29 with value: 0.8158783783783784.\n",
            "[I 2025-01-06 03:29:07,777] Trial 36 finished with value: 0.7956081081081081 and parameters: {'n_estimators': 717, 'max_depth': 9, 'learning_rate': 0.03075805221534302, 'subsample': 0.7477195682131967, 'colsample_bytree': 0.6886539269284963, 'gamma': 1.618476452955536, 'min_child_weight': 3}. Best is trial 29 with value: 0.8158783783783784.\n",
            "[I 2025-01-06 03:29:08,204] Trial 37 finished with value: 0.7956081081081081 and parameters: {'n_estimators': 855, 'max_depth': 8, 'learning_rate': 0.1217754807728307, 'subsample': 0.6584642138286345, 'colsample_bytree': 0.7936489202297426, 'gamma': 3.52508765190329, 'min_child_weight': 6}. Best is trial 29 with value: 0.8158783783783784.\n",
            "[I 2025-01-06 03:29:08,539] Trial 38 finished with value: 0.8023648648648649 and parameters: {'n_estimators': 643, 'max_depth': 8, 'learning_rate': 0.27536029773486453, 'subsample': 0.791190434089008, 'colsample_bytree': 0.7015909375437342, 'gamma': 1.2877258605651674, 'min_child_weight': 5}. Best is trial 29 with value: 0.8158783783783784.\n",
            "[I 2025-01-06 03:29:09,827] Trial 39 finished with value: 0.7888513513513513 and parameters: {'n_estimators': 945, 'max_depth': 10, 'learning_rate': 0.046988984808748184, 'subsample': 0.5897129062989233, 'colsample_bytree': 0.8732115716403676, 'gamma': 0.5684334970588162, 'min_child_weight': 7}. Best is trial 29 with value: 0.8158783783783784.\n",
            "[I 2025-01-06 03:29:10,393] Trial 40 finished with value: 0.8023648648648649 and parameters: {'n_estimators': 749, 'max_depth': 7, 'learning_rate': 0.23421518618579026, 'subsample': 0.7743637130210784, 'colsample_bytree': 0.7552331707511427, 'gamma': 3.193731862155494, 'min_child_weight': 4}. Best is trial 29 with value: 0.8158783783783784.\n",
            "[I 2025-01-06 03:29:11,187] Trial 41 finished with value: 0.7972972972972973 and parameters: {'n_estimators': 787, 'max_depth': 9, 'learning_rate': 0.047199537359030014, 'subsample': 0.749832978635085, 'colsample_bytree': 0.7126249990645099, 'gamma': 2.9345015283867584, 'min_child_weight': 3}. Best is trial 29 with value: 0.8158783783783784.\n",
            "[I 2025-01-06 03:29:11,974] Trial 42 finished with value: 0.8057432432432432 and parameters: {'n_estimators': 790, 'max_depth': 9, 'learning_rate': 0.060856661046932964, 'subsample': 0.7235357366038692, 'colsample_bytree': 0.6657536933450326, 'gamma': 2.7242919841967983, 'min_child_weight': 2}. Best is trial 29 with value: 0.8158783783783784.\n",
            "[I 2025-01-06 03:29:12,380] Trial 43 finished with value: 0.8023648648648649 and parameters: {'n_estimators': 318, 'max_depth': 8, 'learning_rate': 0.07535906676366474, 'subsample': 0.7005834281119648, 'colsample_bytree': 0.6537117760337722, 'gamma': 3.765257338328098, 'min_child_weight': 2}. Best is trial 29 with value: 0.8158783783783784.\n",
            "[I 2025-01-06 03:29:13,117] Trial 44 finished with value: 0.8040540540540541 and parameters: {'n_estimators': 512, 'max_depth': 10, 'learning_rate': 0.0602629389808749, 'subsample': 0.7275401266758956, 'colsample_bytree': 0.6778855026098173, 'gamma': 2.5283073723161964, 'min_child_weight': 1}. Best is trial 29 with value: 0.8158783783783784.\n",
            "[I 2025-01-06 03:29:14,158] Trial 45 finished with value: 0.7972972972972973 and parameters: {'n_estimators': 631, 'max_depth': 9, 'learning_rate': 0.02597091910559123, 'subsample': 0.8130728276706366, 'colsample_bytree': 0.6054907601315782, 'gamma': 2.232942179585104, 'min_child_weight': 2}. Best is trial 29 with value: 0.8158783783783784.\n",
            "[I 2025-01-06 03:29:14,961] Trial 46 finished with value: 0.7905405405405406 and parameters: {'n_estimators': 889, 'max_depth': 7, 'learning_rate': 0.09128386491329372, 'subsample': 0.6852885325082276, 'colsample_bytree': 0.66285093752014, 'gamma': 1.7537817557419881, 'min_child_weight': 3}. Best is trial 29 with value: 0.8158783783783784.\n",
            "[I 2025-01-06 03:29:15,500] Trial 47 finished with value: 0.8006756756756757 and parameters: {'n_estimators': 955, 'max_depth': 5, 'learning_rate': 0.06524652148639645, 'subsample': 0.6347679461741929, 'colsample_bytree': 0.7223608117461521, 'gamma': 2.6887312506372165, 'min_child_weight': 1}. Best is trial 29 with value: 0.8158783783783784.\n",
            "[I 2025-01-06 03:29:15,902] Trial 48 finished with value: 0.8040540540540541 and parameters: {'n_estimators': 810, 'max_depth': 10, 'learning_rate': 0.10948295685887656, 'subsample': 0.7713094744517647, 'colsample_bytree': 0.7835458617539068, 'gamma': 3.2818381371711647, 'min_child_weight': 4}. Best is trial 29 with value: 0.8158783783783784.\n",
            "[I 2025-01-06 03:29:16,369] Trial 49 finished with value: 0.793918918918919 and parameters: {'n_estimators': 865, 'max_depth': 6, 'learning_rate': 0.20132997918451018, 'subsample': 0.9951763474235836, 'colsample_bytree': 0.7419619820049334, 'gamma': 0.29510404833884174, 'min_child_weight': 2}. Best is trial 29 with value: 0.8158783783783784.\n"
          ]
        },
        {
          "name": "stdout",
          "output_type": "stream",
          "text": [
            "Best parameters: {'n_estimators': 703, 'max_depth': 10, 'learning_rate': 0.26086365325727257, 'subsample': 0.8827063638221199, 'colsample_bytree': 0.7548035241955746, 'gamma': 1.3322188519901066, 'min_child_weight': 2}\n",
            "XGBoost Metrics:\n",
            "Accuracy: 0.8158783783783784\n",
            "Precision: 0.79\n",
            "Recall: 0.8374558303886925\n",
            "F1 Score: 0.8130360205831904\n"
          ]
        }
      ],
      "source": [
        "\n",
        "# XGBoost with Optuna for Hyperparameter Tuning\n",
        "def objective(trial):\n",
        "    params = {\n",
        "        \"n_estimators\": trial.suggest_int(\"n_estimators\", 100, 1000),\n",
        "        \"max_depth\": trial.suggest_int(\"max_depth\", 3, 10),\n",
        "        \"learning_rate\": trial.suggest_float(\"learning_rate\", 0.01, 0.3),\n",
        "        \"subsample\": trial.suggest_float(\"subsample\", 0.5, 1.0),\n",
        "        \"colsample_bytree\": trial.suggest_float(\"colsample_bytree\", 0.5, 1.0),\n",
        "        \"gamma\": trial.suggest_float(\"gamma\", 0, 5),\n",
        "        \"min_child_weight\": trial.suggest_int(\"min_child_weight\", 1, 10),\n",
        "    }\n",
        "\n",
        "    model = XGBClassifier(**params, use_label_encoder=False, eval_metric=\"logloss\", random_state=42)\n",
        "    model.fit(train_x, train_y)\n",
        "    y_pred = model.predict(test_x)\n",
        "    return accuracy_score(test_y, y_pred)\n",
        "\n",
        "study = optuna.create_study(direction=\"maximize\")\n",
        "study.optimize(objective, n_trials=50)\n",
        "\n",
        "# Best hyperparameters\n",
        "print(\"Best parameters:\", study.best_params)\n",
        "\n",
        "# Train XGBoost with best parameters\n",
        "best_params = study.best_params\n",
        "xgb_model = XGBClassifier(**best_params, use_label_encoder=False, eval_metric=\"logloss\", random_state=42)\n",
        "xgb_model.fit(train_x, train_y)\n",
        "y_pred_xgb = xgb_model.predict(test_x)\n",
        "\n",
        "# XGBoost Evaluation\n",
        "print(\"XGBoost Metrics:\")\n",
        "print(\"Accuracy:\", accuracy_score(test_y, y_pred_xgb))\n",
        "print(\"Precision:\", precision_score(test_y, y_pred_xgb))\n",
        "print(\"Recall:\", recall_score(test_y, y_pred_xgb))\n",
        "print(\"F1 Score:\", f1_score(test_y, y_pred_xgb))"
      ]
    },
    {
      "cell_type": "code",
      "execution_count": 79,
      "metadata": {
        "colab": {
          "base_uri": "https://localhost:8080/",
          "height": 489
        },
        "id": "yIucgqOO3D4r",
        "outputId": "d5b78970-0155-44a6-863f-c9511a54413e"
      },
      "outputs": [
        {
          "data": {
            "text/plain": [
              "<Figure size 1000x800 with 0 Axes>"
            ]
          },
          "metadata": {},
          "output_type": "display_data"
        },
        {
          "data": {
            "image/png": "[encoded data removed]",
            "text/plain": [
              "<Figure size 640x480 with 1 Axes>"
            ]
          },
          "metadata": {},
          "output_type": "display_data"
        }
      ],
      "source": [
        "## Plotting the feature importance for Xgboost model\n",
        "plt.figure(figsize=(10, 8))\n",
        "plot_importance(xgb_model, importance_type='weight', title='Feature Importance')\n",
        "plt.show()"
      ]
    },
    {
      "cell_type": "code",
      "execution_count": 85,
      "metadata": {
        "colab": {
          "base_uri": "https://localhost:8080/"
        },
        "id": "-WU5JdPDqmlJ",
        "outputId": "81232737-11bb-491e-c776-fd67faa63498"
      },
      "outputs": [
        {
          "name": "stdout",
          "output_type": "stream",
          "text": [
            "Naive Bayes Metrics (TF-IDF):\n",
            "Accuracy: 0.7297297297297297\n",
            "Precision: 0.7573221757322176\n",
            "Recall: 0.6395759717314488\n",
            "F1 Score: 0.6934865900383141\n"
          ]
        }
      ],
      "source": [
        "from sklearn.naive_bayes import GaussianNB\n",
        "from sklearn.metrics import accuracy_score, precision_score, recall_score, f1_score\n",
        "\n",
        "# Train and evaluate Naive Bayes\n",
        "nb_model = GaussianNB()\n",
        "nb_model.fit(train_x, train_y)  # Fit the model\n",
        "y_pred_nb = nb_model.predict(test_x)  # Predict on test set\n",
        "\n",
        "# Evaluation\n",
        "print(\"Naive Bayes Metrics (TF-IDF):\")\n",
        "print(\"Accuracy:\", accuracy_score(test_y, y_pred_nb))\n",
        "print(\"Precision:\", precision_score(test_y, y_pred_nb))\n",
        "print(\"Recall:\", recall_score(test_y, y_pred_nb))\n",
        "print(\"F1 Score:\", f1_score(test_y, y_pred_nb))\n"
      ]
    },
    {
      "cell_type": "code",
      "execution_count": 97,
      "metadata": {
        "colab": {
          "base_uri": "https://localhost:8080/"
        },
        "id": "EpX92VHqqmhd",
        "outputId": "eed8b5e1-8e4c-45a0-e229-76c202845f14"
      },
      "outputs": [
        {
          "name": "stdout",
          "output_type": "stream",
          "text": [
            "Random Forest Metrics (TF-IDF):\n",
            "Accuracy: 0.7972972972972973\n",
            "Precision: 0.7879858657243817\n",
            "Recall: 0.7879858657243817\n",
            "F1 Score: 0.7879858657243817\n"
          ]
        }
      ],
      "source": [
        "from sklearn.ensemble import RandomForestClassifier\n",
        "\n",
        "# Train and evaluate Random Forest Classifier\n",
        "rf_model = RandomForestClassifier(random_state=42)\n",
        "rf_model.fit(train_x, train_y)  # Fit the model\n",
        "y_pred_rf = rf_model.predict(test_x)  # Predict on test set\n",
        "\n",
        "# Evaluation\n",
        "print(\"Random Forest Metrics (TF-IDF):\")\n",
        "print(\"Accuracy:\", accuracy_score(test_y, y_pred_rf))\n",
        "print(\"Precision:\", precision_score(test_y, y_pred_rf))\n",
        "print(\"Recall:\", recall_score(test_y, y_pred_rf))\n",
        "print(\"F1 Score:\", f1_score(test_y, y_pred_rf))"
      ]
    },
    {
      "cell_type": "code",
      "execution_count": 98,
      "metadata": {
        "colab": {
          "base_uri": "https://localhost:8080/",
          "height": 752
        },
        "id": "1rqGfucFvEVp",
        "outputId": "2038cbff-2f1d-4db2-8743-0a2790bbb01f"
      },
      "outputs": [
        {
          "data": {
            "image/png": "[encoded data removed]",
            "text/plain": [
              "<Figure size 1000x600 with 1 Axes>"
            ]
          },
          "metadata": {},
          "output_type": "display_data"
        }
      ],
      "source": [
        "# Add values on top of the bars\n",
        "plt.figure(figsize=(10, 6))\n",
        "plt.bar(train_x.columns, importance)\n",
        "plt.xticks(rotation=90)\n",
        "plt.title(\"Random Forest Feature Importance\")\n",
        "\n",
        "# Annotate each bar with its value\n",
        "for i, v in enumerate(importance):\n",
        "    plt.text(i, v + 0.001, f\"{v:.2f}\", ha='center', va='bottom', fontsize=8)\n",
        "\n",
        "plt.show()"
      ]
    },
    {
      "cell_type": "code",
      "execution_count": 87,
      "metadata": {
        "colab": {
          "base_uri": "https://localhost:8080/"
        },
        "id": "ubsSXX0jqmeX",
        "outputId": "7dc0ea70-4d68-4e8d-fbbc-e5a8d234e2de"
      },
      "outputs": [
        {
          "name": "stdout",
          "output_type": "stream",
          "text": [
            "SVC Metrics (TF-IDF):\n",
            "Accuracy: 0.7787162162162162\n",
            "Precision: 0.7835820895522388\n",
            "Recall: 0.7420494699646644\n",
            "F1 Score: 0.7622504537205081\n"
          ]
        }
      ],
      "source": [
        "from sklearn.svm import SVC\n",
        "\n",
        "# Train and evaluate SVC\n",
        "svc_model = SVC(kernel=\"linear\", random_state=42)\n",
        "svc_model.fit(train_x, train_y)  # Fit the model\n",
        "y_pred_svc = svc_model.predict(test_x)  # Predict on test set\n",
        "\n",
        "# Evaluation\n",
        "print(\"SVC Metrics (TF-IDF):\")\n",
        "print(\"Accuracy:\", accuracy_score(test_y, y_pred_svc))\n",
        "print(\"Precision:\", precision_score(test_y, y_pred_svc))\n",
        "print(\"Recall:\", recall_score(test_y, y_pred_svc))\n",
        "print(\"F1 Score:\", f1_score(test_y, y_pred_svc))\n"
      ]
    },
    {
      "cell_type": "markdown",
      "metadata": {
        "id": "tFjznsBUbM7d"
      },
      "source": [
        "# ***Computation of Similarity scores between resume , transcript , job description using Sentence Transformers Library***"
      ]
    },
    {
      "cell_type": "code",
      "execution_count": 64,
      "metadata": {
        "id": "lJFF2xoZYB1l"
      },
      "outputs": [],
      "source": [
        "model = SentenceTransformer('all-MiniLM-L6-v2')\n",
        "\n",
        "def compute_alignment_features(resume_text, jd_text, transcript_text):\n",
        "    features = {}\n",
        "\n",
        "    # Embedding-based similarity\n",
        "    resume_embedding = model.encode([resume_text])[0]\n",
        "    jd_embedding = model.encode([jd_text])[0]\n",
        "    transcript_embedding = model.encode([transcript_text])[0]\n",
        "\n",
        "    features['resume_jd_similarity_transformers'] = cosine_similarity([resume_embedding], [jd_embedding])[0][0]\n",
        "    features['transcript_jd_similarity_transformers'] = cosine_similarity([transcript_embedding], [jd_embedding])[0][0]\n",
        "    features['transcript_resume_similarity_transformers'] = cosine_similarity([transcript_embedding], [resume_embedding])[0][0]\n",
        "\n",
        "    return features\n",
        "\n",
        "def process_transformer_similarity(data):\n",
        "    extracted_features = []\n",
        "\n",
        "    for _, row in data.iterrows():\n",
        "        resume_text = row['Resume_processed']\n",
        "        jd_text = row['Job_Description_processed']\n",
        "        transcript_text = row['Transcript_processed']\n",
        "        features = compute_alignment_features(resume_text, jd_text, transcript_text)\n",
        "        extracted_features.append(features)\n",
        "\n",
        "    # Combine features into a DataFrame\n",
        "    features_df = pd.DataFrame(extracted_features)\n",
        "    return pd.concat([data, features_df], axis=1)\n",
        "\n",
        "# Process the dataset\n",
        "processed_data = process_transformer_similarity(processed_data)\n"
      ]
    },
    {
      "cell_type": "code",
      "execution_count": 65,
      "metadata": {
        "colab": {
          "base_uri": "https://localhost:8080/"
        },
        "id": "xW8bBQLeYByV",
        "outputId": "1892dd59-3eb9-4265-d880-121198c3a333"
      },
      "outputs": [
        {
          "data": {
            "text/plain": [
              "Index(['Unnamed: 0', 'ID', 'Name', 'Role', 'Transcript', 'Resume', 'decision',\n",
              "       'Reason for decision', 'Job Description', 'Transcript_processed',\n",
              "       'Resume_processed', 'Job_Description_processed', 'Transcript_sentiment',\n",
              "       'Resume_sentiment', 'JobDescription_sentiment', 'Transcript_words',\n",
              "       'Resume_words', 'Years_Experience', 'resume_jd_similarity',\n",
              "       'Transcript_jd_similarity', 'resume_transcript_similarity',\n",
              "       'resume_sentence_count', 'resume_avg_word_length', 'skill_match_count',\n",
              "       'university_education_count', 'transcript_vocab_diversity',\n",
              "       'transcript_avg_sentence_length', 'resume_jd_similarity_transformers',\n",
              "       'transcript_jd_similarity_transformers',\n",
              "       'transcript_resume_similarity_transformers'],\n",
              "      dtype='object')"
            ]
          },
          "execution_count": 65,
          "metadata": {},
          "output_type": "execute_result"
        }
      ],
      "source": [
        "processed_data.columns"
      ]
    },
    {
      "cell_type": "code",
      "execution_count": 137,
      "metadata": {
        "id": "LZNZuFcU3DF_"
      },
      "outputs": [],
      "source": [
        "req_data = processed_data[['Transcript_sentiment',\n",
        "       'Resume_sentiment', 'JobDescription_sentiment', 'Transcript_words',\n",
        "       'Resume_words', 'Years_Experience', 'resume_jd_similarity_transformers',\n",
        "       'transcript_jd_similarity_transformers',\n",
        "       'transcript_resume_similarity_transformers',\n",
        "       'resume_sentence_count', 'resume_avg_word_length', 'skill_match_count',\n",
        "       'university_education_count', 'transcript_vocab_diversity',\n",
        "       'transcript_avg_sentence_length' , 'decision']]\n",
        "req_data['decision_processed'] = req_data['decision'].apply(lambda x : 1 if x == 'select' else 0)\n",
        "x , y = req_data.drop(columns = ['decision' , 'decision_processed']) , req_data['decision_processed']\n",
        "train_x , test_x , train_y , test_y = train_test_split(x,y,train_size = 0.8 , random_state = 42)"
      ]
    },
    {
      "cell_type": "code",
      "execution_count": 138,
      "metadata": {
        "id": "cqZpfiKLhk0H"
      },
      "outputs": [],
      "source": [
        "train_x += np.random.normal(0, 1e-4, train_x.shape)\n",
        "test_x += np.random.normal(0, 1e-4, test_x.shape)"
      ]
    },
    {
      "cell_type": "markdown",
      "metadata": {
        "id": "qra7llm3zvBk"
      },
      "source": [
        "# ***Building Complete models using sentence Transformer embeddings similarity:***"
      ]
    },
    {
      "cell_type": "code",
      "execution_count": 71,
      "metadata": {
        "colab": {
          "base_uri": "https://localhost:8080/"
        },
        "id": "Nf6xDW2YgyUx",
        "outputId": "fa122b4f-4bfc-4d70-dcd8-5a8b14ddf880"
      },
      "outputs": [
        {
          "name": "stdout",
          "output_type": "stream",
          "text": [
            "Warning: Maximum number of iterations has been exceeded.\n",
            "         Current function value: 0.463452\n",
            "         Iterations: 35\n",
            "                           Logit Regression Results                           \n",
            "==============================================================================\n",
            "Dep. Variable:               decision   No. Observations:                 2366\n",
            "Model:                          Logit   Df Residuals:                     2350\n",
            "Method:                           MLE   Df Model:                           15\n",
            "Date:                Mon, 06 Jan 2025   Pseudo R-squ.:                  0.3310\n",
            "Time:                        03:15:35   Log-Likelihood:                -1096.5\n",
            "converged:                      False   LL-Null:                       -1639.2\n",
            "Covariance Type:            nonrobust   LLR p-value:                6.911e-222\n",
            "=============================================================================================================\n",
            "                                                coef    std err          z      P>|z|      [0.025      0.975]\n",
            "-------------------------------------------------------------------------------------------------------------\n",
            "const                                       766.6227    528.930      1.449      0.147    -270.060    1803.306\n",
            "Transcript_sentiment                          5.2662      1.055      4.994      0.000       3.199       7.333\n",
            "Resume_sentiment                              3.4510      0.710      4.857      0.000       2.058       4.844\n",
            "JobDescription_sentiment                      1.9822      0.271      7.310      0.000       1.451       2.514\n",
            "Transcript_words                             90.7470    377.558      0.240      0.810    -649.253     830.747\n",
            "Resume_words                                 -0.0065      0.002     -4.196      0.000      -0.009      -0.003\n",
            "Years_Experience                              0.0643      0.013      5.138      0.000       0.040       0.089\n",
            "resume_jd_similarity_transformers            -5.0891      0.828     -6.146      0.000      -6.712      -3.466\n",
            "transcript_jd_similarity_transformers         0.2343      0.777      0.301      0.763      -1.289       1.758\n",
            "transcript_resume_similarity_transformers     3.4941      0.862      4.053      0.000       1.804       5.184\n",
            "resume_sentence_count                      -784.9211    528.958     -1.484      0.138   -1821.660     251.818\n",
            "resume_avg_word_length                        0.0370      0.206      0.180      0.857      -0.366       0.440\n",
            "skill_match_count                             0.0338      0.005      6.696      0.000       0.024       0.044\n",
            "university_education_count                    0.3502      0.084      4.159      0.000       0.185       0.515\n",
            "transcript_vocab_diversity                   15.9594      1.404     11.364      0.000      13.207      18.712\n",
            "transcript_avg_sentence_length              -90.7290    377.558     -0.240      0.810    -830.729     649.271\n",
            "=============================================================================================================\n",
            "Logistic Regression Metrics:\n",
            "Accuracy: 0.7905405405405406\n",
            "Precision: 0.797752808988764\n",
            "Recall: 0.7526501766784452\n",
            "F1 Score: 0.7745454545454545\n",
            "roc_auc Score: 0.7889464475625236\n"
          ]
        },
        {
          "name": "stderr",
          "output_type": "stream",
          "text": [
            "/usr/local/lib/python3.10/dist-packages/statsmodels/base/model.py:607: ConvergenceWarning: Maximum Likelihood optimization failed to converge. Check mle_retvals\n",
            "  warnings.warn(\"Maximum Likelihood optimization failed to \"\n"
          ]
        }
      ],
      "source": [
        "# Logistic Regression using statsmodels\n",
        "def logistic_regression_statsmodels(train_x, train_y):\n",
        "    X_train_const = sm.add_constant(train_x)  # Add intercept\n",
        "    model = sm.Logit(train_y, X_train_const)\n",
        "    result = model.fit()\n",
        "    print(result.summary())\n",
        "    return result\n",
        "\n",
        "# Logistic Regression Model\n",
        "logistic_model = logistic_regression_statsmodels(train_x, train_y)\n",
        "X_test_const = sm.add_constant(test_x)\n",
        "y_pred_logistic = (logistic_model.predict(X_test_const) > 0.5).astype(int)\n",
        "\n",
        "# Logistic Regression Evaluation\n",
        "print(\"Logistic Regression Metrics:\")\n",
        "print(\"Accuracy:\", accuracy_score(test_y, y_pred_logistic))\n",
        "print(\"Precision:\", precision_score(test_y, y_pred_logistic))\n",
        "print(\"Recall:\", recall_score(test_y, y_pred_logistic))\n",
        "print(\"F1 Score:\", f1_score(test_y, y_pred_logistic))\n",
        "print(\"roc_auc Score:\", roc_auc_score(test_y, y_pred_logistic))\n"
      ]
    },
    {
      "cell_type": "markdown",
      "metadata": {
        "id": "_m4C1OF3h065"
      },
      "source": [
        "After using the Sentence transformers for finding similarity we got that\n",
        "resume jd similarity and resume transcript similarity as useful features"
      ]
    },
    {
      "cell_type": "code",
      "execution_count": 140,
      "metadata": {
        "colab": {
          "base_uri": "https://localhost:8080/"
        },
        "id": "c4nE1IxTqmuo",
        "outputId": "f28b8506-5daf-4388-e962-39eaac872fe2"
      },
      "outputs": [
        {
          "name": "stderr",
          "output_type": "stream",
          "text": [
            "[I 2025-01-06 04:31:52,039] A new study created in memory with name: no-name-5f5d3bd0-0f3c-490e-8e96-36b0ee46e797\n",
            "[I 2025-01-06 04:31:52,817] Trial 0 finished with value: 0.8141891891891891 and parameters: {'n_estimators': 971, 'max_depth': 10, 'learning_rate': 0.033977687542850646, 'subsample': 0.694306132365533, 'colsample_bytree': 0.5775822914903839, 'gamma': 1.6224200881176076, 'min_child_weight': 8}. Best is trial 0 with value: 0.8141891891891891.\n",
            "[I 2025-01-06 04:31:53,239] Trial 1 finished with value: 0.8057432432432432 and parameters: {'n_estimators': 680, 'max_depth': 3, 'learning_rate': 0.0990701021580498, 'subsample': 0.7749029138589061, 'colsample_bytree': 0.8958404549414012, 'gamma': 1.8095709171600416, 'min_child_weight': 6}. Best is trial 0 with value: 0.8141891891891891.\n",
            "[I 2025-01-06 04:31:53,712] Trial 2 finished with value: 0.8057432432432432 and parameters: {'n_estimators': 949, 'max_depth': 5, 'learning_rate': 0.12671283739628902, 'subsample': 0.6270143404429358, 'colsample_bytree': 0.5820480457002628, 'gamma': 2.3585621994129857, 'min_child_weight': 5}. Best is trial 0 with value: 0.8141891891891891.\n",
            "[I 2025-01-06 04:31:54,005] Trial 3 finished with value: 0.8023648648648649 and parameters: {'n_estimators': 655, 'max_depth': 10, 'learning_rate': 0.18566019498044473, 'subsample': 0.8356927773469469, 'colsample_bytree': 0.7454958896120996, 'gamma': 4.5814904050745815, 'min_child_weight': 3}. Best is trial 0 with value: 0.8141891891891891.\n",
            "[I 2025-01-06 04:31:54,547] Trial 4 finished with value: 0.7956081081081081 and parameters: {'n_estimators': 519, 'max_depth': 7, 'learning_rate': 0.2491245179940047, 'subsample': 0.682739040754645, 'colsample_bytree': 0.8537141365692538, 'gamma': 0.12910953772160283, 'min_child_weight': 4}. Best is trial 0 with value: 0.8141891891891891.\n",
            "[I 2025-01-06 04:31:54,827] Trial 5 finished with value: 0.8074324324324325 and parameters: {'n_estimators': 328, 'max_depth': 6, 'learning_rate': 0.047028490067090305, 'subsample': 0.7411442165268871, 'colsample_bytree': 0.643390477861407, 'gamma': 3.438043993113803, 'min_child_weight': 7}. Best is trial 0 with value: 0.8141891891891891.\n",
            "[I 2025-01-06 04:31:55,198] Trial 6 finished with value: 0.7989864864864865 and parameters: {'n_estimators': 742, 'max_depth': 3, 'learning_rate': 0.07106051033766012, 'subsample': 0.6005769121477498, 'colsample_bytree': 0.9373234713449861, 'gamma': 4.933628871641046, 'min_child_weight': 9}. Best is trial 0 with value: 0.8141891891891891.\n",
            "[I 2025-01-06 04:31:55,510] Trial 7 finished with value: 0.8158783783783784 and parameters: {'n_estimators': 400, 'max_depth': 9, 'learning_rate': 0.132294404688454, 'subsample': 0.7134106425094298, 'colsample_bytree': 0.8390359371589453, 'gamma': 2.0537433037501778, 'min_child_weight': 5}. Best is trial 7 with value: 0.8158783783783784.\n",
            "[I 2025-01-06 04:31:55,872] Trial 8 finished with value: 0.8226351351351351 and parameters: {'n_estimators': 823, 'max_depth': 8, 'learning_rate': 0.22807918505942862, 'subsample': 0.8664681574344151, 'colsample_bytree': 0.7679810004986152, 'gamma': 4.486783880714952, 'min_child_weight': 1}. Best is trial 8 with value: 0.8226351351351351.\n",
            "[I 2025-01-06 04:31:56,109] Trial 9 finished with value: 0.8108108108108109 and parameters: {'n_estimators': 120, 'max_depth': 9, 'learning_rate': 0.2307873854881715, 'subsample': 0.9705201577586451, 'colsample_bytree': 0.8608763251374676, 'gamma': 0.4413554832132549, 'min_child_weight': 8}. Best is trial 8 with value: 0.8226351351351351.\n",
            "[I 2025-01-06 04:31:56,461] Trial 10 finished with value: 0.8091216216216216 and parameters: {'n_estimators': 802, 'max_depth': 7, 'learning_rate': 0.2874451491291813, 'subsample': 0.921190361896828, 'colsample_bytree': 0.7218398247031934, 'gamma': 3.877512297590093, 'min_child_weight': 1}. Best is trial 8 with value: 0.8226351351351351.\n",
            "[I 2025-01-06 04:31:56,773] Trial 11 finished with value: 0.8243243243243243 and parameters: {'n_estimators': 423, 'max_depth': 8, 'learning_rate': 0.16547860476303514, 'subsample': 0.855306906030123, 'colsample_bytree': 0.7968544987982872, 'gamma': 3.2616079051925793, 'min_child_weight': 1}. Best is trial 11 with value: 0.8243243243243243.\n",
            "[I 2025-01-06 04:31:57,078] Trial 12 finished with value: 0.8209459459459459 and parameters: {'n_estimators': 470, 'max_depth': 8, 'learning_rate': 0.18541731569422154, 'subsample': 0.8325696318664698, 'colsample_bytree': 0.7821211902573755, 'gamma': 3.338909843393801, 'min_child_weight': 1}. Best is trial 11 with value: 0.8243243243243243.\n",
            "[I 2025-01-06 04:31:57,288] Trial 13 finished with value: 0.8091216216216216 and parameters: {'n_estimators': 220, 'max_depth': 8, 'learning_rate': 0.19104489340386713, 'subsample': 0.8889152402109974, 'colsample_bytree': 0.9991932382876427, 'gamma': 4.105745327628307, 'min_child_weight': 2}. Best is trial 11 with value: 0.8243243243243243.\n",
            "[I 2025-01-06 04:31:57,654] Trial 14 finished with value: 0.793918918918919 and parameters: {'n_estimators': 828, 'max_depth': 5, 'learning_rate': 0.2307859116773613, 'subsample': 0.9908850429101367, 'colsample_bytree': 0.6755166071030256, 'gamma': 3.006461534053682, 'min_child_weight': 3}. Best is trial 11 with value: 0.8243243243243243.\n",
            "[I 2025-01-06 04:31:58,009] Trial 15 finished with value: 0.8091216216216216 and parameters: {'n_estimators': 596, 'max_depth': 8, 'learning_rate': 0.27086679008855086, 'subsample': 0.5338485479289548, 'colsample_bytree': 0.7961044057409753, 'gamma': 4.193041356848237, 'min_child_weight': 1}. Best is trial 11 with value: 0.8243243243243243.\n",
            "[I 2025-01-06 04:31:58,233] Trial 16 finished with value: 0.8023648648648649 and parameters: {'n_estimators': 307, 'max_depth': 6, 'learning_rate': 0.1683459519983277, 'subsample': 0.8210773962971948, 'colsample_bytree': 0.6843095529147707, 'gamma': 2.8900299183562312, 'min_child_weight': 3}. Best is trial 11 with value: 0.8243243243243243.\n",
            "[I 2025-01-06 04:31:58,664] Trial 17 finished with value: 0.8040540540540541 and parameters: {'n_estimators': 873, 'max_depth': 9, 'learning_rate': 0.2117918880226633, 'subsample': 0.8958889981285831, 'colsample_bytree': 0.5020263850271343, 'gamma': 1.17631420702853, 'min_child_weight': 2}. Best is trial 11 with value: 0.8243243243243243.\n",
            "[I 2025-01-06 04:31:58,936] Trial 18 finished with value: 0.8091216216216216 and parameters: {'n_estimators': 446, 'max_depth': 7, 'learning_rate': 0.13677612102760578, 'subsample': 0.7817570592297356, 'colsample_bytree': 0.7944440014563526, 'gamma': 4.964292009506494, 'min_child_weight': 10}. Best is trial 11 with value: 0.8243243243243243.\n",
            "[I 2025-01-06 04:31:59,280] Trial 19 finished with value: 0.8091216216216216 and parameters: {'n_estimators': 538, 'max_depth': 5, 'learning_rate': 0.09819733469853917, 'subsample': 0.9398712900873442, 'colsample_bytree': 0.9278222477915812, 'gamma': 3.7306742534171597, 'min_child_weight': 2}. Best is trial 11 with value: 0.8243243243243243.\n",
            "[I 2025-01-06 04:31:59,604] Trial 20 finished with value: 0.8091216216216216 and parameters: {'n_estimators': 602, 'max_depth': 8, 'learning_rate': 0.15738585398410435, 'subsample': 0.8682017076453207, 'colsample_bytree': 0.7273719258149518, 'gamma': 4.434161089264513, 'min_child_weight': 4}. Best is trial 11 with value: 0.8243243243243243.\n",
            "[I 2025-01-06 04:31:59,902] Trial 21 finished with value: 0.8175675675675675 and parameters: {'n_estimators': 447, 'max_depth': 8, 'learning_rate': 0.19279508891464467, 'subsample': 0.8346093093209075, 'colsample_bytree': 0.7979406291366786, 'gamma': 3.226199731396299, 'min_child_weight': 1}. Best is trial 11 with value: 0.8243243243243243.\n",
            "[I 2025-01-06 04:32:00,163] Trial 22 finished with value: 0.7905405405405406 and parameters: {'n_estimators': 327, 'max_depth': 9, 'learning_rate': 0.2149347067911737, 'subsample': 0.7986813651157303, 'colsample_bytree': 0.7848985461813754, 'gamma': 2.6820135035383976, 'min_child_weight': 1}. Best is trial 11 with value: 0.8243243243243243.\n",
            "[I 2025-01-06 04:32:00,449] Trial 23 finished with value: 0.8125 and parameters: {'n_estimators': 493, 'max_depth': 8, 'learning_rate': 0.24621209353158685, 'subsample': 0.8592287906014661, 'colsample_bytree': 0.7507887983098195, 'gamma': 3.5678703198536907, 'min_child_weight': 2}. Best is trial 11 with value: 0.8243243243243243.\n",
            "[I 2025-01-06 04:32:00,680] Trial 24 finished with value: 0.8006756756756757 and parameters: {'n_estimators': 243, 'max_depth': 7, 'learning_rate': 0.17186256080176338, 'subsample': 0.9392614677966384, 'colsample_bytree': 0.8217275324424014, 'gamma': 3.3213815997966982, 'min_child_weight': 1}. Best is trial 11 with value: 0.8243243243243243.\n",
            "[I 2025-01-06 04:32:01,112] Trial 25 finished with value: 0.8158783783783784 and parameters: {'n_estimators': 405, 'max_depth': 10, 'learning_rate': 0.20965026686935165, 'subsample': 0.7593743654806697, 'colsample_bytree': 0.6922127989060736, 'gamma': 2.4480024132945815, 'min_child_weight': 4}. Best is trial 11 with value: 0.8243243243243243.\n",
            "[I 2025-01-06 04:32:01,708] Trial 26 finished with value: 0.7956081081081081 and parameters: {'n_estimators': 713, 'max_depth': 6, 'learning_rate': 0.2699879112652408, 'subsample': 0.9032348109542903, 'colsample_bytree': 0.8831074122629233, 'gamma': 4.000070825461694, 'min_child_weight': 3}. Best is trial 11 with value: 0.8243243243243243.\n",
            "[I 2025-01-06 04:32:02,236] Trial 27 finished with value: 0.8040540540540541 and parameters: {'n_estimators': 611, 'max_depth': 9, 'learning_rate': 0.15148151471436253, 'subsample': 0.8579729640596206, 'colsample_bytree': 0.6246810676285102, 'gamma': 4.509109857256866, 'min_child_weight': 2}. Best is trial 11 with value: 0.8243243243243243.\n",
            "[I 2025-01-06 04:32:02,990] Trial 28 finished with value: 0.8091216216216216 and parameters: {'n_estimators': 902, 'max_depth': 8, 'learning_rate': 0.18043807582767973, 'subsample': 0.8242544310616544, 'colsample_bytree': 0.7814227227214328, 'gamma': 3.1546912951006414, 'min_child_weight': 1}. Best is trial 11 with value: 0.8243243243243243.\n",
            "[I 2025-01-06 04:32:03,677] Trial 29 finished with value: 0.8057432432432432 and parameters: {'n_estimators': 749, 'max_depth': 10, 'learning_rate': 0.10555777232478358, 'subsample': 0.7257456200478843, 'colsample_bytree': 0.75780835268434, 'gamma': 3.6608508917340044, 'min_child_weight': 6}. Best is trial 11 with value: 0.8243243243243243.\n",
            "[I 2025-01-06 04:32:05,372] Trial 30 finished with value: 0.8108108108108109 and parameters: {'n_estimators': 485, 'max_depth': 7, 'learning_rate': 0.021064017112548905, 'subsample': 0.8005440276170774, 'colsample_bytree': 0.7090521212291455, 'gamma': 1.3244645728323525, 'min_child_weight': 2}. Best is trial 11 with value: 0.8243243243243243.\n",
            "[I 2025-01-06 04:32:05,871] Trial 31 finished with value: 0.8108108108108109 and parameters: {'n_estimators': 406, 'max_depth': 8, 'learning_rate': 0.1991755362014222, 'subsample': 0.8409496586654709, 'colsample_bytree': 0.8166098285705422, 'gamma': 2.79129056038708, 'min_child_weight': 1}. Best is trial 11 with value: 0.8243243243243243.\n",
            "[I 2025-01-06 04:32:06,605] Trial 32 finished with value: 0.8023648648648649 and parameters: {'n_estimators': 989, 'max_depth': 8, 'learning_rate': 0.22993318879759114, 'subsample': 0.8862658836530448, 'colsample_bytree': 0.7624208138519115, 'gamma': 3.198648836735961, 'min_child_weight': 1}. Best is trial 11 with value: 0.8243243243243243.\n",
            "[I 2025-01-06 04:32:06,935] Trial 33 finished with value: 0.7989864864864865 and parameters: {'n_estimators': 365, 'max_depth': 9, 'learning_rate': 0.15134717420816862, 'subsample': 0.8024359575323765, 'colsample_bytree': 0.8917953480009255, 'gamma': 2.1862947063403304, 'min_child_weight': 2}. Best is trial 11 with value: 0.8243243243243243.\n",
            "[I 2025-01-06 04:32:07,259] Trial 34 finished with value: 0.8226351351351351 and parameters: {'n_estimators': 445, 'max_depth': 7, 'learning_rate': 0.1957162949582595, 'subsample': 0.7643349407726676, 'colsample_bytree': 0.8210914518387338, 'gamma': 2.678327798190405, 'min_child_weight': 3}. Best is trial 11 with value: 0.8243243243243243.\n",
            "[I 2025-01-06 04:32:07,695] Trial 35 finished with value: 0.8125 and parameters: {'n_estimators': 654, 'max_depth': 6, 'learning_rate': 0.11631482626503681, 'subsample': 0.6787809423837163, 'colsample_bytree': 0.8322744482550513, 'gamma': 2.582402968529206, 'min_child_weight': 3}. Best is trial 11 with value: 0.8243243243243243.\n",
            "[I 2025-01-06 04:32:08,050] Trial 36 finished with value: 0.8023648648648649 and parameters: {'n_estimators': 562, 'max_depth': 7, 'learning_rate': 0.2497685796775268, 'subsample': 0.7644925057920468, 'colsample_bytree': 0.8698093165804214, 'gamma': 2.0784836595121714, 'min_child_weight': 4}. Best is trial 11 with value: 0.8243243243243243.\n",
            "[I 2025-01-06 04:32:08,278] Trial 37 finished with value: 0.8057432432432432 and parameters: {'n_estimators': 228, 'max_depth': 7, 'learning_rate': 0.16907805689576147, 'subsample': 0.7796483586131024, 'colsample_bytree': 0.9328807687415608, 'gamma': 4.328008632728096, 'min_child_weight': 3}. Best is trial 11 with value: 0.8243243243243243.\n",
            "[I 2025-01-06 04:32:08,509] Trial 38 finished with value: 0.8006756756756757 and parameters: {'n_estimators': 282, 'max_depth': 4, 'learning_rate': 0.20327967907875594, 'subsample': 0.8653607084501043, 'colsample_bytree': 0.6508061305729891, 'gamma': 1.7625234301776445, 'min_child_weight': 5}. Best is trial 11 with value: 0.8243243243243243.\n",
            "[I 2025-01-06 04:32:09,083] Trial 39 finished with value: 0.8141891891891891 and parameters: {'n_estimators': 469, 'max_depth': 10, 'learning_rate': 0.08118329825305899, 'subsample': 0.6485334705821165, 'colsample_bytree': 0.8438636424659485, 'gamma': 1.4473618783528264, 'min_child_weight': 2}. Best is trial 11 with value: 0.8243243243243243.\n",
            "[I 2025-01-06 04:32:09,347] Trial 40 finished with value: 0.8023648648648649 and parameters: {'n_estimators': 375, 'max_depth': 6, 'learning_rate': 0.2257685617365767, 'subsample': 0.7234472133690528, 'colsample_bytree': 0.7390257739033028, 'gamma': 3.4972451631413275, 'min_child_weight': 4}. Best is trial 11 with value: 0.8243243243243243.\n",
            "[I 2025-01-06 04:32:09,667] Trial 41 finished with value: 0.8091216216216216 and parameters: {'n_estimators': 444, 'max_depth': 8, 'learning_rate': 0.1960713719992589, 'subsample': 0.8364090839307018, 'colsample_bytree': 0.8017623749460492, 'gamma': 2.414864339794803, 'min_child_weight': 1}. Best is trial 11 with value: 0.8243243243243243.\n",
            "[I 2025-01-06 04:32:09,997] Trial 42 finished with value: 0.8074324324324325 and parameters: {'n_estimators': 524, 'max_depth': 8, 'learning_rate': 0.17813531859020384, 'subsample': 0.7439268265347946, 'colsample_bytree': 0.7629472214553019, 'gamma': 2.9543236002816626, 'min_child_weight': 1}. Best is trial 11 with value: 0.8243243243243243.\n",
            "[I 2025-01-06 04:32:10,317] Trial 43 finished with value: 0.8074324324324325 and parameters: {'n_estimators': 440, 'max_depth': 9, 'learning_rate': 0.13912508930932588, 'subsample': 0.918357028673017, 'colsample_bytree': 0.8539986515337045, 'gamma': 3.877889581751934, 'min_child_weight': 1}. Best is trial 11 with value: 0.8243243243243243.\n",
            "[I 2025-01-06 04:32:10,568] Trial 44 finished with value: 0.8040540540540541 and parameters: {'n_estimators': 358, 'max_depth': 7, 'learning_rate': 0.18787070930126587, 'subsample': 0.8060600336091329, 'colsample_bytree': 0.8123667582874619, 'gamma': 3.3109275010373787, 'min_child_weight': 7}. Best is trial 11 with value: 0.8243243243243243.\n",
            "[I 2025-01-06 04:32:10,867] Trial 45 finished with value: 0.8091216216216216 and parameters: {'n_estimators': 559, 'max_depth': 8, 'learning_rate': 0.2524381040012075, 'subsample': 0.8408798204850376, 'colsample_bytree': 0.71342589865906, 'gamma': 3.0080939009637353, 'min_child_weight': 2}. Best is trial 11 with value: 0.8243243243243243.\n",
            "[I 2025-01-06 04:32:11,227] Trial 46 finished with value: 0.7989864864864865 and parameters: {'n_estimators': 648, 'max_depth': 7, 'learning_rate': 0.15745136949582403, 'subsample': 0.6996437436591034, 'colsample_bytree': 0.9115645785900668, 'gamma': 4.601343013164501, 'min_child_weight': 3}. Best is trial 11 with value: 0.8243243243243243.\n",
            "[I 2025-01-06 04:32:11,542] Trial 47 finished with value: 0.7922297297297297 and parameters: {'n_estimators': 497, 'max_depth': 9, 'learning_rate': 0.21923130876450989, 'subsample': 0.9690139177059259, 'colsample_bytree': 0.7741100530791736, 'gamma': 2.270573619770255, 'min_child_weight': 2}. Best is trial 11 with value: 0.8243243243243243.\n",
            "[I 2025-01-06 04:32:12,199] Trial 48 finished with value: 0.8209459459459459 and parameters: {'n_estimators': 945, 'max_depth': 8, 'learning_rate': 0.18799545224989692, 'subsample': 0.7799865534642845, 'colsample_bytree': 0.9559826069236453, 'gamma': 0.969288054142921, 'min_child_weight': 1}. Best is trial 11 with value: 0.8243243243243243.\n",
            "[I 2025-01-06 04:32:12,910] Trial 49 finished with value: 0.8091216216216216 and parameters: {'n_estimators': 936, 'max_depth': 9, 'learning_rate': 0.2375010846238884, 'subsample': 0.5640041769562236, 'colsample_bytree': 0.9830777098442958, 'gamma': 0.7252460994934631, 'min_child_weight': 1}. Best is trial 11 with value: 0.8243243243243243.\n"
          ]
        },
        {
          "name": "stdout",
          "output_type": "stream",
          "text": [
            "Best parameters: {'n_estimators': 423, 'max_depth': 8, 'learning_rate': 0.16547860476303514, 'subsample': 0.855306906030123, 'colsample_bytree': 0.7968544987982872, 'gamma': 3.2616079051925793, 'min_child_weight': 1}\n",
            "XGBoost Metrics:\n",
            "Accuracy: 0.8243243243243243\n",
            "Precision: 0.8033898305084746\n",
            "Recall: 0.8374558303886925\n",
            "F1 Score: 0.8200692041522492\n"
          ]
        }
      ],
      "source": [
        "\n",
        "# XGBoost with Optuna for Hyperparameter Tuning\n",
        "def objective(trial):\n",
        "    params = {\n",
        "        \"n_estimators\": trial.suggest_int(\"n_estimators\", 100, 1000),\n",
        "        \"max_depth\": trial.suggest_int(\"max_depth\", 3, 10),\n",
        "        \"learning_rate\": trial.suggest_float(\"learning_rate\", 0.01, 0.3),\n",
        "        \"subsample\": trial.suggest_float(\"subsample\", 0.5, 1.0),\n",
        "        \"colsample_bytree\": trial.suggest_float(\"colsample_bytree\", 0.5, 1.0),\n",
        "        \"gamma\": trial.suggest_float(\"gamma\", 0, 5),\n",
        "        \"min_child_weight\": trial.suggest_int(\"min_child_weight\", 1, 10),\n",
        "    }\n",
        "\n",
        "    model = XGBClassifier(**params, use_label_encoder=False, eval_metric=\"logloss\", random_state=42)\n",
        "    model.fit(train_x, train_y)\n",
        "    y_pred = model.predict(test_x)\n",
        "    return accuracy_score(test_y, y_pred)\n",
        "\n",
        "study = optuna.create_study(direction=\"maximize\")\n",
        "study.optimize(objective, n_trials=50)\n",
        "\n",
        "# Best hyperparameters\n",
        "print(\"Best parameters:\", study.best_params)\n",
        "\n",
        "# Train XGBoost with best parameters\n",
        "best_params = study.best_params\n",
        "xgb_model = XGBClassifier(**best_params, use_label_encoder=False, eval_metric=\"logloss\", random_state=42)\n",
        "xgb_model.fit(train_x, train_y)\n",
        "y_pred_xgb = xgb_model.predict(test_x)\n",
        "\n",
        "# XGBoost Evaluation\n",
        "print(\"XGBoost Metrics:\")\n",
        "print(\"Accuracy:\", accuracy_score(test_y, y_pred_xgb))\n",
        "print(\"Precision:\", precision_score(test_y, y_pred_xgb))\n",
        "print(\"Recall:\", recall_score(test_y, y_pred_xgb))\n",
        "print(\"F1 Score:\", f1_score(test_y, y_pred_xgb))"
      ]
    },
    {
      "cell_type": "code",
      "execution_count": 83,
      "metadata": {
        "colab": {
          "base_uri": "https://localhost:8080/",
          "height": 489
        },
        "id": "jcg4xjPMqmrU",
        "outputId": "c68f33e6-2619-4d2f-efdc-7e7b31149065"
      },
      "outputs": [
        {
          "data": {
            "text/plain": [
              "<Figure size 1000x800 with 0 Axes>"
            ]
          },
          "metadata": {},
          "output_type": "display_data"
        },
        {
          "data": {
            "image/png": "[encoded data removed]",
            "text/plain": [
              "<Figure size 640x480 with 1 Axes>"
            ]
          },
          "metadata": {},
          "output_type": "display_data"
        }
      ],
      "source": [
        "plt.figure(figsize=(10, 8))\n",
        "plot_importance(xgb_model, importance_type='weight', title='Feature Importance')\n",
        "plt.show()"
      ]
    },
    {
      "cell_type": "code",
      "execution_count": 128,
      "metadata": {
        "colab": {
          "base_uri": "https://localhost:8080/"
        },
        "id": "vBleJsCIrXTJ",
        "outputId": "d61eece9-7eed-41cf-c806-197dbfaeaa0c"
      },
      "outputs": [
        {
          "name": "stdout",
          "output_type": "stream",
          "text": [
            "Naive Bayes Metrics (SentenceTransformer):\n",
            "Accuracy: 0.7364864864864865\n",
            "Precision: 0.7613168724279835\n",
            "Recall: 0.6537102473498233\n",
            "F1 Score: 0.7034220532319392\n"
          ]
        }
      ],
      "source": [
        "# Train and evaluate Naive Bayes\n",
        "nb_model2 = GaussianNB()\n",
        "nb_model2.fit(train_x, train_y)  # Fit the model\n",
        "y_pred_nb = nb_model2.predict(test_x)  # Predict on test set\n",
        "\n",
        "# Evaluation\n",
        "print(\"Naive Bayes Metrics (SentenceTransformer):\")\n",
        "print(\"Accuracy:\", accuracy_score(test_y, y_pred_nb))\n",
        "print(\"Precision:\", precision_score(test_y, y_pred_nb))\n",
        "print(\"Recall:\", recall_score(test_y, y_pred_nb))\n",
        "print(\"F1 Score:\", f1_score(test_y, y_pred_nb))\n"
      ]
    },
    {
      "cell_type": "code",
      "execution_count": 133,
      "metadata": {
        "colab": {
          "base_uri": "https://localhost:8080/"
        },
        "id": "5Ycn16ac1BkF",
        "outputId": "8e7963b9-acf5-4c63-a64c-cc167ce0376e"
      },
      "outputs": [
        {
          "name": "stdout",
          "output_type": "stream",
          "text": [
            "Mean Feature Importance: [1.94884216e+01 1.25392787e+01 4.44761255e+00 1.26964475e-02\n",
            " 2.38851666e-02 1.47528613e-01 5.38955471e+00 6.38916708e+00\n",
            " 1.29497846e+01 3.73785530e+02 3.59450046e+00 4.38903803e-02\n",
            " 1.11742838e+00 1.90994526e+01 1.26964477e-02]\n"
          ]
        }
      ],
      "source": [
        "importance = 1 / np.sqrt(nb_model2.var_)\n",
        "mean_importance = importance.mean(axis=0)  # Average across classes\n",
        "print(\"Mean Feature Importance:\", mean_importance)"
      ]
    },
    {
      "cell_type": "markdown",
      "metadata": {
        "id": "6DQXU9E42BUH"
      },
      "source": []
    },
    {
      "cell_type": "code",
      "execution_count": 124,
      "metadata": {
        "colab": {
          "base_uri": "https://localhost:8080/"
        },
        "id": "Su4-nCZDrXPd",
        "outputId": "d1d9ce01-8dfb-4030-b3e7-fad9a38eaf10"
      },
      "outputs": [
        {
          "name": "stdout",
          "output_type": "stream",
          "text": [
            "Random Forest Metrics (SentenceTransformer):\n",
            "Accuracy: 0.8175675675675675\n",
            "Precision: 0.8091872791519434\n",
            "Recall: 0.8091872791519434\n",
            "F1 Score: 0.8091872791519434\n"
          ]
        }
      ],
      "source": [
        "# Train and evaluate Random Forest Classifier\n",
        "rf_model2 = RandomForestClassifier(random_state=42)\n",
        "rf_model2.fit(train_x, train_y)  # Fit the model\n",
        "y_pred_rf = rf_model2.predict(test_x)  # Predict on test set\n",
        "\n",
        "# Evaluation\n",
        "print(\"Random Forest Metrics (SentenceTransformer):\")\n",
        "print(\"Accuracy:\", accuracy_score(test_y, y_pred_rf))\n",
        "print(\"Precision:\", precision_score(test_y, y_pred_rf))\n",
        "print(\"Recall:\", recall_score(test_y, y_pred_rf))\n",
        "print(\"F1 Score:\", f1_score(test_y, y_pred_rf))\n"
      ]
    },
    {
      "cell_type": "code",
      "execution_count": 127,
      "metadata": {
        "colab": {
          "base_uri": "https://localhost:8080/",
          "height": 825
        },
        "id": "c0bPWTt_0H53",
        "outputId": "d34e60f1-9a29-455e-c9f2-116b58849b50"
      },
      "outputs": [
        {
          "data": {
            "image/png": "[encoded data removed]",
            "text/plain": [
              "<Figure size 1000x600 with 1 Axes>"
            ]
          },
          "metadata": {},
          "output_type": "display_data"
        }
      ],
      "source": [
        "importance = rf_model2.feature_importances_\n",
        "plt.figure(figsize=(10, 6))\n",
        "plt.bar(x.columns, importance)\n",
        "plt.xticks(rotation=90)\n",
        "plt.title(\"Random Forest Feature Importance\")\n",
        "for i, v in enumerate(importance):\n",
        "    plt.text(i, v + 0.001, f\"{v:.2f}\", ha='center', va='bottom', fontsize=8)\n",
        "\n",
        "plt.show()\n"
      ]
    },
    {
      "cell_type": "code",
      "execution_count": 91,
      "metadata": {
        "colab": {
          "base_uri": "https://localhost:8080/"
        },
        "id": "SD_LQ9JVrXMi",
        "outputId": "822c7b01-2ab9-4e93-aac8-0ddf51252ef8"
      },
      "outputs": [
        {
          "name": "stdout",
          "output_type": "stream",
          "text": [
            "SVC Metrics (SentenceTransformer):\n",
            "Accuracy: 0.793918918918919\n",
            "Precision: 0.7970479704797048\n",
            "Recall: 0.7632508833922261\n",
            "F1 Score: 0.779783393501805\n"
          ]
        }
      ],
      "source": [
        "# Train and evaluate SVC\n",
        "svc_model = SVC(kernel=\"linear\", random_state=42)\n",
        "svc_model.fit(train_x, train_y)  # Fit the model\n",
        "y_pred_svc = svc_model.predict(test_x)  # Predict on test set\n",
        "\n",
        "# Evaluation\n",
        "print(\"SVC Metrics (SentenceTransformer):\")\n",
        "print(\"Accuracy:\", accuracy_score(test_y, y_pred_svc))\n",
        "print(\"Precision:\", precision_score(test_y, y_pred_svc))\n",
        "print(\"Recall:\", recall_score(test_y, y_pred_svc))\n",
        "print(\"F1 Score:\", f1_score(test_y, y_pred_svc))\n"
      ]
    },
    {
      "cell_type": "markdown",
      "metadata": {
        "id": "Vo2SSYEO3gyb"
      },
      "source": [
        "# ***In comparision to all the models, ***\n",
        "\n",
        "# ***XGBOOST model is working well with the data as it is giving high accuracy , with sentence transformers ***"
      ]
    },
    {
      "cell_type": "code",
      "execution_count": 135,
      "metadata": {
        "id": "MaTHIG4n3Ldw"
      },
      "outputs": [],
      "source": [
        "# so saving the best model"
      ]
    },
    {
      "cell_type": "code",
      "execution_count": 141,
      "metadata": {
        "colab": {
          "base_uri": "https://localhost:8080/"
        },
        "id": "JLK2nvpM3Law",
        "outputId": "a2f124a0-41a5-4435-9691-b157f4157fd2"
      },
      "outputs": [
        {
          "name": "stdout",
          "output_type": "stream",
          "text": [
            "XGBoost Metrics:\n",
            "Accuracy: 0.8243243243243243\n",
            "Precision: 0.8033898305084746\n",
            "Recall: 0.8374558303886925\n",
            "F1 Score: 0.8200692041522492\n"
          ]
        }
      ],
      "source": [
        "y_pred_xgb = xgb_model.predict(test_x)\n",
        "\n",
        "# XGBoost Evaluation\n",
        "print(\"XGBoost Metrics:\")\n",
        "print(\"Accuracy:\", accuracy_score(test_y, y_pred_xgb))\n",
        "print(\"Precision:\", precision_score(test_y, y_pred_xgb))\n",
        "print(\"Recall:\", recall_score(test_y, y_pred_xgb))\n",
        "print(\"F1 Score:\", f1_score(test_y, y_pred_xgb))"
      ]
    },
    {
      "cell_type": "code",
      "execution_count": null,
      "metadata": {
        "id": "Rrmhnapz3LXk"
      },
      "outputs": [],
      "source": [
        "import xgboost as xgb\n",
        "\n",
        "# Assuming `model` is your trained XGBoost model\n",
        "model.save_model(\"model.bin\")\n",
        "\n",
        "# To load the model back\n",
        "loaded_model = xgb.Booster()\n",
        "loaded_model.load_model(\"model.bin\")\n"
      ]
    },
    {
      "cell_type": "code",
      "execution_count": null,
      "metadata": {
        "id": "1cE06f_C3LUm"
      },
      "outputs": [],
      "source": []
    },
    {
      "cell_type": "code",
      "execution_count": null,
      "metadata": {
        "id": "zsmeufWh3LRa"
      },
      "outputs": [],
      "source": []
    },
    {
      "cell_type": "code",
      "execution_count": null,
      "metadata": {
        "id": "HIzH_3ub3LOF"
      },
      "outputs": [],
      "source": []
    },
    {
      "cell_type": "code",
      "execution_count": null,
      "metadata": {
        "id": "uwKSr69g3LK1"
      },
      "outputs": [],
      "source": []
    },
    {
      "cell_type": "code",
      "execution_count": null,
      "metadata": {
        "id": "Mj1IbQrZ3LHg"
      },
      "outputs": [],
      "source": []
    },
    {
      "cell_type": "code",
      "execution_count": null,
      "metadata": {
        "id": "VDRjBTT43LD_"
      },
      "outputs": [],
      "source": []
    },
    {
      "cell_type": "code",
      "execution_count": null,
      "metadata": {
        "id": "n1Ffu1m73LA1"
      },
      "outputs": [],
      "source": []
    }
  ],
  "metadata": {
    "colab": {
      "provenance": []
    },
    "kernelspec": {
      "display_name": "Python 3",
      "name": "python3"
    },
    "language_info": {
      "name": "python"
    },
    "widgets": {
      "application/vnd.jupyter.widget-state+json": {
        "000330ea207d459da0fed2cdaded04ba": {
          "model_module": "@jupyter-widgets/base",
          "model_module_version": "1.2.0",
          "model_name": "LayoutModel",
          "state": {
            "_model_module": "@jupyter-widgets/base",
            "_model_module_version": "1.2.0",
            "_model_name": "LayoutModel",
            "_view_count": null,
            "_view_module": "@jupyter-widgets/base",
            "_view_module_version": "1.2.0",
            "_view_name": "LayoutView",
            "align_content": null,
            "align_items": null,
            "align_self": null,
            "border": null,
            "bottom": null,
            "display": null,
            "flex": null,
            "flex_flow": null,
            "grid_area": null,
            "grid_auto_columns": null,
            "grid_auto_flow": null,
            "grid_auto_rows": null,
            "grid_column": null,
            "grid_gap": null,
            "grid_row": null,
            "grid_template_areas": null,
            "grid_template_columns": null,
            "grid_template_rows": null,
            "height": null,
            "justify_content": null,
            "justify_items": null,
            "left": null,
            "margin": null,
            "max_height": null,
            "max_width": null,
            "min_height": null,
            "min_width": null,
            "object_fit": null,
            "object_position": null,
            "order": null,
            "overflow": null,
            "overflow_x": null,
            "overflow_y": null,
            "padding": null,
            "right": null,
            "top": null,
            "visibility": null,
            "width": null
          }
        },
        "028a638eec4c41e58ea68de05d47db95": {
          "model_module": "@jupyter-widgets/base",
          "model_module_version": "1.2.0",
          "model_name": "LayoutModel",
          "state": {
            "_model_module": "@jupyter-widgets/base",
            "_model_module_version": "1.2.0",
            "_model_name": "LayoutModel",
            "_view_count": null,
            "_view_module": "@jupyter-widgets/base",
            "_view_module_version": "1.2.0",
            "_view_name": "LayoutView",
            "align_content": null,
            "align_items": null,
            "align_self": null,
            "border": null,
            "bottom": null,
            "display": null,
            "flex": null,
            "flex_flow": null,
            "grid_area": null,
            "grid_auto_columns": null,
            "grid_auto_flow": null,
            "grid_auto_rows": null,
            "grid_column": null,
            "grid_gap": null,
            "grid_row": null,
            "grid_template_areas": null,
            "grid_template_columns": null,
            "grid_template_rows": null,
            "height": null,
            "justify_content": null,
            "justify_items": null,
            "left": null,
            "margin": null,
            "max_height": null,
            "max_width": null,
            "min_height": null,
            "min_width": null,
            "object_fit": null,
            "object_position": null,
            "order": null,
            "overflow": null,
            "overflow_x": null,
            "overflow_y": null,
            "padding": null,
            "right": null,
            "top": null,
            "visibility": null,
            "width": null
          }
        },
        "02aaff7b7c7d4b478e9ea373e7bf8a7e": {
          "model_module": "@jupyter-widgets/controls",
          "model_module_version": "1.5.0",
          "model_name": "HBoxModel",
          "state": {
            "_dom_classes": [],
            "_model_module": "@jupyter-widgets/controls",
            "_model_module_version": "1.5.0",
            "_model_name": "HBoxModel",
            "_view_count": null,
            "_view_module": "@jupyter-widgets/controls",
            "_view_module_version": "1.5.0",
            "_view_name": "HBoxView",
            "box_style": "",
            "children": [
              "IPY_MODEL_efc0cd75d4854bc6a0888395c7a63119",
              "IPY_MODEL_b9e50a1a5dcd4237823381ce8cdf332d",
              "IPY_MODEL_fae5a0281333498590eebcc9de2d7b73"
            ],
            "layout": "IPY_MODEL_10922726460f41b5b340601df5b5301d"
          }
        },
        "06099b35a6bf445db7c0adbe8c09c9a1": {
          "model_module": "@jupyter-widgets/base",
          "model_module_version": "1.2.0",
          "model_name": "LayoutModel",
          "state": {
            "_model_module": "@jupyter-widgets/base",
            "_model_module_version": "1.2.0",
            "_model_name": "LayoutModel",
            "_view_count": null,
            "_view_module": "@jupyter-widgets/base",
            "_view_module_version": "1.2.0",
            "_view_name": "LayoutView",
            "align_content": null,
            "align_items": null,
            "align_self": null,
            "border": null,
            "bottom": null,
            "display": null,
            "flex": null,
            "flex_flow": null,
            "grid_area": null,
            "grid_auto_columns": null,
            "grid_auto_flow": null,
            "grid_auto_rows": null,
            "grid_column": null,
            "grid_gap": null,
            "grid_row": null,
            "grid_template_areas": null,
            "grid_template_columns": null,
            "grid_template_rows": null,
            "height": null,
            "justify_content": null,
            "justify_items": null,
            "left": null,
            "margin": null,
            "max_height": null,
            "max_width": null,
            "min_height": null,
            "min_width": null,
            "object_fit": null,
            "object_position": null,
            "order": null,
            "overflow": null,
            "overflow_x": null,
            "overflow_y": null,
            "padding": null,
            "right": null,
            "top": null,
            "visibility": null,
            "width": null
          }
        },
        "0624cf360485416b83a22e203f53af84": {
          "model_module": "@jupyter-widgets/controls",
          "model_module_version": "1.5.0",
          "model_name": "DescriptionStyleModel",
          "state": {
            "_model_module": "@jupyter-widgets/controls",
            "_model_module_version": "1.5.0",
            "_model_name": "DescriptionStyleModel",
            "_view_count": null,
            "_view_module": "@jupyter-widgets/base",
            "_view_module_version": "1.2.0",
            "_view_name": "StyleView",
            "description_width": ""
          }
        },
        "0c0b9c1d06134e28a93561c0defc06da": {
          "model_module": "@jupyter-widgets/controls",
          "model_module_version": "1.5.0",
          "model_name": "HTMLModel",
          "state": {
            "_dom_classes": [],
            "_model_module": "@jupyter-widgets/controls",
            "_model_module_version": "1.5.0",
            "_model_name": "HTMLModel",
            "_view_count": null,
            "_view_module": "@jupyter-widgets/controls",
            "_view_module_version": "1.5.0",
            "_view_name": "HTMLView",
            "description": "",
            "description_tooltip": null,
            "layout": "IPY_MODEL_16334d5e62b94968a58a9461a0056a69",
            "placeholder": "​",
            "style": "IPY_MODEL_5055ad3327814d85baec64dc5203511c",
            "value": " 116/116 [00:00&lt;00:00, 5.78kB/s]"
          }
        },
        "0c37d1003bbd405396751fb984d272f4": {
          "model_module": "@jupyter-widgets/base",
          "model_module_version": "1.2.0",
          "model_name": "LayoutModel",
          "state": {
            "_model_module": "@jupyter-widgets/base",
            "_model_module_version": "1.2.0",
            "_model_name": "LayoutModel",
            "_view_count": null,
            "_view_module": "@jupyter-widgets/base",
            "_view_module_version": "1.2.0",
            "_view_name": "LayoutView",
            "align_content": null,
            "align_items": null,
            "align_self": null,
            "border": null,
            "bottom": null,
            "display": null,
            "flex": null,
            "flex_flow": null,
            "grid_area": null,
            "grid_auto_columns": null,
            "grid_auto_flow": null,
            "grid_auto_rows": null,
            "grid_column": null,
            "grid_gap": null,
            "grid_row": null,
            "grid_template_areas": null,
            "grid_template_columns": null,
            "grid_template_rows": null,
            "height": null,
            "justify_content": null,
            "justify_items": null,
            "left": null,
            "margin": null,
            "max_height": null,
            "max_width": null,
            "min_height": null,
            "min_width": null,
            "object_fit": null,
            "object_position": null,
            "order": null,
            "overflow": null,
            "overflow_x": null,
            "overflow_y": null,
            "padding": null,
            "right": null,
            "top": null,
            "visibility": null,
            "width": null
          }
        },
        "10922726460f41b5b340601df5b5301d": {
          "model_module": "@jupyter-widgets/base",
          "model_module_version": "1.2.0",
          "model_name": "LayoutModel",
          "state": {
            "_model_module": "@jupyter-widgets/base",
            "_model_module_version": "1.2.0",
            "_model_name": "LayoutModel",
            "_view_count": null,
            "_view_module": "@jupyter-widgets/base",
            "_view_module_version": "1.2.0",
            "_view_name": "LayoutView",
            "align_content": null,
            "align_items": null,
            "align_self": null,
            "border": null,
            "bottom": null,
            "display": null,
            "flex": null,
            "flex_flow": null,
            "grid_area": null,
            "grid_auto_columns": null,
            "grid_auto_flow": null,
            "grid_auto_rows": null,
            "grid_column": null,
            "grid_gap": null,
            "grid_row": null,
            "grid_template_areas": null,
            "grid_template_columns": null,
            "grid_template_rows": null,
            "height": null,
            "justify_content": null,
            "justify_items": null,
            "left": null,
            "margin": null,
            "max_height": null,
            "max_width": null,
            "min_height": null,
            "min_width": null,
            "object_fit": null,
            "object_position": null,
            "order": null,
            "overflow": null,
            "overflow_x": null,
            "overflow_y": null,
            "padding": null,
            "right": null,
            "top": null,
            "visibility": null,
            "width": null
          }
        },
        "15621039964340a2a990ab07b7401696": {
          "model_module": "@jupyter-widgets/controls",
          "model_module_version": "1.5.0",
          "model_name": "DescriptionStyleModel",
          "state": {
            "_model_module": "@jupyter-widgets/controls",
            "_model_module_version": "1.5.0",
            "_model_name": "DescriptionStyleModel",
            "_view_count": null,
            "_view_module": "@jupyter-widgets/base",
            "_view_module_version": "1.2.0",
            "_view_name": "StyleView",
            "description_width": ""
          }
        },
        "16334d5e62b94968a58a9461a0056a69": {
          "model_module": "@jupyter-widgets/base",
          "model_module_version": "1.2.0",
          "model_name": "LayoutModel",
          "state": {
            "_model_module": "@jupyter-widgets/base",
            "_model_module_version": "1.2.0",
            "_model_name": "LayoutModel",
            "_view_count": null,
            "_view_module": "@jupyter-widgets/base",
            "_view_module_version": "1.2.0",
            "_view_name": "LayoutView",
            "align_content": null,
            "align_items": null,
            "align_self": null,
            "border": null,
            "bottom": null,
            "display": null,
            "flex": null,
            "flex_flow": null,
            "grid_area": null,
            "grid_auto_columns": null,
            "grid_auto_flow": null,
            "grid_auto_rows": null,
            "grid_column": null,
            "grid_gap": null,
            "grid_row": null,
            "grid_template_areas": null,
            "grid_template_columns": null,
            "grid_template_rows": null,
            "height": null,
            "justify_content": null,
            "justify_items": null,
            "left": null,
            "margin": null,
            "max_height": null,
            "max_width": null,
            "min_height": null,
            "min_width": null,
            "object_fit": null,
            "object_position": null,
            "order": null,
            "overflow": null,
            "overflow_x": null,
            "overflow_y": null,
            "padding": null,
            "right": null,
            "top": null,
            "visibility": null,
            "width": null
          }
        },
        "168be153e8d74df9860afb9882c1dedd": {
          "model_module": "@jupyter-widgets/base",
          "model_module_version": "1.2.0",
          "model_name": "LayoutModel",
          "state": {
            "_model_module": "@jupyter-widgets/base",
            "_model_module_version": "1.2.0",
            "_model_name": "LayoutModel",
            "_view_count": null,
            "_view_module": "@jupyter-widgets/base",
            "_view_module_version": "1.2.0",
            "_view_name": "LayoutView",
            "align_content": null,
            "align_items": null,
            "align_self": null,
            "border": null,
            "bottom": null,
            "display": null,
            "flex": null,
            "flex_flow": null,
            "grid_area": null,
            "grid_auto_columns": null,
            "grid_auto_flow": null,
            "grid_auto_rows": null,
            "grid_column": null,
            "grid_gap": null,
            "grid_row": null,
            "grid_template_areas": null,
            "grid_template_columns": null,
            "grid_template_rows": null,
            "height": null,
            "justify_content": null,
            "justify_items": null,
            "left": null,
            "margin": null,
            "max_height": null,
            "max_width": null,
            "min_height": null,
            "min_width": null,
            "object_fit": null,
            "object_position": null,
            "order": null,
            "overflow": null,
            "overflow_x": null,
            "overflow_y": null,
            "padding": null,
            "right": null,
            "top": null,
            "visibility": null,
            "width": null
          }
        },
        "178c972f43cd416b98fc0cfa8d89ee59": {
          "model_module": "@jupyter-widgets/controls",
          "model_module_version": "1.5.0",
          "model_name": "DescriptionStyleModel",
          "state": {
            "_model_module": "@jupyter-widgets/controls",
            "_model_module_version": "1.5.0",
            "_model_name": "DescriptionStyleModel",
            "_view_count": null,
            "_view_module": "@jupyter-widgets/base",
            "_view_module_version": "1.2.0",
            "_view_name": "StyleView",
            "description_width": ""
          }
        },
        "178ee876a88f4c1d850950fbd28c4a5c": {
          "model_module": "@jupyter-widgets/base",
          "model_module_version": "1.2.0",
          "model_name": "LayoutModel",
          "state": {
            "_model_module": "@jupyter-widgets/base",
            "_model_module_version": "1.2.0",
            "_model_name": "LayoutModel",
            "_view_count": null,
            "_view_module": "@jupyter-widgets/base",
            "_view_module_version": "1.2.0",
            "_view_name": "LayoutView",
            "align_content": null,
            "align_items": null,
            "align_self": null,
            "border": null,
            "bottom": null,
            "display": null,
            "flex": null,
            "flex_flow": null,
            "grid_area": null,
            "grid_auto_columns": null,
            "grid_auto_flow": null,
            "grid_auto_rows": null,
            "grid_column": null,
            "grid_gap": null,
            "grid_row": null,
            "grid_template_areas": null,
            "grid_template_columns": null,
            "grid_template_rows": null,
            "height": null,
            "justify_content": null,
            "justify_items": null,
            "left": null,
            "margin": null,
            "max_height": null,
            "max_width": null,
            "min_height": null,
            "min_width": null,
            "object_fit": null,
            "object_position": null,
            "order": null,
            "overflow": null,
            "overflow_x": null,
            "overflow_y": null,
            "padding": null,
            "right": null,
            "top": null,
            "visibility": null,
            "width": null
          }
        },
        "214149e06146443d973104edb3618af6": {
          "model_module": "@jupyter-widgets/controls",
          "model_module_version": "1.5.0",
          "model_name": "HTMLModel",
          "state": {
            "_dom_classes": [],
            "_model_module": "@jupyter-widgets/controls",
            "_model_module_version": "1.5.0",
            "_model_name": "HTMLModel",
            "_view_count": null,
            "_view_module": "@jupyter-widgets/controls",
            "_view_module_version": "1.5.0",
            "_view_name": "HTMLView",
            "description": "",
            "description_tooltip": null,
            "layout": "IPY_MODEL_c9c6054a370040ba984ada463557a2fa",
            "placeholder": "​",
            "style": "IPY_MODEL_4aa401402a5b497995ce37db7bb37526",
            "value": "sentence_bert_config.json: 100%"
          }
        },
        "235caba944b2423ba39aed142b13a70a": {
          "model_module": "@jupyter-widgets/controls",
          "model_module_version": "1.5.0",
          "model_name": "ProgressStyleModel",
          "state": {
            "_model_module": "@jupyter-widgets/controls",
            "_model_module_version": "1.5.0",
            "_model_name": "ProgressStyleModel",
            "_view_count": null,
            "_view_module": "@jupyter-widgets/base",
            "_view_module_version": "1.2.0",
            "_view_name": "StyleView",
            "bar_color": null,
            "description_width": ""
          }
        },
        "23a29880754145e886954ed677084b87": {
          "model_module": "@jupyter-widgets/controls",
          "model_module_version": "1.5.0",
          "model_name": "HBoxModel",
          "state": {
            "_dom_classes": [],
            "_model_module": "@jupyter-widgets/controls",
            "_model_module_version": "1.5.0",
            "_model_name": "HBoxModel",
            "_view_count": null,
            "_view_module": "@jupyter-widgets/controls",
            "_view_module_version": "1.5.0",
            "_view_name": "HBoxView",
            "box_style": "",
            "children": [
              "IPY_MODEL_9332df974ade40639aad051af354aea2",
              "IPY_MODEL_ee4fccabc8ad4da6873c52b1b4fd719a",
              "IPY_MODEL_f1161afc0475495ba2b67fb0d0de0f73"
            ],
            "layout": "IPY_MODEL_d588ceba0126416185ff096d6d3b0579"
          }
        },
        "23c48aefc31f4133b35ecfa93013979b": {
          "model_module": "@jupyter-widgets/controls",
          "model_module_version": "1.5.0",
          "model_name": "HBoxModel",
          "state": {
            "_dom_classes": [],
            "_model_module": "@jupyter-widgets/controls",
            "_model_module_version": "1.5.0",
            "_model_name": "HBoxModel",
            "_view_count": null,
            "_view_module": "@jupyter-widgets/controls",
            "_view_module_version": "1.5.0",
            "_view_name": "HBoxView",
            "box_style": "",
            "children": [
              "IPY_MODEL_fbfbc18cb4d547e898ec04d2e8168c0c",
              "IPY_MODEL_372bca6a796241c3823547f5a206b88e",
              "IPY_MODEL_3aa1133c30b74bdfaf5d6bc971984106"
            ],
            "layout": "IPY_MODEL_95a343394bb84e16a5c69f8d1214f39d"
          }
        },
        "25382c604ba24eb5a5ecaed9487da244": {
          "model_module": "@jupyter-widgets/controls",
          "model_module_version": "1.5.0",
          "model_name": "ProgressStyleModel",
          "state": {
            "_model_module": "@jupyter-widgets/controls",
            "_model_module_version": "1.5.0",
            "_model_name": "ProgressStyleModel",
            "_view_count": null,
            "_view_module": "@jupyter-widgets/base",
            "_view_module_version": "1.2.0",
            "_view_name": "StyleView",
            "bar_color": null,
            "description_width": ""
          }
        },
        "2607bd15c77b414fb414931d49c9e74d": {
          "model_module": "@jupyter-widgets/controls",
          "model_module_version": "1.5.0",
          "model_name": "DescriptionStyleModel",
          "state": {
            "_model_module": "@jupyter-widgets/controls",
            "_model_module_version": "1.5.0",
            "_model_name": "DescriptionStyleModel",
            "_view_count": null,
            "_view_module": "@jupyter-widgets/base",
            "_view_module_version": "1.2.0",
            "_view_name": "StyleView",
            "description_width": ""
          }
        },
        "26c062cbdc074941bef80ef1d7222728": {
          "model_module": "@jupyter-widgets/base",
          "model_module_version": "1.2.0",
          "model_name": "LayoutModel",
          "state": {
            "_model_module": "@jupyter-widgets/base",
            "_model_module_version": "1.2.0",
            "_model_name": "LayoutModel",
            "_view_count": null,
            "_view_module": "@jupyter-widgets/base",
            "_view_module_version": "1.2.0",
            "_view_name": "LayoutView",
            "align_content": null,
            "align_items": null,
            "align_self": null,
            "border": null,
            "bottom": null,
            "display": null,
            "flex": null,
            "flex_flow": null,
            "grid_area": null,
            "grid_auto_columns": null,
            "grid_auto_flow": null,
            "grid_auto_rows": null,
            "grid_column": null,
            "grid_gap": null,
            "grid_row": null,
            "grid_template_areas": null,
            "grid_template_columns": null,
            "grid_template_rows": null,
            "height": null,
            "justify_content": null,
            "justify_items": null,
            "left": null,
            "margin": null,
            "max_height": null,
            "max_width": null,
            "min_height": null,
            "min_width": null,
            "object_fit": null,
            "object_position": null,
            "order": null,
            "overflow": null,
            "overflow_x": null,
            "overflow_y": null,
            "padding": null,
            "right": null,
            "top": null,
            "visibility": null,
            "width": null
          }
        },
        "27b3078f73f0471b926f43581c5a007f": {
          "model_module": "@jupyter-widgets/controls",
          "model_module_version": "1.5.0",
          "model_name": "DescriptionStyleModel",
          "state": {
            "_model_module": "@jupyter-widgets/controls",
            "_model_module_version": "1.5.0",
            "_model_name": "DescriptionStyleModel",
            "_view_count": null,
            "_view_module": "@jupyter-widgets/base",
            "_view_module_version": "1.2.0",
            "_view_name": "StyleView",
            "description_width": ""
          }
        },
        "295a7426d3104fbc968e734b8f43e258": {
          "model_module": "@jupyter-widgets/controls",
          "model_module_version": "1.5.0",
          "model_name": "FloatProgressModel",
          "state": {
            "_dom_classes": [],
            "_model_module": "@jupyter-widgets/controls",
            "_model_module_version": "1.5.0",
            "_model_name": "FloatProgressModel",
            "_view_count": null,
            "_view_module": "@jupyter-widgets/controls",
            "_view_module_version": "1.5.0",
            "_view_name": "ProgressView",
            "bar_style": "success",
            "description": "",
            "description_tooltip": null,
            "layout": "IPY_MODEL_bc007183680342e3ab7d17f034403a43",
            "max": 231508,
            "min": 0,
            "orientation": "horizontal",
            "style": "IPY_MODEL_25382c604ba24eb5a5ecaed9487da244",
            "value": 231508
          }
        },
        "2ae4e44144924b62a3cd84fcf788ab18": {
          "model_module": "@jupyter-widgets/controls",
          "model_module_version": "1.5.0",
          "model_name": "DescriptionStyleModel",
          "state": {
            "_model_module": "@jupyter-widgets/controls",
            "_model_module_version": "1.5.0",
            "_model_name": "DescriptionStyleModel",
            "_view_count": null,
            "_view_module": "@jupyter-widgets/base",
            "_view_module_version": "1.2.0",
            "_view_name": "StyleView",
            "description_width": ""
          }
        },
        "2f72798bf008471290f37998b84276e1": {
          "model_module": "@jupyter-widgets/base",
          "model_module_version": "1.2.0",
          "model_name": "LayoutModel",
          "state": {
            "_model_module": "@jupyter-widgets/base",
            "_model_module_version": "1.2.0",
            "_model_name": "LayoutModel",
            "_view_count": null,
            "_view_module": "@jupyter-widgets/base",
            "_view_module_version": "1.2.0",
            "_view_name": "LayoutView",
            "align_content": null,
            "align_items": null,
            "align_self": null,
            "border": null,
            "bottom": null,
            "display": null,
            "flex": null,
            "flex_flow": null,
            "grid_area": null,
            "grid_auto_columns": null,
            "grid_auto_flow": null,
            "grid_auto_rows": null,
            "grid_column": null,
            "grid_gap": null,
            "grid_row": null,
            "grid_template_areas": null,
            "grid_template_columns": null,
            "grid_template_rows": null,
            "height": null,
            "justify_content": null,
            "justify_items": null,
            "left": null,
            "margin": null,
            "max_height": null,
            "max_width": null,
            "min_height": null,
            "min_width": null,
            "object_fit": null,
            "object_position": null,
            "order": null,
            "overflow": null,
            "overflow_x": null,
            "overflow_y": null,
            "padding": null,
            "right": null,
            "top": null,
            "visibility": null,
            "width": null
          }
        },
        "32c8ba08cc3c4056a283b8c97031b724": {
          "model_module": "@jupyter-widgets/controls",
          "model_module_version": "1.5.0",
          "model_name": "HTMLModel",
          "state": {
            "_dom_classes": [],
            "_model_module": "@jupyter-widgets/controls",
            "_model_module_version": "1.5.0",
            "_model_name": "HTMLModel",
            "_view_count": null,
            "_view_module": "@jupyter-widgets/controls",
            "_view_module_version": "1.5.0",
            "_view_name": "HTMLView",
            "description": "",
            "description_tooltip": null,
            "layout": "IPY_MODEL_956a9abb0a7e478ab7bfab310348eee6",
            "placeholder": "​",
            "style": "IPY_MODEL_2607bd15c77b414fb414931d49c9e74d",
            "value": "config_sentence_transformers.json: 100%"
          }
        },
        "372bca6a796241c3823547f5a206b88e": {
          "model_module": "@jupyter-widgets/controls",
          "model_module_version": "1.5.0",
          "model_name": "FloatProgressModel",
          "state": {
            "_dom_classes": [],
            "_model_module": "@jupyter-widgets/controls",
            "_model_module_version": "1.5.0",
            "_model_name": "FloatProgressModel",
            "_view_count": null,
            "_view_module": "@jupyter-widgets/controls",
            "_view_module_version": "1.5.0",
            "_view_name": "ProgressView",
            "bar_style": "success",
            "description": "",
            "description_tooltip": null,
            "layout": "IPY_MODEL_55e53212ecb34db0ae1cac9a890a28d2",
            "max": 349,
            "min": 0,
            "orientation": "horizontal",
            "style": "IPY_MODEL_4c00e28a94ee41f6bf59ce92409f78ff",
            "value": 349
          }
        },
        "3842e0ec3a864efe80826e04259cbec6": {
          "model_module": "@jupyter-widgets/controls",
          "model_module_version": "1.5.0",
          "model_name": "HTMLModel",
          "state": {
            "_dom_classes": [],
            "_model_module": "@jupyter-widgets/controls",
            "_model_module_version": "1.5.0",
            "_model_name": "HTMLModel",
            "_view_count": null,
            "_view_module": "@jupyter-widgets/controls",
            "_view_module_version": "1.5.0",
            "_view_name": "HTMLView",
            "description": "",
            "description_tooltip": null,
            "layout": "IPY_MODEL_bf0ad45081274e02b04ca91fa656bc9e",
            "placeholder": "​",
            "style": "IPY_MODEL_565434d3487b4f718ca3ca2b78233c85",
            "value": "README.md: 100%"
          }
        },
        "3a24f46803f7435490f9f7d46b4d2d8e": {
          "model_module": "@jupyter-widgets/base",
          "model_module_version": "1.2.0",
          "model_name": "LayoutModel",
          "state": {
            "_model_module": "@jupyter-widgets/base",
            "_model_module_version": "1.2.0",
            "_model_name": "LayoutModel",
            "_view_count": null,
            "_view_module": "@jupyter-widgets/base",
            "_view_module_version": "1.2.0",
            "_view_name": "LayoutView",
            "align_content": null,
            "align_items": null,
            "align_self": null,
            "border": null,
            "bottom": null,
            "display": null,
            "flex": null,
            "flex_flow": null,
            "grid_area": null,
            "grid_auto_columns": null,
            "grid_auto_flow": null,
            "grid_auto_rows": null,
            "grid_column": null,
            "grid_gap": null,
            "grid_row": null,
            "grid_template_areas": null,
            "grid_template_columns": null,
            "grid_template_rows": null,
            "height": null,
            "justify_content": null,
            "justify_items": null,
            "left": null,
            "margin": null,
            "max_height": null,
            "max_width": null,
            "min_height": null,
            "min_width": null,
            "object_fit": null,
            "object_position": null,
            "order": null,
            "overflow": null,
            "overflow_x": null,
            "overflow_y": null,
            "padding": null,
            "right": null,
            "top": null,
            "visibility": null,
            "width": null
          }
        },
        "3aa1133c30b74bdfaf5d6bc971984106": {
          "model_module": "@jupyter-widgets/controls",
          "model_module_version": "1.5.0",
          "model_name": "HTMLModel",
          "state": {
            "_dom_classes": [],
            "_model_module": "@jupyter-widgets/controls",
            "_model_module_version": "1.5.0",
            "_model_name": "HTMLModel",
            "_view_count": null,
            "_view_module": "@jupyter-widgets/controls",
            "_view_module_version": "1.5.0",
            "_view_name": "HTMLView",
            "description": "",
            "description_tooltip": null,
            "layout": "IPY_MODEL_50e18e38158d4331bff290f191f5845f",
            "placeholder": "​",
            "style": "IPY_MODEL_27b3078f73f0471b926f43581c5a007f",
            "value": " 349/349 [00:00&lt;00:00, 18.1kB/s]"
          }
        },
        "3cce5a5a90a44abc809af7d03d250788": {
          "model_module": "@jupyter-widgets/controls",
          "model_module_version": "1.5.0",
          "model_name": "HBoxModel",
          "state": {
            "_dom_classes": [],
            "_model_module": "@jupyter-widgets/controls",
            "_model_module_version": "1.5.0",
            "_model_name": "HBoxModel",
            "_view_count": null,
            "_view_module": "@jupyter-widgets/controls",
            "_view_module_version": "1.5.0",
            "_view_name": "HBoxView",
            "box_style": "",
            "children": [
              "IPY_MODEL_32c8ba08cc3c4056a283b8c97031b724",
              "IPY_MODEL_6e68dc7a38c445efa4fa95de08861dda",
              "IPY_MODEL_0c0b9c1d06134e28a93561c0defc06da"
            ],
            "layout": "IPY_MODEL_eb610b2b66614dfca871c38dda92a282"
          }
        },
        "3eef5e004dec4575bc529597b37f605f": {
          "model_module": "@jupyter-widgets/controls",
          "model_module_version": "1.5.0",
          "model_name": "DescriptionStyleModel",
          "state": {
            "_model_module": "@jupyter-widgets/controls",
            "_model_module_version": "1.5.0",
            "_model_name": "DescriptionStyleModel",
            "_view_count": null,
            "_view_module": "@jupyter-widgets/base",
            "_view_module_version": "1.2.0",
            "_view_name": "StyleView",
            "description_width": ""
          }
        },
        "3f5c7e47b26747348857ab0747714af0": {
          "model_module": "@jupyter-widgets/controls",
          "model_module_version": "1.5.0",
          "model_name": "HTMLModel",
          "state": {
            "_dom_classes": [],
            "_model_module": "@jupyter-widgets/controls",
            "_model_module_version": "1.5.0",
            "_model_name": "HTMLModel",
            "_view_count": null,
            "_view_module": "@jupyter-widgets/controls",
            "_view_module_version": "1.5.0",
            "_view_name": "HTMLView",
            "description": "",
            "description_tooltip": null,
            "layout": "IPY_MODEL_178ee876a88f4c1d850950fbd28c4a5c",
            "placeholder": "​",
            "style": "IPY_MODEL_d6e9c71f2c0f4c2caf431ec5182d57de",
            "value": "config.json: 100%"
          }
        },
        "3f754703364c4f83920bc2975f337dcb": {
          "model_module": "@jupyter-widgets/base",
          "model_module_version": "1.2.0",
          "model_name": "LayoutModel",
          "state": {
            "_model_module": "@jupyter-widgets/base",
            "_model_module_version": "1.2.0",
            "_model_name": "LayoutModel",
            "_view_count": null,
            "_view_module": "@jupyter-widgets/base",
            "_view_module_version": "1.2.0",
            "_view_name": "LayoutView",
            "align_content": null,
            "align_items": null,
            "align_self": null,
            "border": null,
            "bottom": null,
            "display": null,
            "flex": null,
            "flex_flow": null,
            "grid_area": null,
            "grid_auto_columns": null,
            "grid_auto_flow": null,
            "grid_auto_rows": null,
            "grid_column": null,
            "grid_gap": null,
            "grid_row": null,
            "grid_template_areas": null,
            "grid_template_columns": null,
            "grid_template_rows": null,
            "height": null,
            "justify_content": null,
            "justify_items": null,
            "left": null,
            "margin": null,
            "max_height": null,
            "max_width": null,
            "min_height": null,
            "min_width": null,
            "object_fit": null,
            "object_position": null,
            "order": null,
            "overflow": null,
            "overflow_x": null,
            "overflow_y": null,
            "padding": null,
            "right": null,
            "top": null,
            "visibility": null,
            "width": null
          }
        },
        "44bc9c917bc14032ab6e2a0714e199bd": {
          "model_module": "@jupyter-widgets/controls",
          "model_module_version": "1.5.0",
          "model_name": "HTMLModel",
          "state": {
            "_dom_classes": [],
            "_model_module": "@jupyter-widgets/controls",
            "_model_module_version": "1.5.0",
            "_model_name": "HTMLModel",
            "_view_count": null,
            "_view_module": "@jupyter-widgets/controls",
            "_view_module_version": "1.5.0",
            "_view_name": "HTMLView",
            "description": "",
            "description_tooltip": null,
            "layout": "IPY_MODEL_e330f3ee1d8d4878b5d2152d798d341f",
            "placeholder": "​",
            "style": "IPY_MODEL_8f3368080d824991b8006308862b60ea",
            "value": " 10.7k/10.7k [00:00&lt;00:00, 558kB/s]"
          }
        },
        "45364f080ef04b6fbd4eeb4e9e4fb0a8": {
          "model_module": "@jupyter-widgets/base",
          "model_module_version": "1.2.0",
          "model_name": "LayoutModel",
          "state": {
            "_model_module": "@jupyter-widgets/base",
            "_model_module_version": "1.2.0",
            "_model_name": "LayoutModel",
            "_view_count": null,
            "_view_module": "@jupyter-widgets/base",
            "_view_module_version": "1.2.0",
            "_view_name": "LayoutView",
            "align_content": null,
            "align_items": null,
            "align_self": null,
            "border": null,
            "bottom": null,
            "display": null,
            "flex": null,
            "flex_flow": null,
            "grid_area": null,
            "grid_auto_columns": null,
            "grid_auto_flow": null,
            "grid_auto_rows": null,
            "grid_column": null,
            "grid_gap": null,
            "grid_row": null,
            "grid_template_areas": null,
            "grid_template_columns": null,
            "grid_template_rows": null,
            "height": null,
            "justify_content": null,
            "justify_items": null,
            "left": null,
            "margin": null,
            "max_height": null,
            "max_width": null,
            "min_height": null,
            "min_width": null,
            "object_fit": null,
            "object_position": null,
            "order": null,
            "overflow": null,
            "overflow_x": null,
            "overflow_y": null,
            "padding": null,
            "right": null,
            "top": null,
            "visibility": null,
            "width": null
          }
        },
        "46b76538f18946db9d57cc3eaad56d1e": {
          "model_module": "@jupyter-widgets/base",
          "model_module_version": "1.2.0",
          "model_name": "LayoutModel",
          "state": {
            "_model_module": "@jupyter-widgets/base",
            "_model_module_version": "1.2.0",
            "_model_name": "LayoutModel",
            "_view_count": null,
            "_view_module": "@jupyter-widgets/base",
            "_view_module_version": "1.2.0",
            "_view_name": "LayoutView",
            "align_content": null,
            "align_items": null,
            "align_self": null,
            "border": null,
            "bottom": null,
            "display": null,
            "flex": null,
            "flex_flow": null,
            "grid_area": null,
            "grid_auto_columns": null,
            "grid_auto_flow": null,
            "grid_auto_rows": null,
            "grid_column": null,
            "grid_gap": null,
            "grid_row": null,
            "grid_template_areas": null,
            "grid_template_columns": null,
            "grid_template_rows": null,
            "height": null,
            "justify_content": null,
            "justify_items": null,
            "left": null,
            "margin": null,
            "max_height": null,
            "max_width": null,
            "min_height": null,
            "min_width": null,
            "object_fit": null,
            "object_position": null,
            "order": null,
            "overflow": null,
            "overflow_x": null,
            "overflow_y": null,
            "padding": null,
            "right": null,
            "top": null,
            "visibility": null,
            "width": null
          }
        },
        "4aa401402a5b497995ce37db7bb37526": {
          "model_module": "@jupyter-widgets/controls",
          "model_module_version": "1.5.0",
          "model_name": "DescriptionStyleModel",
          "state": {
            "_model_module": "@jupyter-widgets/controls",
            "_model_module_version": "1.5.0",
            "_model_name": "DescriptionStyleModel",
            "_view_count": null,
            "_view_module": "@jupyter-widgets/base",
            "_view_module_version": "1.2.0",
            "_view_name": "StyleView",
            "description_width": ""
          }
        },
        "4c00e28a94ee41f6bf59ce92409f78ff": {
          "model_module": "@jupyter-widgets/controls",
          "model_module_version": "1.5.0",
          "model_name": "ProgressStyleModel",
          "state": {
            "_model_module": "@jupyter-widgets/controls",
            "_model_module_version": "1.5.0",
            "_model_name": "ProgressStyleModel",
            "_view_count": null,
            "_view_module": "@jupyter-widgets/base",
            "_view_module_version": "1.2.0",
            "_view_name": "StyleView",
            "bar_color": null,
            "description_width": ""
          }
        },
        "5055ad3327814d85baec64dc5203511c": {
          "model_module": "@jupyter-widgets/controls",
          "model_module_version": "1.5.0",
          "model_name": "DescriptionStyleModel",
          "state": {
            "_model_module": "@jupyter-widgets/controls",
            "_model_module_version": "1.5.0",
            "_model_name": "DescriptionStyleModel",
            "_view_count": null,
            "_view_module": "@jupyter-widgets/base",
            "_view_module_version": "1.2.0",
            "_view_name": "StyleView",
            "description_width": ""
          }
        },
        "50e18e38158d4331bff290f191f5845f": {
          "model_module": "@jupyter-widgets/base",
          "model_module_version": "1.2.0",
          "model_name": "LayoutModel",
          "state": {
            "_model_module": "@jupyter-widgets/base",
            "_model_module_version": "1.2.0",
            "_model_name": "LayoutModel",
            "_view_count": null,
            "_view_module": "@jupyter-widgets/base",
            "_view_module_version": "1.2.0",
            "_view_name": "LayoutView",
            "align_content": null,
            "align_items": null,
            "align_self": null,
            "border": null,
            "bottom": null,
            "display": null,
            "flex": null,
            "flex_flow": null,
            "grid_area": null,
            "grid_auto_columns": null,
            "grid_auto_flow": null,
            "grid_auto_rows": null,
            "grid_column": null,
            "grid_gap": null,
            "grid_row": null,
            "grid_template_areas": null,
            "grid_template_columns": null,
            "grid_template_rows": null,
            "height": null,
            "justify_content": null,
            "justify_items": null,
            "left": null,
            "margin": null,
            "max_height": null,
            "max_width": null,
            "min_height": null,
            "min_width": null,
            "object_fit": null,
            "object_position": null,
            "order": null,
            "overflow": null,
            "overflow_x": null,
            "overflow_y": null,
            "padding": null,
            "right": null,
            "top": null,
            "visibility": null,
            "width": null
          }
        },
        "54c6fec026984e2cb12024b6a3c03dc0": {
          "model_module": "@jupyter-widgets/controls",
          "model_module_version": "1.5.0",
          "model_name": "DescriptionStyleModel",
          "state": {
            "_model_module": "@jupyter-widgets/controls",
            "_model_module_version": "1.5.0",
            "_model_name": "DescriptionStyleModel",
            "_view_count": null,
            "_view_module": "@jupyter-widgets/base",
            "_view_module_version": "1.2.0",
            "_view_name": "StyleView",
            "description_width": ""
          }
        },
        "558526621fb1455886611f1cf2a80eab": {
          "model_module": "@jupyter-widgets/base",
          "model_module_version": "1.2.0",
          "model_name": "LayoutModel",
          "state": {
            "_model_module": "@jupyter-widgets/base",
            "_model_module_version": "1.2.0",
            "_model_name": "LayoutModel",
            "_view_count": null,
            "_view_module": "@jupyter-widgets/base",
            "_view_module_version": "1.2.0",
            "_view_name": "LayoutView",
            "align_content": null,
            "align_items": null,
            "align_self": null,
            "border": null,
            "bottom": null,
            "display": null,
            "flex": null,
            "flex_flow": null,
            "grid_area": null,
            "grid_auto_columns": null,
            "grid_auto_flow": null,
            "grid_auto_rows": null,
            "grid_column": null,
            "grid_gap": null,
            "grid_row": null,
            "grid_template_areas": null,
            "grid_template_columns": null,
            "grid_template_rows": null,
            "height": null,
            "justify_content": null,
            "justify_items": null,
            "left": null,
            "margin": null,
            "max_height": null,
            "max_width": null,
            "min_height": null,
            "min_width": null,
            "object_fit": null,
            "object_position": null,
            "order": null,
            "overflow": null,
            "overflow_x": null,
            "overflow_y": null,
            "padding": null,
            "right": null,
            "top": null,
            "visibility": null,
            "width": null
          }
        },
        "55e53212ecb34db0ae1cac9a890a28d2": {
          "model_module": "@jupyter-widgets/base",
          "model_module_version": "1.2.0",
          "model_name": "LayoutModel",
          "state": {
            "_model_module": "@jupyter-widgets/base",
            "_model_module_version": "1.2.0",
            "_model_name": "LayoutModel",
            "_view_count": null,
            "_view_module": "@jupyter-widgets/base",
            "_view_module_version": "1.2.0",
            "_view_name": "LayoutView",
            "align_content": null,
            "align_items": null,
            "align_self": null,
            "border": null,
            "bottom": null,
            "display": null,
            "flex": null,
            "flex_flow": null,
            "grid_area": null,
            "grid_auto_columns": null,
            "grid_auto_flow": null,
            "grid_auto_rows": null,
            "grid_column": null,
            "grid_gap": null,
            "grid_row": null,
            "grid_template_areas": null,
            "grid_template_columns": null,
            "grid_template_rows": null,
            "height": null,
            "justify_content": null,
            "justify_items": null,
            "left": null,
            "margin": null,
            "max_height": null,
            "max_width": null,
            "min_height": null,
            "min_width": null,
            "object_fit": null,
            "object_position": null,
            "order": null,
            "overflow": null,
            "overflow_x": null,
            "overflow_y": null,
            "padding": null,
            "right": null,
            "top": null,
            "visibility": null,
            "width": null
          }
        },
        "565434d3487b4f718ca3ca2b78233c85": {
          "model_module": "@jupyter-widgets/controls",
          "model_module_version": "1.5.0",
          "model_name": "DescriptionStyleModel",
          "state": {
            "_model_module": "@jupyter-widgets/controls",
            "_model_module_version": "1.5.0",
            "_model_name": "DescriptionStyleModel",
            "_view_count": null,
            "_view_module": "@jupyter-widgets/base",
            "_view_module_version": "1.2.0",
            "_view_name": "StyleView",
            "description_width": ""
          }
        },
        "58fcbbbd4a3d4f6bac20f6c9055ac2a0": {
          "model_module": "@jupyter-widgets/base",
          "model_module_version": "1.2.0",
          "model_name": "LayoutModel",
          "state": {
            "_model_module": "@jupyter-widgets/base",
            "_model_module_version": "1.2.0",
            "_model_name": "LayoutModel",
            "_view_count": null,
            "_view_module": "@jupyter-widgets/base",
            "_view_module_version": "1.2.0",
            "_view_name": "LayoutView",
            "align_content": null,
            "align_items": null,
            "align_self": null,
            "border": null,
            "bottom": null,
            "display": null,
            "flex": null,
            "flex_flow": null,
            "grid_area": null,
            "grid_auto_columns": null,
            "grid_auto_flow": null,
            "grid_auto_rows": null,
            "grid_column": null,
            "grid_gap": null,
            "grid_row": null,
            "grid_template_areas": null,
            "grid_template_columns": null,
            "grid_template_rows": null,
            "height": null,
            "justify_content": null,
            "justify_items": null,
            "left": null,
            "margin": null,
            "max_height": null,
            "max_width": null,
            "min_height": null,
            "min_width": null,
            "object_fit": null,
            "object_position": null,
            "order": null,
            "overflow": null,
            "overflow_x": null,
            "overflow_y": null,
            "padding": null,
            "right": null,
            "top": null,
            "visibility": null,
            "width": null
          }
        },
        "5cbcf41a5f804e7990d6a17a5f4e3dd7": {
          "model_module": "@jupyter-widgets/controls",
          "model_module_version": "1.5.0",
          "model_name": "FloatProgressModel",
          "state": {
            "_dom_classes": [],
            "_model_module": "@jupyter-widgets/controls",
            "_model_module_version": "1.5.0",
            "_model_name": "FloatProgressModel",
            "_view_count": null,
            "_view_module": "@jupyter-widgets/controls",
            "_view_module_version": "1.5.0",
            "_view_name": "ProgressView",
            "bar_style": "success",
            "description": "",
            "description_tooltip": null,
            "layout": "IPY_MODEL_c25f8bfa96324df79c290d9a68cb2668",
            "max": 112,
            "min": 0,
            "orientation": "horizontal",
            "style": "IPY_MODEL_bc66448af5fd4107a0825c349285aca4",
            "value": 112
          }
        },
        "5ee3557edc004808aa1b072b1398b8a8": {
          "model_module": "@jupyter-widgets/controls",
          "model_module_version": "1.5.0",
          "model_name": "HTMLModel",
          "state": {
            "_dom_classes": [],
            "_model_module": "@jupyter-widgets/controls",
            "_model_module_version": "1.5.0",
            "_model_name": "HTMLModel",
            "_view_count": null,
            "_view_module": "@jupyter-widgets/controls",
            "_view_module_version": "1.5.0",
            "_view_name": "HTMLView",
            "description": "",
            "description_tooltip": null,
            "layout": "IPY_MODEL_984bc6314c0e4542be1a45c69ef129b2",
            "placeholder": "​",
            "style": "IPY_MODEL_54c6fec026984e2cb12024b6a3c03dc0",
            "value": " 612/612 [00:00&lt;00:00, 30.7kB/s]"
          }
        },
        "5f8c42144d314a34b58501c4bfb3d511": {
          "model_module": "@jupyter-widgets/controls",
          "model_module_version": "1.5.0",
          "model_name": "HTMLModel",
          "state": {
            "_dom_classes": [],
            "_model_module": "@jupyter-widgets/controls",
            "_model_module_version": "1.5.0",
            "_model_name": "HTMLModel",
            "_view_count": null,
            "_view_module": "@jupyter-widgets/controls",
            "_view_module_version": "1.5.0",
            "_view_name": "HTMLView",
            "description": "",
            "description_tooltip": null,
            "layout": "IPY_MODEL_45364f080ef04b6fbd4eeb4e9e4fb0a8",
            "placeholder": "​",
            "style": "IPY_MODEL_decffed45dd0440f9606891c2b5c1349",
            "value": "tokenizer.json: 100%"
          }
        },
        "64780dc9f5bf47e3bba57f003fe430ba": {
          "model_module": "@jupyter-widgets/controls",
          "model_module_version": "1.5.0",
          "model_name": "FloatProgressModel",
          "state": {
            "_dom_classes": [],
            "_model_module": "@jupyter-widgets/controls",
            "_model_module_version": "1.5.0",
            "_model_name": "FloatProgressModel",
            "_view_count": null,
            "_view_module": "@jupyter-widgets/controls",
            "_view_module_version": "1.5.0",
            "_view_name": "ProgressView",
            "bar_style": "success",
            "description": "",
            "description_tooltip": null,
            "layout": "IPY_MODEL_3a24f46803f7435490f9f7d46b4d2d8e",
            "max": 53,
            "min": 0,
            "orientation": "horizontal",
            "style": "IPY_MODEL_ee72da27b77d42e58a79dc054b8d2ce7",
            "value": 53
          }
        },
        "67e4b635c5bc4394a69ef1d2af608030": {
          "model_module": "@jupyter-widgets/controls",
          "model_module_version": "1.5.0",
          "model_name": "FloatProgressModel",
          "state": {
            "_dom_classes": [],
            "_model_module": "@jupyter-widgets/controls",
            "_model_module_version": "1.5.0",
            "_model_name": "FloatProgressModel",
            "_view_count": null,
            "_view_module": "@jupyter-widgets/controls",
            "_view_module_version": "1.5.0",
            "_view_name": "ProgressView",
            "bar_style": "success",
            "description": "",
            "description_tooltip": null,
            "layout": "IPY_MODEL_fc8585cad0b246dabfda781251e2db3d",
            "max": 612,
            "min": 0,
            "orientation": "horizontal",
            "style": "IPY_MODEL_c4d857ff51604916a5ad7bdcbe5d7b6e",
            "value": 612
          }
        },
        "6db921bc5f504364bf1414bfe76abeef": {
          "model_module": "@jupyter-widgets/controls",
          "model_module_version": "1.5.0",
          "model_name": "HTMLModel",
          "state": {
            "_dom_classes": [],
            "_model_module": "@jupyter-widgets/controls",
            "_model_module_version": "1.5.0",
            "_model_name": "HTMLModel",
            "_view_count": null,
            "_view_module": "@jupyter-widgets/controls",
            "_view_module_version": "1.5.0",
            "_view_name": "HTMLView",
            "description": "",
            "description_tooltip": null,
            "layout": "IPY_MODEL_bc3f88a0b8284e6bb60331b2b3234eef",
            "placeholder": "​",
            "style": "IPY_MODEL_b0e9331b25674c83b15c71179908eaa5",
            "value": "vocab.txt: 100%"
          }
        },
        "6e68dc7a38c445efa4fa95de08861dda": {
          "model_module": "@jupyter-widgets/controls",
          "model_module_version": "1.5.0",
          "model_name": "FloatProgressModel",
          "state": {
            "_dom_classes": [],
            "_model_module": "@jupyter-widgets/controls",
            "_model_module_version": "1.5.0",
            "_model_name": "FloatProgressModel",
            "_view_count": null,
            "_view_module": "@jupyter-widgets/controls",
            "_view_module_version": "1.5.0",
            "_view_name": "ProgressView",
            "bar_style": "success",
            "description": "",
            "description_tooltip": null,
            "layout": "IPY_MODEL_9f7fb9a0d53a46449133d78f0b58bc5c",
            "max": 116,
            "min": 0,
            "orientation": "horizontal",
            "style": "IPY_MODEL_235caba944b2423ba39aed142b13a70a",
            "value": 116
          }
        },
        "716c46b519d34b36b88e0db757c976c3": {
          "model_module": "@jupyter-widgets/controls",
          "model_module_version": "1.5.0",
          "model_name": "HBoxModel",
          "state": {
            "_dom_classes": [],
            "_model_module": "@jupyter-widgets/controls",
            "_model_module_version": "1.5.0",
            "_model_name": "HBoxModel",
            "_view_count": null,
            "_view_module": "@jupyter-widgets/controls",
            "_view_module_version": "1.5.0",
            "_view_name": "HBoxView",
            "box_style": "",
            "children": [
              "IPY_MODEL_d01ac15fa6f7431fa53e5335a5c7e9e5",
              "IPY_MODEL_c12ec67ef6e544e28af24bf86c2e1315",
              "IPY_MODEL_a90555b49d704a9bb494c25147858f93"
            ],
            "layout": "IPY_MODEL_06099b35a6bf445db7c0adbe8c09c9a1"
          }
        },
        "76747a53010a4a01ba9badb0c3492650": {
          "model_module": "@jupyter-widgets/controls",
          "model_module_version": "1.5.0",
          "model_name": "FloatProgressModel",
          "state": {
            "_dom_classes": [],
            "_model_module": "@jupyter-widgets/controls",
            "_model_module_version": "1.5.0",
            "_model_name": "FloatProgressModel",
            "_view_count": null,
            "_view_module": "@jupyter-widgets/controls",
            "_view_module_version": "1.5.0",
            "_view_name": "ProgressView",
            "bar_style": "success",
            "description": "",
            "description_tooltip": null,
            "layout": "IPY_MODEL_3f754703364c4f83920bc2975f337dcb",
            "max": 466247,
            "min": 0,
            "orientation": "horizontal",
            "style": "IPY_MODEL_e399d7ae6c2948fd829366b9fb1bb35b",
            "value": 466247
          }
        },
        "77bd3b81c8f342c58cdeb8025c828e84": {
          "model_module": "@jupyter-widgets/base",
          "model_module_version": "1.2.0",
          "model_name": "LayoutModel",
          "state": {
            "_model_module": "@jupyter-widgets/base",
            "_model_module_version": "1.2.0",
            "_model_name": "LayoutModel",
            "_view_count": null,
            "_view_module": "@jupyter-widgets/base",
            "_view_module_version": "1.2.0",
            "_view_name": "LayoutView",
            "align_content": null,
            "align_items": null,
            "align_self": null,
            "border": null,
            "bottom": null,
            "display": null,
            "flex": null,
            "flex_flow": null,
            "grid_area": null,
            "grid_auto_columns": null,
            "grid_auto_flow": null,
            "grid_auto_rows": null,
            "grid_column": null,
            "grid_gap": null,
            "grid_row": null,
            "grid_template_areas": null,
            "grid_template_columns": null,
            "grid_template_rows": null,
            "height": null,
            "justify_content": null,
            "justify_items": null,
            "left": null,
            "margin": null,
            "max_height": null,
            "max_width": null,
            "min_height": null,
            "min_width": null,
            "object_fit": null,
            "object_position": null,
            "order": null,
            "overflow": null,
            "overflow_x": null,
            "overflow_y": null,
            "padding": null,
            "right": null,
            "top": null,
            "visibility": null,
            "width": null
          }
        },
        "7abf33e4aa964b4e9feebfef39e229ae": {
          "model_module": "@jupyter-widgets/controls",
          "model_module_version": "1.5.0",
          "model_name": "ProgressStyleModel",
          "state": {
            "_model_module": "@jupyter-widgets/controls",
            "_model_module_version": "1.5.0",
            "_model_name": "ProgressStyleModel",
            "_view_count": null,
            "_view_module": "@jupyter-widgets/base",
            "_view_module_version": "1.2.0",
            "_view_name": "StyleView",
            "bar_color": null,
            "description_width": ""
          }
        },
        "820280df7cc84029bba0f51a3a88d015": {
          "model_module": "@jupyter-widgets/controls",
          "model_module_version": "1.5.0",
          "model_name": "DescriptionStyleModel",
          "state": {
            "_model_module": "@jupyter-widgets/controls",
            "_model_module_version": "1.5.0",
            "_model_name": "DescriptionStyleModel",
            "_view_count": null,
            "_view_module": "@jupyter-widgets/base",
            "_view_module_version": "1.2.0",
            "_view_name": "StyleView",
            "description_width": ""
          }
        },
        "83728ea4e6834641a8875c9927abd261": {
          "model_module": "@jupyter-widgets/base",
          "model_module_version": "1.2.0",
          "model_name": "LayoutModel",
          "state": {
            "_model_module": "@jupyter-widgets/base",
            "_model_module_version": "1.2.0",
            "_model_name": "LayoutModel",
            "_view_count": null,
            "_view_module": "@jupyter-widgets/base",
            "_view_module_version": "1.2.0",
            "_view_name": "LayoutView",
            "align_content": null,
            "align_items": null,
            "align_self": null,
            "border": null,
            "bottom": null,
            "display": null,
            "flex": null,
            "flex_flow": null,
            "grid_area": null,
            "grid_auto_columns": null,
            "grid_auto_flow": null,
            "grid_auto_rows": null,
            "grid_column": null,
            "grid_gap": null,
            "grid_row": null,
            "grid_template_areas": null,
            "grid_template_columns": null,
            "grid_template_rows": null,
            "height": null,
            "justify_content": null,
            "justify_items": null,
            "left": null,
            "margin": null,
            "max_height": null,
            "max_width": null,
            "min_height": null,
            "min_width": null,
            "object_fit": null,
            "object_position": null,
            "order": null,
            "overflow": null,
            "overflow_x": null,
            "overflow_y": null,
            "padding": null,
            "right": null,
            "top": null,
            "visibility": null,
            "width": null
          }
        },
        "8434c480947e458dacdcc927c01b75e3": {
          "model_module": "@jupyter-widgets/base",
          "model_module_version": "1.2.0",
          "model_name": "LayoutModel",
          "state": {
            "_model_module": "@jupyter-widgets/base",
            "_model_module_version": "1.2.0",
            "_model_name": "LayoutModel",
            "_view_count": null,
            "_view_module": "@jupyter-widgets/base",
            "_view_module_version": "1.2.0",
            "_view_name": "LayoutView",
            "align_content": null,
            "align_items": null,
            "align_self": null,
            "border": null,
            "bottom": null,
            "display": null,
            "flex": null,
            "flex_flow": null,
            "grid_area": null,
            "grid_auto_columns": null,
            "grid_auto_flow": null,
            "grid_auto_rows": null,
            "grid_column": null,
            "grid_gap": null,
            "grid_row": null,
            "grid_template_areas": null,
            "grid_template_columns": null,
            "grid_template_rows": null,
            "height": null,
            "justify_content": null,
            "justify_items": null,
            "left": null,
            "margin": null,
            "max_height": null,
            "max_width": null,
            "min_height": null,
            "min_width": null,
            "object_fit": null,
            "object_position": null,
            "order": null,
            "overflow": null,
            "overflow_x": null,
            "overflow_y": null,
            "padding": null,
            "right": null,
            "top": null,
            "visibility": null,
            "width": null
          }
        },
        "858b1c106e6e4c5eb087d112fb1e32f5": {
          "model_module": "@jupyter-widgets/base",
          "model_module_version": "1.2.0",
          "model_name": "LayoutModel",
          "state": {
            "_model_module": "@jupyter-widgets/base",
            "_model_module_version": "1.2.0",
            "_model_name": "LayoutModel",
            "_view_count": null,
            "_view_module": "@jupyter-widgets/base",
            "_view_module_version": "1.2.0",
            "_view_name": "LayoutView",
            "align_content": null,
            "align_items": null,
            "align_self": null,
            "border": null,
            "bottom": null,
            "display": null,
            "flex": null,
            "flex_flow": null,
            "grid_area": null,
            "grid_auto_columns": null,
            "grid_auto_flow": null,
            "grid_auto_rows": null,
            "grid_column": null,
            "grid_gap": null,
            "grid_row": null,
            "grid_template_areas": null,
            "grid_template_columns": null,
            "grid_template_rows": null,
            "height": null,
            "justify_content": null,
            "justify_items": null,
            "left": null,
            "margin": null,
            "max_height": null,
            "max_width": null,
            "min_height": null,
            "min_width": null,
            "object_fit": null,
            "object_position": null,
            "order": null,
            "overflow": null,
            "overflow_x": null,
            "overflow_y": null,
            "padding": null,
            "right": null,
            "top": null,
            "visibility": null,
            "width": null
          }
        },
        "866a91b647de464fbde4337ebe8c11a0": {
          "model_module": "@jupyter-widgets/base",
          "model_module_version": "1.2.0",
          "model_name": "LayoutModel",
          "state": {
            "_model_module": "@jupyter-widgets/base",
            "_model_module_version": "1.2.0",
            "_model_name": "LayoutModel",
            "_view_count": null,
            "_view_module": "@jupyter-widgets/base",
            "_view_module_version": "1.2.0",
            "_view_name": "LayoutView",
            "align_content": null,
            "align_items": null,
            "align_self": null,
            "border": null,
            "bottom": null,
            "display": null,
            "flex": null,
            "flex_flow": null,
            "grid_area": null,
            "grid_auto_columns": null,
            "grid_auto_flow": null,
            "grid_auto_rows": null,
            "grid_column": null,
            "grid_gap": null,
            "grid_row": null,
            "grid_template_areas": null,
            "grid_template_columns": null,
            "grid_template_rows": null,
            "height": null,
            "justify_content": null,
            "justify_items": null,
            "left": null,
            "margin": null,
            "max_height": null,
            "max_width": null,
            "min_height": null,
            "min_width": null,
            "object_fit": null,
            "object_position": null,
            "order": null,
            "overflow": null,
            "overflow_x": null,
            "overflow_y": null,
            "padding": null,
            "right": null,
            "top": null,
            "visibility": null,
            "width": null
          }
        },
        "8b0406f40e7746bd935ca12986c07861": {
          "model_module": "@jupyter-widgets/controls",
          "model_module_version": "1.5.0",
          "model_name": "HBoxModel",
          "state": {
            "_dom_classes": [],
            "_model_module": "@jupyter-widgets/controls",
            "_model_module_version": "1.5.0",
            "_model_name": "HBoxModel",
            "_view_count": null,
            "_view_module": "@jupyter-widgets/controls",
            "_view_module_version": "1.5.0",
            "_view_name": "HBoxView",
            "box_style": "",
            "children": [
              "IPY_MODEL_5f8c42144d314a34b58501c4bfb3d511",
              "IPY_MODEL_76747a53010a4a01ba9badb0c3492650",
              "IPY_MODEL_a3d33799631f424f860714f4387ca0bc"
            ],
            "layout": "IPY_MODEL_77bd3b81c8f342c58cdeb8025c828e84"
          }
        },
        "8ef260bf96fc4ba7a4eeb506929fb46f": {
          "model_module": "@jupyter-widgets/base",
          "model_module_version": "1.2.0",
          "model_name": "LayoutModel",
          "state": {
            "_model_module": "@jupyter-widgets/base",
            "_model_module_version": "1.2.0",
            "_model_name": "LayoutModel",
            "_view_count": null,
            "_view_module": "@jupyter-widgets/base",
            "_view_module_version": "1.2.0",
            "_view_name": "LayoutView",
            "align_content": null,
            "align_items": null,
            "align_self": null,
            "border": null,
            "bottom": null,
            "display": null,
            "flex": null,
            "flex_flow": null,
            "grid_area": null,
            "grid_auto_columns": null,
            "grid_auto_flow": null,
            "grid_auto_rows": null,
            "grid_column": null,
            "grid_gap": null,
            "grid_row": null,
            "grid_template_areas": null,
            "grid_template_columns": null,
            "grid_template_rows": null,
            "height": null,
            "justify_content": null,
            "justify_items": null,
            "left": null,
            "margin": null,
            "max_height": null,
            "max_width": null,
            "min_height": null,
            "min_width": null,
            "object_fit": null,
            "object_position": null,
            "order": null,
            "overflow": null,
            "overflow_x": null,
            "overflow_y": null,
            "padding": null,
            "right": null,
            "top": null,
            "visibility": null,
            "width": null
          }
        },
        "8f3368080d824991b8006308862b60ea": {
          "model_module": "@jupyter-widgets/controls",
          "model_module_version": "1.5.0",
          "model_name": "DescriptionStyleModel",
          "state": {
            "_model_module": "@jupyter-widgets/controls",
            "_model_module_version": "1.5.0",
            "_model_name": "DescriptionStyleModel",
            "_view_count": null,
            "_view_module": "@jupyter-widgets/base",
            "_view_module_version": "1.2.0",
            "_view_name": "StyleView",
            "description_width": ""
          }
        },
        "9332df974ade40639aad051af354aea2": {
          "model_module": "@jupyter-widgets/controls",
          "model_module_version": "1.5.0",
          "model_name": "HTMLModel",
          "state": {
            "_dom_classes": [],
            "_model_module": "@jupyter-widgets/controls",
            "_model_module_version": "1.5.0",
            "_model_name": "HTMLModel",
            "_view_count": null,
            "_view_module": "@jupyter-widgets/controls",
            "_view_module_version": "1.5.0",
            "_view_name": "HTMLView",
            "description": "",
            "description_tooltip": null,
            "layout": "IPY_MODEL_b79476d756524e9487b6feb0de49ef73",
            "placeholder": "​",
            "style": "IPY_MODEL_178c972f43cd416b98fc0cfa8d89ee59",
            "value": "1_Pooling/config.json: 100%"
          }
        },
        "93b1673de9ce4d2c88046ed76cd502ce": {
          "model_module": "@jupyter-widgets/controls",
          "model_module_version": "1.5.0",
          "model_name": "ProgressStyleModel",
          "state": {
            "_model_module": "@jupyter-widgets/controls",
            "_model_module_version": "1.5.0",
            "_model_name": "ProgressStyleModel",
            "_view_count": null,
            "_view_module": "@jupyter-widgets/base",
            "_view_module_version": "1.2.0",
            "_view_name": "StyleView",
            "bar_color": null,
            "description_width": ""
          }
        },
        "956a9abb0a7e478ab7bfab310348eee6": {
          "model_module": "@jupyter-widgets/base",
          "model_module_version": "1.2.0",
          "model_name": "LayoutModel",
          "state": {
            "_model_module": "@jupyter-widgets/base",
            "_model_module_version": "1.2.0",
            "_model_name": "LayoutModel",
            "_view_count": null,
            "_view_module": "@jupyter-widgets/base",
            "_view_module_version": "1.2.0",
            "_view_name": "LayoutView",
            "align_content": null,
            "align_items": null,
            "align_self": null,
            "border": null,
            "bottom": null,
            "display": null,
            "flex": null,
            "flex_flow": null,
            "grid_area": null,
            "grid_auto_columns": null,
            "grid_auto_flow": null,
            "grid_auto_rows": null,
            "grid_column": null,
            "grid_gap": null,
            "grid_row": null,
            "grid_template_areas": null,
            "grid_template_columns": null,
            "grid_template_rows": null,
            "height": null,
            "justify_content": null,
            "justify_items": null,
            "left": null,
            "margin": null,
            "max_height": null,
            "max_width": null,
            "min_height": null,
            "min_width": null,
            "object_fit": null,
            "object_position": null,
            "order": null,
            "overflow": null,
            "overflow_x": null,
            "overflow_y": null,
            "padding": null,
            "right": null,
            "top": null,
            "visibility": null,
            "width": null
          }
        },
        "95a343394bb84e16a5c69f8d1214f39d": {
          "model_module": "@jupyter-widgets/base",
          "model_module_version": "1.2.0",
          "model_name": "LayoutModel",
          "state": {
            "_model_module": "@jupyter-widgets/base",
            "_model_module_version": "1.2.0",
            "_model_name": "LayoutModel",
            "_view_count": null,
            "_view_module": "@jupyter-widgets/base",
            "_view_module_version": "1.2.0",
            "_view_name": "LayoutView",
            "align_content": null,
            "align_items": null,
            "align_self": null,
            "border": null,
            "bottom": null,
            "display": null,
            "flex": null,
            "flex_flow": null,
            "grid_area": null,
            "grid_auto_columns": null,
            "grid_auto_flow": null,
            "grid_auto_rows": null,
            "grid_column": null,
            "grid_gap": null,
            "grid_row": null,
            "grid_template_areas": null,
            "grid_template_columns": null,
            "grid_template_rows": null,
            "height": null,
            "justify_content": null,
            "justify_items": null,
            "left": null,
            "margin": null,
            "max_height": null,
            "max_width": null,
            "min_height": null,
            "min_width": null,
            "object_fit": null,
            "object_position": null,
            "order": null,
            "overflow": null,
            "overflow_x": null,
            "overflow_y": null,
            "padding": null,
            "right": null,
            "top": null,
            "visibility": null,
            "width": null
          }
        },
        "95ef6174114b4bceb9143344a670073a": {
          "model_module": "@jupyter-widgets/controls",
          "model_module_version": "1.5.0",
          "model_name": "DescriptionStyleModel",
          "state": {
            "_model_module": "@jupyter-widgets/controls",
            "_model_module_version": "1.5.0",
            "_model_name": "DescriptionStyleModel",
            "_view_count": null,
            "_view_module": "@jupyter-widgets/base",
            "_view_module_version": "1.2.0",
            "_view_name": "StyleView",
            "description_width": ""
          }
        },
        "9698eb49ee8d47bb8d8cb100a5d37e98": {
          "model_module": "@jupyter-widgets/base",
          "model_module_version": "1.2.0",
          "model_name": "LayoutModel",
          "state": {
            "_model_module": "@jupyter-widgets/base",
            "_model_module_version": "1.2.0",
            "_model_name": "LayoutModel",
            "_view_count": null,
            "_view_module": "@jupyter-widgets/base",
            "_view_module_version": "1.2.0",
            "_view_name": "LayoutView",
            "align_content": null,
            "align_items": null,
            "align_self": null,
            "border": null,
            "bottom": null,
            "display": null,
            "flex": null,
            "flex_flow": null,
            "grid_area": null,
            "grid_auto_columns": null,
            "grid_auto_flow": null,
            "grid_auto_rows": null,
            "grid_column": null,
            "grid_gap": null,
            "grid_row": null,
            "grid_template_areas": null,
            "grid_template_columns": null,
            "grid_template_rows": null,
            "height": null,
            "justify_content": null,
            "justify_items": null,
            "left": null,
            "margin": null,
            "max_height": null,
            "max_width": null,
            "min_height": null,
            "min_width": null,
            "object_fit": null,
            "object_position": null,
            "order": null,
            "overflow": null,
            "overflow_x": null,
            "overflow_y": null,
            "padding": null,
            "right": null,
            "top": null,
            "visibility": null,
            "width": null
          }
        },
        "97096d39a0f64125bdcd0be69d41b3fa": {
          "model_module": "@jupyter-widgets/controls",
          "model_module_version": "1.5.0",
          "model_name": "DescriptionStyleModel",
          "state": {
            "_model_module": "@jupyter-widgets/controls",
            "_model_module_version": "1.5.0",
            "_model_name": "DescriptionStyleModel",
            "_view_count": null,
            "_view_module": "@jupyter-widgets/base",
            "_view_module_version": "1.2.0",
            "_view_name": "StyleView",
            "description_width": ""
          }
        },
        "984bc6314c0e4542be1a45c69ef129b2": {
          "model_module": "@jupyter-widgets/base",
          "model_module_version": "1.2.0",
          "model_name": "LayoutModel",
          "state": {
            "_model_module": "@jupyter-widgets/base",
            "_model_module_version": "1.2.0",
            "_model_name": "LayoutModel",
            "_view_count": null,
            "_view_module": "@jupyter-widgets/base",
            "_view_module_version": "1.2.0",
            "_view_name": "LayoutView",
            "align_content": null,
            "align_items": null,
            "align_self": null,
            "border": null,
            "bottom": null,
            "display": null,
            "flex": null,
            "flex_flow": null,
            "grid_area": null,
            "grid_auto_columns": null,
            "grid_auto_flow": null,
            "grid_auto_rows": null,
            "grid_column": null,
            "grid_gap": null,
            "grid_row": null,
            "grid_template_areas": null,
            "grid_template_columns": null,
            "grid_template_rows": null,
            "height": null,
            "justify_content": null,
            "justify_items": null,
            "left": null,
            "margin": null,
            "max_height": null,
            "max_width": null,
            "min_height": null,
            "min_width": null,
            "object_fit": null,
            "object_position": null,
            "order": null,
            "overflow": null,
            "overflow_x": null,
            "overflow_y": null,
            "padding": null,
            "right": null,
            "top": null,
            "visibility": null,
            "width": null
          }
        },
        "986bd65185f2473e8c7d8ba753d5ddc0": {
          "model_module": "@jupyter-widgets/controls",
          "model_module_version": "1.5.0",
          "model_name": "DescriptionStyleModel",
          "state": {
            "_model_module": "@jupyter-widgets/controls",
            "_model_module_version": "1.5.0",
            "_model_name": "DescriptionStyleModel",
            "_view_count": null,
            "_view_module": "@jupyter-widgets/base",
            "_view_module_version": "1.2.0",
            "_view_name": "StyleView",
            "description_width": ""
          }
        },
        "9f7fb9a0d53a46449133d78f0b58bc5c": {
          "model_module": "@jupyter-widgets/base",
          "model_module_version": "1.2.0",
          "model_name": "LayoutModel",
          "state": {
            "_model_module": "@jupyter-widgets/base",
            "_model_module_version": "1.2.0",
            "_model_name": "LayoutModel",
            "_view_count": null,
            "_view_module": "@jupyter-widgets/base",
            "_view_module_version": "1.2.0",
            "_view_name": "LayoutView",
            "align_content": null,
            "align_items": null,
            "align_self": null,
            "border": null,
            "bottom": null,
            "display": null,
            "flex": null,
            "flex_flow": null,
            "grid_area": null,
            "grid_auto_columns": null,
            "grid_auto_flow": null,
            "grid_auto_rows": null,
            "grid_column": null,
            "grid_gap": null,
            "grid_row": null,
            "grid_template_areas": null,
            "grid_template_columns": null,
            "grid_template_rows": null,
            "height": null,
            "justify_content": null,
            "justify_items": null,
            "left": null,
            "margin": null,
            "max_height": null,
            "max_width": null,
            "min_height": null,
            "min_width": null,
            "object_fit": null,
            "object_position": null,
            "order": null,
            "overflow": null,
            "overflow_x": null,
            "overflow_y": null,
            "padding": null,
            "right": null,
            "top": null,
            "visibility": null,
            "width": null
          }
        },
        "a3d33799631f424f860714f4387ca0bc": {
          "model_module": "@jupyter-widgets/controls",
          "model_module_version": "1.5.0",
          "model_name": "HTMLModel",
          "state": {
            "_dom_classes": [],
            "_model_module": "@jupyter-widgets/controls",
            "_model_module_version": "1.5.0",
            "_model_name": "HTMLModel",
            "_view_count": null,
            "_view_module": "@jupyter-widgets/controls",
            "_view_module_version": "1.5.0",
            "_view_name": "HTMLView",
            "description": "",
            "description_tooltip": null,
            "layout": "IPY_MODEL_e752534097ef4e7eac9af102d8e22372",
            "placeholder": "​",
            "style": "IPY_MODEL_2ae4e44144924b62a3cd84fcf788ab18",
            "value": " 466k/466k [00:00&lt;00:00, 4.81MB/s]"
          }
        },
        "a4e122519c0b43158ca3e77bea30ab33": {
          "model_module": "@jupyter-widgets/controls",
          "model_module_version": "1.5.0",
          "model_name": "DescriptionStyleModel",
          "state": {
            "_model_module": "@jupyter-widgets/controls",
            "_model_module_version": "1.5.0",
            "_model_name": "DescriptionStyleModel",
            "_view_count": null,
            "_view_module": "@jupyter-widgets/base",
            "_view_module_version": "1.2.0",
            "_view_name": "StyleView",
            "description_width": ""
          }
        },
        "a90555b49d704a9bb494c25147858f93": {
          "model_module": "@jupyter-widgets/controls",
          "model_module_version": "1.5.0",
          "model_name": "HTMLModel",
          "state": {
            "_dom_classes": [],
            "_model_module": "@jupyter-widgets/controls",
            "_model_module_version": "1.5.0",
            "_model_name": "HTMLModel",
            "_view_count": null,
            "_view_module": "@jupyter-widgets/controls",
            "_view_module_version": "1.5.0",
            "_view_name": "HTMLView",
            "description": "",
            "description_tooltip": null,
            "layout": "IPY_MODEL_558526621fb1455886611f1cf2a80eab",
            "placeholder": "​",
            "style": "IPY_MODEL_820280df7cc84029bba0f51a3a88d015",
            "value": " 350/350 [00:00&lt;00:00, 21.0kB/s]"
          }
        },
        "ac1c58a537344ceca6113ab80793fcfe": {
          "model_module": "@jupyter-widgets/controls",
          "model_module_version": "1.5.0",
          "model_name": "HTMLModel",
          "state": {
            "_dom_classes": [],
            "_model_module": "@jupyter-widgets/controls",
            "_model_module_version": "1.5.0",
            "_model_name": "HTMLModel",
            "_view_count": null,
            "_view_module": "@jupyter-widgets/controls",
            "_view_module_version": "1.5.0",
            "_view_name": "HTMLView",
            "description": "",
            "description_tooltip": null,
            "layout": "IPY_MODEL_83728ea4e6834641a8875c9927abd261",
            "placeholder": "​",
            "style": "IPY_MODEL_3eef5e004dec4575bc529597b37f605f",
            "value": " 232k/232k [00:00&lt;00:00, 7.30MB/s]"
          }
        },
        "af1916b34f7c4cd6a1b6a846b89c14dd": {
          "model_module": "@jupyter-widgets/controls",
          "model_module_version": "1.5.0",
          "model_name": "ProgressStyleModel",
          "state": {
            "_model_module": "@jupyter-widgets/controls",
            "_model_module_version": "1.5.0",
            "_model_name": "ProgressStyleModel",
            "_view_count": null,
            "_view_module": "@jupyter-widgets/base",
            "_view_module_version": "1.2.0",
            "_view_name": "StyleView",
            "bar_color": null,
            "description_width": ""
          }
        },
        "af4ee25529ed44ecbb640bc6f54ecf39": {
          "model_module": "@jupyter-widgets/base",
          "model_module_version": "1.2.0",
          "model_name": "LayoutModel",
          "state": {
            "_model_module": "@jupyter-widgets/base",
            "_model_module_version": "1.2.0",
            "_model_name": "LayoutModel",
            "_view_count": null,
            "_view_module": "@jupyter-widgets/base",
            "_view_module_version": "1.2.0",
            "_view_name": "LayoutView",
            "align_content": null,
            "align_items": null,
            "align_self": null,
            "border": null,
            "bottom": null,
            "display": null,
            "flex": null,
            "flex_flow": null,
            "grid_area": null,
            "grid_auto_columns": null,
            "grid_auto_flow": null,
            "grid_auto_rows": null,
            "grid_column": null,
            "grid_gap": null,
            "grid_row": null,
            "grid_template_areas": null,
            "grid_template_columns": null,
            "grid_template_rows": null,
            "height": null,
            "justify_content": null,
            "justify_items": null,
            "left": null,
            "margin": null,
            "max_height": null,
            "max_width": null,
            "min_height": null,
            "min_width": null,
            "object_fit": null,
            "object_position": null,
            "order": null,
            "overflow": null,
            "overflow_x": null,
            "overflow_y": null,
            "padding": null,
            "right": null,
            "top": null,
            "visibility": null,
            "width": null
          }
        },
        "b0e9331b25674c83b15c71179908eaa5": {
          "model_module": "@jupyter-widgets/controls",
          "model_module_version": "1.5.0",
          "model_name": "DescriptionStyleModel",
          "state": {
            "_model_module": "@jupyter-widgets/controls",
            "_model_module_version": "1.5.0",
            "_model_name": "DescriptionStyleModel",
            "_view_count": null,
            "_view_module": "@jupyter-widgets/base",
            "_view_module_version": "1.2.0",
            "_view_name": "StyleView",
            "description_width": ""
          }
        },
        "b12ea2923f5e486389fc82a09b189517": {
          "model_module": "@jupyter-widgets/controls",
          "model_module_version": "1.5.0",
          "model_name": "HTMLModel",
          "state": {
            "_dom_classes": [],
            "_model_module": "@jupyter-widgets/controls",
            "_model_module_version": "1.5.0",
            "_model_name": "HTMLModel",
            "_view_count": null,
            "_view_module": "@jupyter-widgets/controls",
            "_view_module_version": "1.5.0",
            "_view_name": "HTMLView",
            "description": "",
            "description_tooltip": null,
            "layout": "IPY_MODEL_168be153e8d74df9860afb9882c1dedd",
            "placeholder": "​",
            "style": "IPY_MODEL_c97cd56619b742c3be45a5b027d4e16d",
            "value": " 53.0/53.0 [00:00&lt;00:00, 3.06kB/s]"
          }
        },
        "b3b8e10355d94a5395c386f0715116c4": {
          "model_module": "@jupyter-widgets/controls",
          "model_module_version": "1.5.0",
          "model_name": "DescriptionStyleModel",
          "state": {
            "_model_module": "@jupyter-widgets/controls",
            "_model_module_version": "1.5.0",
            "_model_name": "DescriptionStyleModel",
            "_view_count": null,
            "_view_module": "@jupyter-widgets/base",
            "_view_module_version": "1.2.0",
            "_view_name": "StyleView",
            "description_width": ""
          }
        },
        "b79476d756524e9487b6feb0de49ef73": {
          "model_module": "@jupyter-widgets/base",
          "model_module_version": "1.2.0",
          "model_name": "LayoutModel",
          "state": {
            "_model_module": "@jupyter-widgets/base",
            "_model_module_version": "1.2.0",
            "_model_name": "LayoutModel",
            "_view_count": null,
            "_view_module": "@jupyter-widgets/base",
            "_view_module_version": "1.2.0",
            "_view_name": "LayoutView",
            "align_content": null,
            "align_items": null,
            "align_self": null,
            "border": null,
            "bottom": null,
            "display": null,
            "flex": null,
            "flex_flow": null,
            "grid_area": null,
            "grid_auto_columns": null,
            "grid_auto_flow": null,
            "grid_auto_rows": null,
            "grid_column": null,
            "grid_gap": null,
            "grid_row": null,
            "grid_template_areas": null,
            "grid_template_columns": null,
            "grid_template_rows": null,
            "height": null,
            "justify_content": null,
            "justify_items": null,
            "left": null,
            "margin": null,
            "max_height": null,
            "max_width": null,
            "min_height": null,
            "min_width": null,
            "object_fit": null,
            "object_position": null,
            "order": null,
            "overflow": null,
            "overflow_x": null,
            "overflow_y": null,
            "padding": null,
            "right": null,
            "top": null,
            "visibility": null,
            "width": null
          }
        },
        "b9e50a1a5dcd4237823381ce8cdf332d": {
          "model_module": "@jupyter-widgets/controls",
          "model_module_version": "1.5.0",
          "model_name": "FloatProgressModel",
          "state": {
            "_dom_classes": [],
            "_model_module": "@jupyter-widgets/controls",
            "_model_module_version": "1.5.0",
            "_model_name": "FloatProgressModel",
            "_view_count": null,
            "_view_module": "@jupyter-widgets/controls",
            "_view_module_version": "1.5.0",
            "_view_name": "ProgressView",
            "bar_style": "success",
            "description": "",
            "description_tooltip": null,
            "layout": "IPY_MODEL_58fcbbbd4a3d4f6bac20f6c9055ac2a0",
            "max": 90868376,
            "min": 0,
            "orientation": "horizontal",
            "style": "IPY_MODEL_fafda490cc164e9ba77bb00051f439fb",
            "value": 90868376
          }
        },
        "bc007183680342e3ab7d17f034403a43": {
          "model_module": "@jupyter-widgets/base",
          "model_module_version": "1.2.0",
          "model_name": "LayoutModel",
          "state": {
            "_model_module": "@jupyter-widgets/base",
            "_model_module_version": "1.2.0",
            "_model_name": "LayoutModel",
            "_view_count": null,
            "_view_module": "@jupyter-widgets/base",
            "_view_module_version": "1.2.0",
            "_view_name": "LayoutView",
            "align_content": null,
            "align_items": null,
            "align_self": null,
            "border": null,
            "bottom": null,
            "display": null,
            "flex": null,
            "flex_flow": null,
            "grid_area": null,
            "grid_auto_columns": null,
            "grid_auto_flow": null,
            "grid_auto_rows": null,
            "grid_column": null,
            "grid_gap": null,
            "grid_row": null,
            "grid_template_areas": null,
            "grid_template_columns": null,
            "grid_template_rows": null,
            "height": null,
            "justify_content": null,
            "justify_items": null,
            "left": null,
            "margin": null,
            "max_height": null,
            "max_width": null,
            "min_height": null,
            "min_width": null,
            "object_fit": null,
            "object_position": null,
            "order": null,
            "overflow": null,
            "overflow_x": null,
            "overflow_y": null,
            "padding": null,
            "right": null,
            "top": null,
            "visibility": null,
            "width": null
          }
        },
        "bc3f88a0b8284e6bb60331b2b3234eef": {
          "model_module": "@jupyter-widgets/base",
          "model_module_version": "1.2.0",
          "model_name": "LayoutModel",
          "state": {
            "_model_module": "@jupyter-widgets/base",
            "_model_module_version": "1.2.0",
            "_model_name": "LayoutModel",
            "_view_count": null,
            "_view_module": "@jupyter-widgets/base",
            "_view_module_version": "1.2.0",
            "_view_name": "LayoutView",
            "align_content": null,
            "align_items": null,
            "align_self": null,
            "border": null,
            "bottom": null,
            "display": null,
            "flex": null,
            "flex_flow": null,
            "grid_area": null,
            "grid_auto_columns": null,
            "grid_auto_flow": null,
            "grid_auto_rows": null,
            "grid_column": null,
            "grid_gap": null,
            "grid_row": null,
            "grid_template_areas": null,
            "grid_template_columns": null,
            "grid_template_rows": null,
            "height": null,
            "justify_content": null,
            "justify_items": null,
            "left": null,
            "margin": null,
            "max_height": null,
            "max_width": null,
            "min_height": null,
            "min_width": null,
            "object_fit": null,
            "object_position": null,
            "order": null,
            "overflow": null,
            "overflow_x": null,
            "overflow_y": null,
            "padding": null,
            "right": null,
            "top": null,
            "visibility": null,
            "width": null
          }
        },
        "bc66448af5fd4107a0825c349285aca4": {
          "model_module": "@jupyter-widgets/controls",
          "model_module_version": "1.5.0",
          "model_name": "ProgressStyleModel",
          "state": {
            "_model_module": "@jupyter-widgets/controls",
            "_model_module_version": "1.5.0",
            "_model_name": "ProgressStyleModel",
            "_view_count": null,
            "_view_module": "@jupyter-widgets/base",
            "_view_module_version": "1.2.0",
            "_view_name": "StyleView",
            "bar_color": null,
            "description_width": ""
          }
        },
        "bd5bcff7e6c6491285ca0c5b12d26e34": {
          "model_module": "@jupyter-widgets/controls",
          "model_module_version": "1.5.0",
          "model_name": "HBoxModel",
          "state": {
            "_dom_classes": [],
            "_model_module": "@jupyter-widgets/controls",
            "_model_module_version": "1.5.0",
            "_model_name": "HBoxModel",
            "_view_count": null,
            "_view_module": "@jupyter-widgets/controls",
            "_view_module_version": "1.5.0",
            "_view_name": "HBoxView",
            "box_style": "",
            "children": [
              "IPY_MODEL_3842e0ec3a864efe80826e04259cbec6",
              "IPY_MODEL_f73ca34579844e8bb20ab535628f0a9d",
              "IPY_MODEL_44bc9c917bc14032ab6e2a0714e199bd"
            ],
            "layout": "IPY_MODEL_8ef260bf96fc4ba7a4eeb506929fb46f"
          }
        },
        "bf0ad45081274e02b04ca91fa656bc9e": {
          "model_module": "@jupyter-widgets/base",
          "model_module_version": "1.2.0",
          "model_name": "LayoutModel",
          "state": {
            "_model_module": "@jupyter-widgets/base",
            "_model_module_version": "1.2.0",
            "_model_name": "LayoutModel",
            "_view_count": null,
            "_view_module": "@jupyter-widgets/base",
            "_view_module_version": "1.2.0",
            "_view_name": "LayoutView",
            "align_content": null,
            "align_items": null,
            "align_self": null,
            "border": null,
            "bottom": null,
            "display": null,
            "flex": null,
            "flex_flow": null,
            "grid_area": null,
            "grid_auto_columns": null,
            "grid_auto_flow": null,
            "grid_auto_rows": null,
            "grid_column": null,
            "grid_gap": null,
            "grid_row": null,
            "grid_template_areas": null,
            "grid_template_columns": null,
            "grid_template_rows": null,
            "height": null,
            "justify_content": null,
            "justify_items": null,
            "left": null,
            "margin": null,
            "max_height": null,
            "max_width": null,
            "min_height": null,
            "min_width": null,
            "object_fit": null,
            "object_position": null,
            "order": null,
            "overflow": null,
            "overflow_x": null,
            "overflow_y": null,
            "padding": null,
            "right": null,
            "top": null,
            "visibility": null,
            "width": null
          }
        },
        "c12ec67ef6e544e28af24bf86c2e1315": {
          "model_module": "@jupyter-widgets/controls",
          "model_module_version": "1.5.0",
          "model_name": "FloatProgressModel",
          "state": {
            "_dom_classes": [],
            "_model_module": "@jupyter-widgets/controls",
            "_model_module_version": "1.5.0",
            "_model_name": "FloatProgressModel",
            "_view_count": null,
            "_view_module": "@jupyter-widgets/controls",
            "_view_module_version": "1.5.0",
            "_view_name": "ProgressView",
            "bar_style": "success",
            "description": "",
            "description_tooltip": null,
            "layout": "IPY_MODEL_000330ea207d459da0fed2cdaded04ba",
            "max": 350,
            "min": 0,
            "orientation": "horizontal",
            "style": "IPY_MODEL_7abf33e4aa964b4e9feebfef39e229ae",
            "value": 350
          }
        },
        "c25f8bfa96324df79c290d9a68cb2668": {
          "model_module": "@jupyter-widgets/base",
          "model_module_version": "1.2.0",
          "model_name": "LayoutModel",
          "state": {
            "_model_module": "@jupyter-widgets/base",
            "_model_module_version": "1.2.0",
            "_model_name": "LayoutModel",
            "_view_count": null,
            "_view_module": "@jupyter-widgets/base",
            "_view_module_version": "1.2.0",
            "_view_name": "LayoutView",
            "align_content": null,
            "align_items": null,
            "align_self": null,
            "border": null,
            "bottom": null,
            "display": null,
            "flex": null,
            "flex_flow": null,
            "grid_area": null,
            "grid_auto_columns": null,
            "grid_auto_flow": null,
            "grid_auto_rows": null,
            "grid_column": null,
            "grid_gap": null,
            "grid_row": null,
            "grid_template_areas": null,
            "grid_template_columns": null,
            "grid_template_rows": null,
            "height": null,
            "justify_content": null,
            "justify_items": null,
            "left": null,
            "margin": null,
            "max_height": null,
            "max_width": null,
            "min_height": null,
            "min_width": null,
            "object_fit": null,
            "object_position": null,
            "order": null,
            "overflow": null,
            "overflow_x": null,
            "overflow_y": null,
            "padding": null,
            "right": null,
            "top": null,
            "visibility": null,
            "width": null
          }
        },
        "c4d857ff51604916a5ad7bdcbe5d7b6e": {
          "model_module": "@jupyter-widgets/controls",
          "model_module_version": "1.5.0",
          "model_name": "ProgressStyleModel",
          "state": {
            "_model_module": "@jupyter-widgets/controls",
            "_model_module_version": "1.5.0",
            "_model_name": "ProgressStyleModel",
            "_view_count": null,
            "_view_module": "@jupyter-widgets/base",
            "_view_module_version": "1.2.0",
            "_view_name": "StyleView",
            "bar_color": null,
            "description_width": ""
          }
        },
        "c50ea1eeff184ecd9e519cee69f0bf3f": {
          "model_module": "@jupyter-widgets/controls",
          "model_module_version": "1.5.0",
          "model_name": "HTMLModel",
          "state": {
            "_dom_classes": [],
            "_model_module": "@jupyter-widgets/controls",
            "_model_module_version": "1.5.0",
            "_model_name": "HTMLModel",
            "_view_count": null,
            "_view_module": "@jupyter-widgets/controls",
            "_view_module_version": "1.5.0",
            "_view_name": "HTMLView",
            "description": "",
            "description_tooltip": null,
            "layout": "IPY_MODEL_26c062cbdc074941bef80ef1d7222728",
            "placeholder": "​",
            "style": "IPY_MODEL_97096d39a0f64125bdcd0be69d41b3fa",
            "value": " 112/112 [00:00&lt;00:00, 5.30kB/s]"
          }
        },
        "c97cd56619b742c3be45a5b027d4e16d": {
          "model_module": "@jupyter-widgets/controls",
          "model_module_version": "1.5.0",
          "model_name": "DescriptionStyleModel",
          "state": {
            "_model_module": "@jupyter-widgets/controls",
            "_model_module_version": "1.5.0",
            "_model_name": "DescriptionStyleModel",
            "_view_count": null,
            "_view_module": "@jupyter-widgets/base",
            "_view_module_version": "1.2.0",
            "_view_name": "StyleView",
            "description_width": ""
          }
        },
        "c9c6054a370040ba984ada463557a2fa": {
          "model_module": "@jupyter-widgets/base",
          "model_module_version": "1.2.0",
          "model_name": "LayoutModel",
          "state": {
            "_model_module": "@jupyter-widgets/base",
            "_model_module_version": "1.2.0",
            "_model_name": "LayoutModel",
            "_view_count": null,
            "_view_module": "@jupyter-widgets/base",
            "_view_module_version": "1.2.0",
            "_view_name": "LayoutView",
            "align_content": null,
            "align_items": null,
            "align_self": null,
            "border": null,
            "bottom": null,
            "display": null,
            "flex": null,
            "flex_flow": null,
            "grid_area": null,
            "grid_auto_columns": null,
            "grid_auto_flow": null,
            "grid_auto_rows": null,
            "grid_column": null,
            "grid_gap": null,
            "grid_row": null,
            "grid_template_areas": null,
            "grid_template_columns": null,
            "grid_template_rows": null,
            "height": null,
            "justify_content": null,
            "justify_items": null,
            "left": null,
            "margin": null,
            "max_height": null,
            "max_width": null,
            "min_height": null,
            "min_width": null,
            "object_fit": null,
            "object_position": null,
            "order": null,
            "overflow": null,
            "overflow_x": null,
            "overflow_y": null,
            "padding": null,
            "right": null,
            "top": null,
            "visibility": null,
            "width": null
          }
        },
        "cd309dd0f9c341deb75b3ed9b780d1a3": {
          "model_module": "@jupyter-widgets/controls",
          "model_module_version": "1.5.0",
          "model_name": "HTMLModel",
          "state": {
            "_dom_classes": [],
            "_model_module": "@jupyter-widgets/controls",
            "_model_module_version": "1.5.0",
            "_model_name": "HTMLModel",
            "_view_count": null,
            "_view_module": "@jupyter-widgets/controls",
            "_view_module_version": "1.5.0",
            "_view_name": "HTMLView",
            "description": "",
            "description_tooltip": null,
            "layout": "IPY_MODEL_2f72798bf008471290f37998b84276e1",
            "placeholder": "​",
            "style": "IPY_MODEL_15621039964340a2a990ab07b7401696",
            "value": "special_tokens_map.json: 100%"
          }
        },
        "cf57224ae4214f23b538ead8bad2dda4": {
          "model_module": "@jupyter-widgets/base",
          "model_module_version": "1.2.0",
          "model_name": "LayoutModel",
          "state": {
            "_model_module": "@jupyter-widgets/base",
            "_model_module_version": "1.2.0",
            "_model_name": "LayoutModel",
            "_view_count": null,
            "_view_module": "@jupyter-widgets/base",
            "_view_module_version": "1.2.0",
            "_view_name": "LayoutView",
            "align_content": null,
            "align_items": null,
            "align_self": null,
            "border": null,
            "bottom": null,
            "display": null,
            "flex": null,
            "flex_flow": null,
            "grid_area": null,
            "grid_auto_columns": null,
            "grid_auto_flow": null,
            "grid_auto_rows": null,
            "grid_column": null,
            "grid_gap": null,
            "grid_row": null,
            "grid_template_areas": null,
            "grid_template_columns": null,
            "grid_template_rows": null,
            "height": null,
            "justify_content": null,
            "justify_items": null,
            "left": null,
            "margin": null,
            "max_height": null,
            "max_width": null,
            "min_height": null,
            "min_width": null,
            "object_fit": null,
            "object_position": null,
            "order": null,
            "overflow": null,
            "overflow_x": null,
            "overflow_y": null,
            "padding": null,
            "right": null,
            "top": null,
            "visibility": null,
            "width": null
          }
        },
        "d01ac15fa6f7431fa53e5335a5c7e9e5": {
          "model_module": "@jupyter-widgets/controls",
          "model_module_version": "1.5.0",
          "model_name": "HTMLModel",
          "state": {
            "_dom_classes": [],
            "_model_module": "@jupyter-widgets/controls",
            "_model_module_version": "1.5.0",
            "_model_name": "HTMLModel",
            "_view_count": null,
            "_view_module": "@jupyter-widgets/controls",
            "_view_module_version": "1.5.0",
            "_view_name": "HTMLView",
            "description": "",
            "description_tooltip": null,
            "layout": "IPY_MODEL_cf57224ae4214f23b538ead8bad2dda4",
            "placeholder": "​",
            "style": "IPY_MODEL_b3b8e10355d94a5395c386f0715116c4",
            "value": "tokenizer_config.json: 100%"
          }
        },
        "d3a2c936ec9742a4b0b238def778ffa0": {
          "model_module": "@jupyter-widgets/controls",
          "model_module_version": "1.5.0",
          "model_name": "HBoxModel",
          "state": {
            "_dom_classes": [],
            "_model_module": "@jupyter-widgets/controls",
            "_model_module_version": "1.5.0",
            "_model_name": "HBoxModel",
            "_view_count": null,
            "_view_module": "@jupyter-widgets/controls",
            "_view_module_version": "1.5.0",
            "_view_name": "HBoxView",
            "box_style": "",
            "children": [
              "IPY_MODEL_3f5c7e47b26747348857ab0747714af0",
              "IPY_MODEL_67e4b635c5bc4394a69ef1d2af608030",
              "IPY_MODEL_5ee3557edc004808aa1b072b1398b8a8"
            ],
            "layout": "IPY_MODEL_028a638eec4c41e58ea68de05d47db95"
          }
        },
        "d588ceba0126416185ff096d6d3b0579": {
          "model_module": "@jupyter-widgets/base",
          "model_module_version": "1.2.0",
          "model_name": "LayoutModel",
          "state": {
            "_model_module": "@jupyter-widgets/base",
            "_model_module_version": "1.2.0",
            "_model_name": "LayoutModel",
            "_view_count": null,
            "_view_module": "@jupyter-widgets/base",
            "_view_module_version": "1.2.0",
            "_view_name": "LayoutView",
            "align_content": null,
            "align_items": null,
            "align_self": null,
            "border": null,
            "bottom": null,
            "display": null,
            "flex": null,
            "flex_flow": null,
            "grid_area": null,
            "grid_auto_columns": null,
            "grid_auto_flow": null,
            "grid_auto_rows": null,
            "grid_column": null,
            "grid_gap": null,
            "grid_row": null,
            "grid_template_areas": null,
            "grid_template_columns": null,
            "grid_template_rows": null,
            "height": null,
            "justify_content": null,
            "justify_items": null,
            "left": null,
            "margin": null,
            "max_height": null,
            "max_width": null,
            "min_height": null,
            "min_width": null,
            "object_fit": null,
            "object_position": null,
            "order": null,
            "overflow": null,
            "overflow_x": null,
            "overflow_y": null,
            "padding": null,
            "right": null,
            "top": null,
            "visibility": null,
            "width": null
          }
        },
        "d6e9c71f2c0f4c2caf431ec5182d57de": {
          "model_module": "@jupyter-widgets/controls",
          "model_module_version": "1.5.0",
          "model_name": "DescriptionStyleModel",
          "state": {
            "_model_module": "@jupyter-widgets/controls",
            "_model_module_version": "1.5.0",
            "_model_name": "DescriptionStyleModel",
            "_view_count": null,
            "_view_module": "@jupyter-widgets/base",
            "_view_module_version": "1.2.0",
            "_view_name": "StyleView",
            "description_width": ""
          }
        },
        "d781b880fcb2476798c6f374735fe1a0": {
          "model_module": "@jupyter-widgets/controls",
          "model_module_version": "1.5.0",
          "model_name": "HBoxModel",
          "state": {
            "_dom_classes": [],
            "_model_module": "@jupyter-widgets/controls",
            "_model_module_version": "1.5.0",
            "_model_name": "HBoxModel",
            "_view_count": null,
            "_view_module": "@jupyter-widgets/controls",
            "_view_module_version": "1.5.0",
            "_view_name": "HBoxView",
            "box_style": "",
            "children": [
              "IPY_MODEL_6db921bc5f504364bf1414bfe76abeef",
              "IPY_MODEL_295a7426d3104fbc968e734b8f43e258",
              "IPY_MODEL_ac1c58a537344ceca6113ab80793fcfe"
            ],
            "layout": "IPY_MODEL_0c37d1003bbd405396751fb984d272f4"
          }
        },
        "decffed45dd0440f9606891c2b5c1349": {
          "model_module": "@jupyter-widgets/controls",
          "model_module_version": "1.5.0",
          "model_name": "DescriptionStyleModel",
          "state": {
            "_model_module": "@jupyter-widgets/controls",
            "_model_module_version": "1.5.0",
            "_model_name": "DescriptionStyleModel",
            "_view_count": null,
            "_view_module": "@jupyter-widgets/base",
            "_view_module_version": "1.2.0",
            "_view_name": "StyleView",
            "description_width": ""
          }
        },
        "e01911e6bf7848cb93b53013b33c8c2b": {
          "model_module": "@jupyter-widgets/base",
          "model_module_version": "1.2.0",
          "model_name": "LayoutModel",
          "state": {
            "_model_module": "@jupyter-widgets/base",
            "_model_module_version": "1.2.0",
            "_model_name": "LayoutModel",
            "_view_count": null,
            "_view_module": "@jupyter-widgets/base",
            "_view_module_version": "1.2.0",
            "_view_name": "LayoutView",
            "align_content": null,
            "align_items": null,
            "align_self": null,
            "border": null,
            "bottom": null,
            "display": null,
            "flex": null,
            "flex_flow": null,
            "grid_area": null,
            "grid_auto_columns": null,
            "grid_auto_flow": null,
            "grid_auto_rows": null,
            "grid_column": null,
            "grid_gap": null,
            "grid_row": null,
            "grid_template_areas": null,
            "grid_template_columns": null,
            "grid_template_rows": null,
            "height": null,
            "justify_content": null,
            "justify_items": null,
            "left": null,
            "margin": null,
            "max_height": null,
            "max_width": null,
            "min_height": null,
            "min_width": null,
            "object_fit": null,
            "object_position": null,
            "order": null,
            "overflow": null,
            "overflow_x": null,
            "overflow_y": null,
            "padding": null,
            "right": null,
            "top": null,
            "visibility": null,
            "width": null
          }
        },
        "e330f3ee1d8d4878b5d2152d798d341f": {
          "model_module": "@jupyter-widgets/base",
          "model_module_version": "1.2.0",
          "model_name": "LayoutModel",
          "state": {
            "_model_module": "@jupyter-widgets/base",
            "_model_module_version": "1.2.0",
            "_model_name": "LayoutModel",
            "_view_count": null,
            "_view_module": "@jupyter-widgets/base",
            "_view_module_version": "1.2.0",
            "_view_name": "LayoutView",
            "align_content": null,
            "align_items": null,
            "align_self": null,
            "border": null,
            "bottom": null,
            "display": null,
            "flex": null,
            "flex_flow": null,
            "grid_area": null,
            "grid_auto_columns": null,
            "grid_auto_flow": null,
            "grid_auto_rows": null,
            "grid_column": null,
            "grid_gap": null,
            "grid_row": null,
            "grid_template_areas": null,
            "grid_template_columns": null,
            "grid_template_rows": null,
            "height": null,
            "justify_content": null,
            "justify_items": null,
            "left": null,
            "margin": null,
            "max_height": null,
            "max_width": null,
            "min_height": null,
            "min_width": null,
            "object_fit": null,
            "object_position": null,
            "order": null,
            "overflow": null,
            "overflow_x": null,
            "overflow_y": null,
            "padding": null,
            "right": null,
            "top": null,
            "visibility": null,
            "width": null
          }
        },
        "e399d7ae6c2948fd829366b9fb1bb35b": {
          "model_module": "@jupyter-widgets/controls",
          "model_module_version": "1.5.0",
          "model_name": "ProgressStyleModel",
          "state": {
            "_model_module": "@jupyter-widgets/controls",
            "_model_module_version": "1.5.0",
            "_model_name": "ProgressStyleModel",
            "_view_count": null,
            "_view_module": "@jupyter-widgets/base",
            "_view_module_version": "1.2.0",
            "_view_name": "StyleView",
            "bar_color": null,
            "description_width": ""
          }
        },
        "e752534097ef4e7eac9af102d8e22372": {
          "model_module": "@jupyter-widgets/base",
          "model_module_version": "1.2.0",
          "model_name": "LayoutModel",
          "state": {
            "_model_module": "@jupyter-widgets/base",
            "_model_module_version": "1.2.0",
            "_model_name": "LayoutModel",
            "_view_count": null,
            "_view_module": "@jupyter-widgets/base",
            "_view_module_version": "1.2.0",
            "_view_name": "LayoutView",
            "align_content": null,
            "align_items": null,
            "align_self": null,
            "border": null,
            "bottom": null,
            "display": null,
            "flex": null,
            "flex_flow": null,
            "grid_area": null,
            "grid_auto_columns": null,
            "grid_auto_flow": null,
            "grid_auto_rows": null,
            "grid_column": null,
            "grid_gap": null,
            "grid_row": null,
            "grid_template_areas": null,
            "grid_template_columns": null,
            "grid_template_rows": null,
            "height": null,
            "justify_content": null,
            "justify_items": null,
            "left": null,
            "margin": null,
            "max_height": null,
            "max_width": null,
            "min_height": null,
            "min_width": null,
            "object_fit": null,
            "object_position": null,
            "order": null,
            "overflow": null,
            "overflow_x": null,
            "overflow_y": null,
            "padding": null,
            "right": null,
            "top": null,
            "visibility": null,
            "width": null
          }
        },
        "eb610b2b66614dfca871c38dda92a282": {
          "model_module": "@jupyter-widgets/base",
          "model_module_version": "1.2.0",
          "model_name": "LayoutModel",
          "state": {
            "_model_module": "@jupyter-widgets/base",
            "_model_module_version": "1.2.0",
            "_model_name": "LayoutModel",
            "_view_count": null,
            "_view_module": "@jupyter-widgets/base",
            "_view_module_version": "1.2.0",
            "_view_name": "LayoutView",
            "align_content": null,
            "align_items": null,
            "align_self": null,
            "border": null,
            "bottom": null,
            "display": null,
            "flex": null,
            "flex_flow": null,
            "grid_area": null,
            "grid_auto_columns": null,
            "grid_auto_flow": null,
            "grid_auto_rows": null,
            "grid_column": null,
            "grid_gap": null,
            "grid_row": null,
            "grid_template_areas": null,
            "grid_template_columns": null,
            "grid_template_rows": null,
            "height": null,
            "justify_content": null,
            "justify_items": null,
            "left": null,
            "margin": null,
            "max_height": null,
            "max_width": null,
            "min_height": null,
            "min_width": null,
            "object_fit": null,
            "object_position": null,
            "order": null,
            "overflow": null,
            "overflow_x": null,
            "overflow_y": null,
            "padding": null,
            "right": null,
            "top": null,
            "visibility": null,
            "width": null
          }
        },
        "ee47ed14d92648f88f2c0ea17febe3be": {
          "model_module": "@jupyter-widgets/base",
          "model_module_version": "1.2.0",
          "model_name": "LayoutModel",
          "state": {
            "_model_module": "@jupyter-widgets/base",
            "_model_module_version": "1.2.0",
            "_model_name": "LayoutModel",
            "_view_count": null,
            "_view_module": "@jupyter-widgets/base",
            "_view_module_version": "1.2.0",
            "_view_name": "LayoutView",
            "align_content": null,
            "align_items": null,
            "align_self": null,
            "border": null,
            "bottom": null,
            "display": null,
            "flex": null,
            "flex_flow": null,
            "grid_area": null,
            "grid_auto_columns": null,
            "grid_auto_flow": null,
            "grid_auto_rows": null,
            "grid_column": null,
            "grid_gap": null,
            "grid_row": null,
            "grid_template_areas": null,
            "grid_template_columns": null,
            "grid_template_rows": null,
            "height": null,
            "justify_content": null,
            "justify_items": null,
            "left": null,
            "margin": null,
            "max_height": null,
            "max_width": null,
            "min_height": null,
            "min_width": null,
            "object_fit": null,
            "object_position": null,
            "order": null,
            "overflow": null,
            "overflow_x": null,
            "overflow_y": null,
            "padding": null,
            "right": null,
            "top": null,
            "visibility": null,
            "width": null
          }
        },
        "ee4fccabc8ad4da6873c52b1b4fd719a": {
          "model_module": "@jupyter-widgets/controls",
          "model_module_version": "1.5.0",
          "model_name": "FloatProgressModel",
          "state": {
            "_dom_classes": [],
            "_model_module": "@jupyter-widgets/controls",
            "_model_module_version": "1.5.0",
            "_model_name": "FloatProgressModel",
            "_view_count": null,
            "_view_module": "@jupyter-widgets/controls",
            "_view_module_version": "1.5.0",
            "_view_name": "ProgressView",
            "bar_style": "success",
            "description": "",
            "description_tooltip": null,
            "layout": "IPY_MODEL_46b76538f18946db9d57cc3eaad56d1e",
            "max": 190,
            "min": 0,
            "orientation": "horizontal",
            "style": "IPY_MODEL_af1916b34f7c4cd6a1b6a846b89c14dd",
            "value": 190
          }
        },
        "ee72da27b77d42e58a79dc054b8d2ce7": {
          "model_module": "@jupyter-widgets/controls",
          "model_module_version": "1.5.0",
          "model_name": "ProgressStyleModel",
          "state": {
            "_model_module": "@jupyter-widgets/controls",
            "_model_module_version": "1.5.0",
            "_model_name": "ProgressStyleModel",
            "_view_count": null,
            "_view_module": "@jupyter-widgets/base",
            "_view_module_version": "1.2.0",
            "_view_name": "StyleView",
            "bar_color": null,
            "description_width": ""
          }
        },
        "efc0cd75d4854bc6a0888395c7a63119": {
          "model_module": "@jupyter-widgets/controls",
          "model_module_version": "1.5.0",
          "model_name": "HTMLModel",
          "state": {
            "_dom_classes": [],
            "_model_module": "@jupyter-widgets/controls",
            "_model_module_version": "1.5.0",
            "_model_name": "HTMLModel",
            "_view_count": null,
            "_view_module": "@jupyter-widgets/controls",
            "_view_module_version": "1.5.0",
            "_view_name": "HTMLView",
            "description": "",
            "description_tooltip": null,
            "layout": "IPY_MODEL_ee47ed14d92648f88f2c0ea17febe3be",
            "placeholder": "​",
            "style": "IPY_MODEL_0624cf360485416b83a22e203f53af84",
            "value": "model.safetensors: 100%"
          }
        },
        "f1161afc0475495ba2b67fb0d0de0f73": {
          "model_module": "@jupyter-widgets/controls",
          "model_module_version": "1.5.0",
          "model_name": "HTMLModel",
          "state": {
            "_dom_classes": [],
            "_model_module": "@jupyter-widgets/controls",
            "_model_module_version": "1.5.0",
            "_model_name": "HTMLModel",
            "_view_count": null,
            "_view_module": "@jupyter-widgets/controls",
            "_view_module_version": "1.5.0",
            "_view_name": "HTMLView",
            "description": "",
            "description_tooltip": null,
            "layout": "IPY_MODEL_858b1c106e6e4c5eb087d112fb1e32f5",
            "placeholder": "​",
            "style": "IPY_MODEL_a4e122519c0b43158ca3e77bea30ab33",
            "value": " 190/190 [00:00&lt;00:00, 11.3kB/s]"
          }
        },
        "f73ca34579844e8bb20ab535628f0a9d": {
          "model_module": "@jupyter-widgets/controls",
          "model_module_version": "1.5.0",
          "model_name": "FloatProgressModel",
          "state": {
            "_dom_classes": [],
            "_model_module": "@jupyter-widgets/controls",
            "_model_module_version": "1.5.0",
            "_model_name": "FloatProgressModel",
            "_view_count": null,
            "_view_module": "@jupyter-widgets/controls",
            "_view_module_version": "1.5.0",
            "_view_name": "ProgressView",
            "bar_style": "success",
            "description": "",
            "description_tooltip": null,
            "layout": "IPY_MODEL_9698eb49ee8d47bb8d8cb100a5d37e98",
            "max": 10659,
            "min": 0,
            "orientation": "horizontal",
            "style": "IPY_MODEL_93b1673de9ce4d2c88046ed76cd502ce",
            "value": 10659
          }
        },
        "fae5a0281333498590eebcc9de2d7b73": {
          "model_module": "@jupyter-widgets/controls",
          "model_module_version": "1.5.0",
          "model_name": "HTMLModel",
          "state": {
            "_dom_classes": [],
            "_model_module": "@jupyter-widgets/controls",
            "_model_module_version": "1.5.0",
            "_model_name": "HTMLModel",
            "_view_count": null,
            "_view_module": "@jupyter-widgets/controls",
            "_view_module_version": "1.5.0",
            "_view_name": "HTMLView",
            "description": "",
            "description_tooltip": null,
            "layout": "IPY_MODEL_e01911e6bf7848cb93b53013b33c8c2b",
            "placeholder": "​",
            "style": "IPY_MODEL_986bd65185f2473e8c7d8ba753d5ddc0",
            "value": " 90.9M/90.9M [00:00&lt;00:00, 126MB/s]"
          }
        },
        "fafda490cc164e9ba77bb00051f439fb": {
          "model_module": "@jupyter-widgets/controls",
          "model_module_version": "1.5.0",
          "model_name": "ProgressStyleModel",
          "state": {
            "_model_module": "@jupyter-widgets/controls",
            "_model_module_version": "1.5.0",
            "_model_name": "ProgressStyleModel",
            "_view_count": null,
            "_view_module": "@jupyter-widgets/base",
            "_view_module_version": "1.2.0",
            "_view_name": "StyleView",
            "bar_color": null,
            "description_width": ""
          }
        },
        "fb3ed0ff161748009d242b5b29b4be47": {
          "model_module": "@jupyter-widgets/controls",
          "model_module_version": "1.5.0",
          "model_name": "HBoxModel",
          "state": {
            "_dom_classes": [],
            "_model_module": "@jupyter-widgets/controls",
            "_model_module_version": "1.5.0",
            "_model_name": "HBoxModel",
            "_view_count": null,
            "_view_module": "@jupyter-widgets/controls",
            "_view_module_version": "1.5.0",
            "_view_name": "HBoxView",
            "box_style": "",
            "children": [
              "IPY_MODEL_214149e06146443d973104edb3618af6",
              "IPY_MODEL_64780dc9f5bf47e3bba57f003fe430ba",
              "IPY_MODEL_b12ea2923f5e486389fc82a09b189517"
            ],
            "layout": "IPY_MODEL_866a91b647de464fbde4337ebe8c11a0"
          }
        },
        "fbfbc18cb4d547e898ec04d2e8168c0c": {
          "model_module": "@jupyter-widgets/controls",
          "model_module_version": "1.5.0",
          "model_name": "HTMLModel",
          "state": {
            "_dom_classes": [],
            "_model_module": "@jupyter-widgets/controls",
            "_model_module_version": "1.5.0",
            "_model_name": "HTMLModel",
            "_view_count": null,
            "_view_module": "@jupyter-widgets/controls",
            "_view_module_version": "1.5.0",
            "_view_name": "HTMLView",
            "description": "",
            "description_tooltip": null,
            "layout": "IPY_MODEL_af4ee25529ed44ecbb640bc6f54ecf39",
            "placeholder": "​",
            "style": "IPY_MODEL_95ef6174114b4bceb9143344a670073a",
            "value": "modules.json: 100%"
          }
        },
        "fc81966c11924b74ad971a36e66e44aa": {
          "model_module": "@jupyter-widgets/controls",
          "model_module_version": "1.5.0",
          "model_name": "HBoxModel",
          "state": {
            "_dom_classes": [],
            "_model_module": "@jupyter-widgets/controls",
            "_model_module_version": "1.5.0",
            "_model_name": "HBoxModel",
            "_view_count": null,
            "_view_module": "@jupyter-widgets/controls",
            "_view_module_version": "1.5.0",
            "_view_name": "HBoxView",
            "box_style": "",
            "children": [
              "IPY_MODEL_cd309dd0f9c341deb75b3ed9b780d1a3",
              "IPY_MODEL_5cbcf41a5f804e7990d6a17a5f4e3dd7",
              "IPY_MODEL_c50ea1eeff184ecd9e519cee69f0bf3f"
            ],
            "layout": "IPY_MODEL_8434c480947e458dacdcc927c01b75e3"
          }
        },
        "fc8585cad0b246dabfda781251e2db3d": {
          "model_module": "@jupyter-widgets/base",
          "model_module_version": "1.2.0",
          "model_name": "LayoutModel",
          "state": {
            "_model_module": "@jupyter-widgets/base",
            "_model_module_version": "1.2.0",
            "_model_name": "LayoutModel",
            "_view_count": null,
            "_view_module": "@jupyter-widgets/base",
            "_view_module_version": "1.2.0",
            "_view_name": "LayoutView",
            "align_content": null,
            "align_items": null,
            "align_self": null,
            "border": null,
            "bottom": null,
            "display": null,
            "flex": null,
            "flex_flow": null,
            "grid_area": null,
            "grid_auto_columns": null,
            "grid_auto_flow": null,
            "grid_auto_rows": null,
            "grid_column": null,
            "grid_gap": null,
            "grid_row": null,
            "grid_template_areas": null,
            "grid_template_columns": null,
            "grid_template_rows": null,
            "height": null,
            "justify_content": null,
            "justify_items": null,
            "left": null,
            "margin": null,
            "max_height": null,
            "max_width": null,
            "min_height": null,
            "min_width": null,
            "object_fit": null,
            "object_position": null,
            "order": null,
            "overflow": null,
            "overflow_x": null,
            "overflow_y": null,
            "padding": null,
            "right": null,
            "top": null,
            "visibility": null,
            "width": null
          }
        }
      }
    }
  },
  "nbformat": 4,
  "nbformat_minor": 0
}
