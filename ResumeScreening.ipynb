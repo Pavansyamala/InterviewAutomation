{
  "nbformat": 4,
  "nbformat_minor": 0,
  "metadata": {
    "colab": {
      "provenance": []
    },
    "kernelspec": {
      "name": "python3",
      "display_name": "Python 3"
    },
    "language_info": {
      "name": "python"
    }
  },
  "cells": [
    {
      "cell_type": "code",
      "execution_count": 2,
      "metadata": {
        "id": "9OZ3H4erD3GN"
      },
      "outputs": [],
      "source": [
        "import re\n",
        "import spacy\n",
        "import contractions\n",
        "import joblib\n",
        "import pandas as pd\n",
        "import numpy as np\n",
        "from datetime import datetime\n",
        "from nltk.tokenize import sent_tokenize, word_tokenize\n",
        "from nltk.corpus import stopwords\n",
        "from nltk.stem import WordNetLemmatizer\n",
        "from textblob import TextBlob\n",
        "from sklearn.metrics.pairwise import cosine_similarity\n",
        "from sklearn.feature_extraction.text import TfidfVectorizer\n",
        "from transformers import BertTokenizer, BertModel\n",
        "import torch\n",
        "import nltk"
      ]
    },
    {
      "cell_type": "code",
      "source": [],
      "metadata": {
        "id": "fwEjNNXOD61Y"
      },
      "execution_count": null,
      "outputs": []
    },
    {
      "cell_type": "code",
      "source": [
        "new_df = pd.read_excel('/content/processed_data.xlsx')"
      ],
      "metadata": {
        "id": "HQlNnnZLD64W"
      },
      "execution_count": 3,
      "outputs": []
    },
    {
      "cell_type": "code",
      "source": [
        "# Use a single TfidfVectorizer for both Resume and Job Description\n",
        "tfidf_vectorizer4 = TfidfVectorizer()\n",
        "combined_text = new_df['Resume_processed'] + \" \" + new_df['Job_Description_processed']\n",
        "tfidf_vectorizer4.fit(combined_text)\n",
        "\n",
        "# Split the combined TF-IDF matrix back into Resume and Job Description matrices\n",
        "resume_matrix = tfidf_vectorizer4.transform(new_df['Resume_processed'])\n",
        "jobDescription_matrix = tfidf_vectorizer4.transform(new_df['Job_Description_processed'])\n",
        "\n",
        "# Calculate row-wise cosine similarity\n",
        "cos_rjd = []\n",
        "for i in range(new_df.shape[0]):\n",
        "    cos_rjd.append(cosine_similarity(resume_matrix[i], jobDescription_matrix[i])[0][0])"
      ],
      "metadata": {
        "id": "tj4AQ-SeD667"
      },
      "execution_count": 4,
      "outputs": []
    },
    {
      "cell_type": "code",
      "source": [
        "new_df['resume_jd_simi'] = cos_rjd"
      ],
      "metadata": {
        "id": "-kZ-G3NQD69z"
      },
      "execution_count": 5,
      "outputs": []
    },
    {
      "cell_type": "code",
      "source": [
        "new_df.groupby(['Role' , 'decision'])['resume_jd_simi'].mean()"
      ],
      "metadata": {
        "colab": {
          "base_uri": "https://localhost:8080/",
          "height": 554
        },
        "id": "Fjcf_P2lD7AL",
        "outputId": "95bcfb10-ad68-4f68-fa50-24a6ace36755"
      },
      "execution_count": 9,
      "outputs": [
        {
          "output_type": "execute_result",
          "data": {
            "text/plain": [
              "Role               decision\n",
              "data analyst       reject      0.103219\n",
              "                   select      0.076433\n",
              "data engineer      reject      0.236726\n",
              "                   select      0.236996\n",
              "data scientist     reject      0.208495\n",
              "                   select      0.202127\n",
              "product manager    reject      0.309318\n",
              "                   select      0.279775\n",
              "software engineer  reject      0.188870\n",
              "                   select      0.207007\n",
              "ui designer        reject      0.103275\n",
              "                   select      0.073463\n",
              "ui engineer        reject      0.360938\n",
              "                   select      0.377108\n",
              "Name: resume_jd_simi, dtype: float64"
            ],
            "text/html": [
              "<div>\n",
              "<style scoped>\n",
              "    .dataframe tbody tr th:only-of-type {\n",
              "        vertical-align: middle;\n",
              "    }\n",
              "\n",
              "    .dataframe tbody tr th {\n",
              "        vertical-align: top;\n",
              "    }\n",
              "\n",
              "    .dataframe thead th {\n",
              "        text-align: right;\n",
              "    }\n",
              "</style>\n",
              "<table border=\"1\" class=\"dataframe\">\n",
              "  <thead>\n",
              "    <tr style=\"text-align: right;\">\n",
              "      <th></th>\n",
              "      <th></th>\n",
              "      <th>resume_jd_simi</th>\n",
              "    </tr>\n",
              "    <tr>\n",
              "      <th>Role</th>\n",
              "      <th>decision</th>\n",
              "      <th></th>\n",
              "    </tr>\n",
              "  </thead>\n",
              "  <tbody>\n",
              "    <tr>\n",
              "      <th rowspan=\"2\" valign=\"top\">data analyst</th>\n",
              "      <th>reject</th>\n",
              "      <td>0.103219</td>\n",
              "    </tr>\n",
              "    <tr>\n",
              "      <th>select</th>\n",
              "      <td>0.076433</td>\n",
              "    </tr>\n",
              "    <tr>\n",
              "      <th rowspan=\"2\" valign=\"top\">data engineer</th>\n",
              "      <th>reject</th>\n",
              "      <td>0.236726</td>\n",
              "    </tr>\n",
              "    <tr>\n",
              "      <th>select</th>\n",
              "      <td>0.236996</td>\n",
              "    </tr>\n",
              "    <tr>\n",
              "      <th rowspan=\"2\" valign=\"top\">data scientist</th>\n",
              "      <th>reject</th>\n",
              "      <td>0.208495</td>\n",
              "    </tr>\n",
              "    <tr>\n",
              "      <th>select</th>\n",
              "      <td>0.202127</td>\n",
              "    </tr>\n",
              "    <tr>\n",
              "      <th rowspan=\"2\" valign=\"top\">product manager</th>\n",
              "      <th>reject</th>\n",
              "      <td>0.309318</td>\n",
              "    </tr>\n",
              "    <tr>\n",
              "      <th>select</th>\n",
              "      <td>0.279775</td>\n",
              "    </tr>\n",
              "    <tr>\n",
              "      <th rowspan=\"2\" valign=\"top\">software engineer</th>\n",
              "      <th>reject</th>\n",
              "      <td>0.188870</td>\n",
              "    </tr>\n",
              "    <tr>\n",
              "      <th>select</th>\n",
              "      <td>0.207007</td>\n",
              "    </tr>\n",
              "    <tr>\n",
              "      <th rowspan=\"2\" valign=\"top\">ui designer</th>\n",
              "      <th>reject</th>\n",
              "      <td>0.103275</td>\n",
              "    </tr>\n",
              "    <tr>\n",
              "      <th>select</th>\n",
              "      <td>0.073463</td>\n",
              "    </tr>\n",
              "    <tr>\n",
              "      <th rowspan=\"2\" valign=\"top\">ui engineer</th>\n",
              "      <th>reject</th>\n",
              "      <td>0.360938</td>\n",
              "    </tr>\n",
              "    <tr>\n",
              "      <th>select</th>\n",
              "      <td>0.377108</td>\n",
              "    </tr>\n",
              "  </tbody>\n",
              "</table>\n",
              "</div><br><label><b>dtype:</b> float64</label>"
            ]
          },
          "metadata": {},
          "execution_count": 9
        }
      ]
    },
    {
      "cell_type": "code",
      "source": [],
      "metadata": {
        "id": "tZjwIxOQohPz"
      },
      "execution_count": null,
      "outputs": []
    },
    {
      "cell_type": "code",
      "source": [],
      "metadata": {
        "id": "OtH4igvRohMa"
      },
      "execution_count": null,
      "outputs": []
    },
    {
      "cell_type": "code",
      "source": [],
      "metadata": {
        "id": "9reokjJnohJy"
      },
      "execution_count": null,
      "outputs": []
    },
    {
      "cell_type": "code",
      "source": [],
      "metadata": {
        "id": "j0Q7uSRfohG0"
      },
      "execution_count": null,
      "outputs": []
    },
    {
      "cell_type": "code",
      "source": [],
      "metadata": {
        "id": "BkLhjcEyohD1"
      },
      "execution_count": null,
      "outputs": []
    },
    {
      "cell_type": "code",
      "source": [],
      "metadata": {
        "id": "ivh7qKtTohAu"
      },
      "execution_count": null,
      "outputs": []
    },
    {
      "cell_type": "code",
      "source": [],
      "metadata": {
        "id": "cAFH_g8zog95"
      },
      "execution_count": null,
      "outputs": []
    }
  ]
}